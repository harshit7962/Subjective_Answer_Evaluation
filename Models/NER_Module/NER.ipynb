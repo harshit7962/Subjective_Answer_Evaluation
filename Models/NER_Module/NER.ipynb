{
 "cells": [
  {
   "cell_type": "markdown",
   "metadata": {
    "id": "9Fy0QABL0AUP"
   },
   "source": [
    "# Using Spacy module"
   ]
  },
  {
   "cell_type": "code",
   "execution_count": 1,
   "metadata": {
    "colab": {
     "base_uri": "https://localhost:8080/"
    },
    "id": "BtLlZjzmzAab",
    "outputId": "b8eff647-6354-4f5c-8cbb-f4db9f70a0ca"
   },
   "outputs": [],
   "source": [
    "import spacy\n",
    "import spacy_transformers\n",
    "from transformers import AutoTokenizer, AutoModelForTokenClassification"
   ]
  },
  {
   "cell_type": "code",
   "execution_count": 2,
   "metadata": {
    "colab": {
     "base_uri": "https://localhost:8080/"
    },
    "id": "cb8fNrIRtySh",
    "outputId": "e0864025-a289-4452-ab9d-e8cd0dfe01ec"
   },
   "outputs": [],
   "source": [
    "# Importing as module.\n",
    "import en_core_web_trf\n",
    "nlp = en_core_web_trf.load()"
   ]
  },
  {
   "cell_type": "markdown",
   "metadata": {
    "id": "EiqUFuvA3qfr"
   },
   "source": [
    "# NLTK again"
   ]
  },
  {
   "cell_type": "code",
   "execution_count": 3,
   "metadata": {
    "colab": {
     "base_uri": "https://localhost:8080/"
    },
    "id": "1bZtVFwd1xFV",
    "outputId": "5d78e166-854c-48ee-cbb2-06f56f8ea6c6"
   },
   "outputs": [
    {
     "name": "stderr",
     "output_type": "stream",
     "text": [
      "[nltk_data] Downloading package words to\n",
      "[nltk_data]     C:\\Users\\Raghav\\AppData\\Roaming\\nltk_data...\n",
      "[nltk_data]   Package words is already up-to-date!\n",
      "[nltk_data] Downloading package punkt to\n",
      "[nltk_data]     C:\\Users\\Raghav\\AppData\\Roaming\\nltk_data...\n",
      "[nltk_data]   Package punkt is already up-to-date!\n",
      "[nltk_data] Downloading package averaged_perceptron_tagger to\n",
      "[nltk_data]     C:\\Users\\Raghav\\AppData\\Roaming\\nltk_data...\n",
      "[nltk_data]   Package averaged_perceptron_tagger is already up-to-\n",
      "[nltk_data]       date!\n",
      "[nltk_data] Downloading package maxent_ne_chunker to\n",
      "[nltk_data]     C:\\Users\\Raghav\\AppData\\Roaming\\nltk_data...\n",
      "[nltk_data]   Package maxent_ne_chunker is already up-to-date!\n"
     ]
    },
    {
     "data": {
      "text/plain": [
       "True"
      ]
     },
     "execution_count": 3,
     "metadata": {},
     "output_type": "execute_result"
    }
   ],
   "source": [
    "import nltk\n",
    "nltk.download('words')\n",
    "nltk.download('punkt')\n",
    "nltk.download('averaged_perceptron_tagger')\n",
    "nltk.download('maxent_ne_chunker')"
   ]
  },
  {
   "cell_type": "markdown",
   "metadata": {
    "id": "jrKJNrIYftQZ"
   },
   "source": [
    "# Testing the above modules on our Dataset"
   ]
  },
  {
   "cell_type": "code",
   "execution_count": 4,
   "metadata": {
    "id": "FecKdjb3f4FM"
   },
   "outputs": [],
   "source": [
    "# Importing the required libraries\n",
    "import pandas as pd\n",
    "import numpy as np\n",
    "import itertools\n",
    "import matplotlib.pyplot as plt\n",
    "import math \n",
    "import sklearn.metrics\n",
    "import numpy as np\n",
    "import itertools\n",
    "import matplotlib.pyplot as plt\n",
    "import math \n",
    "import sklearn.metrics\n",
    "from nltk.tree import *\n",
    "from nltk import word_tokenize, pos_tag, ne_chunk\n",
    "from transformers import AutoTokenizer, AutoModelForTokenClassification\n"
   ]
  },
  {
   "cell_type": "code",
   "execution_count": 5,
   "metadata": {
    "id": "rqzae9A5puTL"
   },
   "outputs": [],
   "source": [
    "# Importing the dataset\n",
    "df = pd.read_excel(\"C:/Users/Raghav/Downloads/Dataset_Q&A_DBMS.xlsx\")"
   ]
  },
  {
   "cell_type": "code",
   "execution_count": 6,
   "metadata": {
    "colab": {
     "base_uri": "https://localhost:8080/",
     "height": 354
    },
    "id": "DMC72n0K9cT9",
    "outputId": "f26f61ac-1f8e-4f00-dd97-b15233e0a357"
   },
   "outputs": [
    {
     "data": {
      "text/html": [
       "<div>\n",
       "<style scoped>\n",
       "    .dataframe tbody tr th:only-of-type {\n",
       "        vertical-align: middle;\n",
       "    }\n",
       "\n",
       "    .dataframe tbody tr th {\n",
       "        vertical-align: top;\n",
       "    }\n",
       "\n",
       "    .dataframe thead th {\n",
       "        text-align: right;\n",
       "    }\n",
       "</style>\n",
       "<table border=\"1\" class=\"dataframe\">\n",
       "  <thead>\n",
       "    <tr style=\"text-align: right;\">\n",
       "      <th></th>\n",
       "      <th>S.No</th>\n",
       "      <th>Questions</th>\n",
       "      <th>Model Answer (ChatGPT)</th>\n",
       "      <th>User Answer (Web)</th>\n",
       "      <th>Actual Score (0-10)</th>\n",
       "    </tr>\n",
       "  </thead>\n",
       "  <tbody>\n",
       "    <tr>\n",
       "      <th>0</th>\n",
       "      <td>1</td>\n",
       "      <td>List the advantages of DBMS?</td>\n",
       "      <td>1. Data Integrity: DBMS ensures data accuracy ...</td>\n",
       "      <td>1.Better Data Transferring: Database managemen...</td>\n",
       "      <td>7.0</td>\n",
       "    </tr>\n",
       "    <tr>\n",
       "      <th>1</th>\n",
       "      <td>2</td>\n",
       "      <td>List the database Applications?</td>\n",
       "      <td>1. MySQL 2. Oracle Database 3. Microsoft SQL S...</td>\n",
       "      <td>1.Oracle Database 2.PostgreSQL 3.SQLite 4.File...</td>\n",
       "      <td>5.0</td>\n",
       "    </tr>\n",
       "    <tr>\n",
       "      <th>2</th>\n",
       "      <td>3</td>\n",
       "      <td>Define instances and schemas of database?</td>\n",
       "      <td>Instance: An instance is a copy of the databas...</td>\n",
       "      <td>The overall design of the database is called d...</td>\n",
       "      <td>4.0</td>\n",
       "    </tr>\n",
       "    <tr>\n",
       "      <th>3</th>\n",
       "      <td>4</td>\n",
       "      <td>Discuss Data Independence?</td>\n",
       "      <td>Data independence is the ability of a system t...</td>\n",
       "      <td>Data independence is the ability to modify the...</td>\n",
       "      <td>7.0</td>\n",
       "    </tr>\n",
       "    <tr>\n",
       "      <th>4</th>\n",
       "      <td>5</td>\n",
       "      <td>Explain database Access for applications Programs</td>\n",
       "      <td>Database Access for applications Programs is a...</td>\n",
       "      <td>Database Access means functionality required i...</td>\n",
       "      <td>0.0</td>\n",
       "    </tr>\n",
       "  </tbody>\n",
       "</table>\n",
       "</div>"
      ],
      "text/plain": [
       "   S.No                                          Questions  \\\n",
       "0     1                       List the advantages of DBMS?   \n",
       "1     2                    List the database Applications?   \n",
       "2     3          Define instances and schemas of database?   \n",
       "3     4                         Discuss Data Independence?   \n",
       "4     5  Explain database Access for applications Programs   \n",
       "\n",
       "                              Model Answer (ChatGPT)  \\\n",
       "0  1. Data Integrity: DBMS ensures data accuracy ...   \n",
       "1  1. MySQL 2. Oracle Database 3. Microsoft SQL S...   \n",
       "2  Instance: An instance is a copy of the databas...   \n",
       "3  Data independence is the ability of a system t...   \n",
       "4  Database Access for applications Programs is a...   \n",
       "\n",
       "                                   User Answer (Web)  Actual Score (0-10)  \n",
       "0  1.Better Data Transferring: Database managemen...                  7.0  \n",
       "1  1.Oracle Database 2.PostgreSQL 3.SQLite 4.File...                  5.0  \n",
       "2  The overall design of the database is called d...                  4.0  \n",
       "3  Data independence is the ability to modify the...                  7.0  \n",
       "4  Database Access means functionality required i...                  0.0  "
      ]
     },
     "execution_count": 6,
     "metadata": {},
     "output_type": "execute_result"
    }
   ],
   "source": [
    "df.head()"
   ]
  },
  {
   "cell_type": "code",
   "execution_count": 7,
   "metadata": {
    "id": "79wuHrrR9pdp"
   },
   "outputs": [],
   "source": [
    "n = df.shape[0]"
   ]
  },
  {
   "cell_type": "code",
   "execution_count": 8,
   "metadata": {
    "id": "mmEhkoF6URp6"
   },
   "outputs": [],
   "source": [
    "mod_ans_set = df.iloc[:, 2].values\n",
    "usr_ans_set = df.iloc[:, 3].values"
   ]
  },
  {
   "cell_type": "code",
   "execution_count": 9,
   "metadata": {
    "id": "_b_a-3HLMSEY"
   },
   "outputs": [],
   "source": [
    "df.insert(4,\"Score_camembert\",np.nan)\n",
    "df.insert(5,\"Score_NLTK\",np.nan)\n",
    "df.insert(6,\"Score_spacy\",np.nan)"
   ]
  },
  {
   "cell_type": "code",
   "execution_count": 10,
   "metadata": {
    "colab": {
     "base_uri": "https://localhost:8080/",
     "height": 354
    },
    "id": "qPKPDrnoIdh0",
    "outputId": "cb6d38e8-8b8e-43d8-d25b-e749a5423b6b"
   },
   "outputs": [
    {
     "data": {
      "text/html": [
       "<div>\n",
       "<style scoped>\n",
       "    .dataframe tbody tr th:only-of-type {\n",
       "        vertical-align: middle;\n",
       "    }\n",
       "\n",
       "    .dataframe tbody tr th {\n",
       "        vertical-align: top;\n",
       "    }\n",
       "\n",
       "    .dataframe thead th {\n",
       "        text-align: right;\n",
       "    }\n",
       "</style>\n",
       "<table border=\"1\" class=\"dataframe\">\n",
       "  <thead>\n",
       "    <tr style=\"text-align: right;\">\n",
       "      <th></th>\n",
       "      <th>S.No</th>\n",
       "      <th>Questions</th>\n",
       "      <th>Model Answer (ChatGPT)</th>\n",
       "      <th>User Answer (Web)</th>\n",
       "      <th>Score_camembert</th>\n",
       "      <th>Score_NLTK</th>\n",
       "      <th>Score_spacy</th>\n",
       "      <th>Actual Score (0-10)</th>\n",
       "    </tr>\n",
       "  </thead>\n",
       "  <tbody>\n",
       "    <tr>\n",
       "      <th>0</th>\n",
       "      <td>1</td>\n",
       "      <td>List the advantages of DBMS?</td>\n",
       "      <td>1. Data Integrity: DBMS ensures data accuracy ...</td>\n",
       "      <td>1.Better Data Transferring: Database managemen...</td>\n",
       "      <td>NaN</td>\n",
       "      <td>NaN</td>\n",
       "      <td>NaN</td>\n",
       "      <td>7.0</td>\n",
       "    </tr>\n",
       "    <tr>\n",
       "      <th>1</th>\n",
       "      <td>2</td>\n",
       "      <td>List the database Applications?</td>\n",
       "      <td>1. MySQL 2. Oracle Database 3. Microsoft SQL S...</td>\n",
       "      <td>1.Oracle Database 2.PostgreSQL 3.SQLite 4.File...</td>\n",
       "      <td>NaN</td>\n",
       "      <td>NaN</td>\n",
       "      <td>NaN</td>\n",
       "      <td>5.0</td>\n",
       "    </tr>\n",
       "    <tr>\n",
       "      <th>2</th>\n",
       "      <td>3</td>\n",
       "      <td>Define instances and schemas of database?</td>\n",
       "      <td>Instance: An instance is a copy of the databas...</td>\n",
       "      <td>The overall design of the database is called d...</td>\n",
       "      <td>NaN</td>\n",
       "      <td>NaN</td>\n",
       "      <td>NaN</td>\n",
       "      <td>4.0</td>\n",
       "    </tr>\n",
       "    <tr>\n",
       "      <th>3</th>\n",
       "      <td>4</td>\n",
       "      <td>Discuss Data Independence?</td>\n",
       "      <td>Data independence is the ability of a system t...</td>\n",
       "      <td>Data independence is the ability to modify the...</td>\n",
       "      <td>NaN</td>\n",
       "      <td>NaN</td>\n",
       "      <td>NaN</td>\n",
       "      <td>7.0</td>\n",
       "    </tr>\n",
       "    <tr>\n",
       "      <th>4</th>\n",
       "      <td>5</td>\n",
       "      <td>Explain database Access for applications Programs</td>\n",
       "      <td>Database Access for applications Programs is a...</td>\n",
       "      <td>Database Access means functionality required i...</td>\n",
       "      <td>NaN</td>\n",
       "      <td>NaN</td>\n",
       "      <td>NaN</td>\n",
       "      <td>0.0</td>\n",
       "    </tr>\n",
       "  </tbody>\n",
       "</table>\n",
       "</div>"
      ],
      "text/plain": [
       "   S.No                                          Questions  \\\n",
       "0     1                       List the advantages of DBMS?   \n",
       "1     2                    List the database Applications?   \n",
       "2     3          Define instances and schemas of database?   \n",
       "3     4                         Discuss Data Independence?   \n",
       "4     5  Explain database Access for applications Programs   \n",
       "\n",
       "                              Model Answer (ChatGPT)  \\\n",
       "0  1. Data Integrity: DBMS ensures data accuracy ...   \n",
       "1  1. MySQL 2. Oracle Database 3. Microsoft SQL S...   \n",
       "2  Instance: An instance is a copy of the databas...   \n",
       "3  Data independence is the ability of a system t...   \n",
       "4  Database Access for applications Programs is a...   \n",
       "\n",
       "                                   User Answer (Web)  Score_camembert  \\\n",
       "0  1.Better Data Transferring: Database managemen...              NaN   \n",
       "1  1.Oracle Database 2.PostgreSQL 3.SQLite 4.File...              NaN   \n",
       "2  The overall design of the database is called d...              NaN   \n",
       "3  Data independence is the ability to modify the...              NaN   \n",
       "4  Database Access means functionality required i...              NaN   \n",
       "\n",
       "   Score_NLTK  Score_spacy  Actual Score (0-10)  \n",
       "0         NaN          NaN                  7.0  \n",
       "1         NaN          NaN                  5.0  \n",
       "2         NaN          NaN                  4.0  \n",
       "3         NaN          NaN                  7.0  \n",
       "4         NaN          NaN                  0.0  "
      ]
     },
     "execution_count": 10,
     "metadata": {},
     "output_type": "execute_result"
    }
   ],
   "source": [
    "df.head()"
   ]
  },
  {
   "cell_type": "code",
   "execution_count": 11,
   "metadata": {
    "id": "Dd7n0jlNNi5B"
   },
   "outputs": [],
   "source": [
    "def spacy_name(text):\n",
    "  doc = nlp(text)\n",
    "  named_entities = []\n",
    "  for entity in doc.ents:\n",
    "    named_entities.append((entity.text, entity.label_))\n",
    "  return named_entities\n"
   ]
  },
  {
   "cell_type": "code",
   "execution_count": 12,
   "metadata": {
    "id": "cMyebUirR8bO"
   },
   "outputs": [],
   "source": [
    "def nltk_name(text):\n",
    "  tokens = word_tokenize(text)\n",
    "  pos_tags = pos_tag(tokens)\n",
    "  final_pos1 =[]\n",
    "  for i in pos_tags:\n",
    "    if(i[1]=='NNP' or i[1]=='NNS' or i[1]=='NN'):\n",
    "      final_pos1.append(i)\n",
    "  named_entities = ne_chunk(final_pos1)\n",
    "  leaves = named_entities.leaves()\n",
    "  return leaves"
   ]
  },
  {
   "cell_type": "code",
   "execution_count": 13,
   "metadata": {
    "id": "DOq1mVnfTTfV"
   },
   "outputs": [],
   "source": [
    "def compute_score_nltk(a,b):\n",
    "  user_arr = []\n",
    "  modal_arr = []\n",
    "    \n",
    "  for i in range(0, len(a)):\n",
    "    user_arr.append(a[i][0].lower())\n",
    "  for i in range(0, len(b)):\n",
    "    modal_arr.append(b[i][0].lower())\n",
    "        \n",
    "  entity_user = list(set(user_arr))\n",
    "  entity_model = list(set(modal_arr))\n",
    "    \n",
    "  n = len(entity_model)\n",
    "  n1 = len(entity_user)\n",
    "\n",
    "  count = 0\n",
    "  if(n==0):\n",
    "    return 10\n",
    "  for i in range(n):\n",
    "    if(entity_model[i] in entity_user):\n",
    "      count+=1\n",
    "  count = (count/n)*10\n",
    "  return count"
   ]
  },
  {
   "cell_type": "code",
   "execution_count": 14,
   "metadata": {
    "id": "pNuI7FneQET0"
   },
   "outputs": [],
   "source": [
    "def compute_score_spacy(user,modal):\n",
    "  user_arr = []\n",
    "  modal_arr = []\n",
    "    \n",
    "  for i in range(0, len(user)):\n",
    "    if(user[i][1]!='CARDINAL'):\n",
    "        user_arr.append(user[i][0].lower())\n",
    "  for i in range(0, len(modal)):\n",
    "    if(modal[i][1]!='CARDINAL'):\n",
    "        modal_arr.append(modal[i][0].lower())\n",
    "  user = list(set(user_arr))\n",
    "  modal = list(set(modal_arr))\n",
    "  \n",
    "  n = len(modal)\n",
    "  n1 = len(user)\n",
    "\n",
    "  count = 0\n",
    "  if(n==0):\n",
    "    return 10\n",
    "  for i in range(n):\n",
    "    if(modal[i] in user):\n",
    "      count+=1\n",
    "  count = (count/n)*10\n",
    "  return count"
   ]
  },
  {
   "cell_type": "code",
   "execution_count": 15,
   "metadata": {
    "id": "2_LbHnOu-3_x"
   },
   "outputs": [],
   "source": [
    "def regex(text):\n",
    "  text2 = ''\n",
    "  for i in text:\n",
    "    if ((ord(i) >= 65 and ord(i) <= 90) or (ord(i) >= 97 and ord(i) <= 122) or ord(i)==32):\n",
    "      text2+=i\n",
    "  text2 = \" \".join(text2.strip().split())\n",
    "  text2 = text2.lower()\n",
    "  return text2"
   ]
  },
  {
   "cell_type": "code",
   "execution_count": 16,
   "metadata": {
    "colab": {
     "base_uri": "https://localhost:8080/"
    },
    "id": "XSAzLUP5GwrJ",
    "outputId": "1ab86710-ebb7-4824-b953-f0791ec8c4f3"
   },
   "outputs": [
    {
     "name": "stdout",
     "output_type": "stream",
     "text": [
      "[('data', 'NNS'), ('integrity', 'NN'), ('dbms', 'NN'), ('data', 'NNS'), ('accuracy', 'NN'), ('consistency', 'NN'), ('database', 'NN'), ('integrity', 'NN'), ('constraints', 'NNS'), ('accuracy', 'NN'), ('consistency', 'NN'), ('database', 'NN'), ('data', 'NNS'), ('security', 'NN'), ('dbms', 'NN'), ('access', 'NN'), ('users', 'NNS'), ('access', 'NN'), ('users', 'NNS'), ('authentication', 'NN'), ('passwords', 'NNS'), ('security', 'NN'), ('measures', 'NNS'), ('dbms', 'NN'), ('users', 'NNS'), ('access', 'NN'), ('data', 'NN'), ('others', 'NNS'), ('development', 'NN'), ('time', 'NN'), ('dbms', 'NN'), ('developers', 'NNS'), ('applications', 'NNS'), ('code', 'NN'), ('functions', 'NNS'), ('data', 'NNS'), ('manipulation', 'NN'), ('query', 'NN'), ('processing', 'NN'), ('data', 'NNS'), ('redundancy', 'NN'), ('dbms', 'NN'), ('data', 'NNS'), ('information', 'NN'), ('table', 'NN'), ('storage', 'NN'), ('space', 'NN'), ('efficiency', 'NN'), ('data', 'NNS'), ('operations', 'NNS'), ('performance', 'NN'), ('database', 'NN'), ('management', 'NN'), ('systems', 'NNS'), ('retrieval', 'NN'), ('amounts', 'NNS'), ('data', 'NNS'), ('sources', 'NNS'), ('resources', 'NNS'), ('maintenance', 'NN'), ('operations', 'NNS'), ('backups', 'NNS'), ('processes', 'NNS')]\n",
      "[('data', 'NNS'), ('database', 'NN'), ('management', 'NN'), ('place', 'NN'), ('users', 'NNS'), ('advantage', 'NN'), ('data', 'NNS'), ('endusers', 'NNS'), ('look', 'NN'), ('changes', 'NNS'), ('environmentbetter', 'NN'), ('data', 'NNS'), ('security', 'NN'), ('database', 'NN'), ('security', 'NN'), ('issues', 'NNS'), ('number', 'NN'), ('users', 'NNS'), ('data', 'NN'), ('transferring', 'NN'), ('data', 'NNS'), ('rate', 'NN'), ('risk', 'NN'), ('data', 'NNS'), ('security', 'NN'), ('world', 'NN'), ('companies', 'NNS'), ('money', 'NN'), ('time', 'NN'), ('effort', 'NN'), ('amounts', 'NNS'), ('data', 'NNS'), ('database', 'NN'), ('management', 'NN'), ('system', 'NN'), ('platform', 'NN'), ('data', 'NNS'), ('privacy', 'NN'), ('security', 'NN'), ('policies', 'NNS'), ('companies', 'NNS'), ('data', 'NNS'), ('data', 'NNS'), ('integration', 'NN'), ('database', 'NN'), ('management', 'NN'), ('system', 'NN'), ('access', 'NN'), ('form', 'NN'), ('data', 'NNS'), ('data', 'NNS'), ('view', 'NN'), ('organization', 'NN'), ('track', 'NN'), ('segment', 'NN'), ('company', 'NN'), ('data', 'NN'), ('inconsistency', 'NN'), ('data', 'NNS'), ('inconsistency', 'NN'), ('files', 'NNS'), ('versions', 'NNS'), ('data', 'NN'), ('appear', 'NN'), ('places', 'NNS'), ('example', 'NN'), ('data', 'NNS'), ('inconsistency', 'NN'), ('students', 'NNS'), ('name', 'NN'), ('john', 'NN'), ('wayne', 'NN'), ('computer', 'NN'), ('school', 'NN'), ('teacher', 'NN'), ('system', 'NN'), ('student', 'NN'), ('name', 'NN'), ('j', 'NN'), ('wayne', 'NN'), ('price', 'NN'), ('product', 'NN'), ('system', 'NN'), ('company', 'NN'), ('sales', 'NNS'), ('office', 'NN'), ('system', 'NN'), ('product', 'NN'), ('price', 'NN'), ('database', 'NN'), ('data', 'NNS'), ('inconsistency', 'NN'), ('hence', 'NN'), ('data', 'NNS'), ('inconsistencyfaster', 'NN'), ('data', 'NNS'), ('access', 'NN'), ('database', 'NN'), ('management', 'NN'), ('system', 'NN'), ('dbms', 'NN'), ('answers', 'NNS'), ('queries', 'NNS'), ('data', 'NNS'), ('access', 'NN'), ('example', 'NN'), ('data', 'NNS'), ('example', 'NN'), ('endusers', 'NNS'), ('amounts', 'NNS'), ('sale', 'NN'), ('data', 'NNS'), ('access', 'NN'), ('data', 'NNS'), ('sales', 'NNS'), ('cycle', 'NN'), ('queries', 'NNS'), ('increase', 'NN'), ('sales', 'NNS'), ('bonus', 'NN'), ('salespeople', 'NN'), ('customers', 'NNS'), ('credit', 'NN'), ('score', 'NN'), ('decision', 'NN'), ('data', 'NNS'), ('data', 'NNS'), ('access', 'NN'), ('quality', 'NN'), ('information', 'NN'), ('hence', 'NN'), ('basis', 'NN'), ('decisions', 'NNS'), ('data', 'NNS'), ('quality', 'NN'), ('validity', 'NN'), ('time', 'NN'), ('data', 'NNS'), ('data', 'NNS'), ('quality', 'NN'), ('framework', 'NN'), ('data', 'NNS'), ('productivity', 'NN'), ('data', 'NN'), ('help', 'NN'), ('combination', 'NN'), ('tools', 'NNS'), ('data', 'NNS'), ('information', 'NN'), ('endusers', 'NNS'), ('informative', 'NN'), ('decisions', 'NNS'), ('difference', 'NN'), ('success', 'NN'), ('failure', 'NN'), ('economysimple', 'NN'), ('database', 'NN'), ('management', 'NN'), ('system', 'NN'), ('view', 'NN'), ('data', 'NNS'), ('operations', 'NNS'), ('insertion', 'NN'), ('deletion', 'NN'), ('creation', 'NN'), ('files', 'NNS'), ('data', 'NNS'), ('abstraction', 'NN'), ('purpose', 'NN'), ('database', 'NN'), ('system', 'NN'), ('users', 'NNS'), ('view', 'NN'), ('data', 'NNS'), ('algorithms', 'NNS'), ('developers', 'NNS'), ('efficiency', 'NN'), ('databases', 'NNS'), ('users', 'NNS'), ('data', 'NNS'), ('abstraction', 'NN'), ('levels', 'NNS'), ('users', 'NNS'), ('systemreduction', 'NN'), ('data', 'NNS'), ('redundancy', 'NN'), ('database', 'NN'), ('dbms', 'NN'), ('feature', 'NN'), ('input', 'NN'), ('items', 'NNS'), ('database', 'NN'), ('eg', 'NN'), ('students', 'NNS'), ('rows', 'NNS'), ('duplicate', 'NN'), ('data', 'NNS')]\n"
     ]
    },
    {
     "name": "stderr",
     "output_type": "stream",
     "text": [
      "C:\\Users\\Raghav\\AppData\\Local\\Temp\\ipykernel_22156\\552362988.py:9: SettingWithCopyWarning: \n",
      "A value is trying to be set on a copy of a slice from a DataFrame\n",
      "\n",
      "See the caveats in the documentation: https://pandas.pydata.org/pandas-docs/stable/user_guide/indexing.html#returning-a-view-versus-a-copy\n",
      "  df['Score_NLTK'][i] = score_nltk\n",
      "C:\\Users\\Raghav\\AppData\\Local\\Temp\\ipykernel_22156\\552362988.py:13: SettingWithCopyWarning: \n",
      "A value is trying to be set on a copy of a slice from a DataFrame\n",
      "\n",
      "See the caveats in the documentation: https://pandas.pydata.org/pandas-docs/stable/user_guide/indexing.html#returning-a-view-versus-a-copy\n",
      "  df['Score_spacy'][i] = score_spacy\n"
     ]
    },
    {
     "name": "stdout",
     "output_type": "stream",
     "text": [
      "[('mysql', 'NN'), ('oracle', 'NN'), ('database', 'NN'), ('sql', 'NN'), ('server', 'NN'), ('postgresql', 'NN'), ('mongodb', 'NN'), ('ibm', 'NN'), ('db', 'NN'), ('mariadb', 'NN'), ('redis', 'NN'), ('apache', 'NN'), ('cassandra', 'NN'), ('firebase', 'NN'), ('realtime', 'NN'), ('database', 'NN')]\n",
      "[('oracle', 'NN'), ('database', 'NN'), ('postgresql', 'NN'), ('filemaker', 'NN'), ('interbase', 'NN'), ('firebase', 'NN'), ('psql', 'NN'), ('mongodb', 'NN'), ('mariadb', 'NN'), ('cassandra', 'NN')]\n",
      "[('instance', 'NN'), ('instance', 'NN'), ('copy', 'NN'), ('database', 'NN'), ('memory', 'NN'), ('data', 'NNS'), ('database', 'NN'), ('data', 'NN'), ('schema', 'NN'), ('blueprint', 'NN'), ('map', 'NN'), ('database', 'NN'), ('structure', 'NN'), ('tables', 'NNS'), ('fields', 'NNS'), ('relationships', 'NNS'), ('views', 'NNS'), ('elements', 'NNS'), ('guide', 'NN'), ('integrity', 'NN'), ('database', 'NN')]\n",
      "[('design', 'NN'), ('database', 'NN'), ('database', 'NN'), ('schema', 'NN'), ('schema', 'NN'), ('structure', 'NN'), ('database', 'NN'), ('data', 'NN'), ('databaseinstance', 'NN'), ('extension', 'NN'), ('database', 'NN'), ('state', 'NN'), ('collection', 'NN'), ('information', 'NN'), ('database', 'NN'), ('moment', 'NN'), ('instance', 'NN'), ('database', 'NN'), ('database', 'NN'), ('instance', 'NN'), ('refers', 'NNS'), ('information', 'NN'), ('database', 'NN'), ('point', 'NN'), ('time', 'NN'), ('value', 'NN')]\n",
      "[('data', 'NNS'), ('independence', 'NN'), ('ability', 'NN'), ('system', 'NN'), ('changes', 'NNS'), ('data', 'NNS'), ('storage', 'NN'), ('structures', 'NNS'), ('way', 'NN'), ('access', 'NN'), ('data', 'NN'), ('users', 'NNS'), ('databases', 'NNS'), ('code', 'NN'), ('time', 'NN'), ('resources', 'NNS'), ('data', 'NNS'), ('independence', 'NN'), ('risk', 'NN'), ('errors', 'NNS'), ('coding', 'NN'), ('changes', 'NNS'), ('systems', 'NNS')]\n",
      "[('data', 'NNS'), ('independence', 'NN'), ('ability', 'NN'), ('scheme', 'NN'), ('programs', 'NNS'), ('application', 'NN'), ('data', 'NNS'), ('programs', 'NNS'), ('changes', 'NNS'), ('data', 'NNS'), ('program', 'NN'), ('execution', 'NN'), ('application', 'NN')]\n",
      "[('database', 'NN'), ('access', 'NN'), ('applications', 'NNS'), ('programs', 'NNS'), ('type', 'NN'), ('software', 'NN'), ('user', 'NN'), ('databases', 'NNS'), ('tools', 'NNS'), ('features', 'NNS'), ('query', 'NN'), ('data', 'NNS'), ('database', 'NN'), ('database', 'NN'), ('access', 'NN'), ('application', 'NN'), ('programs', 'NNS'), ('data', 'NNS'), ('database', 'NN'), ('conjunction', 'NN'), ('software', 'NN'), ('servers', 'NNS'), ('management', 'NN'), ('systems', 'NNS'), ('solution', 'NN'), ('data', 'NNS'), ('database', 'NN'), ('access', 'NN'), ('part', 'NN'), ('database', 'NN'), ('management', 'NN'), ('system', 'NN'), ('dbms', 'NN')]\n",
      "[('database', 'NN'), ('access', 'NN'), ('functionality', 'NN'), ('order', 'NN'), ('access', 'NN'), ('andor', 'NN'), ('backend', 'NN'), ('information', 'NN'), ('retrieval', 'NN'), ('way', 'NN'), ('voice', 'NN'), ('database', 'NN'), ('queries', 'NNS'), ('information', 'NN'), ('functionality', 'NN'), ('application', 'NN'), ('forth', 'NN'), ('price', 'NN'), ('list', 'NN')]\n",
      "[('database', 'NN'), ('collection', 'NN'), ('data', 'NNS'), ('computer', 'NN'), ('system', 'NN'), ('amounts', 'NNS'), ('data', 'NNS'), ('ii', 'NNS'), ('database', 'NN'), ('management', 'NN'), ('system', 'NN'), ('dbms', 'NN'), ('software', 'NN'), ('program', 'NN'), ('users', 'NNS'), ('manage', 'NN'), ('databases', 'NNS'), ('users', 'NNS'), ('retrieve', 'NN'), ('manipulate', 'NN'), ('data', 'NNS'), ('way', 'NN')]\n",
      "[('database', 'NN'), ('collection', 'NN'), ('information', 'NN'), ('data', 'NN'), ('computer', 'NN'), ('system', 'NN'), ('database', 'NN'), ('management', 'NN'), ('system', 'NN'), ('software', 'NN'), ('database', 'NN'), ('example', 'NN'), ('mysql', 'NN'), ('oracle', 'NN'), ('etc', 'NN'), ('database', 'NN'), ('applications', 'NNS'), ('interface', 'NN'), ('operations', 'NNS'), ('database', 'NN'), ('creation', 'NN'), ('data', 'NNS'), ('data', 'NNS'), ('table', 'NN'), ('database', 'NN'), ('lot', 'NN'), ('protection', 'NN'), ('security', 'NN'), ('database', 'NN'), ('case', 'NN'), ('users', 'NNS'), ('data', 'NNS'), ('consistency', 'NN')]\n",
      "[('database', 'NN'), ('storage', 'NN'), ('structure', 'NN'), ('way', 'NN'), ('data', 'NN'), ('database', 'NN'), ('organization', 'NN'), ('records', 'NNS'), ('tables', 'NNS'), ('indices', 'NNS'), ('structure', 'NN'), ('data', 'NNS'), ('records', 'NNS'), ('type', 'NN'), ('database', 'NN'), ('storage', 'NN'), ('structure', 'NN'), ('database', 'NN'), ('stores', 'NNS'), ('data', 'NNS'), ('tables', 'NNS'), ('columns', 'NN'), ('types', 'NNS'), ('databases', 'NNS'), ('databases', 'NNS'), ('databases', 'NNS'), ('network', 'NN'), ('databases', 'NNS'), ('databases', 'NNS'), ('type', 'NN'), ('advantages', 'NNS'), ('disadvantages', 'NNS'), ('application', 'NN'), ('needs', 'NNS')]\n",
      "[('database', 'NN'), ('storage', 'NN'), ('structure', 'NN'), ('way', 'NN'), ('data', 'NN'), ('database', 'NN'), ('organization', 'NN'), ('records', 'NNS'), ('tables', 'NNS'), ('indices', 'NNS'), ('structure', 'NN'), ('data', 'NNS'), ('records', 'NNS'), ('type', 'NN'), ('database', 'NN'), ('storage', 'NN'), ('structure', 'NN'), ('database', 'NN'), ('stores', 'NNS'), ('data', 'NNS'), ('tables', 'NNS'), ('columns', 'NN'), ('types', 'NNS'), ('databases', 'NNS'), ('databases', 'NNS'), ('databases', 'NNS'), ('network', 'NN'), ('databases', 'NNS'), ('databases', 'NNS'), ('type', 'NN'), ('advantages', 'NNS'), ('disadvantages', 'NNS'), ('application', 'NN'), ('needs', 'NNS')]\n",
      "[('transaction', 'NN'), ('management', 'NN'), ('process', 'NN'), ('life', 'NN'), ('cycle', 'NN'), ('transaction', 'NN'), ('monitoring', 'NN'), ('transactions', 'NNS'), ('stakeholders', 'NNS'), ('transaction', 'NN'), ('roles', 'NNS'), ('responsibilities', 'NNS'), ('access', 'NN'), ('resources', 'NNS'), ('tasks', 'NNS'), ('transaction', 'NN'), ('management', 'NN'), ('part', 'NN'), ('business', 'NN'), ('process', 'NN'), ('parties', 'NNS'), ('transaction', 'NN'), ('outcome', 'NN')]\n",
      "[('transaction', 'NN'), ('sequence', 'NN'), ('actions', 'NNS'), ('unit', 'NN'), ('work', 'NN'), ('actions', 'NNS'), ('effect', 'NN'), ('transaction', 'NN'), ('management', 'NN'), ('part', 'NN'), ('enterprise', 'NN'), ('application', 'NN'), ('data', 'NNS'), ('integrity', 'NN'), ('consistencyll', 'NN'), ('types', 'NNS'), ('database', 'NN'), ('access', 'NN'), ('operation', 'NN'), ('beginning', 'NN'), ('transaction', 'NN'), ('statements', 'NNS'), ('transaction', 'NN'), ('dbms', 'NN'), ('transaction', 'NN'), ('database', 'NN'), ('database', 'NN'), ('state', 'NN'), ('state', 'NN')]\n",
      "[('query', 'NN'), ('processor', 'NN'), ('component', 'NN'), ('database', 'NN'), ('management', 'NN'), ('system', 'NN'), ('queries', 'NNS'), ('application', 'NN'), ('components', 'NNS'), ('dbms', 'NN'), ('optimizing', 'NN'), ('queries', 'NNS'), ('order', 'NN'), ('data', 'NN'), ('database', 'NN'), ('query', 'NN'), ('processor', 'NN'), ('tasks', 'NNS'), ('execution', 'NN'), ('plans', 'NNS'), ('access', 'NN'), ('control', 'NN'), ('checks', 'NNS')]\n",
      "[('query', 'NN'), ('processor', 'NN'), ('database', 'NN'), ('system', 'NN'), ('function', 'NN'), ('requests', 'NNS'), ('information', 'NN'), ('user', 'NN'), ('manner', 'NN'), ('idea', 'NN'), ('query', 'NN'), ('database', 'NN'), ('system', 'NN'), ('variety', 'NN'), ('ways', 'NNS'), ('bruteforce', 'NN'), ('approach', 'NN'), ('terms', 'NNS'), ('time', 'NN'), ('resources', 'NNS')]\n",
      "[('i', 'NN'), ('entity', 'NN'), ('entity', 'NN'), ('object', 'NN'), ('concept', 'NN'), ('data', 'NNS'), ('examples', 'NNS'), ('entities', 'NNS'), ('customers', 'NNS'), ('products', 'NNS'), ('employees', 'NNS'), ('orders', 'NNS'), ('attribute', 'NN'), ('attribute', 'NN'), ('property', 'NN'), ('entity', 'NN'), ('entity', 'NN'), ('attributes', 'NNS'), ('information', 'NN'), ('entity', 'NN'), ('name', 'NN'), ('address', 'NN'), ('age', 'NN'), ('etc', 'NN')]\n",
      "[('unique', 'NN'), ('object', 'NN'), ('world', 'NN'), ('examples', 'NNS'), ('entity', 'NN'), ('person', 'NN'), ('product', 'NN'), ('organization', 'NN'), ('trait', 'NN'), ('entity', 'NN'), ('type', 'NN'), ('entity', 'NN'), ('example', 'NN'), ('person', 'NN'), ('entity', 'NN'), ('type', 'NN'), ('date', 'NN'), ('birth', 'NN'), ('attribute', 'NN')]\n",
      "[('relationship', 'NN'), ('relationship', 'NN'), ('connection', 'NN'), ('entities', 'NNS'), ('database', 'NN'), ('association', 'NN'), ('relationship', 'NN'), ('relationship', 'NN'), ('set', 'NN'), ('relationships', 'NNS'), ('entities', 'NNS'), ('database', 'NN'), ('association', 'NN'), ('entity', 'NN'), ('type', 'NN'), ('type', 'NN')]\n",
      "[('relationship', 'NN'), ('refers', 'NNS'), ('connection', 'NN'), ('association', 'NN'), ('entities', 'NNS'), ('database', 'NN'), ('database', 'NN'), ('management', 'NN'), ('system', 'NN'), ('relationships', 'NNS'), ('tables', 'NNS'), ('data', 'NNS'), ('relationship', 'NN'), ('collection', 'NN'), ('relationships', 'NNS'), ('entities', 'NNS'), ('group', 'NN'), ('relationships', 'NNS'), ('entities', 'NNS'), ('type', 'NN'), ('example', 'NN'), ('tables', 'NNS'), ('customers', 'NNS'), ('orders', 'NNS'), ('relationship', 'NN'), ('set', 'NN'), ('tables', 'NNS'), ('fact', 'NN'), ('customer', 'NN'), ('orders', 'NNS'), ('collection', 'NN'), ('relationships', 'NNS'), ('customers', 'NNS'), ('orders', 'NNS'), ('relationship', 'NN'), ('type', 'NN'), ('relationship', 'NN'), ('entities', 'NNS'), ('rules', 'NNS'), ('relationship', 'NN'), ('onetomany', 'NN'), ('manytomany', 'NN'), ('relationship', 'NN')]\n",
      "[('data', 'NNS'), ('definition', 'NN'), ('language', 'NN'), ('ddl', 'NN'), ('language', 'NN'), ('structure', 'NN'), ('database', 'NN'), ('modify', 'NNS'), ('database', 'NN'), ('objects', 'NNS'), ('tables', 'NNS'), ('views', 'NNS'), ('indexes', 'NNS'), ('users', 'NNS'), ('statements', 'NNS'), ('permissions', 'NNS'), ('database', 'NN'), ('objects', 'NNS'), ('statements', 'NNS'), ('alter', 'NN'), ('drop', 'NN'), ('table', 'NN'), ('index', 'NN'), ('statements', 'NNS'), ('command', 'NN'), ('line', 'NN'), ('interface', 'NN'), ('gui', 'NN'), ('tools', 'NNS'), ('access', 'NN'), ('oracle', 'NN'), ('sql', 'NNS'), ('developer', 'NN')]\n",
      "[('data', 'NNS'), ('definition', 'NN'), ('language', 'NN'), ('ddl', 'NN'), ('set', 'NN'), ('commands', 'NNS'), ('structure', 'NN'), ('database', 'NN'), ('objects', 'NNS'), ('tables', 'NNS'), ('views', 'NNS'), ('indexes', 'NNS'), ('constraints', 'NNS'), ('procedures', 'NNS'), ('ddl', 'NN'), ('tool', 'NN'), ('database', 'NN'), ('administrators', 'NNS'), ('developers', 'NNS'), ('structure', 'NN'), ('database', 'NN'), ('tables', 'NNS'), ('indexes', 'NNS'), ('objects', 'NNS'), ('commands', 'NNS'), ('integrity', 'NN'), ('data', 'NNS'), ('consistency', 'NN'), ('database', 'NN'), ('schema', 'NN'), ('reliability', 'NN'), ('accuracy', 'NN'), ('data', 'NNS'), ('database', 'NN'), ('ddl', 'NN'), ('commands', 'NNS'), ('command', 'NN'), ('database', 'NN'), ('objects', 'NNS'), ('tables', 'NNS'), ('indexes', 'NNS'), ('views', 'NNS'), ('proceduresalter', 'NN'), ('command', 'NN'), ('structure', 'NN'), ('database', 'NN'), ('objects', 'NNS'), ('data', 'NNS'), ('types', 'NNS'), ('constraintsdrop', 'NN'), ('command', 'NN'), ('objects', 'NNS'), ('tables', 'NNS'), ('views', 'NNS'), ('command', 'NN'), ('data', 'NNS'), ('table', 'NN'), ('table', 'NN'), ('structure', 'NN'), ('intactrename', 'NN'), ('command', 'NN'), ('name', 'NN'), ('database', 'NN'), ('object', 'NN'), ('table', 'NN'), ('viewcomment', 'NN'), ('command', 'NN'), ('comments', 'NNS'), ('descriptions', 'NNS'), ('objects', 'NNS')]\n",
      "[('data', 'NNS'), ('manipulation', 'NN'), ('language', 'NN'), ('dml', 'NN'), ('type', 'NN'), ('computer', 'NN'), ('language', 'NN'), ('data', 'NNS'), ('database', 'NN'), ('insert', 'NN'), ('update', 'NN'), ('data', 'NNS'), ('databases', 'NNS'), ('statements', 'NNS'), ('modify', 'NN'), ('data', 'NNS'), ('databases', 'NNS'), ('oracle', 'NN'), ('sql', 'NN'), ('server', 'NN'), ('statements', 'NNS'), ('update', 'NN'), ('select', 'NN'), ('statement', 'NN'), ('records', 'NNS'), ('database', 'NN'), ('criteria', 'NNS'), ('user', 'NN'), ('example', 'NN'), ('select', 'NN'), ('employees', 'NNS'), ('department', 'NN'), ('statement', 'NN'), ('records', 'NNS'), ('database', 'NN'), ('table', 'NN'), ('example', 'NN'), ('insert', 'NN'), ('employees', 'NNS'), ('age', 'NN'), ('values', 'NNS'), ('statement', 'NN'), ('records', 'NNS'), ('table', 'NN'), ('example', 'NN'), ('employees', 'NNS'), ('name', 'NN'), ('statement', 'NN'), ('records', 'NNS'), ('table', 'NN'), ('example', 'NN'), ('delete', 'NN'), ('employees', 'NNS'), ('name', 'NN'), ('john', 'NN'), ('dml', 'NN'), ('statements', 'NNS'), ('data', 'NNS'), ('databases', 'NNS'), ('software', 'NN'), ('developers', 'NNS'), ('tasks', 'NNS'), ('data', 'NNS'), ('databases', 'NNS')]\n",
      "[('data', 'NNS'), ('manipulation', 'NN'), ('language', 'NN'), ('dml', 'NN'), ('set', 'NN'), ('commands', 'NNS'), ('data', 'NNS'), ('database', 'NN'), ('ddl', 'NN'), ('structure', 'NN'), ('database', 'NN'), ('dml', 'NN'), ('data', 'NNS'), ('databasesome', 'NN'), ('dml', 'NN'), ('commands', 'NNS'), ('command', 'NN'), ('data', 'NNS'), ('tables', 'NNS'), ('databaseinsert', 'NN'), ('command', 'NN'), ('data', 'NNS'), ('table', 'NN'), ('databaseupdate', 'NN'), ('command', 'NN'), ('data', 'NNS'), ('table', 'NN'), ('databasedelete', 'NN'), ('command', 'NN'), ('data', 'NNS'), ('table', 'NN'), ('databasemerge', 'NN'), ('command', 'NN'), ('data', 'NNS'), ('tables', 'NNS'), ('tablecall', 'NN'), ('command', 'NN'), ('procedure', 'NN'), ('function', 'NN'), ('databasedml', 'NN'), ('commands', 'NNS'), ('data', 'NNS'), ('database', 'NN'), ('applications', 'NNS'), ('data', 'NNS'), ('example', 'NN'), ('ecommerce', 'NN'), ('application', 'NN'), ('commands', 'NNS'), ('customer', 'NN'), ('orders', 'NNS'), ('order', 'NN'), ('details', 'NNS'), ('delete', 'NN'), ('orders', 'NNS'), ('media', 'NNS'), ('application', 'NN'), ('commands', 'NNS'), ('user', 'NN'), ('data', 'NNS'), ('profiles', 'NNS'), ('accountsits', 'NNS'), ('commands', 'NNS'), ('integrity', 'NN'), ('security', 'NN'), ('data', 'NNS'), ('database', 'NN'), ('use', 'NN'), ('commands', 'NNS'), ('data', 'NNS'), ('corruption', 'NN'), ('data', 'NNS'), ('loss', 'NN'), ('access', 'NN'), ('information', 'NN')]\n",
      "[('data', 'NNS'), ('data', 'NNS'), ('database', 'NN'), ('query', 'NN'), ('language', 'NN'), ('sql', 'NN'), ('language', 'NN'), ('databases', 'NNS'), ('data', 'NNS'), ('statements', 'NNS'), ('columns', 'NN'), ('data', 'NNS'), ('criteria', 'NNS'), ('records', 'NNS'), ('results', 'NNS'), ('query', 'NN'), ('reports', 'NNS'), ('analysis', 'NN'), ('data', 'NNS'), ('tables', 'NNS'), ('order', 'NN'), ('access', 'NN'), ('information', 'NN'), ('sources', 'NNS')]\n",
      "[('query', 'NN'), ('request', 'NN'), ('information', 'NN'), ('data', 'NN'), ('source', 'NN'), ('information', 'NN'), ('data', 'NNS'), ('source', 'NN'), ('query', 'NN'), ('statements', 'NNS')]\n",
      "[('history', 'NN'), ('database', 'NN'), ('systems', 'NNS'), ('s', 'NN'), ('databases', 'NNS'), ('development', 'NN'), ('query', 'NN'), ('language', 'NN'), ('sql', 'NN'), ('s', 'NN'), ('users', 'NNS'), ('access', 'NN'), ('manipulate', 'NN'), ('data', 'NNS'), ('s', 'NN'), ('proliferation', 'NN'), ('database', 'NN'), ('management', 'NN'), ('systems', 'NNS'), ('oracle', 'NN'), ('s', 'NN'), ('databases', 'NNS'), ('databases', 'NNS'), ('data', 'NN'), ('warehouses', 'NNS'), ('advances', 'NNS'), ('database', 'NN'), ('technology', 'NN'), ('databases', 'NNS'), ('data', 'NNS'), ('analytics', 'NNS'), ('today', 'NN'), ('organizations', 'NNS'), ('database', 'NN'), ('systems', 'NNS'), ('operations', 'NNS')]\n",
      "[('database', 'NN'), ('systems', 'NNS'), ('times', 'NNS'), ('akbar', 'NN'), ('babar', 'NN'), ('dbms', 'NN'), ('storage', 'NN'), ('people', 'NNS'), ('globe', 'NN'), ('system', 'NN')]\n",
      "[('data', 'NN'), ('table', 'NN'), ('statement', 'NN'), ('sql', 'NN'), ('records', 'NNS'), ('table', 'NN'), ('values', 'NNS'), ('columns', 'NNS'), ('example', 'NN'), ('value', 'NN'), ('column', 'NN'), ('price', 'NN'), ('records', 'NNS'), ('table', 'NN'), ('statement', 'NN'), ('tablename', 'NN'), ('price', 'NN'), ('statement', 'NN'), ('records', 'NNS'), ('table', 'NN'), ('rows', 'NNS'), ('values', 'NNS'), ('column', 'NN'), ('example', 'NN'), ('record', 'NN'), ('values', 'NNS'), ('name', 'NN'), ('price', 'NN'), ('quantity', 'NN'), ('statement', 'NN'), ('insert', 'NN'), ('price', 'NN'), ('quantity', 'NN'), ('values', 'NNS')]\n",
      "[('command', 'NN'), ('sql', 'NN'), ('records', 'NNS'), ('table', 'NN'), ('value', 'NN'), ('clause', 'NN'), ('update', 'NN'), ('clause', 'NN'), ('clause', 'NN'), ('rows', 'NNS'), ('statement', 'NN'), ('columns', 'NNS'), ('tablename', 'NN'), ('colval', 'NN'), ('colval', 'NN'), ('condition', 'NN'), ('update', 'NN'), ('set', 'NN'), ('keywords', 'NNS'), ('tablename', 'NN'), ('name', 'NN'), ('table', 'NN'), ('col', 'NN'), ('col', 'NN'), ('columns', 'NN'), ('val', 'NN'), ('values', 'NNS'), ('condition', 'NN'), ('section', 'NN'), ('condition', 'NN'), ('semicolon', 'NN')]\n",
      "[('words', 'NNS'), ('phrases', 'NNS'), ('labels', 'NNS'), ('descriptions', 'NNS'), ('numbers', 'NNS'), ('percentages', 'NNS'), ('attributes', 'NNS'), ('categories', 'NNS'), ('subcategories', 'NNS'), ('values', 'NNS'), ('dates', 'NNS'), ('times', 'NNS'), ('attributes', 'NNS'), ('coordinates', 'NNS'), ('locations', 'NNS'), ('attributes', 'NNS'), ('codes', 'NNS'), ('bit', 'NN'), ('strings', 'NNS')]\n",
      "[('types', 'NNS'), ('attributes', 'NNS'), ('simple', 'NN'), ('attribute', 'NN'), ('attribute', 'NN'), ('attributes', 'NNS'), ('attribute', 'NN')]\n",
      "[('tables', 'NNS'), ('columns', 'NNS'), ('constraints', 'NNS'), ('table', 'NN'), ('alter', 'NN'), ('statement', 'NN'), ('tables', 'NNS'), ('drop', 'NN'), ('table', 'NN'), ('statement', 'NN'), ('table', 'NN'), ('data', 'NNS'), ('database', 'NN'), ('action', 'NN')]\n",
      "[('alter', 'NN'), ('command', 'NN'), ('modifies', 'NNS'), ('table', 'NN'), ('alter', 'NN'), ('table', 'NN'), ('command', 'NN'), ('constraints', 'NNS'), ('table', 'NN'), ('table', 'NN'), ('sql', 'NN'), ('drop', 'NN'), ('table', 'NN'), ('statement', 'NN'), ('syntax', 'NN'), ('drop', 'NN'), ('table', 'NN'), ('statement', 'NN'), ('drop', 'NN'), ('table', 'NN'), ('tablename', 'NN')]\n",
      "[('data', 'NN'), ('model', 'NN'), ('representation', 'NN'), ('structure', 'NN'), ('data', 'NNS'), ('relationships', 'NNS'), ('types', 'NNS'), ('data', 'NNS'), ('blueprint', 'NN'), ('databases', 'NNS'), ('store', 'NN'), ('manipulate', 'NN'), ('data', 'NNS'), ('types', 'NNS'), ('data', 'NN'), ('models', 'NNS'), ('network', 'NN'), ('hierarchical', 'NN'), ('type', 'NN'), ('model', 'NN'), ('data', 'NNS'), ('treelike', 'NN'), ('structure', 'NN'), ('record', 'NN'), ('parent', 'NN'), ('record', 'NN'), ('child', 'NN'), ('records', 'NNS'), ('network', 'NN'), ('type', 'NN'), ('model', 'NN'), ('model', 'NN'), ('parent', 'NN'), ('records', 'NNS'), ('child', 'NN'), ('record', 'NN'), ('relational', 'NN'), ('type', 'NN'), ('model', 'NN'), ('stores', 'NNS'), ('information', 'NN'), ('tables', 'NNS'), ('row', 'NN'), ('instance', 'NN'), ('occurrence', 'NN'), ('entity', 'NN'), ('object', 'NN'), ('represent', 'NN'), ('attributes', 'NNS'), ('characteristics', 'NNS'), ('instance', 'NN'), ('type', 'NN'), ('model', 'NN'), ('stores', 'NNS'), ('information', 'NN'), ('objects', 'NNS'), ('attributes', 'NNS'), ('data', 'NNS'), ('methods', 'NNS'), ('applications', 'NNS'), ('reusability', 'NN'), ('dimensional', 'NN'), ('type', 'NN'), ('model', 'NN'), ('information', 'NN'), ('facts', 'NNS'), ('measurements', 'NNS'), ('metrics', 'NNS'), ('dimensions', 'NNS'), ('categories', 'NNS'), ('business', 'NN'), ('intelligence', 'NN'), ('applications', 'NNS'), ('users', 'NNS'), ('amounts', 'NNS'), ('data', 'NNS'), ('type', 'NN'), ('model', 'NN'), ('stores', 'NNS'), ('information', 'NN'), ('documents', 'NNS'), ('json', 'NN'), ('xml', 'NN'), ('software', 'NN'), ('applications', 'NNS'), ('information', 'NN'), ('user', 'NN')]\n",
      "[('data', 'NN'), ('model', 'NN'), ('representation', 'NN'), ('data', 'NNS'), ('structures', 'NNS'), ('relationships', 'NNS'), ('way', 'NN'), ('data', 'NNS'), ('data', 'NN'), ('model', 'NN'), ('data', 'NNS'), ('rules', 'NNS'), ('constraints', 'NNS'), ('system', 'NN'), ('application', 'NN'), ('types', 'NNS'), ('data', 'NN'), ('models', 'NNS'), ('database', 'NN'), ('management', 'NN'), ('systems', 'NNS'), ('data', 'NNS'), ('model', 'NN'), ('model', 'NN'), ('data', 'NNS'), ('treelike', 'NN'), ('structure', 'NN'), ('record', 'NN'), ('parent', 'NN'), ('children', 'NNS'), ('mainframe', 'NN'), ('systems', 'NNS'), ('database', 'NN'), ('systems', 'NNS'), ('network', 'NN'), ('data', 'NNS'), ('model', 'NN'), ('model', 'NN'), ('data', 'NNS'), ('collection', 'NN'), ('records', 'NNS'), ('set', 'NN'), ('relationships', 'NNS'), ('model', 'NN'), ('record', 'NN'), ('parents', 'NNS'), ('children', 'NNS'), ('legacy', 'NN'), ('systems', 'NNS'), ('today', 'NN'), ('data', 'NNS'), ('model', 'NN'), ('model', 'NN'), ('data', 'NNS'), ('set', 'NN'), ('tables', 'NNS'), ('relationships', 'NNS'), ('table', 'NN'), ('set', 'NN'), ('entities', 'NNS'), ('relationships', 'NNS'), ('keys', 'NNS'), ('model', 'NN'), ('database', 'NN'), ('systems', 'NNS'), ('oracle', 'NN'), ('sql', 'NN'), ('server', 'NN'), ('data', 'NNS'), ('model', 'NN'), ('model', 'NN'), ('data', 'NNS'), ('collection', 'NN'), ('objects', 'NNS'), ('properties', 'NNS'), ('methods', 'NNS'), ('languages', 'NNS'), ('programming', 'NN'), ('java', 'NN'), ('c', 'NN'), ('python', 'NN'), ('entityrelationship', 'NN'), ('model', 'NN'), ('model', 'NN'), ('data', 'NNS'), ('set', 'NN'), ('entities', 'NNS'), ('relationships', 'NNS'), ('entities', 'NNS'), ('tables', 'NNS'), ('relationships', 'NNS'), ('links', 'NNS'), ('tables', 'NNS'), ('model', 'NN'), ('database', 'NN'), ('systems', 'NNS'), ('data', 'NNS'), ('model', 'NN'), ('model', 'NN'), ('data', 'NNS'), ('collection', 'NN'), ('documents', 'NNS'), ('pairs', 'NNS'), ('database', 'NN'), ('systems', 'NNS'), ('scalability', 'NN'), ('performance', 'NN'), ('mongodb', 'NN'), ('cassandra', 'NN')]\n",
      "[('data', 'NNS'), ('security', 'NN'), ('file', 'NN'), ('systems', 'NNS'), ('security', 'NN'), ('measures', 'NNS'), ('database', 'NN'), ('systems', 'NNS'), ('data', 'NNS'), ('redundancy', 'NN'), ('inconsistency', 'NN'), ('file', 'NN'), ('systems', 'NNS'), ('data', 'NNS'), ('redundancy', 'NN'), ('results', 'NNS'), ('increase', 'NN'), ('storage', 'NN'), ('requirements', 'NNS'), ('inconsistencies', 'NNS'), ('files', 'NNS'), ('access', 'NN'), ('data', 'NNS'), ('access', 'NN'), ('data', 'NNS'), ('file', 'NN'), ('processing', 'NN'), ('system', 'NN'), ('skills', 'NNS'), ('knowledge', 'NN'), ('file', 'NN'), ('structure', 'NN'), ('scalability', 'NN'), ('file', 'NN'), ('processing', 'NN'), ('system', 'NN'), ('largescale', 'NN'), ('applications', 'NNS'), ('amount', 'NN'), ('data', 'NNS'), ('concurrency', 'NN'), ('control', 'NN'), ('users', 'NNS'), ('access', 'NN'), ('file', 'NN'), ('time', 'NN'), ('concurrency', 'NN'), ('control', 'NN'), ('performance', 'NN'), ('multiple', 'NN'), ('users', 'NNS'), ('files', 'NNS')]\n",
      "[('access', 'NN'), ('time', 'NN'), ('access', 'NN'), ('files', 'NNS'), ('hierarchy', 'NN'), ('folders', 'NNS'), ('file', 'NN'), ('lot', 'NN'), ('time', 'NN'), ('presence', 'NN'), ('data', 'NNS'), ('data', 'NNS'), ('files', 'NNS'), ('space', 'NN'), ('inconsistent', 'NN'), ('data', 'NNS'), ('data', 'NNS'), ('redundancy', 'NN'), ('data', 'NN'), ('places', 'NNS'), ('data', 'NNS'), ('integrity', 'NN'), ('problems', 'NNS'), ('data', 'NNS'), ('present', 'NN'), ('database', 'NN'), ('data', 'NNS'), ('constraints', 'NNS'), ('difficulty', 'NN'), ('recovery', 'NN'), ('corrupt', 'NN'), ('data', 'NNS'), ('recovery', 'NN'), ('backup', 'NN'), ('data', 'NNS'), ('case', 'NN'), ('file', 'NN'), ('processing', 'NN'), ('system', 'NN'), ('lack', 'NN'), ('atomicity', 'NN'), ('operations', 'NNS'), ('database', 'NN'), ('ie', 'NN'), ('operation', 'NN'), ('place', 'NN'), ('place', 'NN'), ('problem', 'NN'), ('access', 'NN'), ('number', 'NN'), ('users', 'NNS'), ('operates', 'NNS'), ('data', 'NN'), ('database', 'NN'), ('time', 'NN'), ('arise', 'NN'), ('concurrency', 'NN'), ('control', 'NN'), ('access', 'NN'), ('anyone', 'NN'), ('access', 'NN'), ('file', 'NN'), ('data', 'NNS')]\n",
      "[('level', 'NN'), ('level', 'NN'), ('abstraction', 'NN'), ('deals', 'NNS'), ('storage', 'NN'), ('data', 'NNS'), ('form', 'NN'), ('files', 'NNS'), ('disks', 'NNS'), ('level', 'NN'), ('level', 'NN'), ('abstraction', 'NN'), ('deals', 'NNS'), ('data', 'NN'), ('database', 'NN'), ('view', 'NN'), ('level', 'NN'), ('level', 'NN'), ('abstraction', 'NN'), ('users', 'NNS'), ('data', 'NNS'), ('perspectives', 'NNS'), ('level', 'NN'), ('level', 'NN'), ('abstraction', 'NN'), ('view', 'NN'), ('database', 'NN'), ('details', 'NNS'), ('storage', 'NN'), ('structure', 'NN'), ('implementation', 'NN'), ('details', 'NNS')]\n",
      "[('levels', 'NNS'), ('data', 'NNS'), ('abstraction', 'NN'), ('levels', 'NNS'), ('order', 'NN'), ('data', 'NNS'), ('independence', 'NN'), ('data', 'NNS'), ('independence', 'NN'), ('users', 'NNS'), ('data', 'NNS'), ('user', 'NN'), ('level', 'NN'), ('data', 'NNS'), ('level', 'NN'), ('independence', 'NN'), ('details', 'NNS'), ('levels', 'NNS'), ('data', 'NNS'), ('abstraction', 'NN'), ('level', 'NN'), ('view', 'NN'), ('level', 'NN'), ('level', 'NN')]\n",
      "[('instance', 'NN'), ('instance', 'NN'), ('occurrence', 'NN'), ('object', 'NN'), ('entity', 'NN'), ('database', 'NN'), ('data', 'NNS'), ('database', 'NN'), ('customer', 'NN'), ('record', 'NN'), ('order', 'NN'), ('schema', 'NN'), ('schema', 'NN'), ('structure', 'NN'), ('layout', 'NN'), ('database', 'NN'), ('tables', 'NNS'), ('relationships', 'NNS'), ('views', 'NNS'), ('elements', 'NNS'), ('schema', 'NN'), ('rules', 'NNS'), ('constraints', 'NNS'), ('data', 'NNS'), ('integrity', 'NN'), ('accuracy', 'NN')]\n",
      "[('instance', 'NN'), ('refers', 'NNS'), ('data', 'NN'), ('database', 'NN'), ('point', 'NN'), ('time', 'NN'), ('collection', 'NN'), ('data', 'NNS'), ('database', 'NN'), ('users', 'NNS'), ('instance', 'NN'), ('rows', 'NNS'), ('columns', 'NNS'), ('table', 'NN'), ('relationships', 'NNS'), ('tables', 'NNS'), ('schema', 'NN'), ('hand', 'NN'), ('refers', 'NNS'), ('structure', 'NN'), ('database', 'NN'), ('data', 'NN'), ('relationships', 'NNS'), ('elements', 'NNS'), ('database', 'NN'), ('schema', 'NN'), ('tables', 'NNS'), ('fields', 'NNS'), ('constraints', 'NNS'), ('relationships', 'NNS'), ('database', 'NN'), ('blueprint', 'NN'), ('database', 'NN'), ('data', 'NN'), ('way', 'NN')]\n",
      "[('entity', 'NN'), ('entity', 'NN'), ('type', 'NN'), ('collection', 'NN'), ('entities', 'NNS'), ('properties', 'NNS'), ('entity', 'NN'), ('entity', 'NN'), ('collection', 'NN'), ('entities', 'NNS'), ('entity', 'NN'), ('type', 'NN')]\n",
      "[('entity', 'NN'), ('entity', 'NN'), ('type', 'NN'), ('category', 'NN'), ('objects', 'NNS'), ('things', 'NNS'), ('world', 'NN'), ('database', 'NN'), ('entity', 'NN'), ('entity', 'NN'), ('collection', 'NN'), ('instances', 'NNS'), ('entity', 'NN'), ('type', 'NN'), ('database', 'NN'), ('essence', 'NN'), ('entity', 'NN'), ('type', 'NN'), ('category', 'NN'), ('objects', 'NNS'), ('things', 'NNS'), ('database', 'NN'), ('entity', 'NN'), ('collection', 'NN'), ('instances', 'NNS'), ('entity', 'NN'), ('type', 'NN'), ('database', 'NN')]\n",
      "[('entity', 'NN'), ('entity', 'NN'), ('entity', 'NN'), ('key', 'NN'), ('entitys', 'NN'), ('key', 'NN'), ('dependent', 'NN'), ('entity', 'NN'), ('entity', 'NN'), ('entity', 'NN'), ('entity', 'NN'), ('set', 'NN'), ('key', 'NN'), ('entities', 'NNS'), ('entity', 'NN')]\n",
      "[('entity', 'NN'), ('dbms', 'NN'), ('attributes', 'NNS'), ('key', 'NN'), ('entity', 'NN'), ('entity', 'NN'), ('rectangle', 'NN'), ('entity', 'NN'), ('dbms', 'NN'), ('entity', 'NN'), ('attributes', 'NNS'), ('entities', 'NNS'), ('words', 'NNS'), ('key', 'NN'), ('exists', 'NNS'), ('entity', 'NN'), ('dbms', 'NN'), ('key', 'NN'), ('entity', 'NN'), ('dbms', 'NN'), ('ita', 'NN'), ('entity', 'NN'), ('dbms', 'NN'), ('key', 'NN'), ('rectangle', 'NN')]\n",
      "[('attributes', 'NNS'), ('database', 'NN'), ('entity', 'NN'), ('attributes', 'NNS'), ('entity', 'NN'), ('name', 'NN'), ('address', 'NN'), ('phone', 'NN'), ('number', 'NN'), ('etc', 'NN'), ('attributes', 'NNS'), ('data', 'NNS'), ('identity', 'NN'), ('entity', 'NN'), ('business', 'NN'), ('process', 'NN'), ('order', 'NN'), ('date', 'NN'), ('customer', 'NN'), ('type', 'NN'), ('attributes', 'NNS'), ('attributes', 'NNS'), ('attributes', 'NNS'), ('calculations', 'NNS'), ('averages', 'NNS'), ('sums', 'NNS'), ('values', 'NNS'), ('values', 'NNS'), ('attributes', 'NNS'), ('information', 'NN'), ('entities', 'NNS'), ('values', 'NNS'), ('example', 'NN'), ('customers', 'NNS'), ('spending', 'NN'), ('period', 'NN'), ('time', 'NN'), ('purchases', 'NNS'), ('period', 'NN')]\n",
      "[('attribute', 'NN'), ('attribute', 'NN'), ('attribute', 'NN'), ('databaseassume', 'NN'), ('table', 'NN'), ('student', 'NN'), ('attributes', 'NNS'), ('studentid', 'NN'), ('name', 'NN'), ('courseid', 'NN'), ('value', 'NN'), ('attribute', 'NNS'), ('attributes', 'NNS'), ('attributes', 'NNS'), ('attribute', 'NN'), ('attribute', 'NN'), ('attribute', 'NN'), ('values', 'NNS'), ('attributes', 'NNS'), ('student', 'NN'), ('table', 'NN'), ('attribute', 'NN'), ('dateofbirth', 'NN'), ('age', 'NN'), ('value', 'NN'), ('age', 'NN'), ('help', 'NN'), ('dateofbirth', 'NN'), ('attribute', 'NN')]\n",
      "[('database', 'NN'), ('query', 'NN'), ('request', 'NN'), ('information', 'NN'), ('database', 'NN'), ('query', 'NN'), ('language', 'NN'), ('sql', 'NN'), ('tables', 'NNS'), ('clauses', 'NNS'), ('select', 'NN'), ('group', 'NN'), ('order', 'NN')]\n",
      "[('database', 'NN'), ('query', 'NN'), ('request', 'NN'), ('information', 'NN'), ('database', 'NN'), ('query', 'NN'), ('language', 'NN'), ('sql', 'NN'), ('tables', 'NNS'), ('clauses', 'NNS'), ('select', 'NN'), ('group', 'NN'), ('order', 'NN')]\n",
      "[('operation', 'NN'), ('algebra', 'NN'), ('subset', 'NN'), ('tuples', 'NNS'), ('relation', 'NN'), ('criteria', 'NNS'), ('arguments', 'NNS'), ('relation', 'NN'), ('predicate', 'NN'), ('relation', 'NN'), ('tuples', 'NNS'), ('predicate', 'NN')]\n",
      "[('algebra', 'NN'), ('operation', 'NN'), ('subset', 'NN'), ('rows', 'NNS'), ('relation', 'NN'), ('table', 'NN'), ('condition', 'NN'), ('restriction', 'NN'), ('operation', 'NN'), ('operation', 'NN'), ('input', 'NN'), ('relation', 'NN'), ('output', 'NN'), ('relation', 'NN'), ('tuples', 'NNS'), ('satisfy', 'NN'), ('condition', 'NN')]\n",
      "[('project', 'NN'), ('operation', 'NN'), ('algebra', 'NN'), ('columns', 'NNS'), ('relation', 'NN'), ('relation', 'NN'), ('list', 'NN'), ('attributes', 'NNS'), ('input', 'NN'), ('relation', 'NN'), ('attributes', 'NNS')]\n",
      "[('project', 'NN'), ('operation', 'NN'), ('selects', 'NNS'), ('chooses', 'NNS'), ('attributes', 'NNS'), ('project', 'NN'), ('operation', 'NN'), ('partitioning', 'NN'), ('relation', 'NN'), ('columns', 'NN'), ('attributes', 'NNS')]\n",
      "[('functions', 'NNS'), ('operations', 'NNS'), ('set', 'NN'), ('values', 'NNS'), ('value', 'NN'), ('functions', 'NNS'), ('count', 'NN'), ('maximum', 'NN'), ('deviation', 'NN')]\n",
      "[('database', 'NN'), ('management', 'NN'), ('function', 'NN'), ('function', 'NN'), ('values', 'NNS'), ('rows', 'NNS'), ('input', 'NN'), ('criteria', 'NNS'), ('value', 'NN'), ('meaning', 'NN'), ('functions', 'NNS'), ('maximum', 'NN')]\n",
      "[('rename', 'NN'), ('operation', 'NN'), ('part', 'NN'), ('file', 'NN'), ('system', 'NN'), ('users', 'NNS'), ('name', 'NN'), ('file', 'NN'), ('directory', 'NN'), ('renaming', 'NN'), ('files', 'NNS'), ('directories', 'NNS'), ('data', 'NNS'), ('users', 'NNS'), ('files', 'NNS'), ('files', 'NNS'), ('track', 'NN'), ('changes', 'NNS'), ('time', 'NN'), ('security', 'NN'), ('actors', 'NNS'), ('access', 'NN'), ('information', 'NN'), ('file', 'NN'), ('names', 'NNS')]\n",
      "[('algebra', 'NN'), ('rename', 'NN'), ('operation', 'NN'), ('name', 'NN'), ('relation', 'NN'), ('table', 'NN'), ('column', 'NN'), ('relation', 'NN'), ('rename', 'NN'), ('operation', 'NN'), ('data', 'NN'), ('relation', 'NN'), ('name', 'NN'), ('relation', 'NN'), ('attribute', 'NN')]\n",
      "[('form', 'NN'), ('query', 'NN'), ('clauses', 'NNS'), ('order', 'NN'), ('select', 'NN'), ('clause', 'NN'), ('columns', 'NN'), ('table', 'NN'), ('result', 'NN'), ('clause', 'NN'), ('views', 'NNS'), ('result', 'NN'), ('clause', 'NN'), ('rows', 'NNS'), ('criteria', 'NNS'), ('order', 'NN'), ('clause', 'NN'), ('result', 'NN'), ('columns', 'NNS'), ('order', 'NN')]\n",
      "[('form', 'NN'), ('sql', 'NN'), ('language', 'NN'), ('query', 'NN'), ('clauses', 'NNS'), ('clauses', 'NNS'), ('data', 'NN'), ('tables', 'NNS'), ('clause', 'NN'), ('clause', 'NN'), ('columns', 'NN'), ('tables', 'NNS'), ('data', 'NNS'), ('attributes', 'NNS'), ('query', 'NN'), ('result', 'NN'), ('syntax', 'NN'), ('select', 'NN'), ('clause', 'NN'), ('column', 'NN'), ('column', 'NN'), ('columnn', 'NN'), ('clause', 'NN'), ('clause', 'NN'), ('tables', 'NNS'), ('data', 'NN'), ('database', 'NN'), ('tables', 'NNS'), ('data', 'NNS'), ('syntax', 'NN'), ('clause', 'NN'), ('table', 'NN'), ('tablen', 'NN'), ('clause', 'NN'), ('clause', 'NN'), ('conditions', 'NNS'), ('data', 'NNS'), ('rows', 'NNS'), ('tuples', 'NNS'), ('tables', 'NNS'), ('condition', 'NN'), ('set', 'NN'), ('conditions', 'NNS'), ('syntax', 'NN'), ('clause', 'NN'), ('condition', 'NN'), ('condition', 'NN'), ('operators', 'NNS'), ('comparison', 'NN'), ('operators', 'NNS')]\n",
      "[('values', 'NNS'), ('points', 'NNS'), ('value', 'NN'), ('information', 'NN'), ('values', 'NNS'), ('blank', 'NN'), ('fields', 'NNS'), ('value', 'NN'), ('values', 'NNS'), ('data', 'NNS'), ('points', 'NNS'), ('dataset', 'NN')]\n",
      "[('value', 'NN'), ('database', 'NN'), ('value', 'NN'), ('column', 'NN'), ('null', 'NN'), ('string', 'NN'), ('character', 'NN'), ('datetime', 'NN'), ('data', 'NNS'), ('types', 'NNS'), ('value', 'NN'), ('data', 'NNS'), ('types', 'NNS')]\n",
      "[('tuple', 'NN'), ('data', 'NN'), ('structure', 'NN'), ('sequence', 'NN'), ('elements', 'NNS'), ('syntax', 'NN'), ('tuple', 'NN'), ('element', 'NN'), ('element', 'NN')]\n",
      "[('algebra', 'NN'), ('tuple', 'NN'), ('variable', 'NN'), ('row', 'NN'), ('relation', 'NN'), ('table', 'NN'), ('expressions', 'NNS'), ('queries', 'NNS'), ('syntax', 'NN'), ('tuple', 'NN'), ('variable', 'NN'), ('rx', 'NN'), ('x', 'NN'), ('xn', 'NN'), ('r', 'NN'), ('name', 'NN'), ('relation', 'NN'), ('table', 'NN'), ('x', 'NNP'), ('x', 'NNP'), ('xn', 'NNP'), ('names', 'NNS'), ('attributes', 'NNS'), ('relation', 'NN'), ('tuple', 'NN'), ('row', 'NN'), ('tuple', 'NN'), ('relation', 'NN'), ('values', 'NNS'), ('attributes', 'NNS'), ('x', 'NNP'), ('x', 'NNP'), ('xn', 'NNP')]\n",
      "[('sql', 'NN'), ('programming', 'NN'), ('technique', 'NN'), ('statements', 'NNS'), ('runtime', 'NN'), ('creation', 'NN'), ('database', 'NN'), ('applications', 'NNS'), ('sql', 'NN'), ('queries', 'NNS'), ('fly', 'NN'), ('control', 'NN'), ('data', 'NNS'), ('database', 'NN')]\n",
      "[('sql', 'NN'), ('programming', 'NN'), ('technique', 'NN'), ('statements', 'NNS'), ('runtime', 'NN'), ('purpose', 'NN'), ('applications', 'NNS'), ('sql', 'NN'), ('text', 'NN'), ('statement', 'NN'), ('compilation', 'NN'), ('example', 'NN'), ('lets', 'NNS'), ('procedure', 'NN'), ('table', 'NN'), ('name', 'NN'), ('sql', 'NN'), ('programs', 'NNS'), ('statements', 'NNS'), ('text', 'NN'), ('runtime', 'NN')]\n",
      "[('assertions', 'NNS'), ('statements', 'NNS'), ('condition', 'NN'), ('assumptions', 'NNS'), ('inputs', 'NNS'), ('results', 'NNS'), ('assertions', 'NNS'), ('tool', 'NN'), ('something', 'NN'), ('program', 'NN')]\n",
      "[('database', 'NN'), ('management', 'NN'), ('systems', 'NNS'), ('assertions', 'NNS'), ('statements', 'NNS'), ('rules', 'NNS'), ('constraints', 'NNS'), ('conditions', 'NNS'), ('correctness', 'NN'), ('consistency', 'NN'), ('data', 'NNS'), ('database', 'NN'), ('assertion', 'NN'), ('statement', 'NN'), ('violation', 'NN'), ('violation', 'NN'), ('integrity', 'NN'), ('constraints', 'NNS'), ('database', 'NN'), ('assertions', 'NNS'), ('conditions', 'NNS'), ('constraints', 'NNS'), ('system', 'NN'), ('transaction', 'NN'), ('data', 'NN'), ('assertion', 'NN'), ('transaction', 'NN'), ('error', 'NN'), ('message', 'NN')]\n",
      "[('trigger', 'NN'), ('mechanism', 'NN'), ('database', 'NN'), ('execution', 'NN'), ('commands', 'NNS'), ('conditions', 'NNS'), ('example', 'NN'), ('trigger', 'NN'), ('information', 'NN'), ('table', 'NN'), ('changes', 'NNS'), ('table', 'NN'), ('triggers', 'NNS'), ('data', 'NNS'), ('integrity', 'NN'), ('users', 'NNS'), ('data', 'NNS'), ('database', 'NN'), ('data', 'NN'), ('tables', 'NNS'), ('triggers', 'NNS'), ('conjunction', 'NN'), ('procedures', 'NNS'), ('techniques', 'NNS'), ('tasks', 'NNS'), ('database', 'NN')]\n",
      "[('trigger', 'NN'), ('query', 'NN'), ('language', 'NN'), ('set', 'NN'), ('statements', 'NNS'), ('response', 'NN'), ('events', 'NNS'), ('table', 'NN'), ('database', 'NN'), ('triggers', 'NNS'), ('data', 'NN'), ('integrity', 'NN'), ('database', 'NN'), ('sql', 'NN'), ('concept', 'NN'), ('trigger', 'NN'), ('life', 'NN')]\n",
      "[('alter', 'NN'), ('table', 'NN'), ('tablename', 'NN'), ('column', 'NN'), ('newcolumnname', 'NN'), ('datatype', 'NN')]\n",
      "[('alter', 'NN'), ('table', 'NN'), ('tablename', 'NN'), ('column', 'NN'), ('newcolumnname', 'NN'), ('datatype', 'NN')]\n",
      "[('sum', 'NN'), ('avg', 'NN'), ('count', 'NN'), ('min', 'NNP'), ('max', 'NN'), ('group', 'NN')]\n",
      "[('sum', 'NN'), ('avg', 'NN'), ('count', 'NN'), ('min', 'NNP'), ('max', 'NN'), ('group', 'NN')]\n",
      "[('create', 'NN'), ('drop', 'NN'), ('table', 'NN'), ('rename', 'NN'), ('truncate', 'NN'), ('table', 'NN'), ('column', 'NN'), ('alter', 'NN'), ('column', 'NN'), ('drop', 'NN'), ('column', 'NN')]\n",
      "[('create', 'NN'), ('drop', 'NN'), ('table', 'NN'), ('rename', 'NN'), ('truncate', 'NN'), ('drop', 'NN'), ('table', 'NN')]\n",
      "[('domain', 'NN'), ('integrity', 'NN'), ('assurance', 'NN'), ('data', 'NNS'), ('database', 'NN'), ('rules', 'NNS'), ('constraints', 'NNS'), ('way', 'NN'), ('data', 'NNS'), ('accuracy', 'NN'), ('consistency', 'NN'), ('completeness', 'NN')]\n",
      "[('domain', 'NN'), ('integrity', 'NN'), ('collection', 'NN'), ('processes', 'NNS'), ('accuracy', 'NN'), ('piece', 'NN'), ('data', 'NNS'), ('domain', 'NN'), ('context', 'NN'), ('domain', 'NN'), ('set', 'NN'), ('values', 'NNS'), ('column', 'NN'), ('constraints', 'NNS'), ('measures', 'NNS'), ('format', 'NN'), ('type', 'NN'), ('amount', 'NN'), ('data', 'NNS')]\n",
      "[('union', 'NN'), ('results', 'NNS'), ('statements', 'NNS'), ('result', 'NN'), ('rows', 'NNS'), ('statements', 'NNS'), ('returns', 'NNS'), ('rows', 'NNS'), ('statement', 'NN'), ('statement', 'NN'), ('join', 'NN'), ('combines', 'NNS'), ('tables', 'NNS'), ('result', 'NN'), ('columns', 'NN'), ('join', 'NN'), ('product', 'NN'), ('tables', 'NNS'), ('row', 'NN'), ('table', 'NN'), ('row', 'NN'), ('table', 'NN'), ('result', 'NN'), ('set', 'NN')]\n",
      "[('sql', 'NN'), ('operations', 'NNS'), ('results', 'NNS'), ('statements', 'NNS'), ('result', 'NN'), ('set', 'NN'), ('operations', 'NNS'), ('sql', 'NN'), ('union', 'NN'), ('operation', 'NN'), ('results', 'NNS'), ('statements', 'NNS'), ('result', 'NN'), ('rows', 'NNS'), ('queries', 'NNS'), ('union', 'NN'), ('operation', 'NN'), ('union', 'NN'), ('rows', 'NNS'), ('queries', 'NNS'), ('duplicates', 'NNS'), ('operation', 'NN'), ('appear', 'NN'), ('statements', 'NNS'), ('operation', 'NN'), ('rows', 'NNS'), ('statement', 'NN'), ('select', 'NN'), ('statement', 'NN')]\n",
      "[('group', 'NN'), ('clause', 'NN'), ('statement', 'NN'), ('group', 'NN'), ('rows', 'NNS'), ('values', 'NNS'), ('rows', 'NNS'), ('example', 'NN'), ('average', 'NN'), ('column', 'NN'), ('functions', 'NNS'), ('count', 'NN'), ('max', 'NN'), ('min', 'NN'), ('sum', 'NN'), ('avg', 'NN'), ('measure', 'NN'), ('groups', 'NNS')]\n",
      "[('group', 'NN'), ('clause', 'NN'), ('statement', 'NN'), ('group', 'NN'), ('rows', 'NNS'), ('values', 'NNS'), ('rows', 'NNS'), ('example', 'NN'), ('average', 'NN'), ('column', 'NN'), ('functions', 'NNS'), ('count', 'NN'), ('max', 'NN'), ('min', 'NN'), ('sum', 'NN'), ('avg', 'NN'), ('measure', 'NN'), ('groups', 'NNS')]\n",
      "[('select', 'NN'), ('operator', 'NN'), ('set', 'NN'), ('tuples', 'NNS'), ('relation', 'NN'), ('conditions', 'NNS'), ('user', 'NN'), ('conditions', 'NNS'), ('data', 'NNS'), ('tables', 'NNS'), ('project', 'NN'), ('operator', 'NN'), ('columns', 'NNS'), ('relation', 'NN'), ('table', 'NN'), ('rows', 'NNS'), ('input', 'NN'), ('relation', 'NN'), ('output', 'NN'), ('relation', 'NN'), ('columns', 'NN'), ('union', 'NN'), ('union', 'NN'), ('operator', 'NN'), ('result', 'NN'), ('sets', 'NNS'), ('statements', 'NNS'), ('result', 'NN'), ('duplicate', 'NN'), ('rows', 'NNS'), ('result', 'NN'), ('values', 'NNS')]\n",
      "[('select', 'NN'), ('operator', 'NN'), ('set', 'NN'), ('tuples', 'NNS'), ('relation', 'NN'), ('conditions', 'NNS'), ('user', 'NN'), ('conditions', 'NNS'), ('data', 'NNS'), ('tables', 'NNS'), ('project', 'NN'), ('operator', 'NN'), ('columns', 'NNS'), ('relation', 'NN'), ('table', 'NN'), ('rows', 'NNS'), ('input', 'NN'), ('relation', 'NN'), ('output', 'NN'), ('relation', 'NN'), ('columns', 'NN'), ('union', 'NN'), ('union', 'NN'), ('operator', 'NN'), ('result', 'NN'), ('sets', 'NNS'), ('statements', 'NNS'), ('result', 'NN'), ('duplicate', 'NN'), ('rows', 'NNS'), ('result', 'NN'), ('values', 'NNS')]\n",
      "[('operator', 'NN'), ('operator', 'NN'), ('renaming', 'NN'), ('process', 'NN'), ('names', 'NNS'), ('operators', 'NNS'), ('database', 'NN'), ('database', 'NN'), ('joins', 'NNS'), ('joins', 'NNS'), ('queries', 'NNS'), ('data', 'NNS'), ('tables', 'NNS'), ('result', 'NN'), ('data', 'NNS'), ('sources', 'NNS'), ('tables', 'NNS'), ('views', 'NNS'), ('join', 'NN'), ('rows', 'NNS'), ('table', 'NN'), ('rows', 'NNS'), ('table', 'NN'), ('values', 'NNS'), ('columns', 'NN'), ('tables', 'NNS'), ('types', 'NNS'), ('joins', 'NNS'), ('joins', 'NNS'), ('joins', 'NNS'), ('joins', 'NNS'), ('outer', 'NN'), ('joins', 'NNS'), ('outer', 'NN'), ('joins', 'NNS'), ('division', 'NN'), ('division', 'NN'), ('operation', 'NN'), ('numbers', 'NNS'), ('result', 'NN'), ('times', 'NNS'), ('number', 'NN'), ('number', 'NN'), ('division', 'NN'), ('problems', 'NNS'), ('fractions', 'NNS'), ('decimals', 'NNS'), ('division', 'NN'), ('dividing', 'NN'), ('dividebyzero', 'NN'), ('error', 'NN'), ('zero', 'NN'), ('results', 'NNS'), ('error', 'NN'), ('message', 'NN'), ('screen', 'NN')]\n",
      "[('rename', 'NN'), ('operation', 'NN'), ('output', 'NN'), ('relation', 'NN'), ('sequence', 'NN'), ('operations', 'NNS'), ('relation', 'NN'), ('names', 'NNS'), ('joins', 'NNS'), ('rows', 'NNS'), ('tables', 'NNS'), ('column', 'NN'), ('joins', 'NNS'), ('data', 'NNS'), ('tables', 'NNS'), ('tables', 'NNS'), ('columns', 'NN'), ('data', 'NNS'), ('tables', 'NNS'), ('result', 'NN'), ('analysis', 'NN'), ('reporting', 'NN'), ('processing', 'NN'), ('division', 'NN'), ('division', 'NN'), ('operator', 'NN'), ('sql', 'NN'), ('rows', 'NNS'), ('tables', 'NNS'), ('return', 'NN'), ('rows', 'NNS'), ('set', 'NN'), ('values', 'NNS'), ('concept', 'NN'), ('set', 'NN'), ('theory', 'NN'), ('division', 'NN'), ('inverse', 'NN'), ('product', 'NN'), ('division', 'NN'), ('operator', 'NN'), ('tool', 'NN'), ('data', 'NNS'), ('database', 'NN'), ('data', 'NNS'), ('tables', 'NNS'), ('set', 'NN'), ('criteria', 'NNS'), ('return', 'NN'), ('rows', 'NNS'), ('criteria', 'NNS')]\n",
      "[('redundancy', 'NN'), ('duplication', 'NN'), ('components', 'NNS'), ('functions', 'NNS'), ('system', 'NN'), ('intention', 'NN'), ('reliability', 'NN'), ('system', 'NN'), ('case', 'NN'), ('backup', 'NN'), ('redundancy', 'NN'), ('performance', 'NN'), ('reliability', 'NN'), ('availability', 'NN')]\n",
      "[('redundancy', 'NN'), ('dbms', 'NN'), ('copies', 'NNS'), ('data', 'NN'), ('databaseredundancy', 'NN'), ('dbms', 'NN'), ('problem', 'NN'), ('database', 'NN'), ('concept', 'NN'), ('copies', 'NNS'), ('data', 'NN'), ('parts', 'NNS'), ('database', 'NN')]\n",
      "[('dependency', 'NN'), ('fd', 'NN'), ('relationship', 'NN'), ('sets', 'NNS'), ('attributes', 'NNS'), ('relation', 'NN'), ('value', 'NN'), ('attribute', 'NN'), ('value', 'NN'), ('attribute', 'NN'), ('example', 'NN'), ('b', 'NN'), ('relation', 'NN'), ('b', 'NN'), ('value', 'NN'), ('value', 'NN'), ('b', 'NN'), ('dependencies', 'NNS'), ('relationships', 'NNS'), ('data', 'NN'), ('structure', 'NN'), ('example', 'NN'), ('attribute', 'NN'), ('identifies', 'NNS'), ('row', 'NN'), ('table', 'NN'), ('attributes', 'NNS'), ('table', 'NN')]\n",
      "[('database', 'NN'), ('management', 'NN'), ('systems', 'NNS'), ('dependency', 'NN'), ('refers', 'NNS'), ('relationship', 'NN'), ('attributes', 'NNS'), ('sets', 'NNS'), ('attributes', 'NNS'), ('relation', 'NN'), ('table', 'NN'), ('value', 'NN'), ('attribute', 'NN'), ('value', 'NN'), ('dependencies', 'NNS'), ('definition', 'NN'), ('relation', 'NN'), ('nature', 'NN'), ('attributes', 'NNS'), ('dependencies', 'NNS'), ('information', 'NN'), ('data', 'NNS'), ('database', 'NN'), ('schema', 'NN'), ('dependencies', 'NNS'), ('relation', 'NN'), ('normalization', 'NN'), ('database', 'NN'), ('efficiency', 'NN'), ('queries', 'NNS')]\n",
      "[('normalization', 'NN'), ('database', 'NN'), ('design', 'NN'), ('technique', 'NN'), ('tables', 'NNS'), ('manner', 'NN'), ('redundancy', 'NN'), ('dependency', 'NN'), ('data', 'NNS'), ('columns', 'NN'), ('rows', 'NNS'), ('table', 'NN'), ('data', 'NN'), ('involves', 'NNS'), ('tables', 'NNS'), ('tables', 'NNS'), ('information', 'NN'), ('entity', 'NN'), ('topic', 'NN'), ('data', 'NNS'), ('redundancy', 'NN'), ('data', 'NNS'), ('items', 'NNS'), ('normalization', 'NN'), ('query', 'NN'), ('performance', 'NN'), ('joins', 'NNS'), ('tables', 'NNS')]\n",
      "[('normalization', 'NN'), ('database', 'NN'), ('design', 'NN'), ('technique', 'NN'), ('tables', 'NNS'), ('manner', 'NN'), ('redundancy', 'NN'), ('dependency', 'NN'), ('data', 'NNS'), ('columns', 'NN'), ('rows', 'NNS'), ('table', 'NN'), ('data', 'NN'), ('involves', 'NNS'), ('tables', 'NNS'), ('tables', 'NNS'), ('information', 'NN'), ('entity', 'NN'), ('topic', 'NN'), ('data', 'NNS'), ('redundancy', 'NN'), ('data', 'NNS'), ('items', 'NNS'), ('normalization', 'NN'), ('query', 'NN'), ('performance', 'NN'), ('joins', 'NNS'), ('tables', 'NNS')]\n",
      "[('dependency', 'NN'), ('relationship', 'NN'), ('sets', 'NNS'), ('attributes', 'NNS'), ('relation', 'NN'), ('value', 'NN'), ('attribute', 'NN'), ('value', 'NN'), ('attribute', 'NN')]\n",
      "[('context', 'NN'), ('database', 'NN'), ('management', 'NN'), ('systems', 'NNS'), ('dependency', 'NN'), ('relationship', 'NN'), ('attributes', 'NNS'), ('sets', 'NNS'), ('attributes', 'NNS'), ('relation', 'NN'), ('table', 'NN'), ('value', 'NN'), ('attribute', 'NN'), ('value', 'NN'), ('attribute', 'NN')]\n",
      "[('dependency', 'NN'), ('relationship', 'NN'), ('sets', 'NNS'), ('attributes', 'NNS'), ('relation', 'NN'), ('value', 'NN'), ('attribute', 'NN'), ('value', 'NN'), ('attribute', 'NN'), ('example', 'NN'), ('relation', 'NN'), ('student', 'NN'), ('studentid', 'NN'), ('studentname', 'NN'), ('courseid', 'NN'), ('relation', 'NN'), ('studentname', 'NN'), ('courseid', 'NN'), ('value', 'NN'), ('studentid', 'NN'), ('combination', 'NN'), ('values', 'NNS'), ('studentname', 'NN'), ('courseid', 'NN'), ('instance', 'NN'), ('value', 'NN'), ('studentid', 'NN'), ('corresponding', 'NN'), ('values', 'NNS'), ('student', 'NN'), ('name', 'NN'), ('course', 'NN'), ('id', 'NN'), ('smith', 'NN'), ('maths', 'NNS')]\n",
      "[('dependency', 'NN'), ('relationship', 'NN'), ('sets', 'NNS'), ('attributes', 'NNS'), ('relation', 'NN'), ('value', 'NN'), ('attribute', 'NN'), ('value', 'NN'), ('attribute', 'NN'), ('example', 'NN'), ('relation', 'NN'), ('student', 'NN'), ('studentid', 'NN'), ('studentname', 'NN'), ('courseid', 'NN'), ('relation', 'NN'), ('studentname', 'NN'), ('courseid', 'NN'), ('value', 'NN'), ('studentid', 'NN'), ('combination', 'NN'), ('values', 'NNS'), ('studentname', 'NN'), ('courseid', 'NN'), ('instance', 'NN'), ('value', 'NN'), ('studentid', 'NN'), ('corresponding', 'NN'), ('values', 'NNS'), ('student', 'NN'), ('name', 'NN'), ('course', 'NN'), ('id', 'NN'), ('smith', 'NN'), ('maths', 'NNS')]\n",
      "[('domainkey', 'NN'), ('form', 'NN'), ('dknf', 'NN'), ('normalization', 'NN'), ('technique', 'NN'), ('data', 'NNS'), ('database', 'NN'), ('anomalies', 'NNS'), ('level', 'NN'), ('normalization', 'NN'), ('tables', 'NNS'), ('form', 'NN'), ('nf', 'NN'), ('dknf', 'NN'), ('dependencies', 'NNS'), ('dependencies', 'NNS'), ('attributes', 'NNS'), ('key', 'NN'), ('attributes', 'NNS'), ('values', 'NNS'), ('key', 'NN'), ('attribute', 'NN'), ('value', 'NN'), ('row', 'NN'), ('data', 'NNS')]\n",
      "[('relation', 'NN'), ('dknf', 'NN'), ('insertion', 'NN'), ('anomalies', 'NNS'), ('database', 'NN'), ('domainkey', 'NN'), ('form', 'NN'), ('form', 'NN'), ('normalization', 'NN'), ('reason', 'NN'), ('insertion', 'NN'), ('updation', 'NN'), ('anomalies', 'NNS'), ('constraints', 'NNS'), ('domain', 'NN'), ('constraintsa', 'NN'), ('table', 'NN'), ('form', 'NN'), ('nf', 'NN'), ('forms', 'NNS'), ('constraints', 'NNS'), ('constraint', 'NN'), ('key', 'NN'), ('constraint', 'NN'), ('constraint', 'NN')]\n",
      "[('reflexivity', 'NN'), ('attribute', 'NN'), ('relation', 'NN'), ('r', 'NN'), ('value', 'NN'), ('fd', 'NN'), ('augmentation', 'NN'), ('fd', 'NN'), ('b', 'NN'), ('relation', 'NN'), ('r', 'NN'), ('set', 'NN'), ('attributes', 'NNS'), ('b', 'NN'), ('fd', 'NN'), ('transitivity', 'NN'), ('fd', 'NN'), ('b', 'NN'), ('relation', 'NN'), ('r', 'NN'), ('fd', 'NN'), ('b', 'NN'), ('c', 'NN'), ('relation', 'NN'), ('combination', 'NN'), ('fds', 'NN'), ('implies', 'NNS'), ('fd', 'NN'), ('c', 'NN'), ('union', 'NN'), ('fd', 'NN'), ('sets', 'NNS'), ('attributes', 'NNS'), ('b', 'NN'), ('relation', 'NN'), ('r', 'NN'), ('subset', 'NN'), ('x', 'NN'), ('sets', 'NNS'), ('fd', 'NN'), ('decomposition', 'NN'), ('attribute', 'NN'), ('set', 'NN'), ('x', 'NN'), ('b', 'NN'), ('fd', 'NN'), ('relation', 'NN'), ('r', 'NN'), ('attribute', 'NN'), ('sets', 'NNS'), ('b', 'NN'), ('set', 'NN'), ('version', 'NN'), ('dependency', 'NN'), ('isolation', 'NN'), ('set', 'NN')]\n",
      "[('term', 'NN'), ('axioms', 'NNS'), ('sound', 'NN'), ('set', 'NN'), ('inference', 'NN'), ('rules', 'NNS'), ('axioms', 'NNS'), ('w', 'NN'), ('implication', 'NN'), ('dependencies', 'NNS'), ('f', 'NN'), ('set', 'NN'), ('dependencies', 'NNS'), ('closure', 'NN'), ('f', 'NN'), ('f', 'NN'), ('set', 'NN'), ('dependencies', 'NNS'), ('armstrongs', 'NNS'), ('axioms', 'NNS'), ('set', 'NN'), ('rules', 'NNS'), ('closure', 'NN'), ('dependencies', 'NNS'), ('reflexivity', 'NN'), ('set', 'NN'), ('attributes', 'NNS'), ('b', 'NN'), ('subset', 'NN'), ('b', 'NN'), ('augmentation', 'NN'), ('hold', 'NN'), ('b', 'NN'), ('c', 'NN'), ('set', 'NN'), ('attributes', 'NNS'), ('ac', 'NN'), ('bc', 'NN'), ('attribute', 'NN'), ('dependencies', 'NNS'), ('dependencies', 'NNS'), ('transitivity', 'NN'), ('b', 'NN'), ('b', 'NN'), ('c', 'NNS'), ('b', 'NN'), ('b', 'NN'), ('c', 'NN'), ('c', 'NN'), ('b', 'NN'), ('b', 'NNS'), ('union', 'NN'), ('b', 'NN'), ('ifa', 'NN'), ('b', 'NN'), ('c', 'NN'), ('bc', 'NN'), ('decomposition', 'NN'), ('bc', 'NN'), ('b', 'NN'), ('bc', 'NN'), ('b', 'NN'), ('c', 'NN'), ('pseudo', 'NN'), ('transitivity', 'NN'), ('b', 'NN'), ('bc', 'NN'), ('ifa', 'NN'), ('b', 'NN'), ('bc', 'NN'), ('d', 'NN'), ('d', 'NN')]\n",
      "[('form', 'NN'), ('nf', 'NN'), ('database', 'NN'), ('normalization', 'NN'), ('rule', 'NN'), ('record', 'NN'), ('database', 'NN'), ('table', 'NN'), ('identifier', 'NN'), ('key', 'NN'), ('data', 'NNS'), ('points', 'NNS'), ('record', 'NN'), ('type', 'NN'), ('columns', 'NNS'), ('values', 'NNS'), ('values', 'NNS'), ('values', 'NNS'), ('groups', 'NNS'), ('data', 'NNS')]\n",
      "[('relation', 'NN'), ('form', 'NN'), ('relation', 'NN'), ('form', 'NN'), ('relation', 'NN'), ('form', 'NN'), ('attribute', 'NN'), ('relation', 'NN'), ('table', 'NN'), ('attributes', 'NNS'), ('domain', 'NN'), ('name', 'NN'), ('attributecolumn', 'NN'), ('order', 'NN'), ('data', 'NN')]\n",
      "[('form', 'NN'), ('nf', 'NN'), ('form', 'NN'), ('database', 'NN'), ('normalization', 'NN'), ('data', 'NN'), ('redundancy', 'NN'), ('inconsistency', 'NN'), ('databases', 'NNS'), ('attributes', 'NNS'), ('key', 'NN'), ('words', 'NNS'), ('columns', 'NN'), ('table', 'NN'), ('primary', 'NN'), ('key', 'NN'), ('part', 'NN')]\n",
      "[('form', 'NN'), ('nf', 'NN'), ('concept', 'NN'), ('dependency', 'NN'), ('form', 'NN'), ('applies', 'NNS'), ('relations', 'NNS'), ('keys', 'NNS'), ('relations', 'NNS'), ('key', 'NN'), ('attributes', 'NNS'), ('relation', 'NN'), ('key', 'NN'), ('relation', 'NN'), ('nf', 'NN'), ('anomaliesto', 'NN'), ('form', 'NN'), ('relation', 'NN'), ('form', 'NN'), ('relation', 'NN'), ('dependency', 'NN'), ('relation', 'NN'), ('dependency', 'NN'), ('attribute', 'NN'), ('attributes', 'NNS'), ('part', 'NN'), ('candidate', 'NN'), ('key', 'NN'), ('subset', 'NN'), ('key', 'NN'), ('table', 'NN')]\n",
      "[('form', 'NN'), ('nf', 'NN'), ('normalization', 'NN'), ('technique', 'NN'), ('refines', 'NNS'), ('structure', 'NN'), ('database', 'NN'), ('columns', 'NN'), ('nf', 'NN'), ('columns', 'NNS'), ('key', 'NN'), ('data', 'NNS'), ('table', 'NN'), ('key', 'NN')]\n",
      "[('relation', 'NN'), ('form', 'NN'), ('dependency', 'NN'), ('attributes', 'NNS'), ('form', 'NN'), ('relation', 'NN'), ('condition', 'NN'), ('function', 'NN'), ('dependency', 'NN'), ('x', 'NNP'), ('y', 'NNP'), ('x', 'NNP'), ('key', 'NN'), ('y', 'NN'), ('attribute', 'NN'), ('element', 'NN'), ('y', 'NN'), ('part', 'NN'), ('candidate', 'NN'), ('key', 'NN')]\n",
      "[('form', 'NN'), ('nf', 'NN'), ('form', 'NN'), ('database', 'NN'), ('normalization', 'NN'), ('level', 'NN'), ('normalization', 'NN'), ('form', 'NN'), ('nf', 'NN'), ('attributes', 'NNS'), ('key', 'NN'), ('dependencies', 'NNS'), ('attributes', 'NNS')]\n",
      "[('form', 'NN'), ('nf', 'NN'), ('form', 'NN'), ('database', 'NN'), ('normalization', 'NN'), ('level', 'NN'), ('normalization', 'NN'), ('form', 'NN'), ('nf', 'NN'), ('attributes', 'NNS'), ('key', 'NN'), ('dependencies', 'NNS'), ('attributes', 'NNS')]\n",
      "[('loss', 'NN'), ('information', 'NN'), ('decomposition', 'NN'), ('loss', 'NN'), ('information', 'NN'), ('problem', 'NN'), ('components', 'NNS'), ('difficulty', 'NN'), ('integration', 'NN'), ('components', 'NNS'), ('solution', 'NN'), ('complexity', 'NN'), ('decomposition', 'NN'), ('increase', 'NN'), ('complexity', 'NN'), ('components', 'NNS'), ('relationships', 'NNS'), ('interdependency', 'NN'), ('components', 'NNS'), ('meaning', 'NN'), ('component', 'NN'), ('components', 'NNS'), ('results', 'NNS'), ('errors', 'NNS'), ('system', 'NN'), ('complexity', 'NN'), ('interdependencies', 'NNS'), ('components', 'NNS')]\n",
      "[('information', 'NN'), ('loss', 'NN'), ('issue', 'NN'), ('components', 'NNS'), ('decomposition', 'NN'), ('information', 'NN'), ('loss', 'NN'), ('integration', 'NN'), ('parts', 'NNS'), ('whole', 'NN'), ('complexity', 'NN'), ('components', 'NNS'), ('connections', 'NNS'), ('decomposition', 'NN'), ('rise', 'NN'), ('complexity', 'NN'), ('interdependence', 'NN'), ('interdependence', 'NN'), ('components', 'NNS'), ('alterations', 'NNS'), ('component', 'NN'), ('impact', 'NN'), ('components', 'NNS'), ('mistakes', 'NNS'), ('outcomes', 'NNS'), ('interdependencies', 'NNS'), ('complexity', 'NN'), ('system', 'NN')]\n",
      "[('losslessjoin', 'NN'), ('dependency', 'NN'), ('type', 'NN'), ('database', 'NN'), ('normalization', 'NN'), ('technique', 'NN'), ('data', 'NN'), ('manner', 'NN'), ('concept', 'NN'), ('dependence', 'NN'), ('attribute', 'NN'), ('relation', 'NN'), ('key', 'NN'), ('attributes', 'NNS'), ('relation', 'NN'), ('key', 'NN'), ('attributes', 'NNS'), ('form', 'NN'), ('dependence', 'NN'), ('losslessjoin', 'NN'), ('dependency', 'NN'), ('relations', 'NNS'), ('information', 'NN'), ('conditions', 'NNS'), ('data', 'NNS'), ('query', 'NN'), ('processing', 'NN'), ('avoids', 'NNS'), ('duplication', 'NN'), ('data', 'NNS')]\n",
      "[('decomposition', 'NN'), ('process', 'NN'), ('relation', 'NN'), ('relations', 'NNS'), ('property', 'NN'), ('generation', 'NN'), ('problem', 'NN'), ('information', 'NN'), ('relation', 'NN'), ('decomposition', 'NN'), ('join', 'NN'), ('decomposition', 'NN')]\n",
      "[('bcnf', 'NN'), ('boycecodd', 'NN'), ('form', 'NN'), ('form', 'NN'), ('database', 'NN'), ('normalization', 'NN'), ('bcnf', 'NN'), ('concept', 'NN'), ('dependencies', 'NNS'), ('attributes', 'NNS'), ('relation', 'NN'), ('bcnf', 'NN'), ('determinant', 'NN'), ('ie', 'NN'), ('candidate', 'NN'), ('key', 'NN'), ('relation', 'NN'), ('superkey', 'NN'), ('relation', 'NN'), ('simpler', 'NN'), ('terms', 'NNS'), ('relation', 'NN'), ('bcnf', 'NN'), ('dependency', 'NN'), ('relation', 'NN'), ('determinant', 'NN'), ('candidate', 'NN'), ('process', 'NN'), ('relation', 'NN'), ('relations', 'NNS'), ('normalization', 'NN'), ('normalization', 'NN'), ('database', 'NN'), ('design', 'NN'), ('redundancy', 'NN'), ('data', 'NNS'), ('inconsistencies', 'NNS'), ('data', 'NNS'), ('integrity', 'NN'), ('normalization', 'NN'), ('solution', 'NN'), ('bcnf', 'NN')]\n",
      "[('boycecodd', 'NN'), ('form', 'NN'), ('bcnf', 'NN'), ('dependencies', 'NNS'), ('account', 'NN'), ('candidate', 'NN'), ('keys', 'NNS'), ('relation', 'NN'), ('bcnf', 'NN'), ('constraints', 'NNS'), ('definition', 'NN'), ('relation', 'NN'), ('bcnf', 'NN'), ('x', 'NNP'), ('dependency', 'NN'), ('fd', 'NN'), ('xy', 'NN'), ('relation', 'NN'), ('words', 'NNS'), ('relation', 'NN'), ('bcnf', 'NN'), ('determinant', 'NN'), ('form', 'NN'), ('bcnf', 'NN'), ('candidate', 'NN'), ('key', 'NN')]\n",
      "[('dependencies', 'NNS'), ('mvds', 'NNS'), ('type', 'NN'), ('database', 'NN'), ('constraint', 'NN'), ('relationships', 'NNS'), ('attributes', 'NNS'), ('relation', 'NN'), ('mvds', 'NN'), ('attribute', 'NN'), ('attributes', 'NNS'), ('example', 'NN'), ('employees', 'NNS'), ('name', 'NN'), ('address', 'NN'), ('phone', 'NN'), ('number', 'NN'), ('mvds', 'NN'), ('data', 'NNS'), ('integrity', 'NN'), ('data', 'NNS')]\n",
      "[('dependency', 'NN'), ('mvd', 'NN'), ('attributes', 'NNS'), ('table', 'NN'), ('happen', 'NN'), ('depend', 'NN'), ('attribute', 'NN'), ('dependency', 'NN'), ('contains', 'NNS'), ('attributes', 'NNS'), ('attribute', 'NN'), ('reason', 'NN'), ('attributes', 'NNS')]\n",
      "[('join', 'NN'), ('dependency', 'NN'), ('join', 'NN'), ('dependency', 'NN'), ('type', 'NN'), ('database', 'NN'), ('normalization', 'NN'), ('combination', 'NN'), ('tuples', 'NNS'), ('relations', 'NNS'), ('result', 'NN'), ('join', 'NN'), ('operation', 'NN'), ('tables', 'NNS'), ('join', 'NN'), ('rows', 'NNS'), ('tables', 'NNS'), ('output', 'NN'), ('form', 'NN'), ('form', 'NN'), ('nf', 'NN'), ('type', 'NN'), ('database', 'NN'), ('normalization', 'NN'), ('dependencies', 'NNS'), ('relation', 'NN'), ('nf', 'NN'), ('dependencies', 'NNS'), ('attribute', 'NN'), ('attribute', 'NN')]\n",
      "[('join', 'NN'), ('dependencya', 'NN'), ('join', 'NN'), ('dependency', 'NN'), ('relation', 'NN'), ('join', 'NN'), ('relations', 'NNS'), ('words', 'NNS'), ('join', 'NN'), ('dependency', 'NN'), ('relation', 'NN'), ('relations', 'NNS'), ('subset', 'NN'), ('attributes', 'NNS'), ('relation', 'NN'), ('relations', 'NNS'), ('set', 'NN'), ('attributes', 'NNS'), ('form', 'NN'), ('form', 'NN'), ('projectjoin', 'NN'), ('form', 'NN'), ('pjnf', 'NN'), ('level', 'NN'), ('database', 'NN'), ('normalization', 'NN'), ('bcnf', 'NN'), ('situations', 'NNS'), ('relation', 'NN'), ('join', 'NN'), ('dependency', 'NN'), ('set', 'NN'), ('dependenciesa', 'NN'), ('relation', 'NN'), ('join', 'NN'), ('dependency', 'NN'), ('relation', 'NN'), ('candidate', 'NN'), ('keys', 'NNS'), ('relation', 'NN'), ('words', 'NNS'), ('relation', 'NN'), ('join', 'NN'), ('dependency', 'NN'), ('relation', 'NN'), ('key', 'NN'), ('candidate', 'NN'), ('keys', 'NNS'), ('relationnf', 'NN'), ('practice', 'NN'), ('situations', 'NNS'), ('data', 'NNS'), ('relationships', 'NNS'), ('engineering', 'NN'), ('applications', 'NNS')]\n",
      "[('schema', 'NN'), ('refinement', 'NN'), ('process', 'NN'), ('database', 'NN'), ('schema', 'NN'), ('changes', 'NNS'), ('structure', 'NN'), ('relationships', 'NNS'), ('objects', 'NNS'), ('database', 'NN'), ('tables', 'NNS'), ('tables', 'NNS'), ('relationships', 'NNS'), ('tables', 'NNS'), ('goal', 'NN'), ('refinement', 'NN'), ('data', 'NNS'), ('model', 'NN'), ('accuracy', 'NN'), ('scalability', 'NN'), ('performance', 'NN'), ('maintainability', 'NN'), ('refinement', 'NN'), ('data', 'NNS'), ('structure', 'NN'), ('features', 'NNS'), ('views', 'NNS'), ('procedures', 'NNS')]\n",
      "[('schema', 'NN'), ('refinement', 'NN'), ('refers', 'NNS'), ('schema', 'NN'), ('technique', 'NN'), ('technique', 'NN'), ('refinement', 'NN'), ('normalisation', 'NN'), ('schema', 'NN'), ('refinement', 'NN'), ('technique', 'NN'), ('data', 'NN'), ('database', 'NN'), ('approach', 'NN'), ('tables', 'NNS'), ('data', 'NNS'), ('redundancy', 'NN'), ('characteristics', 'NNS'), ('insertion', 'NN'), ('update', 'NN'), ('deletion', 'NN'), ('anomalies', 'NNS')]\n",
      "[('dependency', 'NN'), ('decomposition', 'NN'), ('method', 'NN'), ('relation', 'NN'), ('relations', 'NNS'), ('dependencies', 'NNS'), ('relation', 'NN'), ('technique', 'NN'), ('dependency', 'NN'), ('relationships', 'NNS'), ('attributes', 'NNS'), ('relation', 'NN'), ('goal', 'NN'), ('decomposition', 'NN'), ('redundancy', 'NN'), ('performance', 'NN'), ('queries', 'NNS'), ('database', 'NN')]\n",
      "[('dependency', 'NN'), ('preservation', 'NN'), ('table', 'NN'), ('dependencyif', 'NN'), ('relation', 'NN'), ('r', 'NN'), ('relation', 'NN'), ('r', 'NN'), ('r', 'NN'), ('dependencies', 'NNS'), ('r', 'NN'), ('part', 'NN'), ('r', 'NN'), ('r', 'NN'), ('combination', 'NN'), ('dependencies', 'NNS'), ('r', 'NN'), ('r', 'NN')]\n",
      "[('inclusion', 'NN'), ('dependency', 'NN'), ('ind', 'NN'), ('type', 'NN'), ('database', 'NN'), ('integrity', 'NN'), ('constraint', 'NN'), ('values', 'NNS'), ('table', 'NN'), ('values', 'NNS'), ('table', 'NN'), ('words', 'NNS'), ('row', 'NN'), ('table', 'NN'), ('corresponding', 'NN'), ('values', 'NNS'), ('table', 'NN'), ('example', 'NN'), ('customers', 'NNS'), ('name', 'NN'), ('customer', 'NN'), ('table', 'NN'), ('address', 'NN'), ('address', 'NN'), ('table', 'NN'), ('inds', 'NNS'), ('data', 'NNS'), ('consistency', 'NN'), ('accuracy', 'NN'), ('tables', 'NNS'), ('databases', 'NNS')]\n",
      "[('statement', 'NN'), ('columns', 'NN'), ('relation', 'NN'), ('columns', 'NN'), ('inclusion', 'NN'), ('dependency', 'NN'), ('inclusion', 'NN'), ('dependencies', 'NNS'), ('dependencies', 'NNS'), ('relationships', 'NNS'), ('inclusion', 'NN'), ('dependencies', 'NNS'), ('relationships', 'NNS'), ('relations', 'NNS'), ('key', 'NN'), ('example', 'NN'), ('inclusion', 'NN'), ('dependency', 'NN'), ('relation', 'NN'), ('column', 'NN'), ('key', 'NN')]\n",
      "[('transaction', 'NN'), ('unit', 'NN'), ('work', 'NN'), ('database', 'NN'), ('statements', 'NNS'), ('read', 'NN'), ('database', 'NN'), ('transactions', 'NNS'), ('properties', 'NNS'), ('atomicity', 'NN'), ('consistency', 'NN'), ('isolation', 'NN'), ('durability', 'NN'), ('atomicity', 'NN'), ('transaction', 'NN'), ('operations', 'NNS'), ('none', 'NN'), ('consistency', 'NN'), ('transaction', 'NN'), ('database', 'NN'), ('state', 'NN'), ('state', 'NN'), ('isolation', 'NN'), ('operations', 'NNS'), ('transaction', 'NN'), ('transactions', 'NNS'), ('order', 'NN'), ('interference', 'NN'), ('durability', 'NN'), ('transaction', 'NN'), ('effects', 'NNS'), ('system', 'NN'), ('failure', 'NN')]\n",
      "[('transaction', 'NN'), ('unit', 'NN'), ('work', 'NN'), ('database', 'NN'), ('system', 'NN'), ('set', 'NN'), ('operations', 'NNS'), ('database', 'NN'), ('transaction', 'NN'), ('sequence', 'NN'), ('operations', 'NNS'), ('unit', 'NN'), ('work', 'NN'), ('operations', 'NNS'), ('database', 'NN'), ('properties', 'NNS'), ('transaction', 'NN'), ('atomicity', 'NN'), ('transaction', 'NN'), ('operation', 'NN'), ('operations', 'NNS'), ('transaction', 'NN'), ('none', 'NN'), ('operation', 'NN'), ('transaction', 'NN'), ('transaction', 'NN'), ('changes', 'NNS'), ('database', 'NN'), ('consistency', 'NN'), ('transaction', 'NN'), ('database', 'NN'), ('state', 'NN'), ('database', 'NN'), ('constraints', 'NNS'), ('rules', 'NNS'), ('transaction', 'NN'), ('transactions', 'NNS'), ('system', 'NN'), ('operations', 'NNS'), ('transaction', 'NN'), ('operations', 'NNS'), ('transaction', 'NN'), ('durability', 'NN'), ('transaction', 'NN'), ('changes', 'NNS'), ('transaction', 'NN'), ('system', 'NN'), ('failures', 'NNS'), ('changes', 'NNS'), ('storage', 'NN'), ('disk', 'NN'), ('properties', 'NNS'), ('acid', 'NN'), ('properties', 'NNS'), ('transaction', 'NN'), ('atomicity', 'NN'), ('consistency', 'NN'), ('isolation', 'NN'), ('durability', 'NN'), ('acid', 'NN'), ('properties', 'NNS'), ('transactions', 'NNS'), ('database', 'NN'), ('systems', 'NNS'), ('data', 'NNS'), ('applications', 'NNS'), ('users', 'NNS')]\n",
      "[('transaction', 'NN'), ('processing', 'NN'), ('database', 'NN'), ('management', 'NN'), ('system', 'NN'), ('phases', 'NNS'), ('transaction', 'NN'), ('phase', 'NN'), ('transaction', 'NN'), ('transaction', 'NN'), ('phase', 'NN'), ('phase', 'NN'), ('transaction', 'NN'), ('application', 'NN'), ('user', 'NN'), ('transaction', 'NN'), ('id', 'NN'), ('dbms', 'NN'), ('reserves', 'NNS'), ('resources', 'NNS'), ('transaction', 'NN'), ('locks', 'NNS'), ('data', 'NN'), ('items', 'NNS'), ('transaction', 'NN'), ('execution', 'NN'), ('phase', 'NN'), ('operations', 'NNS'), ('transaction', 'NN'), ('operations', 'NNS'), ('reading', 'NN'), ('data', 'NNS'), ('database', 'NN'), ('dbms', 'NN'), ('transaction', 'NN'), ('manner', 'NN'), ('effects', 'NNS'), ('transaction', 'NN'), ('permanent', 'NN'), ('undone', 'NN'), ('case', 'NN'), ('failure', 'NN'), ('transaction', 'NN'), ('commit', 'NN'), ('transaction', 'NN'), ('dbms', 'NN'), ('commit', 'NN'), ('phase', 'NN'), ('phase', 'NN'), ('transaction', 'NN'), ('effects', 'NNS'), ('transaction', 'NN'), ('database', 'NN'), ('step', 'NN'), ('commit', 'NN'), ('operation', 'NN'), ('transaction', 'NN'), ('permanent', 'NN'), ('transactions', 'NNS'), ('transaction', 'NN'), ('rollback', 'NN'), ('case', 'NN'), ('transaction', 'NN'), ('phase', 'NN'), ('execution', 'NN'), ('dbms', 'NN'), ('rollback', 'NN'), ('phase', 'NN'), ('phase', 'NN'), ('changes', 'NNS'), ('transaction', 'NN'), ('database', 'NN'), ('state', 'NN'), ('transaction', 'NN'), ('step', 'NN'), ('rollback', 'NN'), ('operation', 'NN'), ('database', 'NN'), ('state', 'NN'), ('changes', 'NNS')]\n",
      "[('transaction', 'NN'), ('transaction', 'NN'), ('changes', 'NNS'), ('transaction', 'NN'), ('roll', 'NN'), ('statement', 'NN'), ('transaction', 'NN'), ('transaction', 'NN'), ('execution', 'NN'), ('transaction', 'NN')]\n",
      "[('schedules', 'NNS'), ('schedules', 'NNS'), ('database', 'NN'), ('transactions', 'NNS'), ('way', 'NN'), ('system', 'NN'), ('transaction', 'NN'), ('failure', 'NN'), ('schedules', 'NNS'), ('system', 'NN'), ('state', 'NN'), ('failure', 'NN'), ('data', 'NNS'), ('integrity', 'NN'), ('consistency', 'NN'), ('schedule', 'NN'), ('criteria', 'NNS'), ('serializability', 'NN'), ('transactions', 'NNS'), ('order', 'NN'), ('effects', 'NNS'), ('atomicity', 'NN'), ('transaction', 'NN'), ('techniques', 'NNS'), ('schedules', 'NNS'), ('protocols', 'NNS'), ('ordering', 'NN'), ('protocols', 'NNS')]\n",
      "[('database', 'NN'), ('management', 'NN'), ('system', 'NN'), ('schedule', 'NN'), ('transaction', 'NN'), ('execution', 'NN'), ('sequence', 'NN'), ('state', 'NN'), ('presence', 'NN'), ('failures', 'NNS'), ('system', 'NN'), ('crashes', 'NNS'), ('hardware', 'NN'), ('errors', 'NNS'), ('schedule', 'NN'), ('database', 'NN'), ('effects', 'NNS'), ('transactions', 'NNS'), ('backa', 'NN'), ('schedule', 'NN'), ('twophase', 'NN'), ('protocol', 'NN'), ('pl', 'NN'), ('log', 'NN'), ('pl', 'NN'), ('data', 'NNS'), ('item', 'NN'), ('transaction', 'NN'), ('lock', 'NN'), ('item', 'NN'), ('transactions', 'NNS'), ('ensures', 'NNS'), ('transactions', 'NNS'), ('data', 'NN'), ('item', 'NN'), ('wal', 'NN'), ('record', 'NN'), ('changes', 'NNS'), ('database', 'NN'), ('changes', 'NNS'), ('databaseto', 'NN'), ('recoverability', 'NN'), ('dbms', 'NN'), ('checks', 'NNS'), ('transaction', 'NN'), ('log', 'NN'), ('entries', 'NNS'), ('transaction', 'NN'), ('commit', 'NN'), ('operation', 'NN'), ('system', 'NN'), ('transaction', 'NN'), ('commits', 'NNS'), ('log', 'NN'), ('entry', 'NN'), ('log', 'NN'), ('database', 'NN'), ('statein', 'NN'), ('addition', 'NN'), ('dbms', 'NN'), ('transactions', 'NNS'), ('consistency', 'NN'), ('transaction', 'NN'), ('operations', 'NNS'), ('system', 'NN'), ('transaction', 'NN'), ('changes', 'NNS'), ('database', 'NN'), ('log', 'NN'), ('record', 'NN'), ('changes', 'NNS'), ('transaction', 'NN'), ('dbms', 'NN'), ('log', 'NN'), ('database', 'NN'), ('state', 'NN'), ('transaction', 'NN'), ('beganin', 'NN'), ('summary', 'NN'), ('schedule', 'NN'), ('dbms', 'NN'), ('twophase', 'NN')]\n",
      "[('cascade', 'NN'), ('schedules', 'NNS'), ('type', 'NN'), ('algorithm', 'NN'), ('processes', 'NNS'), ('computer', 'NN'), ('system', 'NN'), ('type', 'NN'), ('algorithm', 'NN'), ('works', 'NNS'), ('priority', 'NN'), ('levels', 'NNS'), ('process', 'NN'), ('priority', 'NN'), ('process', 'NN'), ('scheduler', 'NN'), ('list', 'NN'), ('processes', 'NNS'), ('order', 'NN'), ('priority', 'NN'), ('processes', 'NNS'), ('approach', 'NN'), ('use', 'NN'), ('system', 'NN'), ('resources', 'NNS'), ('higherpriority', 'NN'), ('tasks', 'NNS'), ('lowerpriority', 'NN'), ('tasks', 'NNS'), ('resources', 'NNS'), ('cascade', 'NN'), ('schedules', 'NNS'), ('tasks', 'NNS'), ('lowerpriority', 'NN'), ('tasks', 'NNS')]\n",
      "[('database', 'NN'), ('management', 'NN'), ('system', 'NN'), ('cascadeless', 'NN'), ('schedule', 'NN'), ('transaction', 'NN'), ('execution', 'NN'), ('sequence', 'NN'), ('operation', 'NN'), ('database', 'NN'), ('record', 'NN'), ('effect', 'NN'), ('records', 'NNS'), ('transaction', 'NN'), ('record', 'NN'), ('changes', 'NNS'), ('records', 'NNS'), ('reference', 'NN'), ('keys', 'NNS'), ('cascadeless', 'NN'), ('schedule', 'NN'), ('integrity', 'NN'), ('constraints', 'NNS'), ('transactions', 'NNS'), ('records', 'NNS'), ('records', 'NNS'), ('dependencies', 'NNS'), ('prevents', 'NNS'), ('effects', 'NNS'), ('database', 'NN'), ('cascadeless', 'NN'), ('schedules', 'NNS'), ('aspect', 'NN'), ('database', 'NN'), ('design', 'NN'), ('management', 'NN'), ('data', 'NNS'), ('integrity', 'NN'), ('prevent', 'NN'), ('consequences', 'NNS'), ('database', 'NN'), ('modifications', 'NNS')]\n",
      "[('phase', 'NN'), ('commit', 'NN'), ('pc', 'NN'), ('transaction', 'NN'), ('protocol', 'NN'), ('nodes', 'NNS'), ('system', 'NN'), ('agreement', 'NN'), ('outcome', 'NN'), ('transaction', 'NN'), ('phases', 'NNS'), ('phase', 'NN'), ('prepare', 'NN'), ('phase', 'NN'), ('node', 'NN'), ('system', 'NN'), ('transaction', 'NN'), ('phase', 'NN'), ('nodes', 'NNS'), ('nodes', 'NNS'), ('participants', 'NNS'), ('outcome', 'NN'), ('transaction', 'NN'), ('pc', 'NN'), ('data', 'NNS'), ('integrity', 'NN'), ('data', 'NN'), ('systems', 'NNS')]\n",
      "[('twophase', 'NN'), ('commit', 'NN'), ('protocol', 'NN'), ('database', 'NN'), ('commit', 'NN'), ('situation', 'NN'), ('commit', 'NN'), ('operation', 'NN'), ('parts', 'NNS'), ('database', 'NN'), ('management', 'NN'), ('data', 'NNS'), ('changes', 'NNS'), ('commit', 'NN'), ('changes', 'NNS'), ('rollback', 'NN'), ('transaction', 'NN'), ('server', 'NN'), ('data', 'NN'), ('geographicallydiverse', 'NN'), ('servers', 'NNS'), ('server', 'NN'), ('entity', 'NN'), ('log', 'NN'), ('records', 'NNS'), ('process', 'NN')]\n",
      "[('isolation', 'NN'), ('concept', 'NN'), ('concurrency', 'NN'), ('control', 'NN'), ('transaction', 'NN'), ('transactions', 'NNS'), ('locks', 'NNS'), ('multiversion', 'NN'), ('concurrency', 'NN'), ('control', 'NN'), ('mvcc', 'NN'), ('locks', 'NNS'), ('locks', 'NNS'), ('way', 'NN'), ('isolation', 'NN'), ('lock', 'NN'), ('mechanism', 'NN'), ('database', 'NN'), ('access', 'NN'), ('data', 'NNS'), ('transactions', 'NNS'), ('transaction', 'NN'), ('lock', 'NN'), ('record', 'NN'), ('transaction', 'NN'), ('access', 'NN'), ('lock', 'NN'), ('multiversion', 'NN'), ('concurrency', 'NN'), ('control', 'NN'), ('mvcc', 'NN'), ('mvcc', 'NN'), ('works', 'NNS'), ('versions', 'NNS'), ('records', 'NNS'), ('version', 'NN'), ('state', 'NN'), ('record', 'NN'), ('points', 'NNS'), ('time', 'NN'), ('transaction', 'NN'), ('record', 'NN'), ('version', 'NN'), ('record', 'NN'), ('changes', 'NNS'), ('transactions', 'NNS'), ('changes', 'NNS'), ('transaction', 'NN'), ('changes', 'NNS'), ('transactions', 'NNS'), ('isolation', 'NN')]\n",
      "[('isolation', 'NN'), ('database', 'NN'), ('transaction', 'NN'), ('integrity', 'NN'), ('users', 'NNS'), ('systemfeatures', 'NNS'), ('implementation', 'NN'), ('isolation', 'NN'), ('schedules', 'NNS'), ('conflict', 'NN'), ('view', 'NN'), ('benefit', 'NN'), ('database', 'NN'), ('consistency', 'NN'), ('cascade', 'NN'), ('policy', 'NN'), ('transaction', 'NN'), ('time', 'NN'), ('program', 'NN'), ('schedules', 'NNS'), ('point', 'NN'), ('concurrency', 'NN'), ('concurrency', 'NN'), ('control', 'NN'), ('amounts', 'NNS'), ('concurrency', 'NN'), ('quantity', 'NN'), ('overhead', 'NN'), ('schemes', 'NNS'), ('conflict', 'NN'), ('schedules', 'NNS'), ('view', 'NN'), ('schedules', 'NNS')]\n",
      "[('serializability', 'NN'), ('property', 'NN'), ('database', 'NN'), ('transactions', 'NNS'), ('transactions', 'NNS'), ('manner', 'NN'), ('serializability', 'NN'), ('procedure', 'NN'), ('set', 'NN'), ('transactions', 'NNS'), ('serializability', 'NN'), ('conflict', 'NN'), ('graph', 'NN'), ('set', 'NN'), ('transactions', 'NNS'), ('dependencies', 'NNS'), ('cycle', 'NN'), ('detection', 'NN'), ('conflict', 'NN'), ('graph', 'NN'), ('cycles', 'NNS'), ('set', 'NN'), ('transactions', 'NNS'), ('cycles', 'NNS'), ('set', 'NN'), ('transactions', 'NNS'), ('order', 'NN'), ('data', 'NNS'), ('integrity', 'NN'), ('constraints', 'NNS'), ('results', 'NNS')]\n",
      "[('serializability', 'NN'), ('concept', 'NN'), ('database', 'NN'), ('management', 'NN'), ('systems', 'NNS'), ('transactions', 'NNS'), ('manner', 'NN'), ('consistency', 'NN'), ('prevents', 'NNS'), ('conflicts', 'NNS'), ('transactions', 'NNS'), ('schedule', 'NN'), ('procedure', 'NN'), ('precedence', 'NN'), ('step', 'NN'), ('precedence', 'NN'), ('graph', 'NN'), ('dependencies', 'NNS'), ('transactions', 'NNS'), ('schedule', 'NN'), ('transaction', 'NN'), ('schedule', 'NN'), ('node', 'NN'), ('graph', 'NN'), ('edge', 'NN'), ('nodes', 'NNS'), ('transaction', 'NN'), ('reads', 'NNS'), ('data', 'NN'), ('item', 'NN'), ('node', 'NN'), ('check', 'NN'), ('cycles', 'NNS'), ('graph', 'NN'), ('cycles', 'NNS'), ('cycle', 'NN'), ('graph', 'NN'), ('schedule', 'NN'), ('dependency', 'NN'), ('transactions', 'NNS'), ('conflicts', 'NNS'), ('inconsistencies', 'NNS'), ('database', 'NN'), ('cycles', 'NNS'), ('graph', 'NN'), ('schedule', 'NN'), ('check', 'NN'), ('conflict', 'NN'), ('serializability', 'NN'), ('cycles', 'NNS'), ('graph', 'NN'), ('step', 'NN'), ('conflict', 'NN'), ('serializability', 'NN'), ('schedule', 'NN'), ('operations', 'NNS'), ('schedule', 'NN'), ('order', 'NN'), ('schedules', 'NNS'), ('serializability', 'NN'), ('precedence', 'NN'), ('graph', 'NN'), ('schedule', 'NN'), ('ess', 'NN'), ('method', 'NN'), ('precedence', 'NN'), ('graph', 'NN'), ('method', 'NN'), ('method', 'NN'), ('graph', 'NN'), ('graph', 'NN'), ('order', 'NN'), ('transactions', 'NNS'), ('precedence', 'NN'), ('relations', 'NNS'), ('schedule', 'NN'), ('ess', 'NN'), ('method', 'NN'), ('method', 'NN'), ('schedules', 'NNS'), ('transactions', 'NNS'), ('schedule', 'NN'), ('database', 'NN'), ('statedetermine', 'NN'), ('schedule', 'NN'), ('schedule', 'NN'), ('schedule', 'NN')]\n",
      "[('locks', 'NNS'), ('lock', 'NN'), ('type', 'NN'), ('lock', 'NN'), ('transactions', 'NNS'), ('data', 'NN'), ('transaction', 'NN'), ('data', 'NNS'), ('lock', 'NN'), ('lock', 'NN'), ('read', 'NN'), ('lock', 'NN'), ('locks', 'NNS'), ('lock', 'NN'), ('type', 'NN'), ('lock', 'NN'), ('transaction', 'NN'), ('data', 'NNS'), ('item', 'NN'), ('transactions', 'NNS'), ('data', 'NNS'), ('item', 'NN'), ('lock', 'NN'), ('lock', 'NN'), ('lock', 'NN'), ('intent', 'NN'), ('intent', 'NN'), ('lock', 'NN'), ('type', 'NN'), ('lock', 'NN'), ('intention', 'NN'), ('transaction', 'NN'), ('lock', 'NN'), ('data', 'NN'), ('item', 'NN'), ('intent', 'NN'), ('locks', 'NNS'), ('deadlocks', 'NNS'), ('transactions', 'NNS'), ('lock', 'NN'), ('request', 'NN'), ('lock', 'NN'), ('locks', 'NNS'), ('locks', 'NNS'), ('lock', 'NN'), ('type', 'NN'), ('lock', 'NN'), ('functionality', 'NN'), ('lock', 'NN'), ('lock', 'NN'), ('lock', 'NN'), ('transactions', 'NNS'), ('data', 'NNS'), ('transactions', 'NNS'), ('lock', 'NN'), ('data', 'NNS'), ('lock', 'NN'), ('sharedupdate', 'NN'), ('lock', 'NN'), ('schema', 'NN'), ('schema', 'NN'), ('lock', 'NN'), ('type', 'NN'), ('lock', 'NN'), ('access', 'NN'), ('objects', 'NNS'), ('tables', 'NNS'), ('views', 'NNS'), ('schema', 'NN'), ('lock', 'NN'), ('transactions', 'NNS'), ('schema', 'NN'), ('object', 'NN'), ('lock', 'NN'), ('deadlocks', 'NNS'), ('deadlock', 'NN'), ('situation', 'NN'), ('transactions', 'NNS'), ('locks', 'NNS'), ('transactions', 'NNS'), ('transactions', 'NNS'), ('deadlocks', 'NNS'), ('transactions', 'NNS'), ('locks', 'NNS'), ('deadlock', 'NN')]\n",
      "[('padlocks', 'NNS'), ('padlocks', 'NNS'), ('locks', 'NNS'), ('applications', 'NNS'), ('sheds', 'NNS'), ('garages', 'NNS'), ('gates', 'NNS'), ('variety', 'NN'), ('sizes', 'NNS'), ('shapes', 'NNS'), ('combination', 'NN'), ('deadbolts', 'NNS'), ('deadbolts', 'NNS'), ('type', 'NN'), ('lock', 'NN'), ('doors', 'NNS'), ('security', 'NN'), ('locks', 'NNS'), ('key', 'NN'), ('thumbturn', 'NN'), ('lever', 'NN'), ('handle', 'NN'), ('handle', 'NN'), ('locks', 'NNS'), ('doors', 'NNS'), ('bedrooms', 'NNS'), ('bathrooms', 'NNS'), ('security', 'NN'), ('key', 'NN'), ('outside', 'NN'), ('finishes', 'NNS'), ('styles', 'NNS'), ('needs', 'NNS'), ('cam', 'NN'), ('cam', 'NN'), ('locks', 'NNS'), ('cabinets', 'NNS'), ('lockers', 'NNS'), ('mailboxes', 'NNS'), ('areas', 'NNS'), ('require', 'NN'), ('access', 'NN'), ('highsecurity', 'NN'), ('protection', 'NN'), ('deadbolts', 'NNS'), ('locks', 'NNS'), ('core', 'NN'), ('rekeying', 'NN'), ('lock', 'NN'), ('mechanism', 'NN'), ('locks', 'NNS'), ('locks', 'NNS'), ('knob', 'NN'), ('operation', 'NN'), ('inside', 'NN'), ('keyhole', 'NN'), ('secure', 'NN'), ('locking', 'NN'), ('cylinder', 'NN'), ('mechanism', 'NN'), ('deadbolts', 'NNS'), ('handle', 'NN'), ('locks', 'NNS')]\n",
      "[('database', 'NN'), ('management', 'NN'), ('systems', 'NNS'), ('failure', 'NN'), ('event', 'NN'), ('system', 'NN'), ('operation', 'NN'), ('failure', 'NN'), ('reasons', 'NNS'), ('hardware', 'NN'), ('malfunction', 'NN'), ('software', 'NN'), ('bugs', 'NNS'), ('network', 'NN'), ('failures', 'NNS'), ('errors', 'NNS'), ('failure', 'NN'), ('classification', 'NN'), ('process', 'NN'), ('types', 'NNS'), ('failures', 'NNS'), ('causes', 'NNS'), ('effects', 'NNS'), ('ways', 'NNS'), ('failures', 'NNS'), ('transaction', 'NN'), ('failures', 'NNS'), ('transaction', 'NN'), ('failures', 'NNS'), ('transaction', 'NN'), ('operations', 'NNS'), ('factors', 'NNS'), ('transaction', 'NN'), ('failures', 'NNS'), ('categories', 'NNS'), ('failures', 'NNS'), ('failures', 'NNS'), ('errors', 'NNS'), ('transaction', 'NN'), ('operation', 'NN'), ('example', 'NN'), ('network', 'NN'), ('connection', 'NN'), ('failure', 'NN'), ('situation', 'NN'), ('failures', 'NNS'), ('errors', 'NNS'), ('transaction', 'NN'), ('example', 'NN'), ('disk', 'NN'), ('failure', 'NN'), ('power', 'NN'), ('outage', 'NN'), ('system', 'NN'), ('system', 'NN'), ('failures', 'NNS'), ('database', 'NN'), ('system', 'NN'), ('hardware', 'NN'), ('system', 'NN'), ('failures', 'NNS'), ('categories', 'NNS'), ('software', 'NN'), ('failures', 'NNS'), ('software', 'NN'), ('memory', 'NN'), ('leaks', 'NNS'), ('issues', 'NNS'), ('database', 'NN'), ('management', 'NN'), ('system', 'NN'), ('application', 'NN'), ('software', 'NN'), ('hardware', 'NN'), ('failures', 'NNS'), ('failures', 'NNS'), ('problems', 'NNS'), ('components', 'NNS'), ('system', 'NN'), ('drives', 'NNS'), ('memory', 'NN'), ('processors', 'NNS'), ('media', 'NNS'), ('failures', 'NNS'), ('media', 'NNS'), ('failures', 'NNS'), ('data', 'NN'), ('problems', 'NNS'), ('storage', 'NN'), ('media', 'NNS'), ('drives', 'NNS'), ('tapes', 'NNS'), ('media', 'NNS'), ('failures', 'NNS'), ('categories', 'NNS'), ('failures', 'NNS'), ('failures', 'NNS'), ('storage', 'NN'), ('media', 'NNS'), ('factors', 'NNS'), ('head', 'NN'), ('crashes', 'NNS'), ('water', 'NN'), ('damage', 'NN'), ('exposure', 'NN'), ('temperatures', 'NNS'), ('failures', 'NNS'), ('failures', 'NNS'), ('data', 'NN'), ('software', 'NN'), ('errors', 'NNS'), ('file', 'NN'), ('system', 'NN'), ('errors', 'NNS'), ('data', 'NNS'), ('corruption', 'NN'), ('site', 'NN'), ('failures', 'NNS'), ('site', 'NN'), ('failures', 'NNS'), ('site', 'NN'), ('data', 'NNS'), ('center', 'NN'), ('disaster', 'NN'), ('event', 'NN'), ('site', 'NN'), ('failures', 'NNS'), ('categories', 'NNS'), ('failures', 'NNS'), ('failures', 'NNS'), ('site', 'NN'), ('data', 'NNS'), ('center', 'NN'), ('disaster', 'NN'), ('outage', 'NN'), ('failures', 'NNS'), ('failures', 'NNS'), ('sites', 'NNS'), ('data', 'NN'), ('centers', 'NNS'), ('disaster', 'NN'), ('outage', 'NN')]\n",
      "[('database', 'NN'), ('management', 'NN'), ('systems', 'NNS'), ('failure', 'NN'), ('event', 'NN'), ('system', 'NN'), ('operation', 'NN'), ('failure', 'NN'), ('reasons', 'NNS'), ('hardware', 'NN'), ('malfunction', 'NN'), ('software', 'NN'), ('bugs', 'NNS'), ('network', 'NN'), ('failures', 'NNS'), ('errors', 'NNS'), ('failure', 'NN'), ('classification', 'NN'), ('process', 'NN'), ('types', 'NNS'), ('failures', 'NNS'), ('causes', 'NNS'), ('effects', 'NNS'), ('ways', 'NNS'), ('failures', 'NNS'), ('transaction', 'NN'), ('failures', 'NNS'), ('transaction', 'NN'), ('failures', 'NNS'), ('transaction', 'NN'), ('operations', 'NNS'), ('factors', 'NNS'), ('transaction', 'NN'), ('failures', 'NNS'), ('categories', 'NNS'), ('failures', 'NNS'), ('failures', 'NNS'), ('errors', 'NNS'), ('transaction', 'NN'), ('operation', 'NN'), ('example', 'NN'), ('network', 'NN'), ('connection', 'NN'), ('failure', 'NN'), ('situation', 'NN'), ('failures', 'NNS'), ('errors', 'NNS'), ('transaction', 'NN'), ('example', 'NN'), ('disk', 'NN'), ('failure', 'NN'), ('power', 'NN'), ('outage', 'NN'), ('system', 'NN'), ('system', 'NN'), ('failures', 'NNS'), ('database', 'NN'), ('system', 'NN'), ('hardware', 'NN'), ('system', 'NN'), ('failures', 'NNS'), ('categories', 'NNS'), ('software', 'NN'), ('failures', 'NNS'), ('software', 'NN'), ('memory', 'NN'), ('leaks', 'NNS'), ('issues', 'NNS'), ('database', 'NN'), ('management', 'NN'), ('system', 'NN'), ('application', 'NN'), ('software', 'NN'), ('hardware', 'NN'), ('failures', 'NNS'), ('failures', 'NNS'), ('problems', 'NNS'), ('components', 'NNS'), ('system', 'NN'), ('drives', 'NNS'), ('memory', 'NN'), ('processors', 'NNS'), ('media', 'NNS'), ('failures', 'NNS'), ('media', 'NNS'), ('failures', 'NNS'), ('data', 'NN'), ('problems', 'NNS'), ('storage', 'NN'), ('media', 'NNS'), ('drives', 'NNS'), ('tapes', 'NNS'), ('media', 'NNS'), ('failures', 'NNS'), ('categories', 'NNS'), ('failures', 'NNS'), ('failures', 'NNS'), ('storage', 'NN'), ('media', 'NNS'), ('factors', 'NNS'), ('head', 'NN'), ('crashes', 'NNS'), ('water', 'NN'), ('damage', 'NN'), ('exposure', 'NN'), ('temperatures', 'NNS'), ('failures', 'NNS'), ('failures', 'NNS'), ('data', 'NN'), ('software', 'NN'), ('errors', 'NNS'), ('file', 'NN'), ('system', 'NN'), ('errors', 'NNS'), ('data', 'NNS'), ('corruption', 'NN'), ('site', 'NN'), ('failures', 'NNS'), ('site', 'NN'), ('failures', 'NNS'), ('site', 'NN'), ('data', 'NNS'), ('center', 'NN'), ('disaster', 'NN'), ('event', 'NN'), ('site', 'NN'), ('failures', 'NNS'), ('categories', 'NNS'), ('failures', 'NNS'), ('failures', 'NNS'), ('site', 'NN'), ('data', 'NNS'), ('center', 'NN'), ('disaster', 'NN'), ('outage', 'NN'), ('failures', 'NNS'), ('failures', 'NNS'), ('sites', 'NNS'), ('data', 'NN'), ('centers', 'NNS'), ('disaster', 'NN'), ('outage', 'NN')]\n",
      "[('checkpoint', 'NN'), ('point', 'NN'), ('computer', 'NN'), ('program', 'NN'), ('process', 'NN'), ('program', 'NN'), ('process', 'NN'), ('point', 'NN'), ('errors', 'NNS'), ('integrity', 'NN'), ('data', 'NNS')]\n",
      "[('dbms', 'NN'), ('checkpoint', 'NN'), ('procedure', 'NN'), ('transaction', 'NN'), ('log', 'NN'), ('file', 'NN'), ('transaction', 'NN'), ('storage', 'NN'), ('system', 'NN'), ('recovery', 'NN'), ('failure', 'NN'), ('procedure', 'NN'), ('system', 'NN'), ('recovery', 'NN'), ('reading', 'NN'), ('log', 'NN'), ('file', 'NN'), ('reverse', 'NN'), ('order', 'NN'), ('redo', 'NN'), ('lists', 'NNS')]\n",
      "[('storage', 'NN'), ('component', 'NN'), ('computer', 'NN'), ('system', 'NN'), ('stores', 'NNS'), ('data', 'NNS'), ('power', 'NN'), ('information', 'NN'), ('storage', 'NN'), ('variety', 'NN'), ('problems', 'NNS'), ('failure', 'NN'), ('storage', 'NN'), ('loss', 'NN'), ('device', 'NN'), ('files', 'NNS'), ('documents', 'NNS'), ('records', 'NNS'), ('system', 'NN'), ('storage', 'NN'), ('operation', 'NN'), ('chip', 'NN'), ('computers', 'NNS'), ('system', 'NN'), ('data', 'NNS'), ('device', 'NN'), ('issue', 'NN'), ('storage', 'NN'), ('failure', 'NN'), ('damage', 'NN'), ('surge', 'NN'), ('power', 'NN'), ('issue', 'NN'), ('device', 'NN'), ('damage', 'NN'), ('components', 'NNS'), ('repairs', 'NNS'), ('replacements', 'NNS'), ('protection', 'NN'), ('maintenance', 'NN'), ('device', 'NN'), ('storage', 'NN'), ('failures', 'NNS'), ('security', 'NN'), ('risks', 'NNS'), ('data', 'NNS'), ('encryption', 'NN'), ('measures', 'NNS'), ('place', 'NN'), ('user', 'NN'), ('gains', 'NNS'), ('access', 'NN'), ('information', 'NN'), ('device', 'NN'), ('software', 'NN'), ('corruption', 'NN'), ('data', 'NN'), ('individuals', 'NNS'), ('organizations', 'NNS'), ('information', 'NN'), ('operations', 'NNS'), ('security', 'NN'), ('protocols', 'NNS')]\n",
      "[('scheme', 'NN'), ('content', 'NN'), ('database', 'NN'), ('storage', 'NN'), ('periodicallysay', 'NN'), ('day', 'NN'), ('example', 'NN'), ('database', 'NN'), ('tapes', 'NNS'), ('failure', 'NN'), ('results', 'NNS'), ('loss', 'NN'), ('database', 'NN'), ('system', 'NN'), ('dump', 'NN'), ('database', 'NN'), ('state', 'NN'), ('restoration', 'NN'), ('system', 'NN'), ('log', 'NN'), ('database', 'NN'), ('system', 'NN'), ('statemore', 'NN'), ('transaction', 'NN'), ('procedure', 'NN'), ('procedure', 'NN'), ('place', 'NN'), ('output', 'NN'), ('log', 'NN'), ('records', 'NNS'), ('memory', 'NN'), ('storage', 'NN'), ('output', 'NN'), ('blocks', 'NNS'), ('disk', 'NN'), ('contents', 'NNS'), ('database', 'NN'), ('storage', 'NN'), ('output', 'NN'), ('log', 'NN'), ('record', 'NN'), ('dump', 'NN'), ('storageto', 'NN'), ('recover', 'NN'), ('loss', 'NN'), ('storage', 'NN'), ('system', 'NN'), ('database', 'NN'), ('dump', 'NN'), ('log', 'NN'), ('transactions', 'NNS'), ('dump', 'NN'), ('notice', 'NNS'), ('operations', 'NNS'), ('dump', 'NN'), ('database', 'NN'), ('contents', 'NNS'), ('archival', 'NN'), ('dump', 'NN'), ('dumps', 'NNS'), ('states', 'NNS'), ('database', 'NN'), ('dumps', 'NN'), ('database', 'NN'), ('checkpointing', 'NN'), ('buffers', 'NNS'), ('dump', 'NN'), ('reasons', 'NNS'), ('database', 'NN'), ('storage', 'NN'), ('data', 'NNS'), ('transfer', 'NN'), ('transaction', 'NN'), ('processing', 'NN'), ('procedure', 'NN'), ('cpu', 'NN'), ('cycles', 'NNS'), ('dump', 'NN'), ('schemes', 'NNS'), ('transactions', 'NNS'), ('dump', 'NN'), ('progress', 'NN')]\n",
      "[('conflict', 'NN'), ('serializability', 'NN'), ('concept', 'NN'), ('concurrency', 'NN'), ('control', 'NN'), ('order', 'NN'), ('operations', 'NNS'), ('transactions', 'NNS'), ('time', 'NN'), ('transaction', 'NN'), ('results', 'NNS'), ('transactions', 'NNS'), ('outcome', 'NN'), ('conflict', 'NN'), ('serializability', 'NN'), ('transactions', 'NNS'), ('t', 'NNS'), ('t', 'NN'), ('transactions', 'NNS'), ('access', 'NN'), ('data', 'NNS'), ('items', 'NNS'), ('steps', 'NNS'), ('transactions', 'NNS'), ('timestamp', 'NN'), ('transaction', 'NN'), ('transaction', 'NN'), ('list', 'NN'), ('operations', 'NNS'), ('reada', 'NN'), ('writeb', 'NN'), ('t', 'NN'), ('readb', 'NN'), ('writea', 'NN'), ('operations', 'NNS'), ('order', 'NN'), ('timestamps', 'NNS'), ('reada', 'NN'), ('writeb', 'NN'), ('t', 'NN'), ('readb', 'NN'), ('writea', 'NN'), ('operation', 'NN'), ('transaction', 'NN'), ('operation', 'NN'), ('transaction', 'NN'), ('conflicts', 'NNS'), ('conflicts', 'NNS'), ('transactions', 'NNS'), ('outcome', 'NN'), ('correctness', 'NN'), ('reada', 'NN'), ('readb', 'NN'), ('writeb', 'NN'), ('writea', 'NN')]\n",
      "[('conflict', 'NN'), ('serializability', 'NN'), ('concept', 'NN'), ('concurrency', 'NN'), ('control', 'NN'), ('order', 'NN'), ('operations', 'NNS'), ('transactions', 'NNS'), ('time', 'NN'), ('transaction', 'NN'), ('results', 'NNS'), ('transactions', 'NNS'), ('outcome', 'NN'), ('conflict', 'NN'), ('serializability', 'NN'), ('transactions', 'NNS'), ('t', 'NNS'), ('t', 'NN'), ('transactions', 'NNS'), ('access', 'NN'), ('data', 'NNS'), ('items', 'NNS'), ('steps', 'NNS'), ('transactions', 'NNS'), ('timestamp', 'NN'), ('transaction', 'NN'), ('transaction', 'NN'), ('list', 'NN'), ('operations', 'NNS'), ('reada', 'NN'), ('writeb', 'NN'), ('t', 'NN'), ('readb', 'NN'), ('writea', 'NN'), ('operations', 'NNS'), ('order', 'NN'), ('timestamps', 'NNS'), ('reada', 'NN'), ('writeb', 'NN'), ('t', 'NN'), ('readb', 'NN'), ('writea', 'NN'), ('operation', 'NN'), ('transaction', 'NN'), ('operation', 'NN'), ('transaction', 'NN'), ('conflicts', 'NNS'), ('conflicts', 'NNS'), ('transactions', 'NNS'), ('outcome', 'NN'), ('correctness', 'NN'), ('reada', 'NN'), ('readb', 'NN'), ('writeb', 'NN'), ('writea', 'NN')]\n",
      "[('serializability', 'NN'), ('concept', 'NN'), ('database', 'NN'), ('systems', 'NNS'), ('refers', 'NNS'), ('ability', 'NN'), ('transaction', 'NN'), ('order', 'NN'), ('results', 'NNS'), ('order', 'NN'), ('transactions', 'NNS'), ('interference', 'NN'), ('transactions', 'NNS'), ('data', 'NNS'), ('serializability', 'NN'), ('data', 'NNS'), ('integrity', 'NN'), ('consistency', 'NN'), ('databases', 'NNS')]\n",
      "[('view', 'NN'), ('serializability', 'NN'), ('property', 'NN'), ('schedules', 'NNS'), ('database', 'NN'), ('management', 'NN'), ('systems', 'NNS'), ('transactions', 'NNS'), ('schedule', 'NN'), ('results', 'NNS'), ('order', 'NN'), ('schedule', 'NN'), ('view', 'NN'), ('schedule', 'NN'), ('schedule', 'NN'), ('schedule', 'NN'), ('transactions', 'NNS'), ('interleavingin', 'NN'), ('words', 'NNS'), ('schedule', 'NN'), ('schedule', 'NN'), ('database', 'NN'), ('state', 'NN'), ('schedule', 'NN'), ('perspective', 'NN'), ('transactionview', 'NN'), ('serializability', 'NN'), ('databases', 'NNS'), ('transactions', 'NNS'), ('sites', 'NNS'), ('actions', 'NNS'), ('consistency', 'NN'), ('database', 'NN')]\n",
      "[('transition', 'NN'), ('states', 'NNS'), ('states', 'NNS'), ('transaction', 'NN'), ('execution', 'NN'), ('states', 'NNS'), ('phases', 'NNS'), ('transaction', 'NN'), ('order', 'NN'), ('operations', 'NNS'), ('commit', 'NN'), ('transition', 'NN'), ('states', 'NNS'), ('transaction', 'NN'), ('categories', 'NNS'), ('state', 'NN'), ('state', 'NN'), ('transaction', 'NN'), ('transaction', 'NN'), ('state', 'NN'), ('transaction', 'NN'), ('data', 'NNS'), ('database', 'NN'), ('state', 'NN'), ('state', 'NN'), ('transaction', 'NN'), ('transaction', 'NN'), ('operations', 'NNS'), ('state', 'NN'), ('transaction', 'NN'), ('data', 'NNS'), ('databasebetween', 'NN'), ('states', 'NNS'), ('states', 'NNS'), ('transaction', 'NN'), ('state', 'NN'), ('state', 'NN'), ('transaction', 'NN'), ('operations', 'NNS'), ('commit', 'NN'), ('request', 'NN'), ('database', 'NN'), ('system', 'NN'), ('commit', 'NN'), ('request', 'NN'), ('system', 'NN'), ('transaction', 'NN'), ('response', 'NN'), ('state', 'NN'), ('state', 'NN'), ('transaction', 'NN'), ('error', 'NN'), ('user', 'NN'), ('system', 'NN'), ('state', 'NN'), ('transaction', 'NN'), ('state', 'NN'), ('state', 'NN'), ('transaction', 'NN'), ('changes', 'NNS'), ('database', 'NN'), ('state', 'NN'), ('state', 'NN'), ('transaction', 'NN'), ('operations', 'NNS'), ('changes', 'NNS'), ('database', 'NN'), ('transition', 'NN'), ('states', 'NNS'), ('transaction', 'NN'), ('consistency', 'NN'), ('correctness', 'NN'), ('database', 'NN'), ('database', 'NN'), ('management', 'NN'), ('system', 'NN'), ('atomicity', 'NN'), ('consistency', 'NN'), ('isolation', 'NN'), ('durability', 'NN'), ('properties', 'NNS'), ('transactions', 'NNS'), ('management', 'NN'), ('transaction', 'NN'), ('states', 'NNS'), ('transitions', 'NNS')]\n",
      "[('statethe', 'NN'), ('state', 'NN'), ('state', 'NN'), ('transaction', 'NN'), ('state', 'NN'), ('transaction', 'NN'), ('example', 'NN'), ('insertion', 'NN'), ('deletion', 'NN'), ('record', 'NN'), ('records', 'NNS'), ('state', 'NN'), ('transaction', 'NN'), ('operation', 'NN'), ('data', 'NN'), ('databasein', 'NN'), ('mark', 'NN'), ('calculation', 'NN'), ('example', 'NN'), ('display', 'NN'), ('marks', 'NNS'), ('step', 'NN'), ('transaction', 'NN'), ('state', 'NN'), ('operations', 'NNS'), ('state', 'NN'), ('effects', 'NNS'), ('database', 'NN'), ('state', 'NN'), ('checks', 'NNS'), ('database', 'NN'), ('recovery', 'NN'), ('system', 'NN'), ('transaction', 'NN'), ('stateabortedif', 'NN'), ('checks', 'NNS'), ('transaction', 'NN'), ('state', 'NN'), ('database', 'NN'), ('recovery', 'NN'), ('system', 'NN'), ('database', 'NN'), ('state', 'NN'), ('transaction', 'NN'), ('database', 'NN'), ('stateif', 'NN'), ('transaction', 'NN'), ('middle', 'NN'), ('transaction', 'NN'), ('transaction', 'NN'), ('transactions', 'NNS'), ('stateafter', 'NN'), ('transaction', 'NN'), ('database', 'NN'), ('recovery', 'NN'), ('module', 'NN'), ('operations', 'NNS'), ('transaction', 'NN'), ('transaction', 'NN')]\n",
      "[('acid', 'NN'), ('properties', 'NNS'), ('set', 'NN'), ('rules', 'NNS'), ('data', 'NN'), ('database', 'NN'), ('properties', 'NNS'), ('data', 'NNS'), ('database', 'NN'), ('accurate', 'NN'), ('acronym', 'NN'), ('acid', 'NN'), ('atomicity', 'NN'), ('consistency', 'NN'), ('isolation', 'NN'), ('durability', 'NN'), ('atomicity', 'NN'), ('property', 'NN'), ('operations', 'NNS'), ('transaction', 'NN'), ('none', 'NN'), ('operation', 'NN'), ('transaction', 'NN'), ('database', 'NN'), ('state', 'NN'), ('consistency', 'NN'), ('property', 'NN'), ('changes', 'NNS'), ('database', 'NN'), ('remain', 'NN'), ('rules', 'NNS'), ('constraints', 'NNS'), ('triggers', 'NNS'), ('changes', 'NNS'), ('database', 'NN'), ('rules', 'NNS'), ('error', 'NN'), ('transaction', 'NN'), ('isolation', 'NN'), ('property', 'NN'), ('transactions', 'NNS'), ('others', 'NNS'), ('execution', 'NN'), ('data', 'NNS'), ('time', 'NN'), ('transaction', 'NN'), ('interference', 'NN'), ('transactions', 'NNS'), ('fails', 'NNS'), ('error', 'NN'), ('durability', 'NN'), ('property', 'NN'), ('transaction', 'NN'), ('system', 'NN'), ('failure', 'NN'), ('power', 'NN'), ('changes', 'NNS'), ('transactions', 'NNS'), ('system', 'NN'), ('failure', 'NN'), ('power', 'NN'), ('outage', 'NN'), ('loss', 'NN'), ('data', 'NNS'), ('integrity', 'NN'), ('accuracy', 'NN')]\n",
      "[('acid', 'NN'), ('refers', 'NNS'), ('key', 'NN'), ('properties', 'NNS'), ('transaction', 'NN'), ('atomicity', 'NN'), ('consistency', 'NN'), ('isolation', 'NN'), ('durabilityatomicityall', 'NN'), ('changes', 'NNS'), ('data', 'NNS'), ('operation', 'NN'), ('changes', 'NNS'), ('none', 'NN'), ('example', 'NN'), ('application', 'NN'), ('transfers', 'NNS'), ('funds', 'NNS'), ('account', 'NN'), ('atomicity', 'NN'), ('property', 'NN'), ('debit', 'NN'), ('account', 'NN'), ('credit', 'NN'), ('accountconsistencydata', 'NN'), ('state', 'NN'), ('transaction', 'NN'), ('example', 'NN'), ('application', 'NN'), ('transfers', 'NNS'), ('funds', 'NNS'), ('account', 'NN'), ('consistency', 'NN'), ('property', 'NN'), ('value', 'NN'), ('funds', 'NNS'), ('accounts', 'NNS'), ('start', 'NN'), ('end', 'NN'), ('transaction', 'NN'), ('isolationthe', 'NN'), ('state', 'NN'), ('transaction', 'NN'), ('transactions', 'NNS'), ('result', 'NN'), ('transactions', 'NNS'), ('example', 'NN'), ('application', 'NN'), ('transfers', 'NNS'), ('funds', 'NNS'), ('account', 'NN'), ('isolation', 'NN'), ('property', 'NN'), ('transaction', 'NN'), ('funds', 'NNS'), ('account', 'NN'), ('transaction', 'NN'), ('changes', 'NNS'), ('data', 'NNS'), ('persist', 'NN'), ('event', 'NN'), ('system', 'NN'), ('failure', 'NN'), ('example', 'NN'), ('application', 'NN'), ('transfers', 'NNS'), ('funds', 'NNS'), ('account', 'NN'), ('durability', 'NN'), ('property', 'NN'), ('changes', 'NNS'), ('account', 'NN')]\n",
      "[('locking', 'NN'), ('protocols', 'NNS'), ('rules', 'NNS'), ('data', 'NNS'), ('integrity', 'NN'), ('concurrency', 'NN'), ('multiuser', 'NN'), ('database', 'NN'), ('system', 'NN'), ('protocols', 'NNS'), ('users', 'NNS'), ('data', 'NN'), ('time', 'NN'), ('kind', 'NN'), ('conflict', 'NN'), ('data', 'NNS'), ('corruption', 'NN'), ('locking', 'NN'), ('protocols', 'NNS'), ('locking', 'NN'), ('strategies', 'NNS'), ('assumes', 'NNS'), ('conflicts', 'NNS'), ('access', 'NN'), ('data', 'NNS'), ('locking', 'NN'), ('data', 'NN'), ('transaction', 'NN'), ('access', 'NN')]\n",
      "[('locking', 'NN'), ('protocols', 'NNS'), ('part', 'NN'), ('database', 'NN'), ('management', 'NN'), ('system', 'NN'), ('locking', 'NN'), ('protocol', 'NN'), ('set', 'NN'), ('rules', 'NNS'), ('access', 'NN'), ('data', 'NNS'), ('integrity', 'NN'), ('data', 'NNS'), ('users', 'NNS'), ('purpose', 'NN'), ('protocols', 'NNS'), ('consistency', 'NN'), ('integrity', 'NN'), ('data', 'NNS'), ('multiuser', 'NN'), ('environment', 'NN'), ('protocols', 'NNS'), ('levels', 'NNS'), ('row', 'NN'), ('page', 'NN'), ('table', 'NN'), ('level', 'NN'), ('type', 'NN'), ('lock', 'NN'), ('levels', 'NNS'), ('concurrency', 'NN'), ('control', 'NN'), ('example', 'NN'), ('rowlevel', 'NN'), ('lock', 'NN'), ('user', 'NN'), ('row', 'NN'), ('time', 'NN'), ('users', 'NNS'), ('hand', 'NN'), ('tablelevel', 'NN'), ('lock', 'NN'), ('rows', 'NNS'), ('table', 'NN'), ('user', 'NN'), ('row', 'NN'), ('locks', 'NNS'), ('protocol', 'NN'), ('dbmss', 'NN'), ('pl', 'NN'), ('protocol', 'NN'), ('locks', 'NNS'), ('modification', 'NN'), ('operation', 'NN'), ('completion', 'NN'), ('operations', 'NNS'), ('transactions', 'NNS'), ('others', 'NNS'), ('operations', 'NNS'), ('addition', 'NN'), ('types', 'NNS'), ('protocols', 'NNS'), ('concurrency', 'NN'), ('control', 'NN'), ('timestamp', 'NN'), ('levels', 'NNS'), ('concurrency', 'NN'), ('control', 'NN'), ('requirements', 'NNS'), ('needs', 'NNS'), ('application', 'NN'), ('system', 'NN')]\n",
      "[('timestamp', 'NN'), ('protocol', 'NN'), ('type', 'NN'), ('communication', 'NN'), ('protocol', 'NN'), ('timestamps', 'NNS'), ('messages', 'NNS'), ('order', 'NN'), ('type', 'NN'), ('protocol', 'NN'), ('systems', 'NNS'), ('nodes', 'NNS'), ('type', 'NN'), ('system', 'NN'), ('timestamp', 'NN'), ('messages', 'NNS'), ('order', 'NN'), ('prevent', 'NN'), ('conflicts', 'NNS'), ('nodes', 'NNS'), ('messages', 'NNS'), ('timestamp', 'NN'), ('message', 'NN'), ('order', 'NN'), ('resent', 'NN'), ('timestamp', 'NN')]\n",
      "[('timestamp', 'NN'), ('protocol', 'NN'), ('type', 'NN'), ('database', 'NN'), ('transaction', 'NN'), ('protocol', 'NN'), ('timestamps', 'NNS'), ('transactions', 'NNS'), ('order', 'NN'), ('timestamp', 'NN'), ('transaction', 'NN'), ('transactions', 'NNS'), ('timestamp', 'NN'), ('transactions', 'NNS'), ('order', 'NN'), ('prevents', 'NNS'), ('conflicts', 'NNS')]\n",
      "[('granularity', 'NN'), ('concept', 'NN'), ('ability', 'NN'), ('data', 'NNS'), ('levels', 'NNS'), ('detail', 'NN'), ('ability', 'NN'), ('data', 'NNS'), ('pieces', 'NNS'), ('users', 'NNS'), ('perspectives', 'NNS'), ('example', 'NN'), ('company', 'NN'), ('sales', 'NNS'), ('data', 'NNS'), ('level', 'NN'), ('sales', 'NNS'), ('states', 'NNS'), ('cities', 'NNS'), ('users', 'NNS'), ('insights', 'NNS'), ('business', 'NN'), ('areas', 'NNS'), ('decisions', 'NNS'), ('resources', 'NNS')]\n",
      "[('granularity', 'NN'), ('database', 'NN'), ('blocks', 'NNS'), ('granularity', 'NN'), ('protocol', 'NN'), ('concurrency', 'NN'), ('reduces', 'NNS'), ('track', 'NN'), ('item', 'NN'), ('data', 'NN'), ('item', 'NN'), ('type', 'NN'), ('hierarchy', 'NN'), ('tree', 'NN')]\n",
      "[('storage', 'NN'), ('structure', 'NN'), ('way', 'NN'), ('data', 'NNS'), ('computer', 'NN'), ('system', 'NN'), ('hardware', 'NN'), ('software', 'NN'), ('components', 'NNS'), ('ways', 'NNS'), ('structures', 'NNS'), ('modify', 'NN'), ('data', 'NNS'), ('computer', 'NN'), ('system', 'NN'), ('types', 'NNS'), ('storage', 'NN'), ('structures', 'NNS'), ('arrays', 'NNS'), ('lists', 'NNS'), ('trees', 'NNS'), ('tables', 'NNS'), ('heaps', 'NNS'), ('stacks', 'NNS'), ('type', 'NN'), ('structure', 'NN'), ('advantages', 'NNS'), ('disadvantages', 'NNS'), ('application', 'NN'), ('choice', 'NN'), ('storage', 'NN'), ('structure', 'NN'), ('type', 'NN'), ('data', 'NNS')]\n",
      "[('storage', 'NN'), ('structure', 'NN'), ('way', 'NN'), ('data', 'NNS'), ('computer', 'NN'), ('system', 'NN'), ('drive', 'NN'), ('memory', 'NN'), ('access', 'NN'), ('manipulate', 'NN'), ('data', 'NNS'), ('applications', 'NNS'), ('types', 'NNS'), ('storage', 'NN'), ('structures', 'NNS'), ('files', 'NNS'), ('databases', 'NNS'), ('databases', 'NNS'), ('type', 'NN'), ('advantages', 'NNS'), ('disadvantages', 'NNS'), ('application', 'NN'), ('example', 'NN'), ('files', 'NNS'), ('data', 'NNS'), ('files', 'NNS'), ('data', 'NNS'), ('images', 'NNS'), ('files', 'NNS'), ('databases', 'NNS'), ('data', 'NNS'), ('databases', 'NNS'), ('flexibility', 'NN'), ('types', 'NNS'), ('time', 'NN'), ('effort', 'NN')]\n",
      "[('backup', 'NN'), ('system', 'NN'), ('type', 'NN'), ('data', 'NNS'), ('storage', 'NN'), ('system', 'NN'), ('users', 'NNS'), ('files', 'NNS'), ('folders', 'NNS'), ('content', 'NN'), ('server', 'NN'), ('systems', 'NNS'), ('layer', 'NN'), ('protection', 'NN'), ('information', 'NN'), ('event', 'NN'), ('disaster', 'NN'), ('data', 'NNS'), ('loss', 'NN'), ('backup', 'NN'), ('systems', 'NNS'), ('companies', 'NNS'), ('organizations', 'NNS'), ('data', 'NNS'), ('damage', 'NN'), ('theft', 'NN'), ('users', 'NNS'), ('ability', 'NN'), ('access', 'NN'), ('files', 'NNS'), ('location', 'NN'), ('internet', 'NN'), ('connection', 'NN')]\n",
      "[('backup', 'NN'), ('sense', 'NN'), ('security', 'NN'), ('case', 'NN'), ('location', 'NN'), ('database', 'NN'), ('remote', 'NN'), ('backup', 'NN'), ('realtime', 'NN'), ('online', 'NN'), ('case', 'NN'), ('backup', 'NN'), ('systems', 'NNS'), ('lifesavers', 'NNS'), ('database', 'NN'), ('administrators', 'NNS'), ('investors', 'NNS'), ('online', 'NN'), ('backup', 'NN'), ('system', 'NN'), ('mechanism', 'NN'), ('bit', 'NN'), ('realtime', 'NN'), ('data', 'NNS'), ('places', 'NNS'), ('system', 'NN'), ('one', 'NN'), ('place', 'NN'), ('backupas', 'NN'), ('database', 'NN'), ('storage', 'NN'), ('backup', 'NN'), ('system', 'NN'), ('failure', 'NN'), ('user', 'NN'), ('system', 'NN'), ('storage', 'NN'), ('users', 'NNS'), ('failure', 'NN')]\n",
      "[('data', 'NNS'), ('storage', 'NN'), ('refers', 'NNS'), ('process', 'NN'), ('data', 'NNS'), ('computer', 'NN'), ('drive', 'NN'), ('cloud', 'NN'), ('way', 'NN'), ('individuals', 'NNS'), ('businesses', 'NNS'), ('data', 'NNS'), ('location', 'NN'), ('damage', 'NN'), ('loss', 'NN'), ('storage', 'NN'), ('flexibility', 'NN'), ('amounts', 'NNS'), ('data', 'NNS'), ('device', 'NN'), ('users', 'NNS'), ('access', 'NN'), ('data', 'NNS'), ('device', 'NN'), ('connection', 'NN'), ('storage', 'NN'), ('business', 'NN'), ('purposes', 'NNS'), ('users', 'NNS'), ('drives', 'NNS'), ('services', 'NNS'), ('dropbox', 'NN'), ('google', 'NN'), ('drive', 'NN'), ('files', 'NNS'), ('photos', 'NNS'), ('music', 'NN'), ('businesses', 'NNS'), ('storage', 'NN'), ('solutions', 'NNS'), ('sans', 'NNS'), ('area', 'NN'), ('networks', 'NNS'), ('network', 'NN'), ('storage', 'NN'), ('systems', 'NNS'), ('amounts', 'NNS'), ('business', 'NN'), ('data', 'NNS'), ('users', 'NNS'), ('storage', 'NN'), ('solutions', 'NNS'), ('security', 'NN'), ('measures', 'NNS'), ('storage', 'NN'), ('options', 'NNS'), ('network', 'NN'), ('attacks', 'NNS'), ('security', 'NN'), ('risks', 'NNS'), ('online', 'NN'), ('activity', 'NN')]\n",
      "[('data', 'NNS'), ('storage', 'NN'), ('refers', 'NNS'), ('type', 'NN'), ('data', 'NNS'), ('database', 'NN'), ('system', 'NN'), ('data', 'NN'), ('variety', 'NN'), ('formats', 'NNS'), ('files', 'NNS'), ('files', 'NNS'), ('documents', 'NNS'), ('spreadsheets', 'NNS'), ('forms', 'NNS'), ('data', 'NNS'), ('storage', 'NN'), ('variety', 'NN'), ('purposes', 'NNS'), ('backup', 'NN'), ('recovery', 'NN'), ('data', 'NN'), ('analysis', 'NN'), ('archiving', 'NN'), ('process', 'NN'), ('data', 'NNS'), ('longterm', 'NN'), ('use', 'NN'), ('type', 'NN'), ('data', 'NNS'), ('reference', 'NN'), ('research', 'NN'), ('backup', 'NN'), ('recovery', 'NN'), ('processes', 'NNS'), ('information', 'NN'), ('failure', 'NN'), ('disasters', 'NNS'), ('data', 'NNS'), ('analysis', 'NN'), ('storage', 'NN'), ('systems', 'NNS'), ('amounts', 'NNS'), ('data', 'NNS'), ('detail', 'NN'), ('researchers', 'NNS'), ('analysts', 'NNS'), ('storage', 'NN'), ('systems', 'NNS'), ('benefits', 'NNS'), ('database', 'NN'), ('systems', 'NNS'), ('databases', 'NNS'), ('hardware', 'NN'), ('software', 'NN'), ('licenses', 'NNS'), ('need', 'NN'), ('configurations', 'NNS'), ('updates', 'NNS'), ('databases', 'NNS'), ('flexibility', 'NN'), ('storage', 'NN'), ('systems', 'NNS'), ('users', 'NNS'), ('types', 'NNS'), ('data', 'NNS'), ('formats', 'NNS'), ('format', 'NN'), ('access', 'NN'), ('database', 'NN'), ('system', 'NN')]\n",
      "[('index', 'NN'), ('type', 'NN'), ('database', 'NN'), ('index', 'NN'), ('storage', 'NN'), ('order', 'NN'), ('table', 'NN'), ('records', 'NNS'), ('columns', 'NN'), ('performance', 'NN'), ('retrieval', 'NN'), ('data', 'NNS'), ('database', 'NN'), ('indexes', 'NNS'), ('tables', 'NNS'), ('amount', 'NN'), ('time', 'NN'), ('data', 'NNS'), ('index', 'NN'), ('column', 'NN'), ('combination', 'NN'), ('columns', 'NN'), ('row', 'NN'), ('table', 'NN')]\n",
      "[('indexes', 'NNS'), ('indexes', 'NNS'), ('order', 'NN'), ('rows', 'NNS'), ('data', 'NN'), ('pages', 'NNS'), ('order', 'NN'), ('rows', 'NNS'), ('index', 'NN'), ('order', 'NN'), ('index', 'NN'), ('whereas', 'NNS'), ('indexes', 'NNS'), ('table', 'NN'), ('database', 'NN'), ('systems', 'NNS'), ('node', 'NN'), ('index', 'NN'), ('corresponds', 'NNS'), ('data', 'NNS'), ('pointer', 'NN'), ('table', 'NN'), ('chosen', 'NN'), ('index', 'NN'), ('data', 'NN'), ('index', 'NN'), ('columns', 'NN'), ('predicates', 'NNS'), ('access', 'NN'), ('data', 'NNS'), ('table', 'NN'), ('result', 'NN'), ('values', 'NNS'), ('data', 'NN'), ('page', 'NN'), ('pages', 'NNS'), ('indexes', 'NNS'), ('performance', 'NN'), ('operations', 'NNS'), ('access', 'NN'), ('path', 'NN'), ('data', 'NNS'), ('pages', 'NNS'), ('addition', 'NN'), ('rows', 'NNS'), ('index', 'NN'), ('key', 'NN'), ('values', 'NNS'), ('detection', 'NN'), ('prefetching', 'NN'), ('indexes', 'NNS'), ('indexes', 'NNS'), ('part', 'NN'), ('definition', 'NN'), ('create', 'NN'), ('statement', 'NN'), ('indexes', 'NNS'), ('create', 'NN'), ('index', 'NN'), ('statement', 'NN'), ('cluster', 'NN'), ('option', 'NN'), ('table', 'NN'), ('key', 'NN'), ('alter', 'NN'), ('statement', 'NN'), ('key', 'NN'), ('index', 'NN'), ('table', 'NN'), ('index', 'NN'), ('tables', 'NNS'), ('index', 'NN')]\n",
      "[('indexes', 'NNS'), ('index', 'NN'), ('type', 'NN'), ('index', 'NN'), ('database', 'NN'), ('values', 'NNS'), ('index', 'NN'), ('row', 'NN'), ('data', 'NNS'), ('key', 'NN'), ('rows', 'NNS'), ('value', 'NN'), ('primary', 'NN'), ('indexes', 'NNS'), ('access', 'NN'), ('records', 'NNS'), ('data', 'NNS'), ('integrity', 'NN'), ('indexes', 'NNS'), ('index', 'NN'), ('index', 'NN'), ('table', 'NN'), ('view', 'NN'), ('database', 'NN'), ('indexes', 'NNS'), ('indexes', 'NNS'), ('uniqueness', 'NN'), ('values', 'NNS'), ('query', 'NN'), ('performance', 'NN'), ('searches', 'NNS'), ('criteria', 'NNS'), ('indexes', 'NNS'), ('performance', 'NN'), ('tables', 'NNS'), ('queries', 'NNS'), ('records', 'NNS'), ('data', 'NN'), ('tables', 'NNS')]\n",
      "[('index', 'NN'), ('index', 'NN'), ('data', 'NN'), ('structure', 'NN'), ('records', 'NNS'), ('database', 'NN'), ('file', 'NN'), ('key', 'NN'), ('index', 'NN'), ('tree', 'NN'), ('structure', 'NN'), ('data', 'NN'), ('location', 'NN'), ('record', 'NN'), ('searches', 'NNS'), ('access', 'NN'), ('record', 'NN'), ('database', 'NN'), ('file', 'NN'), ('index', 'NN'), ('index', 'NN'), ('data', 'NN'), ('structure', 'NN'), ('records', 'NNS'), ('database', 'NN'), ('attribute', 'NN'), ('indexes', 'NNS'), ('btrees', 'NNS'), ('hash', 'NN'), ('tables', 'NNS'), ('range', 'NN'), ('queries', 'NNS'), ('match', 'NN'), ('queries', 'NNS'), ('retrieval', 'NN'), ('data', 'NNS'), ('search', 'NN'), ('storage', 'NN'), ('space', 'NN'), ('databases', 'NNS')]\n",
      "[('indexing', 'NN'), ('type', 'NN'), ('database', 'NN'), ('indexing', 'NN'), ('structure', 'NN'), ('data', 'NNS'), ('databases', 'NNS'), ('records', 'NNS'), ('value', 'NN'), ('field', 'NN'), ('number', 'NN'), ('name', 'NN'), ('tree', 'NN'), ('indexes', 'NNS'), ('applications', 'NNS'), ('data', 'NNS'), ('needs', 'NNS'), ('amounts', 'NNS'), ('data', 'NNS'), ('direction', 'NN'), ('retrieval', 'NN'), ('records', 'NNS')]\n",
      "[('indexing', 'NN'), ('type', 'NN'), ('database', 'NN'), ('indexing', 'NN'), ('treelike', 'NN'), ('structure', 'NN'), ('store', 'NN'), ('access', 'NN'), ('data', 'NNS'), ('information', 'NN'), ('datasets', 'NNS'), ('works', 'NNS'), ('data', 'NN'), ('nodes', 'NNS'), ('node', 'NN'), ('piece', 'NN'), ('information', 'NN'), ('nodes', 'NNS'), ('structure', 'NN'), ('searching', 'NN'), ('retrieval', 'NN')]\n",
      "[('hash', 'NN'), ('indexing', 'NN'), ('type', 'NN'), ('technique', 'NN'), ('hash', 'NN'), ('table', 'NN'), ('keys', 'NNS'), ('records', 'NNS'), ('database', 'NN'), ('record', 'NN'), ('key', 'NN'), ('hash', 'NN'), ('table', 'NN'), ('query', 'NN'), ('key', 'NN'), ('record', 'NN'), ('table', 'NN'), ('hash', 'NN'), ('indexing', 'NN'), ('access', 'NN'), ('times', 'NNS'), ('databases', 'NNS'), ('storage', 'NN'), ('requirements', 'NNS'), ('data', 'NNS')]\n",
      "[('database', 'NN'), ('structure', 'NN'), ('index', 'NN'), ('values', 'NNS'), ('data', 'NNS'), ('hashing', 'NN'), ('technique', 'NN'), ('location', 'NN'), ('data', 'NN'), ('record', 'NN'), ('disk', 'NN'), ('index', 'NN'), ('structure', 'NN'), ('technique', 'NN'), ('data', 'NNS'), ('data', 'NN'), ('blocks', 'NNS'), ('address', 'NN'), ('hashing', 'NN'), ('function', 'NN'), ('memory', 'NN'), ('location', 'NN'), ('records', 'NNS'), ('data', 'NNS'), ('bucket', 'NN'), ('data', 'NNS'), ('blocksin', 'NN'), ('function', 'NN'), ('column', 'NN'), ('value', 'NN'), ('address', 'NN'), ('time', 'NN'), ('hash', 'NN'), ('function', 'NN'), ('key', 'NN'), ('address', 'NN'), ('data', 'NN'), ('block', 'NN'), ('hash', 'NN'), ('function', 'NN'), ('function', 'NN'), ('function', 'NN'), ('primary', 'NN'), ('address', 'NN'), ('data', 'NN'), ('block', 'NN'), ('row', 'NN'), ('address', 'NN'), ('key', 'NN'), ('data', 'NN'), ('block', 'NN')]\n",
      "[('tree', 'NN'), ('indexes', 'NNS'), ('type', 'NN'), ('database', 'NN'), ('indexing', 'NN'), ('structure', 'NN'), ('data', 'NNS'), ('tree', 'NN'), ('structure', 'NN'), ('goal', 'NN'), ('indexes', 'NNS'), ('access', 'NN'), ('data', 'NNS'), ('number', 'NN'), ('disk', 'NN'), ('reads', 'NNS'), ('writes', 'NNS'), ('tree', 'NN'), ('indexes', 'NNS'), ('information', 'NN'), ('nodes', 'NNS'), ('order', 'NN'), ('criteria', 'NNS'), ('node', 'NN'), ('index', 'NN'), ('value', 'NN'), ('pointers', 'NNS'), ('nodes', 'NNS'), ('contain', 'NN'), ('information', 'NN'), ('faster', 'NN'), ('searches', 'NNS'), ('tree', 'NN'), ('records', 'NNS'), ('database', 'NN'), ('tree', 'NN'), ('indexes', 'NNS'), ('space', 'NN'), ('utilization', 'NN'), ('information', 'NN'), ('node', 'NN'), ('records', 'NNS'), ('database', 'NN'), ('addition', 'NN'), ('tree', 'NN'), ('indexes', 'NNS'), ('queries', 'NNS'), ('conditions', 'NNS'), ('operations', 'NNS'), ('levels', 'NNS'), ('hierarchy', 'NN')]\n",
      "[('tree', 'NN'), ('indexes', 'NNS'), ('type', 'NN'), ('database', 'NN'), ('index', 'NN'), ('stores', 'NNS'), ('data', 'NNS'), ('structure', 'NN'), ('intuition', 'NN'), ('indexes', 'NNS'), ('retrieval', 'NN'), ('data', 'NNS'), ('database', 'NN'), ('tree', 'NN'), ('indexes', 'NNS'), ('way', 'NN'), ('node', 'NN'), ('information', 'NN'), ('parent', 'NN'), ('child', 'NN'), ('nodes', 'NNS'), ('navigation', 'NN'), ('tree', 'NN'), ('data', 'NN'), ('tree', 'NN'), ('structure', 'NN'), ('searches', 'NNS'), ('search', 'NN'), ('algorithms', 'NN'), ('indexes', 'NNS'), ('databases', 'NNS'), ('records', 'NNS'), ('query', 'NN'), ('time', 'NN'), ('performance', 'NN')]\n",
      "[('access', 'NN'), ('method', 'NN'), ('isam', 'NN'), ('type', 'NN'), ('data', 'NNS'), ('storage', 'NN'), ('system', 'NN'), ('index', 'NN'), ('records', 'NNS'), ('index', 'NN'), ('file', 'NN'), ('stores', 'NNS'), ('location', 'NN'), ('record', 'NN'), ('data', 'NN'), ('file', 'NN'), ('access', 'NN'), ('records', 'NNS'), ('index', 'NN'), ('data', 'NNS'), ('file', 'NN'), ('isam', 'NN'), ('databases', 'NNS'), ('applications', 'NNS'), ('access', 'NN'), ('records', 'NNS')]\n",
      "[('isam', 'NN'), ('access', 'NN'), ('method', 'NN'), ('access', 'NN'), ('method', 'NN'), ('sequential', 'NN'), ('processing', 'NN'), ('data', 'NNS'), ('ckd', 'NN'), ('disk', 'NN'), ('devices', 'NNS'), ('access', 'NN'), ('methodr', 'NN'), ('designto', 'NN'), ('process', 'NN'), ('file', 'NN'), ('isam', 'NN'), ('files', 'NNS'), ('records', 'NNS'), ('keys', 'NNS'), ('length', 'NN'), ('isam', 'NN'), ('index', 'NN'), ('record', 'NN'), ('keys', 'NN'), ('tracks', 'NNS'), ('fileisam', 'NN'), ('file', 'NN'), ('overflow', 'NN'), ('limits', 'NNS'), ('extentsisam', 'NN'), ('records', 'NNS'), ('length', 'NN'), ('file', 'NN'), ('performance', 'NN'), ('reasons', 'NNS'), ('file', 'NN'), ('isam', 'NN'), ('needs', 'NNS'), ('time', 'NN'), ('time', 'NN'), ('size', 'NN'), ('file', 'NN'), ('online', 'NN'), ('tape', 'NN'), ('storage', 'NN')]\n",
      "[('pages', 'NNS'), ('access', 'NN'), ('method', 'NN'), ('records', 'NNS'), ('fit', 'NN'), ('page', 'NN'), ('record', 'NN'), ('page', 'NN'), ('page', 'NN'), ('pages', 'NNS'), ('chain', 'NN'), ('page', 'NN'), ('considerations', 'NNS'), ('data', 'NN'), ('remains', 'NNS'), ('multiple', 'NN'), ('users', 'NNS'), ('access', 'NN'), ('uses', 'NNS'), ('types', 'NNS'), ('locks', 'NNS'), ('locks', 'NNS'), ('users', 'NNS'), ('data', 'NNS'), ('time', 'NN'), ('locks', 'NNS'), ('user', 'NN'), ('data', 'NN'), ('lock', 'NN'), ('locks', 'NNS'), ('levels', 'NNS'), ('isam', 'NN'), ('file', 'NN'), ('records', 'NNS'), ('pages', 'NNS'), ('files', 'NNS')]\n",
      "[('pages', 'NNS'), ('pages', 'NNS'), ('type', 'NN'), ('page', 'NN'), ('isam', 'NN'), ('access', 'NN'), ('method', 'NN'), ('database', 'NN'), ('system', 'NN'), ('data', 'NNS'), ('page', 'NN'), ('index', 'NN'), ('page', 'NN'), ('database', 'NN'), ('pages', 'NNS'), ('index', 'NN'), ('page', 'NN'), ('pointer', 'NN'), ('page', 'NN'), ('considerations', 'NNS'), ('consideration', 'NN'), ('databases', 'NNS'), ('data', 'NNS'), ('users', 'NNS'), ('time', 'NN'), ('inconsistencies', 'NNS'), ('data', 'NN'), ('locks', 'NNS'), ('transactions', 'NNS'), ('manner', 'NN'), ('user', 'NN'), ('data', 'NNS'), ('user', 'NN'), ('isam', 'NN'), ('locks', 'NNS'), ('levels', 'NNS'), ('level', 'NN'), ('row', 'NN'), ('level', 'NN'), ('field', 'NN'), ('level', 'NN'), ('locks', 'NNS'), ('modification', 'NN'), ('place', 'NN'), ('modifications', 'NNS')]\n",
      "[('cost', 'NN'), ('model', 'NN'), ('files', 'NNS'), ('method', 'NN'), ('way', 'NN'), ('store', 'NN'), ('access', 'NN'), ('data', 'NNS'), ('database', 'NN'), ('model', 'NN'), ('account', 'NN'), ('costs', 'NNS'), ('storing', 'NN'), ('data', 'NNS'), ('space', 'NN'), ('memory', 'NN'), ('usage', 'NN'), ('cpu', 'NN'), ('time', 'NN'), ('cost', 'NN'), ('model', 'NN'), ('data', 'NNS'), ('space', 'NN'), ('disk', 'NN'), ('types', 'NNS'), ('queries', 'NNS'), ('access', 'NN'), ('data', 'NNS'), ('queries', 'NNS'), ('performance', 'NN'), ('cost', 'NN'), ('model', 'NN'), ('storage', 'NN'), ('format', 'NN'), ('application', 'NN')]\n",
      "[('type', 'NN'), ('organization', 'NN'), ('data', 'NNS'), ('blocks', 'NNS'), ('heap', 'NN'), ('file', 'NN'), ('organization', 'NN'), ('records', 'NNS'), ('files', 'NNS'), ('records', 'NNS'), ('sorting', 'NN'), ('ordering', 'NN'), ('records', 'NNS'), ('data', 'NN'), ('block', 'NN'), ('record', 'NN'), ('block', 'NN'), ('data', 'NN'), ('block', 'NN'), ('data', 'NN'), ('block', 'NN'), ('data', 'NNS'), ('block', 'NN'), ('memory', 'NN'), ('records', 'NNS'), ('heap', 'NN'), ('file', 'NN'), ('file', 'NN'), ('file', 'NN'), ('record', 'NN'), ('id', 'NN'), ('page', 'NN'), ('file', 'NN'), ('size', 'NN'), ('responsibility', 'NN'), ('records', 'NNS')]\n",
      "[('cost', 'NN'), ('model', 'NN'), ('files', 'NNS'), ('method', 'NN'), ('cost', 'NN'), ('io', 'NN'), ('operation', 'NN'), ('account', 'NN'), ('cost', 'NN'), ('data', 'NNS'), ('cost', 'NN'), ('merging', 'NN'), ('operations', 'NNS'), ('data', 'NNS'), ('cost', 'NN'), ('model', 'NN'), ('number', 'NN'), ('factors', 'NNS'), ('disk', 'NN'), ('time', 'NN'), ('disk', 'NN'), ('transfer', 'NN'), ('rate', 'NN'), ('amount', 'NN'), ('memory', 'NN'), ('data', 'NNS'), ('index', 'NN'), ('structures', 'NNS'), ('rate', 'NN'), ('model', 'NN'), ('cost', 'NN'), ('operations', 'NNS'), ('scan', 'NN'), ('access', 'NN'), ('number', 'NN'), ('operations', 'NNS'), ('operation', 'NN'), ('way', 'NN'), ('access', 'NN'), ('data', 'NNS')]\n",
      "[('cost', 'NN'), ('model', 'NN'), ('files', 'NNS'), ('method', 'NN'), ('cost', 'NN'), ('query', 'NN'), ('file', 'NN'), ('account', 'NN'), ('number', 'NN'), ('accesses', 'NNS'), ('writing', 'NN'), ('data', 'NN'), ('cost', 'NN'), ('model', 'NN'), ('size', 'NN'), ('file', 'NN'), ('number', 'NN'), ('records', 'NNS'), ('file', 'NN'), ('number', 'NN'), ('fields', 'NNS'), ('record', 'NN'), ('size', 'NN'), ('field', 'NN'), ('account', 'NN'), ('overhead', 'NN'), ('sorting', 'NN'), ('operations', 'NNS'), ('cost', 'NN'), ('model', 'NN'), ('records', 'NNS'), ('disk', 'NN'), ('writes', 'NNS'), ('blocks', 'NNS'), ('model', 'NN'), ('query', 'NN'), ('costs', 'NNS'), ('information', 'NN'), ('data', 'NN'), ('structure', 'NN')]\n",
      "[('cost', 'NN'), ('model', 'NN'), ('files', 'NNS'), ('method', 'NN'), ('cost', 'NN'), ('storage', 'NN'), ('options', 'NNS'), ('set', 'NN'), ('files', 'NNS'), ('assumption', 'NN'), ('cost', 'NN'), ('file', 'NN'), ('cluster', 'NN'), ('size', 'NN'), ('number', 'NN'), ('clusters', 'NNS'), ('cost', 'NN'), ('model', 'NN'), ('account', 'NN'), ('factors', 'NNS'), ('hardware', 'NN'), ('costs', 'NNS'), ('energy', 'NN'), ('costs', 'NNS'), ('costs', 'NNS'), ('costs', 'NNS'), ('factors', 'NNS'), ('administrators', 'NNS'), ('file', 'NN'), ('storage', 'NN'), ('system', 'NN'), ('performance', 'NN'), ('costeffectiveness', 'NN')]\n",
      "[('cost', 'NN'), ('model', 'NN'), ('files', 'NNS'), ('method', 'NN'), ('cost', 'NN'), ('storing', 'NN'), ('data', 'NNS'), ('file', 'NN'), ('system', 'NN'), ('way', 'NN'), ('data', 'NNS'), ('order', 'NN'), ('performance', 'NN'), ('costs', 'NNS'), ('model', 'NN'), ('considers', 'NNS'), ('factors', 'NNS'), ('disk', 'NN'), ('memory', 'NN'), ('usage', 'NN'), ('cpu', 'NN'), ('utilization', 'NN'), ('network', 'NN'), ('latency', 'NN'), ('factors', 'NNS'), ('performance', 'NN'), ('file', 'NN'), ('system', 'NN'), ('model', 'NN'), ('storage', 'NN'), ('solutions', 'NNS'), ('configurations', 'NNS'), ('solution', 'NN'), ('order', 'NN'), ('solution', 'NN'), ('organizations', 'NNS'), ('needs', 'NNS')]\n",
      "[('indexing', 'NN'), ('method', 'NN'), ('data', 'NNS'), ('retrieval', 'NN'), ('storage', 'NN'), ('records', 'NNS'), ('index', 'NN'), ('array', 'NN'), ('pointers', 'NNS'), ('data', 'NN'), ('elements', 'NNS'), ('order', 'NN'), ('database', 'NN'), ('btree', 'NN'), ('hash', 'NN'), ('table', 'NN'), ('type', 'NN'), ('allows', 'NNS'), ('access', 'NN'), ('records', 'NNS'), ('value', 'NN'), ('employee', 'NN'), ('name', 'NN'), ('security', 'NN'), ('number', 'NN'), ('insertion', 'NN'), ('deletion', 'NN'), ('records', 'NNS'), ('pointers', 'NNS'), ('data', 'NNS'), ('database', 'NN')]\n",
      "[('indexing', 'NN'), ('types', 'NNS'), ('contains', 'NNS'), ('records', 'NNS'), ('search', 'NN'), ('value', 'NN'), ('database', 'NN'), ('sparsedo', 'NN'), ('search', 'NN'), ('key', 'NN'), ('record', 'NN')]\n",
      "[('b', 'NN'), ('tree', 'NN'), ('index', 'NN'), ('file', 'NN'), ('type', 'NN'), ('data', 'NNS'), ('structure', 'NN'), ('information', 'NN'), ('database', 'NN'), ('search', 'NN'), ('tree', 'NN'), ('addition', 'NN'), ('level', 'NN'), ('nodes', 'NNS'), ('pointers', 'NNS'), ('b', 'NN'), ('tree', 'NN'), ('index', 'NN'), ('file', 'NN'), ('data', 'NNS'), ('blocks', 'NNS'), ('pointer', 'NN'), ('structure', 'NN'), ('way', 'NN'), ('access', 'NN'), ('amounts', 'NNS'), ('data', 'NNS'), ('nodes', 'NNS'), ('b', 'NN'), ('tree', 'NN'), ('values', 'NNS'), ('retrieval', 'NN'), ('records', 'NNS'), ('criteria', 'NNS'), ('structure', 'NN'), ('insertion', 'NN'), ('deletion', 'NN'), ('records', 'NNS'), ('structure', 'NN')]\n",
      "[('b', 'NN'), ('tree', 'NN'), ('search', 'NN'), ('tree', 'NN'), ('index', 'NN'), ('format', 'NN'), ('b', 'NN'), ('tree', 'NN'), ('leaf', 'NN'), ('data', 'NN'), ('pointers', 'NNS'), ('ensures', 'NNS'), ('leaf', 'NN'), ('nodes', 'NNS'), ('height', 'NN'), ('b', 'NN'), ('leaf', 'NN'), ('nodes', 'NNS'), ('link', 'NN'), ('list', 'NN'), ('b', 'NN'), ('tree', 'NN'), ('access', 'NN'), ('access', 'NN'), ('b', 'NN'), ('tree', 'NN'), ('structure', 'NN'), ('leaf', 'NN'), ('node', 'NN'), ('distance', 'NN'), ('root', 'NN'), ('b', 'NN'), ('tree', 'NN'), ('order', 'NN'), ('n', 'NN'), ('n', 'NN'), ('b', 'NN'), ('tree', 'NN')]\n",
      "[('hashing', 'NN'), ('form', 'NN'), ('data', 'NNS'), ('storage', 'NN'), ('retrieval', 'NN'), ('address', 'NN'), ('item', 'NN'), ('hash', 'NN'), ('function', 'NN'), ('key', 'NN'), ('item', 'NN'), ('result', 'NN'), ('hash', 'NN'), ('function', 'NN'), ('index', 'NN'), ('array', 'NN'), ('hash', 'NN'), ('table', 'NN'), ('value', 'NN'), ('type', 'NN'), ('hashing', 'NN'), ('time', 'NN'), ('key', 'NN'), ('address', 'NN'), ('hashing', 'NN'), ('access', 'NN'), ('times', 'NNS'), ('data', 'NNS'), ('retrieval', 'NN'), ('scalability', 'NN'), ('size', 'NN'), ('structure', 'NN')]\n",
      "[('hashing', 'NN'), ('form', 'NN'), ('data', 'NNS'), ('storage', 'NN'), ('retrieval', 'NN'), ('address', 'NN'), ('item', 'NN'), ('hash', 'NN'), ('function', 'NN'), ('key', 'NN'), ('item', 'NN'), ('result', 'NN'), ('hash', 'NN'), ('function', 'NN'), ('index', 'NN'), ('array', 'NN'), ('hash', 'NN'), ('table', 'NN'), ('value', 'NN'), ('type', 'NN'), ('hashing', 'NN'), ('time', 'NN'), ('key', 'NN'), ('address', 'NN'), ('hashing', 'NN'), ('access', 'NN'), ('times', 'NNS'), ('data', 'NNS'), ('retrieval', 'NN'), ('scalability', 'NN'), ('size', 'NN'), ('structure', 'NN')]\n",
      "[('organization', 'NN'), ('records', 'NNS'), ('files', 'NNS'), ('process', 'NN'), ('documents', 'NNS'), ('retrieval', 'NN'), ('system', 'NN'), ('documents', 'NNS'), ('document', 'NN'), ('identifier', 'NN'), ('file', 'NN'), ('number', 'NN'), ('code', 'NN'), ('index', 'NN'), ('documents', 'NNS'), ('documents', 'NNS'), ('type', 'NN'), ('eg', 'NN'), ('correspondence', 'NN'), ('documents', 'NNS'), ('date', 'NN'), ('receivedsent', 'NN'), ('dates', 'NNS'), ('matter', 'NN'), ('eg', 'NN'), ('customer', 'NN'), ('accounts', 'NNS'), ('systems', 'NNS'), ('documents', 'NNS'), ('topics', 'NNS'), ('file', 'NN'), ('files', 'NNS')]\n",
      "[('records', 'NNS'), ('files', 'NNS'), ('process', 'NN'), ('data', 'NNS'), ('groups', 'NNS'), ('access', 'NN'), ('organization', 'NN'), ('records', 'NNS'), ('files', 'NNS'), ('file', 'NN'), ('structure', 'NN'), ('folders', 'NNS'), ('subfolders', 'NNS'), ('documents', 'NNS'), ('structure', 'NN'), ('depending', 'NN'), ('type', 'NN'), ('data', 'NNS'), ('type', 'NN'), ('system', 'NN'), ('dbms', 'NN'), ('organizing', 'NN'), ('records', 'NNS'), ('tables', 'NNS'), ('columns', 'NN'), ('information', 'NN'), ('record', 'NN'), ('column', 'NN'), ('attribute', 'NN'), ('field', 'NN'), ('record', 'NN'), ('row', 'NN'), ('values', 'NNS'), ('attribute', 'NN'), ('field', 'NN'), ('indexes', 'NNS'), ('records', 'NNS'), ('table', 'NN')]\n",
      "[('workload', 'NN'), ('impact', 'NN'), ('performance', 'NN'), ('indexes', 'NNS'), ('workload', 'NN'), ('indexes', 'NNS'), ('disk', 'NN'), ('io', 'NN'), ('access', 'NN'), ('data', 'NN'), ('performance', 'NN'), ('resource', 'NN'), ('utilization', 'NN'), ('workload', 'NN'), ('index', 'NN'), ('corruption', 'NN'), ('data', 'NNS'), ('loss', 'NN'), ('issues', 'NNS'), ('databases', 'NNS'), ('workload', 'NN'), ('strategy', 'NN'), ('example', 'NN'), ('indexes', 'NNS'), ('ones', 'NNS'), ('order', 'NN'), ('performance', 'NN'), ('resource', 'NN'), ('utilization', 'NN')]\n",
      "[('indexes', 'NNS'), ('part', 'NN'), ('database', 'NN'), ('schema', 'NN'), ('workload', 'NN'), ('performance', 'NN'), ('database', 'NN'), ('locate', 'NN'), ('data', 'NNS'), ('row', 'NN'), ('table', 'NN'), ('index', 'NN'), ('column', 'NN'), ('workload', 'NN'), ('data', 'NNS'), ('performance', 'NN'), ('tradeoffs', 'NNS'), ('indexes', 'NNS'), ('indexes', 'NNS'), ('performance', 'NN'), ('queries', 'NNS'), ('filters', 'NNS'), ('cost', 'NN'), ('performance', 'NN'), ('data', 'NNS'), ('indexes', 'NNS'), ('table', 'NN'), ('cockroachdb', 'NN'), ('group', 'NN'), ('features', 'NNS'), ('usage', 'NN'), ('indexes', 'NNS'), ('recommendations', 'NNS'), ('indexes', 'NNS'), ('drop', 'NN'), ('ones', 'NNS'), ('blog', 'NN'), ('post', 'NN'), ('features', 'NNS')]\n",
      "[('raid', 'NN'), ('array', 'NN'), ('disks', 'NNS'), ('storage', 'NN'), ('technology', 'NN'), ('disks', 'NNS'), ('unit', 'NN'), ('purpose', 'NN'), ('data', 'NNS'), ('reliability', 'NN'), ('performance', 'NN'), ('raid', 'NN'), ('capacity', 'NN'), ('storage', 'NN'), ('system', 'NN'), ('performance', 'NN'), ('fault', 'NN'), ('tolerance', 'NN'), ('raid', 'NN'), ('feature', 'NN'), ('storage', 'NN'), ('system', 'NN'), ('server', 'NN'), ('network', 'NN'), ('storage', 'NN'), ('device', 'NN'), ('storage', 'NN'), ('area', 'NN'), ('network', 'NN'), ('types', 'NNS'), ('raid', 'NN'), ('levels', 'NNS'), ('benefits', 'NNS'), ('types', 'NNS'), ('raid', 'NN'), ('mirroring', 'NN'), ('raid', 'NN'), ('data', 'NNS'), ('parity', 'NN'), ('type', 'NN'), ('levels', 'NNS'), ('redundancy', 'NN'), ('performance', 'NN'), ('configuration', 'NN'), ('example', 'NN'), ('raid', 'NN'), ('level', 'NN'), ('performance', 'NN'), ('redundancy', 'NN'), ('whereas', 'NNS'), ('redundancy', 'NN'), ('performance', 'NN'), ('need', 'NN'), ('data', 'NNS'), ('disks', 'NNS')]\n",
      "[('raid', 'NN'), ('array', 'NN'), ('disks', 'NNS'), ('technology', 'NN'), ('disk', 'NN'), ('drive', 'NN'), ('components', 'NNS'), ('unit', 'NN'), ('data', 'NNS'), ('storage', 'NN'), ('purposes', 'NNS'), ('alternative', 'NN'), ('disks', 'NNS'), ('performance', 'NN'), ('capacity', 'NN'), ('reliability', 'NN'), ('redundancy', 'NN'), ('raid', 'NN'), ('ways', 'NNS'), ('requirements', 'NNS'), ('system', 'NN'), ('types', 'NNS'), ('raid', 'NN'), ('raid', 'NN'), ('mirroring', 'NN'), ('raid', 'NN'), ('parity', 'NN'), ('parity', 'NN'), ('raid', 'NN'), ('parity', 'NN'), ('type', 'NN'), ('raid', 'NN'), ('advantages', 'NNS'), ('disadvantages', 'NNS'), ('type', 'NN'), ('needs', 'NNS')]\n",
      "[('hashing', 'NN'), ('type', 'NN'), ('hash', 'NN'), ('table', 'NN'), ('number', 'NN'), ('buckets', 'NNS'), ('directory', 'NN'), ('buckets', 'NNS'), ('pointers', 'NNS'), ('bucket', 'NN'), ('hash', 'NN'), ('table', 'NN'), ('item', 'NN'), ('hash', 'NN'), ('table', 'NN'), ('directory', 'NN'), ('buckets', 'NNS'), ('buckets', 'NNS'), ('directory', 'NN'), ('items', 'NNS'), ('hash', 'NN'), ('table', 'NN'), ('buckets', 'NNS'), ('pointers', 'NNS'), ('directory', 'NN')]\n",
      "[('hashing', 'NN'), ('type', 'NN'), ('technique', 'NN'), ('database', 'NN'), ('management', 'NN'), ('systems', 'NNS'), ('data', 'NNS'), ('storage', 'NN'), ('idea', 'NN'), ('hash', 'NN'), ('table', 'NN'), ('entries', 'NNS'), ('entries', 'NNS'), ('buckets', 'NNS'), ('data', 'NNS'), ('bucket', 'NN'), ('hash', 'NN'), ('value', 'NN'), ('item', 'NN'), ('bucket', 'NN'), ('matching', 'NN'), ('hash', 'NN'), ('value', 'NN'), ('buckets', 'NNS'), ('match', 'NN'), ('bucket', 'NN'), ('items', 'NNS'), ('bucket', 'NN'), ('process', 'NN'), ('buckets', 'NNS'), ('items', 'NNS'), ('locations', 'NNS')]\n",
      "[('hashing', 'NN'), ('type', 'NN'), ('algorithm', 'NN'), ('data', 'NNS'), ('buckets', 'NNS'), ('pages', 'NNS'), ('array', 'NN'), ('hashing', 'NN'), ('process', 'NN'), ('buckets', 'NNS'), ('end', 'NN'), ('array', 'NN'), ('buckets', 'NNS'), ('buckets', 'NNS'), ('data', 'NNS'), ('buckets', 'NNS'), ('storage', 'NN'), ('retrieval', 'NN'), ('data', 'NNS')]\n",
      "[('hashing', 'NN'), ('type', 'NN'), ('algorithm', 'NN'), ('databases', 'NNS'), ('data', 'NNS'), ('buckets', 'NNS'), ('technique', 'NN'), ('addition', 'NN'), ('buckets', 'NNS'), ('number', 'NN'), ('items', 'NNS'), ('database', 'NN'), ('algorithm', 'NN'), ('item', 'NN'), ('index', 'NN'), ('bucket', 'NN'), ('hashing', 'NN'), ('allows', 'NNS'), ('access', 'NN'), ('data', 'NNS'), ('need', 'NN'), ('searches', 'NNS'), ('buckets', 'NNS')]\n",
      "[('hashing', 'NN'), ('hashing', 'NN'), ('technique', 'NN'), ('directory', 'NN'), ('records', 'NNS'), ('twolevel', 'NN'), ('structure', 'NN'), ('index', 'NN'), ('buckets', 'NNS'), ('buckets', 'NNS'), ('bucket', 'NN'), ('pointer', 'NN'), ('bucket', 'NN'), ('records', 'NNS'), ('record', 'NN'), ('system', 'NN'), ('space', 'NN'), ('bucket', 'NN'), ('bucket', 'NN'), ('parts', 'NNS'), ('part', 'NN'), ('bucket', 'NN'), ('hashing', 'NN'), ('hashing', 'NN'), ('technique', 'NN'), ('index', 'NN'), ('buckets', 'NNS'), ('buckets', 'NNS'), ('records', 'NNS'), ('pointers', 'NNS'), ('buckets', 'NNS'), ('buckets', 'NNS'), ('records', 'NNS'), ('bucket', 'NN'), ('iteration', 'NN'), ('space', 'NN'), ('hashing', 'NN'), ('buckets', 'NNS'), ('records', 'NNS')]\n",
      "[('hashing', 'NN'), ('type', 'NN'), ('hashing', 'NN'), ('directory', 'NN'), ('size', 'NN'), ('number', 'NN'), ('records', 'NNS'), ('increases', 'NNS'), ('type', 'NN'), ('uses', 'NNS'), ('simple', 'NN'), ('technique', 'NN'), ('bucket', 'NN'), ('splitting', 'NN'), ('bucket', 'NN'), ('hashing', 'NN'), ('type', 'NN'), ('hashing', 'NN'), ('technique', 'NN'), ('bucket', 'NN'), ('overflow', 'NN'), ('method', 'NN'), ('bucket', 'NN'), ('bucket', 'NN'), ('advantage', 'NN'), ('hashing', 'NN'), ('hashing', 'NN'), ('memory', 'NN'), ('directory', 'NN'), ('structure', 'NN'), ('buckets', 'NNS'), ('block', 'NN'), ('memory', 'NN')]\n",
      "[('file', 'NN'), ('systems', 'NNS'), ('database', 'NN'), ('systems', 'NNS'), ('data', 'NNS'), ('differences', 'NNS'), ('file', 'NN'), ('system', 'NN'), ('way', 'NN'), ('data', 'NNS'), ('storage', 'NN'), ('device', 'NN'), ('drive', 'NN'), ('drive', 'NN'), ('files', 'NNS'), ('folders', 'NNS'), ('subfolders', 'NNS'), ('systems', 'NNS'), ('documents', 'NNS'), ('images', 'NNS'), ('videos', 'NNS'), ('types', 'NNS'), ('files', 'NNS'), ('retrieval', 'NN'), ('files', 'NNS'), ('access', 'NN'), ('data', 'NNS'), ('database', 'NN'), ('system', 'NN'), ('collection', 'NN'), ('data', 'NNS'), ('users', 'NNS'), ('stores', 'NNS'), ('information', 'NN'), ('tables', 'NNS'), ('users', 'NNS'), ('data', 'NNS'), ('query', 'NN'), ('language', 'NN'), ('database', 'NN'), ('systems', 'NNS'), ('retrieval', 'NN'), ('amounts', 'NNS'), ('data', 'NNS'), ('sources', 'NNS'), ('features', 'NNS'), ('transaction', 'NN'), ('support', 'NN'), ('security', 'NN'), ('controls', 'NNS'), ('systems', 'NNS'), ('file', 'NN'), ('systems', 'NNS'), ('retrieval', 'NN'), ('files', 'NNS'), ('database', 'NN'), ('systems', 'NNS'), ('retrieval', 'NN'), ('amounts', 'NNS'), ('data', 'NNS'), ('sources', 'NNS'), ('systems', 'NNS'), ('features', 'NNS'), ('transaction', 'NN'), ('support', 'NN'), ('security', 'NN'), ('controls', 'NNS')]\n",
      "[('file', 'NN'), ('system', 'NN'), ('way', 'NN'), ('files', 'NNS'), ('storage', 'NN'), ('medium', 'NN'), ('disk', 'NN'), ('file', 'NN'), ('system', 'NN'), ('files', 'NNS'), ('retrieval', 'NN'), ('files', 'NNS'), ('systems', 'NNS'), ('consist', 'NN'), ('files', 'NNS'), ('directories', 'NNS'), ('directories', 'NNS'), ('folders', 'NNS'), ('file', 'NN'), ('system', 'NN'), ('performs', 'NNS'), ('operations', 'NNS'), ('management', 'NN'), ('file', 'NN'), ('access', 'NN'), ('rules', 'NNS'), ('example', 'NN'), ('technology', 'NN'), ('file', 'NN'), ('system', 'NN'), ('systemdatabase', 'NN'), ('management', 'NN'), ('system', 'NN'), ('software', 'NN'), ('collection', 'NN'), ('data', 'NNS'), ('data', 'NNS'), ('data', 'NNS'), ('security', 'NN'), ('measures', 'NNS'), ('data', 'NN'), ('access', 'NN'), ('database', 'NN'), ('management', 'NN'), ('system', 'NN'), ('data', 'NNS'), ('queries', 'NNS'), ('algebra', 'NN'), ('mechanisms', 'NNS'), ('data', 'NNS'), ('recovery', 'NN'), ('data', 'NNS'), ('backup', 'NN'), ('example', 'NN'), ('oracle', 'NN'), ('mysql', 'NN'), ('ms', 'NN'), ('sql', 'NN'), ('server', 'NN')]\n",
      "[('data', 'NNS'), ('abstraction', 'NN'), ('process', 'NN'), ('data', 'NNS'), ('simpler', 'NN'), ('forms', 'NNS'), ('details', 'NNS'), ('features', 'NNS'), ('data', 'NNS'), ('data', 'NNS'), ('abstraction', 'NN'), ('problem', 'NN'), ('performance', 'NN'), ('levels', 'NNS'), ('abstraction', 'NN'), ('level', 'NN'), ('level', 'NN'), ('representation', 'NN'), ('data', 'NNS'), ('terms', 'NNS'), ('characteristics', 'NNS'), ('size', 'NN'), ('location', 'NN'), ('storage', 'NN'), ('medium', 'NN'), ('level', 'NN'), ('level', 'NN'), ('data', 'NN'), ('terms', 'NNS'), ('relationship', 'NN'), ('data', 'NNS'), ('elements', 'NNS'), ('system', 'NN'), ('view', 'NN'), ('view', 'NN'), ('level', 'NN'), ('users', 'NNS'), ('system', 'NN'), ('views', 'NNS'), ('data', 'NN'), ('structure', 'NN'), ('access', 'NN'), ('rights', 'NNS'), ('parts', 'NNS'), ('system', 'NN')]\n",
      "[('data', 'NNS'), ('abstraction', 'NN'), ('process', 'NN'), ('details', 'NNS'), ('information', 'NN'), ('user', 'NN'), ('complexity', 'NN'), ('users', 'NNS'), ('levels', 'NNS'), ('abstraction', 'NN'), ('level', 'NN'), ('level', 'NN'), ('abstraction', 'NN'), ('data', 'NNS'), ('system', 'NN'), ('files', 'NNS'), ('tables', 'NNS'), ('records', 'NNS'), ('level', 'NN'), ('level', 'NN'), ('abstraction', 'NN'), ('data', 'NN'), ('system', 'NN'), ('data', 'NNS'), ('types', 'NNS'), ('relationships', 'NNS'), ('tables', 'NNS'), ('constraints', 'NNS'), ('view', 'NN'), ('level', 'NN'), ('abstraction', 'NN'), ('users', 'NNS'), ('system', 'NN'), ('view', 'NN'), ('structure', 'NN'), ('database', 'NN'), ('implementation', 'NN'), ('details', 'NNS')]\n",
      "[('data', 'NNS'), ('models', 'NNS'), ('data', 'NNS'), ('information', 'NN'), ('format', 'NN'), ('types', 'NNS'), ('data', 'NNS'), ('models', 'NNS'), ('strengths', 'NNS'), ('types', 'NNS'), ('data', 'NNS'), ('models', 'NNS'), ('model', 'NN'), ('type', 'NN'), ('data', 'NNS'), ('model', 'NN'), ('tables', 'NNS'), ('rows', 'NNS'), ('columns', 'NNS'), ('relationships', 'NNS'), ('data', 'NN'), ('database', 'NN'), ('applications', 'NNS'), ('queries', 'NNS'), ('transactions', 'NNS'), ('model', 'NN'), ('type', 'NN'), ('model', 'NN'), ('treelike', 'NN'), ('structure', 'NN'), ('information', 'NN'), ('node', 'NN'), ('entity', 'NN'), ('object', 'NN'), ('database', 'NN'), ('applications', 'NNS'), ('retrieval', 'NN'), ('times', 'NNS'), ('navigation', 'NN'), ('hierarchy', 'NN'), ('structure', 'NN'), ('models', 'NNS'), ('network', 'NN'), ('model', 'NN'), ('model', 'NN'), ('tables', 'NNS'), ('relationships', 'NNS'), ('information', 'NN'), ('applications', 'NNS'), ('queries', 'NNS'), ('transactions', 'NNS'), ('entities', 'NNS'), ('objects', 'NNS'), ('model', 'NN'), ('model', 'NN'), ('objects', 'NNS'), ('tables', 'NNS'), ('information', 'NN'), ('flexibility', 'NN'), ('databases', 'NNS'), ('maintenance', 'NN'), ('code', 'NN'), ('models', 'NNS'), ('model', 'NN'), ('code', 'NN'), ('relationships', 'NNS'), ('entities', 'NNS'), ('objects', 'NNS'), ('database', 'NN'), ('model', 'NN'), ('type', 'NN'), ('model', 'NN'), ('stores', 'NNS'), ('documents', 'NNS'), ('rows', 'NNS'), ('columns', 'NNS'), ('models', 'NNS'), ('data', 'NNS'), ('documents', 'NNS'), ('images', 'NNS'), ('methods', 'NNS'), ('databases', 'NNS')]\n",
      "[('data', 'NNS'), ('models', 'NNS'), ('data', 'NNS'), ('information', 'NN'), ('format', 'NN'), ('types', 'NNS'), ('data', 'NNS'), ('models', 'NNS'), ('strengths', 'NNS'), ('types', 'NNS'), ('data', 'NNS'), ('models', 'NNS'), ('model', 'NN'), ('type', 'NN'), ('data', 'NNS'), ('model', 'NN'), ('tables', 'NNS'), ('rows', 'NNS'), ('columns', 'NNS'), ('relationships', 'NNS'), ('data', 'NN'), ('database', 'NN'), ('applications', 'NNS'), ('queries', 'NNS'), ('transactions', 'NNS'), ('model', 'NN'), ('type', 'NN'), ('model', 'NN'), ('treelike', 'NN'), ('structure', 'NN'), ('information', 'NN'), ('node', 'NN'), ('entity', 'NN'), ('object', 'NN'), ('database', 'NN'), ('applications', 'NNS'), ('retrieval', 'NN'), ('times', 'NNS'), ('navigation', 'NN'), ('hierarchy', 'NN'), ('structure', 'NN'), ('models', 'NNS'), ('network', 'NN'), ('model', 'NN'), ('model', 'NN'), ('tables', 'NNS'), ('relationships', 'NNS'), ('information', 'NN'), ('applications', 'NNS'), ('queries', 'NNS'), ('transactions', 'NNS'), ('entities', 'NNS'), ('objects', 'NNS'), ('model', 'NN'), ('model', 'NN'), ('objects', 'NNS'), ('tables', 'NNS'), ('information', 'NN'), ('flexibility', 'NN'), ('databases', 'NNS'), ('maintenance', 'NN'), ('code', 'NN'), ('models', 'NNS'), ('model', 'NN'), ('code', 'NN'), ('relationships', 'NNS'), ('entities', 'NNS'), ('objects', 'NNS'), ('database', 'NN'), ('model', 'NN'), ('type', 'NN'), ('model', 'NN'), ('stores', 'NNS'), ('documents', 'NNS'), ('rows', 'NNS'), ('columns', 'NNS'), ('models', 'NNS'), ('data', 'NNS'), ('documents', 'NNS'), ('images', 'NNS'), ('methods', 'NNS'), ('databases', 'NNS')]\n",
      "[('database', 'NN'), ('database', 'NN'), ('collection', 'NN'), ('data', 'NNS'), ('computer', 'NN'), ('system', 'NN'), ('management', 'NN'), ('system', 'NN'), ('software', 'NN'), ('access', 'NN'), ('data', 'NN'), ('database', 'NN'), ('database', 'NN'), ('management', 'NN'), ('system', 'NN'), ('users', 'NNS'), ('interface', 'NN'), ('database', 'NN'), ('data', 'NNS'), ('delete', 'NNS'), ('records', 'NNS'), ('records', 'NNS'), ('data', 'NNS'), ('models', 'NNS'), ('data', 'NNS'), ('model', 'NN'), ('data', 'NN'), ('database', 'NN'), ('users', 'NNS'), ('applications', 'NNS'), ('types', 'NNS'), ('models', 'NNS'), ('databases', 'NNS'), ('databases', 'NNS'), ('databases', 'NNS'), ('network', 'NN'), ('databases', 'NNS'), ('databases', 'NNS'), ('database', 'NN'), ('architecture', 'NN'), ('architecture', 'NN'), ('dbms', 'NN'), ('components', 'NNS'), ('access', 'NN'), ('manipulation', 'NN'), ('data', 'NNS'), ('database', 'NN'), ('architectures', 'NNS'), ('architecture', 'NN'), ('architecture', 'NN'), ('systems', 'NNS'), ('language', 'NN'), ('query', 'NN'), ('language', 'NN'), ('users', 'NNS'), ('dbms', 'NN'), ('commands', 'NNS'), ('data', 'NNS'), ('database', 'NN'), ('sql', 'NN'), ('language', 'NN')]\n",
      "[('database', 'NN'), ('system', 'NN'), ('modules', 'NNS'), ('responsibilities', 'NNS'), ('system', 'NN'), ('components', 'NNS'), ('database', 'NN'), ('system', 'NN'), ('storage', 'NN'), ('manager', 'NN'), ('query', 'NN'), ('processor', 'NN'), ('storage', 'NN'), ('manager', 'NN'), ('databases', 'NNS'), ('amount', 'NN'), ('storage', 'NN'), ('space', 'NN'), ('query', 'NN'), ('processor', 'NN'), ('database', 'NN'), ('system', 'NN'), ('simplify', 'NN'), ('access', 'NN'), ('job', 'NN'), ('database', 'NN'), ('system', 'NN'), ('updates', 'NNS'), ('queries', 'NNS'), ('language', 'NN'), ('level', 'NN'), ('sequence', 'NN'), ('operations', 'NNS'), ('level', 'NN'), ('query', 'NN'), ('processor', 'NN'), ('components', 'NNS'), ('interpreter', 'NN'), ('statements', 'NNS'), ('records', 'NNS'), ('definitions', 'NNS'), ('data', 'NNS'), ('dictionarydml', 'NN'), ('compiler', 'NN'), ('statements', 'NNS'), ('language', 'NN'), ('evaluation', 'NN'), ('plan', 'NN'), ('instructions', 'NNS'), ('query', 'NN'), ('evaluation', 'NN'), ('engine', 'NN'), ('query', 'NN'), ('number', 'NN'), ('evaluation', 'NN'), ('plans', 'NNS'), ('result', 'NN'), ('dml', 'NN'), ('compiler', 'NN'), ('optimization', 'NN'), ('cost', 'NN'), ('evaluation', 'NN'), ('plan', 'NN'), ('alternativesquery', 'NN'), ('evaluation', 'NN'), ('engine', 'NN'), ('instructions', 'NNS'), ('dml', 'NN'), ('compiler', 'NN'), ('storage', 'NN'), ('manager', 'NN'), ('program', 'NN'), ('module', 'NN'), ('interface', 'NN'), ('lowlevel', 'NN'), ('data', 'NNS'), ('database', 'NN'), ('application', 'NN'), ('programs', 'NNS'), ('queries', 'NNS'), ('system', 'NN'), ('storage', 'NN'), ('manager', 'NN'), ('interaction', 'NN'), ('file', 'NN'), ('manager', 'NN'), ('data', 'NNS'), ('disk', 'NN'), ('file', 'NN'), ('system', 'NN'), ('operating', 'NN'), ('system', 'NN'), ('storage', 'NN'), ('manager', 'NN'), ('dml', 'NN'), ('statements', 'NNS'), ('filesystem', 'NN'), ('storage', 'NN'), ('manager', 'NN'), ('retrieving', 'NN'), ('data', 'NNS'), ('database', 'NN'), ('storage', 'NN'), ('manager', 'NN'), ('components', 'NNS'), ('authorization', 'NN'), ('integrity', 'NN'), ('manager', 'NN'), ('satisfaction', 'NN'), ('integrity', 'NN'), ('constraints', 'NNS'), ('authority', 'NN'), ('users', 'NNS'), ('access', 'NN'), ('datatransaction', 'NN'), ('manager', 'NN'), ('database', 'NN'), ('correct', 'NN'), ('state', 'NN'), ('system', 'NN'), ('failures', 'NNS'), ('transaction', 'NN'), ('executions', 'NNS'), ('conflictingfile', 'NN'), ('manager', 'NN'), ('allocation', 'NN'), ('space', 'NN'), ('disk', 'NN'), ('storage', 'NN'), ('data', 'NN'), ('structures', 'NNS'), ('information', 'NN'), ('diskbuffer', 'NN'), ('manager', 'NN'), ('data', 'NNS'), ('disk', 'NN'), ('storage', 'NN'), ('memory', 'NN'), ('data', 'NN'), ('memory', 'NN'), ('buffer', 'NN'), ('manager', 'NN'), ('part', 'NN'), ('database', 'NN'), ('system', 'NN'), ('database', 'NN'), ('data', 'NNS'), ('sizes', 'NNS'), ('size', 'NN'), ('memory', 'NN'), ('transaction', 'NN'), ('collection', 'NN'), ('operations', 'NNS'), ('function', 'NN'), ('database', 'NN'), ('application', 'NN'), ('transaction', 'NN'), ('unit', 'NN'), ('atomicity', 'NN'), ('consistency', 'NN'), ('transactions', 'NNS'), ('databaseconsistency', 'NN'), ('constraints', 'NNS'), ('database', 'NN'), ('transaction', 'NN'), ('database', 'NN'), ('transaction', 'NN'), ('transaction', 'NN'), ('manager', 'NN'), ('database', 'NN'), ('correct', 'NN'), ('state', 'NN'), ('system', 'NN'), ('failures', 'NNS'), ('power', 'NN'), ('failures', 'NNS'), ('system', 'NN'), ('crashes', 'NNS'), ('transaction', 'NN'), ('failures', 'NNS')]\n",
      "[('subclasssuperclass', 'NN'), ('feature', 'NN'), ('entities', 'NNS'), ('relationships', 'NNS'), ('view', 'NN'), ('data', 'NNS'), ('inheritance', 'NN'), ('feature', 'NN'), ('entities', 'NNS'), ('attributes', 'NNS'), ('relationships', 'NNS'), ('parent', 'NN'), ('entity', 'NN'), ('data', 'NNS'), ('redundancy', 'NN'), ('design', 'NN'), ('model', 'NN'), ('specializationgeneralization', 'NN'), ('feature', 'NN'), ('categories', 'NNS'), ('entities', 'NNS'), ('view', 'NN'), ('data', 'NNS'), ('model', 'NN'), ('aggregation', 'NN'), ('feature', 'NN'), ('relationships', 'NNS'), ('entities', 'NNS'), ('entity', 'NN'), ('complexity', 'NN'), ('models', 'NNS'), ('integrity', 'NN'), ('constraints', 'NNS'), ('constraints', 'NNS'), ('keys', 'NNS'), ('table', 'NN'), ('table', 'NN'), ('records', 'NNS'), ('database', 'NN')]\n",
      "[('er', 'NN'), ('concepts', 'NNS'), ('features', 'NNS'), ('aspects', 'NNS'), ('database', 'NN'), ('extensions', 'NNS'), ('er', 'NN'), ('model', 'NN'), ('er', 'NN'), ('features', 'NNS'), ('generalization', 'NN'), ('entity', 'NN'), ('sets', 'NNS'), ('inheritance', 'NN'), ('aggregation', 'NN'), ('specialization', 'NN'), ('entity', 'NN'), ('subentities', 'NNS'), ('way', 'NN'), ('entities', 'NNS'), ('set', 'NN'), ('instance', 'NN'), ('subset', 'NN'), ('entities', 'NNS'), ('entity', 'NN'), ('set', 'NN'), ('attributes', 'NNS'), ('entities', 'NNS'), ('entity', 'NN'), ('model', 'NN'), ('means', 'NN'), ('entity', 'NN'), ('groupings', 'NNS'), ('specialization', 'NN'), ('approach', 'NN'), ('highlevel', 'NN'), ('entity', 'NN'), ('entities', 'NNS'), ('generalization', 'NN'), ('process', 'NN'), ('properties', 'NNS'), ('set', 'NN'), ('entities', 'NNS'), ('entity', 'NN'), ('generalization', 'NN'), ('approach', 'NN'), ('entities', 'NNS'), ('higherlevel', 'NN'), ('entity', 'NN'), ('attributes', 'NNS'), ('generalization', 'NN'), ('subclasses', 'NNS'), ('superclass', 'NN'), ('inheritance', 'NN'), ('entity', 'NN'), ('member', 'NN'), ('subclass', 'NN'), ('attributes', 'NNS'), ('entity', 'NN'), ('member', 'NN'), ('superclass', 'NN'), ('entity', 'NN'), ('relationships', 'NNS'), ('superclass', 'NN'), ('inheritance', 'NN'), ('feature', 'NN'), ('generalization', 'NN'), ('specialization', 'NN'), ('entities', 'NNS'), ('attributes', 'NNS'), ('higherlevel', 'NN'), ('entities', 'NNS'), ('aggregation', 'NN'), ('aggregation', 'NN'), ('relation', 'NN'), ('entities', 'NNS'), ('entity', 'NN'), ('aggregation', 'NN'), ('relationship', 'NN'), ('entities', 'NNS'), ('higherlevel', 'NN'), ('entity', 'NN')]\n",
      "[('concept', 'NN'), ('design', 'NN'), ('er', 'NN'), ('model', 'NN'), ('process', 'NN'), ('data', 'NN'), ('requirements', 'NNS'), ('organization', 'NN'), ('entity', 'NN'), ('relationship', 'NN'), ('model', 'NN'), ('model', 'NN'), ('representation', 'NN'), ('entities', 'NNS'), ('relationships', 'NNS'), ('constraints', 'NNS'), ('database', 'NN'), ('structure', 'NN'), ('data', 'NNS'), ('organization', 'NN'), ('concept', 'NN'), ('design', 'NN'), ('model', 'NN'), ('problems', 'NNS'), ('inconsistencies', 'NNS'), ('data', 'NNS'), ('structures', 'NNS'), ('production', 'NN'), ('systems', 'NNS'), ('process', 'NN'), ('tool', 'NN'), ('databases', 'NNS'), ('areas', 'NNS'), ('changes', 'NNS'), ('performance', 'NN'), ('accuracy', 'NN'), ('representation', 'NN'), ('data', 'NNS'), ('entities', 'NNS'), ('interact', 'NN'), ('performance', 'NN')]\n",
      "[('entity', 'NN'), ('relationship', 'NN'), ('model', 'NN'), ('representation', 'NN'), ('structure', 'NN'), ('database', 'NN'), ('relationships', 'NNS'), ('entities', 'NNS'), ('objects', 'NNS'), ('concepts', 'NNS'), ('existence', 'NN'), ('er', 'NN'), ('models', 'NNS'), ('databases', 'NNS'), ('field', 'NN'), ('database', 'NN'), ('management', 'NN'), ('systems', 'NNS'), ('model', 'NN'), ('tool', 'NN'), ('databases', 'NNS'), ('representation', 'NN'), ('data', 'NNS'), ('model', 'NN'), ('entities', 'NNS'), ('relationships', 'NNS'), ('attributes', 'NNS'), ('entity', 'NN'), ('concept', 'NN'), ('design', 'NN'), ('model', 'NN'), ('representation', 'NN'), ('data', 'NNS'), ('structures', 'NNS'), ('relationships', 'NNS'), ('order', 'NN'), ('information', 'NN'), ('categories', 'NNS'), ('designs', 'NNS'), ('entities', 'NNS'), ('attributes', 'NNS'), ('users', 'NNS'), ('data', 'NNS'), ('system', 'NN'), ('users', 'NNS'), ('applications', 'NNS'), ('designs', 'NNS'), ('problems', 'NNS'), ('access', 'NN'), ('data', 'NNS'), ('system', 'NN')]\n",
      "[('views', 'NNS'), ('way', 'NN'), ('data', 'NNS'), ('database', 'NN'), ('tables', 'NNS'), ('users', 'NNS'), ('access', 'NN'), ('data', 'NNS'), ('tables', 'NNS'), ('queries', 'NNS'), ('views', 'NNS'), ('process', 'NN'), ('data', 'NNS'), ('security', 'NN'), ('amount', 'NN'), ('information', 'NN'), ('updates', 'NNS'), ('views', 'NNS'), ('way', 'NN'), ('view', 'NN'), ('columns', 'NNS'), ('view', 'NN'), ('order', 'NN'), ('columns', 'NN'), ('rows', 'NNS'), ('view', 'NN'), ('views', 'NNS'), ('performance', 'NN'), ('execution', 'NN'), ('plans', 'NNS'), ('updates', 'NNS'), ('changes', 'NNS'), ('tables', 'NNS'), ('views', 'NNS'), ('output', 'NN')]\n",
      "[('views', 'NNS'), ('updates', 'NNS'), ('views', 'NNS'), ('part', 'NN'), ('database', 'NN'), ('management', 'NN'), ('systems', 'NNS'), ('views', 'NNS'), ('way', 'NN'), ('queries', 'NNS'), ('control', 'NN'), ('access', 'NN'), ('data', 'NNS'), ('data', 'NNS'), ('integrity', 'NN'), ('views', 'NNS'), ('changes', 'NNS'), ('data', 'NNS'), ('view', 'NN'), ('views', 'NNS'), ('structures', 'NNS'), ('tables', 'NNS'), ('database', 'NN'), ('access', 'NN'), ('information', 'NN'), ('simplify', 'NN'), ('queries', 'NNS'), ('easiertounderstand', 'NN'), ('structure', 'NN'), ('data', 'NNS'), ('tables', 'NNS'), ('views', 'NNS'), ('data', 'NNS'), ('integrity', 'NN'), ('users', 'NNS'), ('changes', 'NNS'), ('tables', 'NNS'), ('updates', 'NNS'), ('views', 'NNS'), ('changes', 'NNS'), ('view', 'NN'), ('need', 'NN'), ('modifications', 'NNS'), ('columns', 'NNS'), ('columns', 'NNS'), ('view', 'NN'), ('time', 'NN'), ('users', 'NNS'), ('changes', 'NNS'), ('table', 'NN'), ('view', 'NN'), ('addition', 'NN'), ('updates', 'NNS'), ('views', 'NNS'), ('prevent', 'NN'), ('modifications', 'NNS'), ('users', 'NNS'), ('permission', 'NN'), ('changes', 'NNS'), ('administrators', 'NNS'), ('control', 'NN'), ('access', 'NN'), ('types', 'NNS'), ('modifications', 'NNS'), ('views', 'NNS'), ('updates', 'NNS'), ('views', 'NNS'), ('components', 'NNS'), ('dbms', 'NN'), ('benefits', 'NNS'), ('queries', 'NNS'), ('access', 'NN'), ('data', 'NNS'), ('integrity', 'NN')]\n",
      "[('types', 'NNS'), ('database', 'NN'), ('users', 'NNS'), ('users', 'NNS'), ('users', 'NNS'), ('database', 'NN'), ('software', 'NN'), ('application', 'NN'), ('example', 'NN'), ('application', 'NN'), ('user', 'NN'), ('someone', 'NN'), ('online', 'NN'), ('banking', 'NN'), ('system', 'NN'), ('account', 'NN'), ('balance', 'NN'), ('funds', 'NNS'), ('system', 'NN'), ('administrators', 'NNS'), ('system', 'NN'), ('administrators', 'NNS'), ('aspects', 'NNS'), ('database', 'NN'), ('storage', 'NN'), ('security', 'NN'), ('network', 'NN'), ('access', 'NN'), ('software', 'NN'), ('database', 'NN'), ('database', 'NN'), ('administrators', 'NNS'), ('dbas', 'NNS'), ('databases', 'NNS'), ('tables', 'NNS'), ('accounts', 'NNS'), ('performance', 'NN'), ('problems', 'NNS'), ('data', 'NNS'), ('integrity', 'NN'), ('functions', 'NNS'), ('dba', 'NN'), ('databases', 'NNS'), ('data', 'NNS'), ('accounts', 'NNS'), ('permissions', 'NNS'), ('query', 'NN'), ('performance', 'NN'), ('issues', 'NNS'), ('backups', 'NNS'), ('disaster', 'NN'), ('recovery', 'NN'), ('system', 'NN'), ('performance', 'NN'), ('hardware', 'NN'), ('software', 'NN'), ('data', 'NNS'), ('integrity', 'NN'), ('maintenance', 'NN'), ('activities', 'NNS'), ('index', 'NN'), ('defragmentation', 'NN'), ('consistency', 'NN'), ('checks', 'NNS'), ('reports', 'NNS'), ('management', 'NN'), ('review', 'NN'), ('developers', 'NNS'), ('queries', 'NNS'), ('procedures', 'NNS'), ('access', 'NN'), ('data', 'NNS'), ('database', 'NN')]\n",
      "[('types', 'NNS'), ('database', 'NN'), ('users', 'NNS'), ('endusers', 'NNS'), ('people', 'NNS'), ('database', 'NN'), ('access', 'NN'), ('update', 'NN'), ('query', 'NN'), ('data', 'NNS'), ('use', 'NN'), ('control', 'NN'), ('structure', 'NN'), ('database', 'NN'), ('security', 'NN'), ('application', 'NN'), ('programmer', 'NN'), ('application', 'NN'), ('programmers', 'NNS'), ('programs', 'NNS'), ('databases', 'NNS'), ('commands', 'NNS'), ('operations', 'NNS'), ('data', 'NN'), ('database', 'NN'), ('applications', 'NNS'), ('system', 'NN'), ('analyst', 'NN'), ('system', 'NN'), ('analysts', 'NNS'), ('databases', 'NNS'), ('applications', 'NNS'), ('requirements', 'NNS'), ('specifications', 'NNS'), ('database', 'NN'), ('design', 'NN'), ('development', 'NN'), ('database', 'NN'), ('administrator', 'NN'), ('dba', 'NN'), ('aspects', 'NNS'), ('database', 'NN'), ('system', 'NN'), ('design', 'NN'), ('implementation', 'NN'), ('security', 'NN'), ('performance', 'NN'), ('backuprecovery', 'NN'), ('plans', 'NNS'), ('maintenance', 'NN'), ('dba', 'NN'), ('data', 'NNS'), ('database', 'NN'), ('backups', 'NNS'), ('access', 'NN'), ('changes', 'NNS'), ('deletions', 'NNS'), ('records', 'NNS'), ('system', 'NN'), ('functions', 'NNS'), ('dba', 'NN'), ('dba', 'NN'), ('databases', 'NNS'), ('user', 'NN'), ('requirements', 'NNS'), ('databases', 'NNS'), ('structures', 'NNS'), ('relationships', 'NNS'), ('tables', 'NNS'), ('fields', 'NNS'), ('databases', 'NNS'), ('users', 'NNS'), ('information', 'NN'), ('accuracy', 'NN'), ('integrity', 'NN'), ('times', 'NNS'), ('keys', 'NNS'), ('keys', 'NNS'), ('tables', 'NNS'), ('queries', 'NNS'), ('tables', 'NNS'), ('modifying', 'NN'), ('dba', 'NN'), ('databases', 'NNS'), ('need', 'NN'), ('fields', 'NNS'), ('tables', 'NNS'), ('business', 'NN'), ('needs', 'NNS'), ('changes', 'NNS'), ('functionality', 'NN'), ('issues', 'NNS'), ('applications', 'NNS'), ('databases', 'NNS'), ('security', 'NN'), ('administration', 'NN'), ('dba', 'NN'), ('security', 'NN'), ('measures', 'NNS'), ('privileges', 'NNS'), ('users', 'NNS'), ('roles', 'NNS'), ('organization', 'NN'), ('passwordsusernames', 'NNS'), ('personnel', 'NNS'), ('access', 'NN'), ('others', 'NNS'), ('areas', 'NNS'), ('database', 'NN'), ('system', 'NN'), ('performance', 'NN'), ('dba', 'NN'), ('system', 'NN'), ('time', 'NN'), ('query', 'NN'), ('execution', 'NN'), ('times', 'NNS'), ('metrics', 'NNS'), ('space', 'NN'), ('utilization', 'NN'), ('recommendations', 'NNS'), ('performance', 'NN'), ('indexes', 'NNS'), ('techniques', 'NNS'), ('queries', 'NNS')]\n",
      "[('integrity', 'NN'), ('constraints', 'NNS'), ('data', 'NNS'), ('database', 'NN'), ('types', 'NNS'), ('integrity', 'NN'), ('constraints', 'NNS'), ('constraints', 'NNS'), ('constraints', 'NNS'), ('constraints', 'NNS'), ('constraints', 'NNS'), ('constraints', 'NNS'), ('integrity', 'NN'), ('constraint', 'NN'), ('type', 'NN'), ('integrity', 'NN'), ('constraint', 'NN'), ('uniqueness', 'NN'), ('column', 'NN'), ('set', 'NN'), ('columns', 'NN'), ('table', 'NN'), ('rows', 'NNS'), ('value', 'NN'), ('columns', 'NN'), ('constraint', 'NN'), ('type', 'NN'), ('integrity', 'NN'), ('constraint', 'NN'), ('relationship', 'NN'), ('tables', 'NNS'), ('database', 'NN'), ('value', 'NN'), ('table', 'NN'), ('table', 'NN'), ('constraint', 'NN'), ('type', 'NN'), ('integrity', 'NN'), ('constraint', 'NN'), ('conditions', 'NNS'), ('data', 'NNS'), ('table', 'NN'), ('example', 'NN'), ('age', 'NN'), ('limit', 'NN'), ('customers', 'NNS'), ('system', 'NN'), ('type', 'NN'), ('integrity', 'NN'), ('constraint', 'NN'), ('values', 'NNS'), ('columns', 'NN'), ('constraint', 'NN'), ('type', 'NN'), ('integrity', 'NN'), ('constraint', 'NN'), ('rows', 'NNS'), ('table', 'NN'), ('columns', 'NN'), ('combinations', 'NNS'), ('integrity', 'NN'), ('constraint', 'NN'), ('type', 'NN'), ('integrity', 'NN'), ('constraint', 'NN'), ('consistency', 'NN'), ('tables', 'NNS'), ('records', 'NNS'), ('updates', 'NNS'), ('deletions', 'NNS'), ('tables', 'NNS')]\n",
      "[('integrity', 'NN'), ('constraints', 'NNS'), ('set', 'NN'), ('rules', 'NNS'), ('quality', 'NN'), ('information', 'NN'), ('integrity', 'NN'), ('constraints', 'NNS'), ('data', 'NNS'), ('insertion', 'NN'), ('updating', 'NN'), ('processes', 'NNS'), ('way', 'NN'), ('data', 'NNS'), ('integrity', 'NN'), ('integrity', 'NN'), ('constraint', 'NN'), ('damage', 'NN'), ('database', 'NN'), ('types', 'NNS'), ('integrity', 'NN'), ('constraint', 'NN'), ('constraints', 'NNS'), ('definition', 'NN'), ('set', 'NN'), ('values', 'NNS'), ('attribute', 'NN'), ('data', 'NNS'), ('type', 'NN'), ('domain', 'NN'), ('character', 'NN'), ('integer', 'NN'), ('time', 'NN'), ('date', 'NN'), ('currency', 'NN'), ('value', 'NN'), ('attribute', 'NN'), ('domain', 'NN'), ('entity', 'NN'), ('integrity', 'NN'), ('constraints', 'NNS'), ('states', 'NNS'), ('value', 'NN'), ('cant', 'NN'), ('value', 'NN'), ('rows', 'NNS'), ('relation', 'NN'), ('key', 'NN'), ('value', 'NN'), ('rows', 'NNS'), ('table', 'NN'), ('value', 'NN'), ('field', 'NN'), ('integrity', 'NN'), ('constraints', 'NNS'), ('tables', 'NNS'), ('integrity', 'NN'), ('constraints', 'NNS'), ('key', 'NN'), ('refers', 'NNS'), ('key', 'NN'), ('value', 'NN'), ('key', 'NN'), ('constraints', 'NNS'), ('keys', 'NNS'), ('entity', 'NN'), ('entity', 'NN'), ('entity', 'NN'), ('entity', 'NN'), ('keys', 'NNS'), ('key', 'NN'), ('key', 'NN'), ('key', 'NN'), ('value', 'NN'), ('relational', 'NN'), ('table', 'NN')]\n",
      "[('database', 'NN'), ('design', 'NN'), ('process', 'NN'), ('data', 'NN'), ('model', 'NN'), ('data', 'NN'), ('model', 'NN'), ('data', 'NNS'), ('model', 'NN'), ('structure', 'NN'), ('database', 'NN'), ('relationships', 'NNS'), ('entities', 'NNS'), ('database', 'NN'), ('process', 'NN'), ('tables', 'NNS'), ('columns', 'NN'), ('keys', 'NNS'), ('relationships', 'NNS'), ('tables', 'NNS'), ('database', 'NN'), ('design', 'NN'), ('tables', 'NNS'), ('redundancy', 'NN'), ('performance', 'NN'), ('database', 'NN'), ('design', 'NN'), ('order', 'NN'), ('databases', 'NNS'), ('store', 'NN'), ('data', 'NNS')]\n",
      "[('database', 'NN'), ('design', 'NN'), ('process', 'NN'), ('schema', 'NN'), ('application', 'NN'), ('domain', 'NN'), ('schema', 'NN'), ('data', 'NNS'), ('model', 'NN'), ('dbms', 'NN'), ('relational', 'NN'), ('data', 'NNS'), ('model', 'NN')]\n",
      "[('entity', 'NN'), ('entity', 'NN'), ('set', 'NN'), ('key', 'NN'), ('identifier', 'NN'), ('entity', 'NN'), ('set', 'NN'), ('key', 'NN'), ('relies', 'NNS'), ('key', 'NN'), ('entity', 'NN'), ('owner', 'NN'), ('parent', 'NN'), ('entity', 'NN')]\n",
      "[('entity', 'NN'), ('entity', 'NN'), ('schema', 'NN'), ('entity', 'NN'), ('key', 'NN'), ('diagram', 'NN'), ('entity', 'NN'), ('rectangle', 'NN'), ('relationship', 'NN'), ('entities', 'NNS'), ('diamond', 'NN'), ('set', 'NN'), ('entities', 'NNS'), ('entity', 'NN'), ('setweak', 'NN'), ('entity', 'NN'), ('entity', 'NN'), ('corresponding', 'NN'), ('key', 'NN'), ('entity', 'NN'), ('entity', 'NN'), ('rectangle', 'NN'), ('relationship', 'NN'), ('entity', 'NN'), ('entity', 'NN'), ('diamond', 'NN'), ('key', 'NN'), ('discriminator', 'NN'), ('key', 'NN')]\n",
      "[('relation', 'NN'), ('relation', 'NN'), ('schema', 'NN'), ('description', 'NN'), ('structure', 'NN'), ('relation', 'NN'), ('name', 'NN'), ('domain', 'NN'), ('relation', 'NN'), ('instance', 'NN'), ('instance', 'NN'), ('set', 'NN'), ('data', 'NNS'), ('database', 'NN'), ('values', 'NNS'), ('attribute', 'NN'), ('relation', 'NN'), ('schema', 'NN'), ('arity', 'NN'), ('arity', 'NN'), ('number', 'NN'), ('attributes', 'NNS'), ('relation', 'NN'), ('schema', 'NN'), ('degree', 'NN'), ('degree', 'NN'), ('number', 'NN'), ('relations', 'NNS'), ('database', 'NN'), ('arity', 'NN'), ('number', 'NN'), ('columns', 'NN'), ('relations', 'NNS'), ('database', 'NN'), ('domain', 'NN'), ('constraints', 'NNS'), ('constraints', 'NNS'), ('rules', 'NNS'), ('values', 'NNS'), ('attribute', 'NN'), ('dataset', 'NN'), ('constraints', 'NNS'), ('data', 'NNS'), ('integrity', 'NN'), ('accuracy', 'NN'), ('range', 'NN'), ('values', 'NNS'), ('field', 'NN')]\n",
      "[('relation', 'NN'), ('relation', 'NN'), ('schema', 'NN'), ('structure', 'NN'), ('organization', 'NN'), ('data', 'NNS'), ('database', 'NN'), ('name', 'NN'), ('relation', 'NN'), ('names', 'NNS'), ('types', 'NNS'), ('attributes', 'NNS'), ('tuple', 'NN'), ('relation', 'NN'), ('instance', 'NN'), ('instance', 'NN'), ('collection', 'NN'), ('tuples', 'NNS'), ('rows', 'NNS'), ('relation', 'NN'), ('schema', 'NN'), ('tuple', 'NN'), ('values', 'NNS'), ('attribute', 'NN'), ('schema', 'NN'), ('arity', 'NN'), ('arity', 'NN'), ('term', 'NN'), ('number', 'NN'), ('arguments', 'NNS'), ('operands', 'NNS'), ('operator', 'NN'), ('function', 'NN'), ('database', 'NN'), ('terms', 'NNS'), ('arity', 'NN'), ('refers', 'NNS'), ('number', 'NN'), ('attributes', 'NNS'), ('relation', 'NN'), ('degree', 'NN'), ('degree', 'NN'), ('arity', 'NN'), ('concept', 'NN'), ('database', 'NN'), ('systems', 'NNS'), ('refers', 'NNS'), ('number', 'NN'), ('attributes', 'NNS'), ('columns', 'NNS'), ('table', 'NN'), ('relation', 'NN'), ('domain', 'NN'), ('constraints', 'NNS'), ('constraints', 'NNS'), ('rules', 'NNS'), ('values', 'NNS'), ('attribute', 'NN'), ('database', 'NN'), ('table', 'NN'), ('data', 'NNS'), ('integrity', 'NN'), ('values', 'NNS'), ('fields', 'NNS'), ('tables', 'NNS'), ('database', 'NN'), ('system', 'NN')]\n",
      "[('outer', 'NN'), ('join', 'NN'), ('type', 'NN'), ('join', 'NN'), ('rows', 'NNS'), ('tables', 'NNS'), ('outer', 'NN'), ('join', 'NN'), ('records', 'NNS'), ('tables', 'NNS'), ('matches', 'NNS'), ('table', 'NN')]\n",
      "[('outer', 'NN'), ('join', 'NN'), ('records', 'NNS'), ('tables', 'NNS'), ('records', 'NNS'), ('value', 'NN'), ('table', 'NN'), ('join', 'NN'), ('condition', 'NN'), ('cases', 'NNS'), ('value', 'NN'), ('columns', 'NN')]\n",
      "[('connective', 'NN'), ('conditions', 'NNS'), ('query', 'NN'), ('results', 'NNS'), ('criteria', 'NN'), ('connective', 'NN'), ('conditions', 'NNS'), ('query', 'NN'), ('results', 'NNS'), ('criteria', 'NNS'), ('connective', 'NN'), ('records', 'NNS'), ('result', 'NN'), ('condition', 'NN'), ('clause', 'NN'), ('query', 'NN'), ('operator', 'NN'), ('range', 'NN'), ('values', 'NNS'), ('comparison', 'NN'), ('purposes', 'NNS'), ('statement', 'NN'), ('records', 'NNS'), ('dates', 'NNS'), ('prices', 'NNS'), ('operator', 'NN'), ('allows', 'NNS'), ('values', 'NNS'), ('condition', 'NN'), ('records', 'NNS'), ('number', 'NN')]\n",
      "[('connectives', 'NNS'), ('sql', 'NN'), ('operators', 'NNS'), ('predicates', 'NNS'), ('statement', 'NN'), ('returns', 'NNS'), ('predicates', 'NNS'), ('returns', 'NNS'), ('predicate', 'NN'), ('result', 'NN'), ('predicate', 'NN'), ('checks', 'NNS'), ('value', 'NN'), ('values', 'NNS'), ('checks', 'NNS'), ('value', 'NN'), ('set', 'NN'), ('values', 'NNS'), ('checks', 'NNS'), ('patterns', 'NNS'), ('strings', 'NNS')]\n",
      "[('databases', 'NNS'), ('type', 'NN'), ('database', 'NN'), ('storage', 'NN'), ('manipulation', 'NN'), ('data', 'NNS'), ('triggers', 'NNS'), ('rules', 'NNS'), ('types', 'NNS'), ('processing', 'NN'), ('databases', 'NNS'), ('integration', 'NN'), ('business', 'NN'), ('logic', 'NN'), ('database', 'NN'), ('applications', 'NNS'), ('data', 'NNS'), ('database', 'NN'), ('use', 'NN'), ('resources', 'NNS'), ('performance', 'NN'), ('applications', 'NNS'), ('databases', 'NNS'), ('systems', 'NNS'), ('changes', 'NNS'), ('data', 'NNS'), ('tasks', 'NNS'), ('rules', 'NNS'), ('examples', 'NNS'), ('databases', 'NNS'), ('database', 'NN'), ('sql', 'NN'), ('server', 'NN'), ('ibm', 'NN'), ('db', 'NN'), ('postgresql', 'NN')]\n",
      "[('database', 'NN'), ('database', 'NN'), ('consisting', 'NN'), ('set', 'NN'), ('triggers', 'NNS'), ('databases', 'NNS'), ('complexity', 'NN'), ('effect', 'NN'), ('triggers', 'NNS'), ('database', 'NN'), ('dbms', 'NN'), ('trigger', 'NN'), ('statement', 'NN'), ('database', 'NN'), ('statement', 'NN'), ('trigger', 'NN'), ('dbms', 'NN'), ('condition', 'NN'), ('part', 'NN'), ('action', 'NN'), ('part', 'NN'), ('condition', 'NN'), ('trigger', 'NN'), ('statement', 'NN'), ('situation', 'NN'), ('dbms', 'NN'), ('trigger', 'NN'), ('execution', 'NN'), ('action', 'NN'), ('part', 'NN'), ('trigger', 'NN'), ('triggers', 'NNS'), ('trigger', 'NN'), ('action', 'NN'), ('types', 'NNS'), ('trigger', 'NN'), ('trigger', 'NN'), ('dbms', 'NN'), ('chains', 'NNS'), ('trigger', 'NN'), ('manner', 'NN'), ('effects', 'NNS'), ('concept', 'NN')]\n",
      "[('join', 'NN'), ('query', 'NN'), ('combines', 'NNS'), ('data', 'NNS'), ('tables', 'NNS'), ('data', 'NNS'), ('tables', 'NNS'), ('types', 'NNS'), ('joins', 'NNS'), ('outer', 'NN'), ('joins', 'NNS'), ('join', 'NN'), ('contents', 'NNS'), ('tables', 'NNS'), ('field', 'NN'), ('result', 'NN'), ('set', 'NN'), ('rows', 'NNS'), ('fields', 'NNS'), ('tables', 'NNS'), ('outer', 'NN'), ('join', 'NN'), ('outer', 'NN'), ('join', 'NN'), ('rows', 'NNS'), ('table', 'NN'), ('rows', 'NNS'), ('table', 'NN'), ('outer', 'NN'), ('join', 'NN'), ('outer', 'NN'), ('join', 'NN'), ('tables', 'NNS'), ('rows', 'NNS'), ('result', 'NN'), ('join', 'NN'), ('join', 'NN'), ('returns', 'NNS'), ('rows', 'NNS'), ('left', 'NN'), ('table', 'NN'), ('matches', 'NNS'), ('table', 'NN'), ('matching', 'NN'), ('rows', 'NNS'), ('right', 'NN'), ('table', 'NN'), ('result', 'NN'), ('join', 'NN'), ('returns', 'NNS'), ('rows', 'NNS'), ('right', 'NN'), ('table', 'NN'), ('matches', 'NNS'), ('left', 'NN'), ('rows', 'NNS'), ('left', 'NN'), ('table', 'NN'), ('result', 'NN'), ('set', 'NN')]\n",
      "[('join', 'NN'), ('query', 'NN'), ('combines', 'NNS'), ('data', 'NNS'), ('tables', 'NNS'), ('data', 'NNS'), ('tables', 'NNS'), ('types', 'NNS'), ('joins', 'NNS'), ('outer', 'NN'), ('joins', 'NNS'), ('join', 'NN'), ('contents', 'NNS'), ('tables', 'NNS'), ('field', 'NN'), ('result', 'NN'), ('set', 'NN'), ('rows', 'NNS'), ('fields', 'NNS'), ('tables', 'NNS'), ('outer', 'NN'), ('join', 'NN'), ('outer', 'NN'), ('join', 'NN'), ('rows', 'NNS'), ('table', 'NN'), ('rows', 'NNS'), ('table', 'NN'), ('outer', 'NN'), ('join', 'NN'), ('outer', 'NN'), ('join', 'NN'), ('tables', 'NNS'), ('rows', 'NNS'), ('result', 'NN'), ('join', 'NN'), ('join', 'NN'), ('returns', 'NNS'), ('rows', 'NNS'), ('left', 'NN'), ('table', 'NN'), ('matches', 'NNS'), ('table', 'NN'), ('matching', 'NN'), ('rows', 'NNS'), ('right', 'NN'), ('table', 'NN'), ('result', 'NN'), ('join', 'NN'), ('returns', 'NNS'), ('rows', 'NNS'), ('right', 'NN'), ('table', 'NN'), ('matches', 'NNS'), ('left', 'NN'), ('rows', 'NNS'), ('left', 'NN'), ('table', 'NN'), ('result', 'NN'), ('set', 'NN')]\n",
      "[('domain', 'NN'), ('calculus', 'NN'), ('type', 'NN'), ('query', 'NN'), ('language', 'NN'), ('databases', 'NNS'), ('language', 'NN'), ('data', 'NNS'), ('data', 'NNS'), ('forms', 'NNS'), ('calculus', 'NN'), ('calculus', 'NN'), ('calculus', 'NN'), ('tuples', 'NNS'), ('database', 'NN'), ('variables', 'NNS'), ('conditions', 'NNS'), ('variables', 'NNS'), ('calculus', 'NN'), ('attributes', 'NNS'), ('database', 'NN'), ('variables', 'NNS'), ('conditions', 'NNS'), ('variables', 'NNS'), ('uses', 'NNS'), ('operators', 'NNS'), ('quantification', 'NN'), ('quantification', 'NN'), ('quantification', 'NN'), ('states', 'NNS'), ('instance', 'NN'), ('statement', 'NN'), ('order', 'NN'), ('quantification', 'NN'), ('states', 'NNS'), ('instances', 'NNS'), ('statement', 'NN'), ('order', 'NN'), ('operators', 'NNS'), ('conjunction', 'NN'), ('expressions', 'NNS'), ('queries', 'NNS'), ('example', 'NN'), ('lets', 'NNS'), ('table', 'NN'), ('employees', 'NNS'), ('information', 'NN'), ('employee', 'NN'), ('company', 'NN'), ('name', 'NN'), ('age', 'NN'), ('etc', 'NN'), ('calculus', 'NN'), ('employees', 'NNS'), ('age', 'NN'), ('k', 'NN'), ('year', 'NN'), ('xemployeex', 'NN'), ('agex', 'NN'), ('salaryx', 'NN'), ('statement', 'NN'), ('employee', 'NN'), ('x', 'NN'), ('age', 'NN'), ('salary', 'NN'), ('dollars', 'NNS'), ('year', 'NN'), ('query', 'NN')]\n",
      "[('domain', 'NN'), ('calculus', 'NN'), ('drc', 'NN'), ('type', 'NN'), ('language', 'NN'), ('queries', 'NNS'), ('databases', 'NNS'), ('query', 'NN'), ('language', 'NN'), ('meaning', 'NN'), ('steps', 'NNS'), ('data', 'NNS'), ('database', 'NN'), ('data', 'NN'), ('drc', 'NN'), ('firstorder', 'NN'), ('predicate', 'NN'), ('logic', 'NN'), ('use', 'NN'), ('variables', 'NNS'), ('constants', 'NNS'), ('selection', 'NN'), ('projection', 'NN'), ('queries', 'NNS'), ('parts', 'NNS'), ('calculus', 'NN'), ('calculus', 'NN'), ('domain', 'NN'), ('calculus', 'NN'), ('set', 'NN'), ('tuples', 'NNS'), ('condition', 'NN'), ('predicates', 'NNS'), ('variables', 'NNS'), ('constants', 'NNS'), ('calculus', 'NN'), ('set', 'NN'), ('tuples', 'NNS'), ('way', 'NN'), ('relations', 'NNS'), ('variables', 'NNS'), ('constants', 'NNS'), ('syntax', 'NN'), ('drc', 'NN'), ('consists', 'NNS'), ('parts', 'NNS'), ('expression', 'NN'), ('formula', 'NN'), ('query', 'NN'), ('operator', 'NN'), ('expression', 'NN'), ('information', 'NN'), ('database', 'NN'), ('query', 'NN'), ('operator', 'NN'), ('specifies', 'NNS'), ('tuples', 'NNS'), ('result', 'NN'), ('example', 'NN'), ('relation', 'NN'), ('courses', 'NNS'), ('attributes', 'NNS'), ('credithours', 'NN'), ('drc', 'NN'), ('courses', 'NNS'), ('credit', 'NN'), ('hours', 'NNS'), ('expression', 'NN'), ('coursest', 'NN'), ('tcredithours', 'NN'), ('expression', 'NN'), ('tuples', 'NNS'), ('relation', 'NN'), ('courses', 'NNS'), ('credithours', 'NNS'), ('value', 'NN'), ('result', 'NN'), ('query', 'NN'), ('operator', 'NN'), ('tuples', 'NNS'), ('result', 'NN'), ('t', 'NN'), ('courset', 'NN'), ('tcredithours', 'NNS')]\n",
      "[('trigger', 'NN'), ('procedure', 'NN'), ('database', 'NN'), ('event', 'NN'), ('parts', 'NNS'), ('event', 'NN'), ('action', 'NN'), ('trigger', 'NN'), ('restriction', 'NN'), ('event', 'NN'), ('condition', 'NN'), ('trigger', 'NN'), ('update', 'NN'), ('operation', 'NN'), ('table', 'NN'), ('action', 'NN'), ('task', 'NN'), ('event', 'NN'), ('table', 'NN'), ('data', 'NNS'), ('table', 'NN'), ('restriction', 'NN'), ('defines', 'NNS'), ('rows', 'NNS'), ('data', 'NNS'), ('action', 'NN'), ('example', 'NN'), ('column', 'NN'), ('value', 'NN'), ('rowlevel', 'NN'), ('triggers', 'NNS'), ('row', 'NN'), ('data', 'NNS'), ('statementlevel', 'NN'), ('triggers', 'NNS'), ('statement', 'NN'), ('eg', 'NN'), ('affects', 'NNS'), ('number', 'NN'), ('rows', 'NNS'), ('regardless', 'NN'), ('rows', 'NNS')]\n",
      "[('trigger', 'NN'), ('type', 'NN'), ('procedure', 'NN'), ('database', 'NN'), ('management', 'NN'), ('system', 'NN'), ('dbms', 'NN'), ('event', 'NN'), ('parts', 'NNS'), ('event', 'NN'), ('conditions', 'NNS'), ('trigger', 'NN'), ('examples', 'NNS'), ('data', 'NNS'), ('action', 'NN'), ('action', 'NN'), ('trigger', 'NN'), ('fires', 'NNS'), ('example', 'NN'), ('table', 'NN'), ('data', 'NNS'), ('table', 'NN'), ('defines', 'NNS'), ('trigger', 'NN'), ('relation', 'NN'), ('event', 'NN'), ('example', 'NN'), ('statement', 'NN'), ('row', 'NN'), ('level', 'NN'), ('triggers', 'NNS'), ('time', 'NN'), ('row', 'NN'), ('update', 'NN'), ('operation', 'NN'), ('table', 'NN'), ('statement', 'NN'), ('level', 'NN'), ('triggers', 'NNS'), ('sql', 'NN'), ('statement', 'NN'), ('regardless', 'NN'), ('rows', 'NNS')]\n",
      "[('group', 'NN'), ('group', 'NN'), ('clause', 'NN'), ('sql', 'NN'), ('rows', 'NNS'), ('table', 'NN'), ('groups', 'NNS'), ('group', 'NN'), ('clause', 'NN'), ('functions', 'NNS'), ('min', 'NN'), ('sum', 'NN'), ('avg', 'NN'), ('group', 'NN'), ('resultset', 'NN'), ('columns', 'NNS'), ('clause', 'NN'), ('sql', 'NN'), ('records', 'NNS'), ('result', 'NN'), ('set', 'NN'), ('statement', 'NN'), ('conditions', 'NNS'), ('clause', 'NN'), ('clause', 'NN'), ('grouped', 'NN'), ('records', 'NNS'), ('group', 'NN'), ('clause', 'NN')]\n",
      "[('clause', 'NN'), ('functions', 'NNS'), ('group', 'NN'), ('clause', 'NN'), ('groups', 'NNS'), ('values', 'NNS'), ('clause', 'NN'), ('clause', 'NN'), ('order', 'NN'), ('rows', 'NNS'), ('conditions', 'NNS'), ('clause', 'NN'), ('group', 'NN'), ('clause', 'NN')]\n",
      "[('integrity', 'NN'), ('constraints', 'NNS'), ('sql', 'NN'), ('attributes', 'NNS'), ('tables', 'NNS'), ('constraints', 'NNS'), ('data', 'NNS'), ('accuracy', 'NN'), ('consistency', 'NN'), ('integrity', 'NN'), ('examples', 'NNS'), ('integrity', 'NN'), ('constraints', 'NNS'), ('integrity', 'NN'), ('constraints', 'NNS'), ('constraints', 'NNS'), ('triggers', 'NNS'), ('integrity', 'NN'), ('integrity', 'NN'), ('type', 'NN'), ('constraint', 'NN'), ('consistency', 'NN'), ('data', 'NNS'), ('tables', 'NNS'), ('keys', 'NNS'), ('keys', 'NNS'), ('table', 'NN'), ('accuracy', 'NN'), ('consistency', 'NN'), ('data', 'NNS'), ('tables', 'NNS'), ('constraints', 'NNS'), ('constraints', 'NNS'), ('relationship', 'NN'), ('tables', 'NNS'), ('database', 'NN'), ('value', 'NN'), ('table', 'NN'), ('value', 'NN'), ('table', 'NN'), ('relationship', 'NN'), ('data', 'NNS'), ('accuracy', 'NN'), ('consistency', 'NN'), ('database', 'NN'), ('check', 'NN'), ('constraints', 'NNS'), ('constraints', 'NNS'), ('conditions', 'NNS'), ('columns', 'NN'), ('table', 'NN'), ('example', 'NN'), ('values', 'NNS'), ('range', 'NN'), ('column', 'NN'), ('constraint', 'NN'), ('purpose', 'NN'), ('accuracy', 'NN'), ('consistency', 'NN'), ('data', 'NNS'), ('database', 'NN'), ('values', 'NNS'), ('column', 'NN'), ('triggers', 'NNS'), ('procedures', 'NNS'), ('events', 'NNS'), ('database', 'NN'), ('inserting', 'NN'), ('rows', 'NNS'), ('tables', 'NNS'), ('columns', 'NNS'), ('values', 'NNS'), ('triggers', 'NNS'), ('business', 'NN'), ('rules', 'NNS'), ('deletes', 'NNS'), ('updates', 'NNS'), ('tables', 'NNS'), ('data', 'NNS'), ('accuracy', 'NN'), ('integrity', 'NN'), ('database', 'NN'), ('system', 'NN')]\n",
      "[('integrity', 'NN'), ('constraints', 'NNS'), ('set', 'NN'), ('rules', 'NNS'), ('order', 'NN'), ('accuracy', 'NN'), ('consistency', 'NN'), ('data', 'NNS'), ('database', 'NN'), ('constraints', 'NNS'), ('data', 'NN'), ('database', 'NN'), ('time', 'NN'), ('type', 'NN'), ('integrity', 'NN'), ('constraint', 'NN'), ('integrity', 'NN'), ('values', 'NNS'), ('correspond', 'NN'), ('values', 'NNS'), ('table', 'NN'), ('prevents', 'NNS'), ('records', 'NNS'), ('record', 'NN'), ('table', 'NN'), ('examples', 'NNS'), ('integrity', 'NN'), ('constraints', 'NNS'), ('range', 'NN'), ('values', 'NNS'), ('attribute', 'NN'), ('entity', 'NN'), ('integrity', 'NN'), ('keys', 'NNS'), ('values', 'NNS'), ('business', 'NN'), ('rule', 'NN'), ('constraints', 'NNS'), ('business', 'NN'), ('rules', 'NNS'), ('sql', 'NN'), ('integrity', 'NN'), ('constraints', 'NNS'), ('ddl', 'NN'), ('data', 'NNS'), ('definition', 'NN'), ('language', 'NN'), ('commands', 'NNS'), ('create', 'NN'), ('table', 'NN'), ('alter', 'NN'), ('table', 'NN'), ('commands', 'NNS'), ('users', 'NNS'), ('types', 'NNS'), ('constraints', 'NNS'), ('domain', 'NN'), ('entity', 'NN'), ('business', 'NN'), ('rule', 'NN'), ('constraints', 'NNS')]\n",
      "[('avg', 'NN'), ('aggregate', 'NN'), ('operator', 'NN'), ('average', 'NN'), ('set', 'NN'), ('values', 'NNS'), ('example', 'NN'), ('price', 'NN'), ('products', 'NNS'), ('table', 'NN'), ('query', 'NN'), ('avgprice', 'NN'), ('products', 'NNS'), ('count', 'NN'), ('aggregate', 'NN'), ('operator', 'NN'), ('number', 'NN'), ('rows', 'NNS'), ('table', 'NN'), ('group', 'NN'), ('example', 'NN'), ('number', 'NN'), ('products', 'NNS'), ('table', 'NN'), ('query', 'NN'), ('count', 'NN'), ('products', 'NNS'), ('aggregate', 'NN'), ('operator', 'NN'), ('value', 'NN'), ('set', 'NN'), ('values', 'NNS'), ('example', 'NN'), ('price', 'NN'), ('products', 'NNS'), ('table', 'NN'), ('query', 'NN'), ('maxprice', 'NN'), ('products', 'NNS'), ('aggregate', 'NN'), ('operator', 'NN'), ('value', 'NN'), ('set', 'NN'), ('values', 'NNS'), ('example', 'NN'), ('price', 'NN'), ('products', 'NNS'), ('table', 'NN'), ('query', 'NN'), ('minprice', 'NN'), ('products', 'NNS'), ('aggregate', 'NN'), ('operator', 'NN'), ('sums', 'NNS'), ('sets', 'NNS'), ('values', 'NNS'), ('example', 'NN'), ('prices', 'NNS'), ('products', 'NNS'), ('table', 'NN'), ('query', 'NN'), ('sumprice', 'NN'), ('products', 'NNS')]\n",
      "[('avg', 'NN'), ('aggregate', 'NN'), ('operator', 'NN'), ('average', 'NN'), ('set', 'NN'), ('values', 'NNS'), ('example', 'NN'), ('price', 'NN'), ('products', 'NNS'), ('table', 'NN'), ('query', 'NN'), ('avgprice', 'NN'), ('products', 'NNS'), ('count', 'NN'), ('aggregate', 'NN'), ('operator', 'NN'), ('number', 'NN'), ('rows', 'NNS'), ('table', 'NN'), ('group', 'NN'), ('example', 'NN'), ('number', 'NN'), ('products', 'NNS'), ('table', 'NN'), ('query', 'NN'), ('count', 'NN'), ('products', 'NNS'), ('aggregate', 'NN'), ('operator', 'NN'), ('value', 'NN'), ('set', 'NN'), ('values', 'NNS'), ('example', 'NN'), ('price', 'NN'), ('products', 'NNS'), ('table', 'NN'), ('query', 'NN'), ('maxprice', 'NN'), ('products', 'NNS'), ('aggregate', 'NN'), ('operator', 'NN'), ('value', 'NN'), ('set', 'NN'), ('values', 'NNS'), ('example', 'NN'), ('price', 'NN'), ('products', 'NNS'), ('table', 'NN'), ('query', 'NN'), ('minprice', 'NN'), ('products', 'NNS'), ('aggregate', 'NN'), ('operator', 'NN'), ('sums', 'NNS'), ('sets', 'NNS'), ('values', 'NNS'), ('example', 'NN'), ('prices', 'NNS'), ('products', 'NNS'), ('table', 'NN'), ('query', 'NN'), ('sumprice', 'NN'), ('products', 'NNS')]\n",
      "[('query', 'NN'), ('type', 'NN'), ('query', 'NN'), ('subqueries', 'NNS'), ('subqueries', 'NNS'), ('queries', 'NNS'), ('query', 'NN'), ('results', 'NNS'), ('outer', 'NN'), ('query', 'NN'), ('query', 'NN'), ('data', 'NNS'), ('tables', 'NNS'), ('result', 'NN'), ('statement', 'NN')]\n",
      "[('query', 'NN'), ('query', 'NN'), ('subqueries', 'NNS'), ('subquery', 'NN'), ('query', 'NN'), ('query', 'NN'), ('data', 'NNS'), ('query', 'NN')]\n",
      "[('redundancy', 'NN'), ('duplication', 'NN'), ('data', 'NNS'), ('components', 'NNS'), ('order', 'NN'), ('reliability', 'NN'), ('availability', 'NN'), ('fault', 'NN'), ('tolerance', 'NN'), ('redundancy', 'NN'), ('problems', 'NNS'), ('redundant', 'NN'), ('components', 'NNS'), ('uptodate', 'NN'), ('example', 'NN'), ('system', 'NN'), ('power', 'NN'), ('supplies', 'NNS'), ('system', 'NN'), ('capacity', 'NN'), ('performance', 'NN'), ('systems', 'NNS'), ('maintenance', 'NN'), ('resources', 'NNS')]\n",
      "[('redundancy', 'NN'), ('copies', 'NNS'), ('data', 'NNS'), ('database', 'NN'), ('problem', 'NN'), ('database', 'NN'), ('problems', 'NNS'), ('redundancy', 'NN'), ('insertion', 'NN'), ('deletion', 'NN'), ('anomaly', 'NN'), ('updation', 'NN'), ('anomaly', 'NN'), ('insertion', 'NN'), ('anomaly', 'NN'), ('student', 'NN'), ('detail', 'NN'), ('course', 'NN'), ('insertion', 'NN'), ('time', 'NN'), ('course', 'NN'), ('student', 'NN'), ('problem', 'NN'), ('insertion', 'NN'), ('data', 'NN'), ('record', 'NN'), ('data', 'NNS'), ('record', 'NN'), ('deletion', 'NN'), ('details', 'NNS'), ('students', 'NNS'), ('table', 'NN'), ('details', 'NNS'), ('college', 'NN'), ('sense', 'NN'), ('anomaly', 'NN'), ('deletion', 'NN'), ('data', 'NN'), ('record', 'NN'), ('results', 'NNS'), ('information', 'NN'), ('part', 'NN'), ('record', 'NN'), ('table', 'NN'), ('information', 'NN'), ('information', 'NN'), ('table', 'NN'), ('anomaly', 'NNS'), ('rank', 'NN'), ('college', 'NN'), ('changes', 'NNS'), ('changes', 'NNS'), ('database', 'NN'), ('places', 'NNS'), ('state', 'NN')]\n",
      "[('decomposition', 'NN'), ('process', 'NN'), ('system', 'NN'), ('problem', 'NN'), ('parts', 'NNS'), ('troubleshooting', 'NN'), ('analysis', 'NN'), ('decomposition', 'NN'), ('redundancy', 'NN'), ('data', 'NNS'), ('processes', 'NNS'), ('task', 'NN'), ('hand', 'NN'), ('problem', 'NN'), ('decompositions', 'NNS'), ('loss', 'NN'), ('system', 'NN'), ('information', 'NN'), ('process', 'NN'), ('system', 'NN'), ('processes', 'NNS'), ('data', 'NNS'), ('decomposition', 'NN')]\n",
      "[('decomposition', 'NN'), ('process', 'NN'), ('problem', 'NN'), ('system', 'NN'), ('components', 'NNS'), ('concept', 'NN'), ('database', 'NN'), ('design', 'NN'), ('programming', 'NN'), ('redundancy', 'NN'), ('data', 'NNS'), ('integrity', 'NN'), ('data', 'NNS'), ('access', 'NN'), ('decomposition', 'NN'), ('database', 'NN'), ('tables', 'NNS'), ('decomposition', 'NN'), ('redundancy', 'NN'), ('data', 'NN'), ('parts', 'NNS'), ('storage', 'NN'), ('information', 'NN'), ('database', 'NN'), ('performance', 'NN'), ('data', 'NN'), ('data', 'NN'), ('redundant', 'NN'), ('information', 'NN'), ('amount', 'NN'), ('storage', 'NN'), ('space', 'NN'), ('amount', 'NN'), ('information', 'NN'), ('database', 'NN'), ('tables', 'NNS'), ('changes', 'NNS'), ('problems', 'NNS'), ('decompositions', 'NNS'), ('databases', 'NNS'), ('complexity', 'NN'), ('tables', 'NNS'), ('queries', 'NNS'), ('conflicts', 'NNS'), ('versions', 'NNS'), ('table', 'NN'), ('maintenance', 'NN'), ('costs', 'NNS'), ('tables', 'NNS'), ('changes', 'NNS'), ('risk', 'NN'), ('inconsistency', 'NN'), ('joins', 'NNS'), ('tables', 'NNS'), ('overhead', 'NN'), ('datasets', 'NNS'), ('joins', 'NNS'), ('loss', 'NN'), ('performance', 'NN'), ('complexity', 'NN'), ('queries', 'NNS')]\n",
      "[('dependencies', 'NNS'), ('fds', 'NNS'), ('way', 'NN'), ('relationship', 'NN'), ('attributes', 'NNS'), ('database', 'NN'), ('attribute', 'NN'), ('example', 'NN'), ('table', 'NN'), ('employee', 'NN'), ('id', 'NN'), ('employee', 'NN'), ('name', 'NN'), ('fd', 'NN'), ('employee', 'NN'), ('employee', 'NN'), ('name', 'NN'), ('meaning', 'NN'), ('value', 'NN'), ('employee', 'NN'), ('id', 'NN'), ('value', 'NN'), ('employee', 'NN'), ('name', 'NN'), ('keys', 'NNS'), ('fds', 'NNS'), ('records', 'NNS'), ('table', 'NN'), ('key', 'NN'), ('attributes', 'NNS'), ('identifier', 'NN'), ('record', 'NN'), ('table', 'NN'), ('fd', 'NN'), ('attributes', 'NNS'), ('duplicate', 'NN'), ('records', 'NNS'), ('values', 'NNS'), ('attribute', 'NN'), ('key', 'NN')]\n",
      "[('dependencies', 'NNS'), ('fds', 'NNS'), ('constraints', 'NNS'), ('relationship', 'NN'), ('attributes', 'NNS'), ('relation', 'NN'), ('state', 'NN'), ('value', 'NN'), ('attribute', 'NN'), ('determinant', 'NN'), ('value', 'NN'), ('attribute', 'NN'), ('dependent', 'NN'), ('example', 'NN'), ('table', 'NN'), ('columns', 'NN'), ('b', 'NN'), ('fd', 'NN'), ('b', 'NN'), ('keys', 'NNS'), ('keys', 'NNS'), ('uniqueness', 'NN'), ('table', 'NN'), ('rows', 'NNS'), ('values', 'NNS'), ('attributes', 'NNS'), ('fds', 'NN'), ('table', 'NN'), ('row', 'NN'), ('values', 'NNS'), ('attributes', 'NNS'), ('determinants', 'NNS'), ('value', 'NN')]\n",
      "[('normalization', 'NN'), ('process', 'NN'), ('data', 'NNS'), ('database', 'NN'), ('data', 'NNS'), ('redundancy', 'NN'), ('data', 'NNS'), ('integrity', 'NN'), ('normalization', 'NN'), ('tables', 'NNS'), ('ones', 'NNS'), ('relationships', 'NNS'), ('goal', 'NN'), ('normalization', 'NN'), ('table', 'NN'), ('information', 'NN'), ('form', 'NN'), ('form', 'NN'), ('normalization', 'NN'), ('values', 'NNS'), ('table', 'NN'), ('ie', 'NN'), ('row', 'NN'), ('value', 'NN'), ('attribute', 'NN'), ('column', 'NN'), ('form', 'NN'), ('form', 'NN'), ('nf', 'NN'), ('attributes', 'NNS'), ('primary', 'NN'), ('key', 'NN'), ('words', 'NNS'), ('attributes', 'NNS'), ('part', 'NN'), ('key', 'NN'), ('primary', 'NN'), ('key', 'NN'), ('values', 'NNS'), ('part', 'NN'), ('form', 'NN'), ('form', 'NN'), ('nf', 'NN'), ('attribute', 'NN'), ('attribute', 'NN'), ('words', 'NNS'), ('attributes', 'NNS'), ('key', 'NN'), ('candidate', 'NN'), ('keys', 'NNS'), ('values', 'NNS'), ('attributes', 'NNS'), ('table', 'NN')]\n",
      "[('normalization', 'NN'), ('process', 'NN'), ('data', 'NNS'), ('database', 'NN'), ('redundancy', 'NN'), ('data', 'NNS'), ('integrity', 'NN'), ('tables', 'NNS'), ('tables', 'NNS'), ('relationships', 'NNS'), ('form', 'NN'), ('form', 'NN'), ('normalization', 'NN'), ('cell', 'NN'), ('table', 'NN'), ('value', 'NN'), ('groups', 'NNS'), ('data', 'NNS'), ('form', 'NN'), ('form', 'NN'), ('refines', 'NNS'), ('attributes', 'NNS'), ('primary', 'NN'), ('key', 'NN'), ('part', 'NN'), ('form', 'NN'), ('form', 'NN'), ('refines', 'NNS'), ('attributes', 'NNS'), ('meaning', 'NN'), ('values', 'NNS')]\n",
      "[('form', 'NN'), ('form', 'NN'), ('form', 'NN'), ('bcnf', 'NN'), ('concept', 'NN'), ('dependency', 'NN'), ('determinant', 'NN'), ('relation', 'NN'), ('candidate', 'NN'), ('key', 'NN'), ('relation', 'NN'), ('relations', 'NNS'), ('contrast', 'NN'), ('nf', 'NN'), ('attributes', 'NNS'), ('attributes', 'NNS'), ('attributes', 'NNS'), ('restrictions', 'NNS'), ('data', 'NN'), ('structure', 'NN'), ('nf', 'NN'), ('anomalies', 'NNS'), ('data', 'NN'), ('database', 'NN'), ('eliminates', 'NNS'), ('types', 'NNS'), ('anomalies', 'NNS'), ('nf', 'NNS'), ('anomalies', 'NNS'), ('insertion', 'NN'), ('anomalies', 'NNS')]\n",
      "[('form', 'NN'), ('form', 'NN'), ('forms', 'NNS'), ('database', 'NN'), ('normalization', 'NN'), ('bcnf', 'NN'), ('extension', 'NN'), ('nf', 'NN'), ('rules', 'NNS'), ('nf', 'NN'), ('difference', 'NN'), ('bcnf', 'NN'), ('order', 'NN'), ('relation', 'NN'), ('bcnf', 'NN'), ('criteria', 'NNS'), ('form', 'NN'), ('determinants', 'NNS'), ('candidate', 'NN'), ('key', 'NN'), ('contrast', 'NN'), ('relation', 'NN'), ('form', 'NN'), ('criteria', 'NNS'), ('attributes', 'NNS'), ('determinants', 'NNS'), ('candidate', 'NN'), ('key', 'NN'), ('superkey', 'NN'), ('bcfn', 'NN'), ('fn', 'NN'), ('database', 'NN'), ('normalization', 'NN'), ('difference', 'NN'), ('bcfn', 'NN'), ('determinants', 'NNS'), ('fn', 'NN'), ('requirement', 'NN')]\n",
      "[('decompositions', 'NNS'), ('process', 'NN'), ('problem', 'NN'), ('pieces', 'NNS'), ('decompositions', 'NNS'), ('problems', 'NNS'), ('decompositions', 'NNS'), ('components', 'NNS'), ('system', 'NN'), ('relationships', 'NNS'), ('decompositions', 'NNS'), ('representation', 'NN'), ('system', 'NN'), ('decompositions', 'NNS'), ('modularity', 'NN'), ('code', 'NN'), ('reuse', 'NN'), ('maintainability', 'NN'), ('software', 'NN'), ('systems', 'NNS'), ('time', 'NN')]\n",
      "[('properties', 'NNS'), ('decomposition', 'NN'), ('preservation', 'NN'), ('dependencies', 'NNS'), ('algorithms', 'NN'), ('relation', 'NN'), ('schema', 'NN'), ('r', 'NN'), ('set', 'NN'), ('relation', 'NN'), ('schemas', 'NN'), ('d', 'NN'), ('r', 'NN'), ('r', 'NN'), ('database', 'NN'), ('schema', 'NN'), ('d', 'NN'), ('decomposition', 'NN'), ('rthe', 'NN'), ('attributes', 'NNS'), ('r', 'NN'), ('relation', 'NN'), ('schema', 'NN'), ('ri', 'NN'), ('decomposition', 'NN'), ('attribute', 'NN'), ('attribute', 'NN'), ('preservation', 'NN'), ('condition', 'NN'), ('decomposition', 'NN'), ('dependency', 'NN'), ('dependency', 'NN'), ('xy', 'NNP'), ('f', 'NN'), ('relation', 'NN'), ('schemas', 'NN'), ('ri', 'NN'), ('decomposition', 'NN'), ('d', 'NN'), ('dependencies', 'NNS'), ('ri', 'NN'), ('dependency', 'NN'), ('decomposition', 'NN'), ('dependency', 'NN'), ('decomposition', 'NN'), ('condition', 'NN'), ('join', 'NN'), ('relations', 'NNS'), ('decomposition', 'NN'), ('dependencies', 'NNS'), ('relation', 'NN'), ('r', 'NN'), ('relation', 'NN'), ('riit', 'NN'), ('union', 'NN'), ('dependencies', 'NNS'), ('relations', 'NNS'), ('dependencies', 'NNS'), ('r', 'NN'), ('non', 'NN'), ('join', 'NN'), ('property', 'NN'), ('property', 'NN'), ('decomposition', 'NN'), ('d', 'NN'), ('join', 'NN'), ('property', 'NN'), ('tuples', 'NNS'), ('join', 'NN'), ('operation', 'NN'), ('relations', 'NNS'), ('decomposition', 'NN'), ('redundancy', 'NN'), ('decomposition', 'NN'), ('problems', 'NNS'), ('design', 'NN'), ('anomalies', 'NNS'), ('inconsistencies', 'NNS'), ('relation', 'NN'), ('decomposition', 'NN'), ('problems', 'NNS'), ('loss', 'NN'), ('information', 'NN'), ('lossless', 'NN'), ('join', 'NN'), ('join', 'NN'), ('property', 'NN'), ('feature', 'NN'), ('decomposition', 'NN'), ('normalization', 'NN'), ('ability', 'NN'), ('instance', 'NN'), ('relation', 'NN'), ('instances', 'NNS'), ('relations', 'NNS')]\n",
      "[('schema', 'NN'), ('refinement', 'NN'), ('process', 'NN'), ('structure', 'NN'), ('database', 'NN'), ('changes', 'NNS'), ('data', 'NNS'), ('model', 'NN'), ('performance', 'NN'), ('scalability', 'NN'), ('security', 'NN'), ('database', 'NN'), ('tables', 'NNS'), ('columns', 'NNS'), ('data', 'NNS'), ('types', 'NNS'), ('indexes', 'NNS'), ('constraints', 'NNS'), ('relationships', 'NNS'), ('tables', 'NNS'), ('modifications', 'NNS'), ('performance', 'NN'), ('schema', 'NN'), ('elements', 'NNS'), ('structure', 'NN'), ('schema', 'NN'), ('refinement', 'NN'), ('part', 'NN'), ('database', 'NN'), ('design', 'NN'), ('databases', 'NNS'), ('use', 'NN')]\n",
      "[('schema', 'NN'), ('refinement', 'NN'), ('process', 'NN'), ('structure', 'NN'), ('database', 'NN'), ('changes', 'NNS'), ('data', 'NNS'), ('model', 'NN'), ('performance', 'NN'), ('scalability', 'NN'), ('security', 'NN'), ('database', 'NN'), ('tables', 'NNS'), ('columns', 'NNS'), ('data', 'NNS'), ('types', 'NNS'), ('indexes', 'NNS'), ('constraints', 'NNS'), ('relationships', 'NNS'), ('tables', 'NNS'), ('modifications', 'NNS'), ('performance', 'NN'), ('schema', 'NN'), ('elements', 'NNS'), ('structure', 'NN'), ('schema', 'NN'), ('refinement', 'NN'), ('part', 'NN'), ('database', 'NN'), ('design', 'NN'), ('databases', 'NNS'), ('use', 'NN')]\n",
      "[('dependencies', 'NNS'), ('dependency', 'NN'), ('mvd', 'NN'), ('relationship', 'NN'), ('sets', 'NNS'), ('attributes', 'NNS'), ('relation', 'NN'), ('set', 'NN'), ('determines', 'NNS'), ('values', 'NNS'), ('set', 'NN'), ('form', 'NN'), ('form', 'NN'), ('extension', 'NN'), ('form', 'NN'), ('dependencies', 'NNS'), ('dependency', 'NN'), ('table', 'NN'), ('tables', 'NNS')]\n",
      "[('dependency', 'NN'), ('dependency', 'NN'), ('values', 'NNS'), ('dependents', 'NNS')]\n",
      "[('join', 'NN'), ('join', 'NN'), ('dependency', 'NN'), ('jd', 'NN'), ('integrity', 'NN'), ('constraint', 'NN'), ('databases', 'NNS'), ('columns', 'NN'), ('relation', 'NN'), ('sets', 'NNS'), ('tuples', 'NNS'), ('columns', 'NNS'), ('set', 'NN'), ('columns', 'NN'), ('relation', 'NN'), ('jd', 'NN'), ('type', 'NN'), ('dependency', 'NN'), ('integrity', 'NN'), ('form', 'NN'), ('fifth', 'NN'), ('form', 'NN'), ('nf', 'NN'), ('form', 'NN'), ('database', 'NN'), ('normalization', 'NN'), ('join', 'NN'), ('dependency', 'NN'), ('consequence', 'NN'), ('definition', 'NN'), ('keys', 'NNS'), ('domains', 'NNS'), ('issues', 'NNS'), ('form', 'NN'), ('issues', 'NNS'), ('cases', 'NNS'), ('nf', 'NN'), ('decomposition', 'NN'), ('meaning', 'NN'), ('information', 'NN'), ('data', 'NNS'), ('table', 'NN'), ('tables', 'NNS'), ('problem', 'NN'), ('join', 'NN'), ('dependencies', 'NNS'), ('keys', 'NNS'), ('domains', 'NNS'), ('table', 'NN')]\n",
      "[('join', 'NN'), ('join', 'NN'), ('dependency', 'NN'), ('constraint', 'NN'), ('columns', 'NN'), ('relation', 'NN'), ('subsets', 'NNS'), ('subset', 'NN'), ('key', 'NN'), ('tuples', 'NNS'), ('relation', 'NN'), ('columns', 'NN'), ('subsets', 'NNS'), ('dependencies', 'NNS'), ('data', 'NNS'), ('integrity', 'NN'), ('consistency', 'NN'), ('part', 'NN'), ('database', 'NN'), ('normalization', 'NN'), ('form', 'NN'), ('form', 'NN'), ('nf', 'NN'), ('form', 'NN'), ('database', 'NN'), ('design', 'NN'), ('join', 'NN'), ('dependency', 'NN'), ('candidate', 'NN'), ('keys', 'NNS'), ('relation', 'NN'), ('join', 'NN'), ('dependency', 'NN'), ('attributes', 'NNS'), ('attributes', 'NNS'), ('part', 'NN'), ('keys', 'NNS'), ('relation', 'NN'), ('nf', 'NN'), ('data', 'NNS'), ('integrity', 'NN'), ('consistency', 'NN'), ('relationships', 'NNS'), ('attributes', 'NNS'), ('candidate', 'NN'), ('keys', 'NNS'), ('redundancy', 'NN'), ('query', 'NN'), ('performance', 'NN')]\n",
      "[('acid', 'NN'), ('atomicity', 'NN'), ('consistency', 'NN'), ('isolation', 'NN'), ('durability', 'NN'), ('set', 'NN'), ('properties', 'NNS'), ('reliability', 'NN'), ('database', 'NN'), ('transactions', 'NNS'), ('atomicity', 'NN'), ('property', 'NN'), ('operations', 'NNS'), ('transaction', 'NN'), ('none', 'NN'), ('example', 'NN'), ('money', 'NN'), ('bank', 'NN'), ('account', 'NN'), ('debit', 'NN'), ('credit', 'NN'), ('operations', 'NNS'), ('none', 'NN'), ('consistency', 'NN'), ('property', 'NN'), ('data', 'NN'), ('transactions', 'NNS'), ('example', 'NN'), ('account', 'NN'), ('balance', 'NN'), ('transaction', 'NN'), ('transaction', 'NN'), ('isolation', 'NN'), ('property', 'NN'), ('transactions', 'NNS'), ('others', 'NNS'), ('results', 'NNS'), ('example', 'NN'), ('users', 'NNS'), ('record', 'NN'), ('database', 'NN'), ('time', 'NN'), ('users', 'NNS'), ('changes', 'NNS'), ('users', 'NNS'), ('changes', 'NNS'), ('users', 'NNS'), ('changes', 'NNS'), ('database', 'NN'), ('durability', 'NN'), ('property', 'NN'), ('transaction', 'NN'), ('database', 'NN'), ('system', 'NN'), ('failure', 'NN'), ('power', 'NN'), ('loss', 'NN'), ('example', 'NN'), ('money', 'NN'), ('bank', 'NN'), ('account', 'NN'), ('computer', 'NN'), ('crashes', 'NNS'), ('changes', 'NNS'), ('database', 'NN'), ('computer', 'NN'), ('transfer', 'NN'), ('acknowledgement', 'NN'), ('computer', 'NN')]\n",
      "[('acid', 'NN'), ('atomicity', 'NN'), ('consistency', 'NN'), ('isolation', 'NN'), ('durability', 'NN'), ('set', 'NN'), ('properties', 'NNS'), ('reliability', 'NN'), ('transaction', 'NN'), ('atomicity', 'NN'), ('transaction', 'NN'), ('unit', 'NN'), ('meaning', 'NN'), ('operations', 'NNS'), ('none', 'NN'), ('example', 'NN'), ('transfer', 'NN'), ('money', 'NN'), ('bank', 'NN'), ('account', 'NN'), ('atomicity', 'NN'), ('property', 'NN'), ('transfer', 'NN'), ('place', 'NN'), ('none', 'NN'), ('consistency', 'NN'), ('property', 'NN'), ('transaction', 'NN'), ('database', 'NN'), ('state', 'NN'), ('state', 'NN'), ('example', 'NN'), ('operation', 'NN'), ('account', 'NN'), ('balance', 'NN'), ('banks', 'NNS'), ('balance', 'NN'), ('eg', 'NN'), ('isolation', 'NN'), ('property', 'NN'), ('transactions', 'NNS'), ('others', 'NNS'), ('execution', 'NN'), ('outcome', 'NN'), ('example', 'NN'), ('users', 'NNS'), ('account', 'NN'), ('transfers', 'NNS'), ('time', 'NN'), ('isolation', 'NN'), ('guarantees', 'NNS'), ('user', 'NN'), ('changes', 'NNS'), ('users', 'NNS'), ('property', 'NN'), ('transaction', 'NN'), ('ie', 'NN'), ('effects', 'NNS'), ('case', 'NN'), ('system', 'NN'), ('failure', 'NN'), ('power', 'NN'), ('loss', 'NN'), ('instance', 'NN'), ('user', 'NN'), ('money', 'NN'), ('account', 'NN'), ('power', 'NN'), ('loss', 'NN'), ('information', 'NN'), ('durability', 'NN'), ('guarantees', 'NNS'), ('information', 'NN'), ('power', 'NN'), ('system', 'NN')]\n",
      "[('atomicity', 'NN'), ('durability', 'NN'), ('principles', 'NNS'), ('database', 'NN'), ('transactions', 'NNS'), ('atomicity', 'NN'), ('operations', 'NNS'), ('transaction', 'NN'), ('none', 'NN'), ('ensures', 'NNS'), ('transaction', 'NN'), ('data', 'NN'), ('event', 'NN'), ('system', 'NN'), ('failure', 'NN'), ('power', 'NN'), ('loss', 'NN'), ('atomicity', 'NN'), ('durability', 'NN'), ('database', 'NN'), ('management', 'NN'), ('system', 'NN'), ('dbms', 'NN'), ('transaction', 'NN'), ('log', 'NN'), ('changes', 'NNS'), ('database', 'NN'), ('transaction', 'NN'), ('log', 'NN'), ('changes', 'NNS'), ('error', 'NN'), ('user', 'NN'), ('request', 'NN'), ('dbms', 'NN'), ('changes', 'NNS'), ('user', 'NN'), ('user', 'NN'), ('mechanisms', 'NNS'), ('concurrent', 'NN'), ('users', 'NNS'), ('changes', 'NNS'), ('data', 'NN'), ('time', 'NN'), ('dbms', 'NN'), ('logging', 'NN'), ('wal', 'NN'), ('durability', 'NN'), ('purposes', 'NNS'), ('records', 'NNS'), ('change', 'NN'), ('case', 'NN'), ('system', 'NN'), ('failure', 'NN'), ('power', 'NN'), ('loss', 'NN')]\n",
      "[('atomicity', 'NN'), ('durability', 'NN'), ('properties', 'NNS'), ('database', 'NN'), ('management', 'NN'), ('systems', 'NNS'), ('atomicity', 'NN'), ('ensures', 'NNS'), ('operations', 'NNS'), ('transaction', 'NN'), ('none', 'NN'), ('durability', 'NN'), ('data', 'NN'), ('system', 'NN'), ('failure', 'NN'), ('atomicity', 'NN'), ('durability', 'NN'), ('dbmss', 'NN'), ('combination', 'NN'), ('techniques', 'NNS'), ('logging', 'NN'), ('twophase', 'NN'), ('commit', 'NN'), ('logging', 'NN'), ('details', 'NNS'), ('transaction', 'NN'), ('database', 'NN'), ('transactions', 'NNS'), ('case', 'NN'), ('system', 'NN'), ('failure', 'NN'), ('helps', 'NN'), ('durability', 'NN'), ('data', 'NNS'), ('memory', 'NN'), ('storage', 'NN'), ('writeahead', 'NN'), ('changes', 'NNS'), ('transaction', 'NN'), ('log', 'NN'), ('file', 'NN'), ('database', 'NN'), ('system', 'NN'), ('failure', 'NN'), ('changes', 'NNS'), ('changes', 'NNS'), ('log', 'NN'), ('twophase', 'NN'), ('commit', 'NN'), ('protocol', 'NN'), ('atomicity', 'NN'), ('durability', 'NN'), ('transactions', 'NNS'), ('environment', 'NN'), ('none', 'NN'), ('protocol', 'NN'), ('node', 'NN'), ('coordinator', 'NN'), ('nodes', 'NNS'), ('participants', 'NNS'), ('order', 'NN'), ('atomicity', 'NN'), ('databases', 'NNS'), ('locations', 'NNS'), ('techniques', 'NNS'), ('atomicity', 'NN'), ('durability', 'NN'), ('transactions', 'NNS'), ('systems', 'NNS')]\n",
      "[('serializability', 'NN'), ('property', 'NN'), ('database', 'NN'), ('transactions', 'NNS'), ('execution', 'NN'), ('transactions', 'NNS'), ('result', 'NN'), ('operations', 'NNS'), ('order', 'NN'), ('words', 'NNS'), ('matter', 'NN'), ('order', 'NN'), ('operations', 'NNS'), ('end', 'NN'), ('result', 'NN'), ('serializability', 'NN'), ('data', 'NNS'), ('consistency', 'NN'), ('updates', 'NNS'), ('results', 'NNS'), ('race', 'NN'), ('conditions', 'NNS'), ('serializability', 'NN'), ('locks', 'NNS'), ('timestamps', 'NNS'), ('operations', 'NNS'), ('locks', 'NNS'), ('transactions', 'NNS'), ('data', 'NN'), ('item', 'NN'), ('time', 'NN'), ('timestamps', 'NNS'), ('order', 'NN'), ('operations', 'NNS'), ('correctness', 'NN'), ('addition', 'NN'), ('serializability', 'NN'), ('locks', 'NNS'), ('timestamps', 'NNS'), ('transaction', 'NN'), ('isolation', 'NN'), ('reads', 'NNS'), ('data', 'NNS'), ('reads', 'NNS'), ('data', 'NNS'), ('results', 'NNS'), ('serializability', 'NN'), ('reads', 'NNS'), ('rows', 'NNS'), ('transaction', 'NN')]\n",
      "[('serializability', 'NN'), ('property', 'NN'), ('transaction', 'NN'), ('transactions', 'NNS'), ('order', 'NN'), ('transactions', 'NNS'), ('transaction', 'NN'), ('transactions', 'NNS'), ('guarantee', 'NN'), ('data', 'NNS'), ('integrity', 'NN'), ('consistency', 'NN'), ('transactions', 'NNS'), ('order', 'NN'), ('serializability', 'NN'), ('database', 'NN'), ('system', 'NN'), ('changes', 'NNS'), ('transaction', 'NN'), ('transactions', 'NNS'), ('transaction', 'NN'), ('changes', 'NNS'), ('transaction', 'NN'), ('changes', 'NNS'), ('transaction', 'NN'), ('conflicts', 'NNS'), ('transactions', 'NNS'), ('guarantees', 'NNS'), ('data', 'NNS'), ('integrity', 'NN'), ('consistency', 'NN'), ('serializability', 'NN'), ('concept', 'NN'), ('database', 'NN'), ('systems', 'NNS'), ('data', 'NNS'), ('integrity', 'NN'), ('consistency', 'NN'), ('multiple', 'NN'), ('users', 'NNS'), ('access', 'NN'), ('data', 'NN'), ('simultaneously', 'NN'), ('prevent', 'NN'), ('deadlocks', 'NNS'), ('processes', 'NNS'), ('access', 'NN'), ('resource', 'NN'), ('time', 'NN'), ('locks', 'NNS'), ('resource', 'NN')]\n",
      "[('phase', 'NN'), ('twophase', 'NN'), ('protocol', 'NN'), ('concurrency', 'NN'), ('control', 'NN'), ('mechanism', 'NN'), ('atomicity', 'NN'), ('transactions', 'NNS'), ('transactions', 'NNS'), ('locks', 'NNS'), ('data', 'NNS'), ('items', 'NNS'), ('locks', 'NNS'), ('transaction', 'NN'), ('transaction', 'NN'), ('access', 'NN'), ('data', 'NNS'), ('transaction', 'NN'), ('conflicts', 'NNS'), ('transactions', 'NNS'), ('phase', 'NN'), ('twophase', 'NN'), ('protocol', 'NN'), ('extension', 'NN'), ('twophase', 'NN'), ('protocol', 'NN'), ('locks', 'NNS'), ('data', 'NNS'), ('item', 'NN'), ('operations', 'NNS'), ('transaction', 'NN'), ('access', 'NN'), ('data', 'NNS'), ('lock', 'NN'), ('deadlocks', 'NNS'), ('transactions', 'NNS'), ('data', 'NN'), ('transaction', 'NN'), ('serializability', 'NN'), ('atomicity', 'NN'), ('transactions', 'NNS')]\n",
      "[('twophase', 'NN'), ('protocol', 'NN'), ('execution', 'NN'), ('phase', 'NN'), ('transaction', 'NN'), ('parts', 'NNS'), ('part', 'NN'), ('execution', 'NN'), ('transaction', 'NN'), ('permission', 'NN'), ('lock', 'NN'), ('part', 'NN'), ('transaction', 'NN'), ('locks', 'NNS'), ('phase', 'NN'), ('transaction', 'NN'), ('lock', 'NN'), ('phase', 'NN'), ('transaction', 'NN'), ('locks', 'NNS'), ('locks', 'NNS'), ('phases', 'NNS'), ('phase', 'NN'), ('phase', 'NN'), ('lock', 'NN'), ('data', 'NNS'), ('item', 'NN'), ('transaction', 'NN'), ('none', 'NN'), ('phase', 'NN'), ('shrinking', 'NN'), ('phase', 'NN'), ('lock', 'NN'), ('transaction', 'NN'), ('locks', 'NNS'), ('phase', 'NN'), ('strictpl', 'NN'), ('phase', 'NN'), ('locks', 'NNS'), ('transaction', 'NN'), ('difference', 'NN'), ('pl', 'NN'), ('pl', 'NN'), ('strictpl', 'NN'), ('lock', 'NN'), ('waits', 'NNS'), ('transaction', 'NN'), ('commit', 'NN'), ('locks', 'NNS'), ('protocol', 'NN'), ('phase', 'NN'), ('lock', 'NN'), ('release', 'NN'), ('abort', 'NN'), ('pl', 'NN')]\n",
      "[('timestamp', 'NNS'), ('locking', 'NN'), ('protocols', 'NNS'), ('transaction', 'NN'), ('access', 'NN'), ('data', 'NN'), ('item', 'NN'), ('time', 'NN'), ('transaction', 'NN'), ('unique', 'NN'), ('timestamp', 'NN'), ('order', 'NN'), ('transactions', 'NNS'), ('access', 'NN'), ('data', 'NNS'), ('timestamp', 'NN'), ('order', 'NN'), ('transactions', 'NNS'), ('system', 'NN'), ('transaction', 'NN'), ('access', 'NN'), ('data', 'NN'), ('item', 'NN'), ('transaction', 'NN'), ('timestamp', 'NN'), ('transaction', 'NN'), ('item', 'NN'), ('timestamp', 'NN'), ('transaction', 'NN'), ('lock', 'NN'), ('locks', 'NNS'), ('transaction', 'NN'), ('lock', 'NN'), ('operations', 'NNS')]\n",
      "[('timestamp', 'NNS'), ('locking', 'NN'), ('protocols', 'NNS'), ('type', 'NN'), ('concurrency', 'NN'), ('control', 'NN'), ('protocol', 'NN'), ('database', 'NN'), ('management', 'NN'), ('systems', 'NNS'), ('transactions', 'NNS'), ('type', 'NN'), ('protocol', 'NN'), ('timestamp', 'NN'), ('transaction', 'NN'), ('transactions', 'NNS'), ('access', 'NN'), ('data', 'NN'), ('time', 'NN'), ('transactions', 'NNS'), ('locks', 'NNS'), ('data', 'NNS'), ('items', 'NNS'), ('transactions', 'NNS'), ('timestamps', 'NNS'), ('operations', 'NNS'), ('changes', 'NNS'), ('transaction', 'NN'), ('transactions', 'NNS'), ('updates', 'NNS'), ('anomalies', 'NNS')]\n",
      "[('locking', 'NN'), ('protocols', 'NNS'), ('type', 'NN'), ('protocol', 'NN'), ('consistency', 'NN'), ('databases', 'NNS'), ('client', 'NN'), ('server', 'NN'), ('lock', 'NN'), ('validation', 'NN'), ('process', 'NN'), ('process', 'NN'), ('access', 'NN'), ('resource', 'NN'), ('time', 'NN'), ('race', 'NN'), ('conditions', 'NNS'), ('issues', 'NNS'), ('system', 'NN'), ('protocols', 'NNS'), ('form', 'NN'), ('communication', 'NN'), ('client', 'NN'), ('server', 'NN'), ('twophase', 'NN'), ('commit', 'NN'), ('protocol', 'NN'), ('lock', 'NN')]\n",
      "[('locking', 'NN'), ('protocols', 'NNS'), ('type', 'NN'), ('database', 'NN'), ('protocol', 'NN'), ('validation', 'NN'), ('checks', 'NNS'), ('data', 'NNS'), ('consistency', 'NN'), ('protocols', 'NNS'), ('combination', 'NN'), ('locks', 'NNS'), ('validation', 'NN'), ('checks', 'NNS'), ('data', 'NNS'), ('transactions', 'NNS'), ('locking', 'NN'), ('protocols', 'NNS'), ('databases', 'NNS'), ('user', 'NN'), ('data', 'NNS'), ('time', 'NN'), ('purpose', 'NN'), ('protocols', 'NNS'), ('access', 'NN'), ('data', 'NN'), ('users', 'NNS'), ('conflicts', 'NNS'), ('data', 'NNS'), ('integrity', 'NN'), ('locking', 'NN'), ('protocols', 'NNS'), ('steps', 'NNS'), ('lock', 'NN'), ('data', 'NNS'), ('item', 'NN'), ('validation', 'NN'), ('check', 'NN'), ('item', 'NN'), ('transaction', 'NN'), ('item', 'NN'), ('integrity', 'NN')]\n",
      "[('granularity', 'NN'), ('concept', 'NN'), ('use', 'NN'), ('levels', 'NNS'), ('detail', 'NN'), ('resolution', 'NN'), ('data', 'NNS'), ('data', 'NNS'), ('levels', 'NNS'), ('granularities', 'NNS'), ('order', 'NN'), ('insight', 'NN'), ('patterns', 'NNS'), ('trends', 'NNS'), ('example', 'NN'), ('company', 'NN'), ('sales', 'NNS'), ('data', 'NNS'), ('product', 'NN'), ('category', 'NN'), ('region', 'NN'), ('store', 'NN'), ('order', 'NN'), ('factors', 'NNS'), ('sales', 'NNS'), ('performance', 'NN'), ('concept', 'NN'), ('granularity', 'NN'), ('organizations', 'NNS'), ('access', 'NN'), ('datasets', 'NNS'), ('data', 'NNS'), ('components', 'NNS'), ('levels', 'NNS'), ('detail', 'NN'), ('organizations', 'NNS'), ('insights', 'NNS'), ('approach', 'NN'), ('factors', 'NNS'), ('systems', 'NNS'), ('supply', 'NN'), ('chains', 'NNS'), ('customer', 'NN'), ('journeys', 'NNS'), ('granularity', 'NN'), ('areas', 'NNS'), ('improvement', 'NN'), ('organizations', 'NNS'), ('operations', 'NNS'), ('areas', 'NNS'), ('customer', 'NN'), ('service', 'NN'), ('product', 'NN'), ('development', 'NN'), ('organizations', 'NNS'), ('opportunities', 'NNS'), ('improvement', 'NN'), ('levels', 'NNS'), ('analysis', 'NN'), ('approach', 'NN'), ('organizations', 'NNS'), ('efforts', 'NNS'), ('areas', 'NNS'), ('issues', 'NNS'), ('resources', 'NNS'), ('granularity', 'NN'), ('tool', 'NN'), ('insights', 'NNS'), ('datasets', 'NNS'), ('performance', 'NN'), ('data', 'NNS'), ('components', 'NNS'), ('levels', 'NNS'), ('detail', 'NN'), ('organizations', 'NNS'), ('patterns', 'NNS'), ('trends', 'NNS'), ('decisionmaking', 'NN'), ('efficiency', 'NN'), ('board', 'NN')]\n",
      "[('granularity', 'NN'), ('concept', 'NN'), ('use', 'NN'), ('levels', 'NNS'), ('detail', 'NN'), ('resolution', 'NN'), ('data', 'NNS'), ('data', 'NNS'), ('levels', 'NNS'), ('granularities', 'NNS'), ('order', 'NN'), ('insight', 'NN'), ('patterns', 'NNS'), ('trends', 'NNS'), ('example', 'NN'), ('company', 'NN'), ('sales', 'NNS'), ('data', 'NNS'), ('product', 'NN'), ('category', 'NN'), ('region', 'NN'), ('store', 'NN'), ('order', 'NN'), ('factors', 'NNS'), ('sales', 'NNS'), ('performance', 'NN'), ('concept', 'NN'), ('granularity', 'NN'), ('organizations', 'NNS'), ('access', 'NN'), ('datasets', 'NNS'), ('data', 'NNS'), ('components', 'NNS'), ('levels', 'NNS'), ('detail', 'NN'), ('organizations', 'NNS'), ('insights', 'NNS'), ('approach', 'NN'), ('factors', 'NNS'), ('systems', 'NNS'), ('supply', 'NN'), ('chains', 'NNS'), ('customer', 'NN'), ('journeys', 'NNS'), ('granularity', 'NN'), ('areas', 'NNS'), ('improvement', 'NN'), ('organizations', 'NNS'), ('operations', 'NNS'), ('areas', 'NNS'), ('customer', 'NN'), ('service', 'NN'), ('product', 'NN'), ('development', 'NN'), ('organizations', 'NNS'), ('opportunities', 'NNS'), ('improvement', 'NN'), ('levels', 'NNS'), ('analysis', 'NN'), ('approach', 'NN'), ('organizations', 'NNS'), ('efforts', 'NNS'), ('areas', 'NNS'), ('issues', 'NNS'), ('resources', 'NNS'), ('granularity', 'NN'), ('tool', 'NN'), ('insights', 'NNS'), ('datasets', 'NNS'), ('performance', 'NN'), ('data', 'NNS'), ('components', 'NNS'), ('levels', 'NNS'), ('detail', 'NN'), ('organizations', 'NNS'), ('patterns', 'NNS'), ('trends', 'NNS'), ('decisionmaking', 'NN'), ('efficiency', 'NN'), ('board', 'NN')]\n",
      "[('storage', 'NN'), ('structure', 'NN'), ('refers', 'NNS'), ('organization', 'NN'), ('data', 'NNS'), ('computer', 'NN'), ('system', 'NN'), ('retrieval', 'NN'), ('storage', 'NN'), ('data', 'NNS'), ('computer', 'NN'), ('system', 'NN'), ('storage', 'NN'), ('structures', 'NNS'), ('categories', 'NNS'), ('storage', 'NN'), ('storage', 'NN'), ('storage', 'NN'), ('storage', 'NN'), ('memory', 'NN'), ('memory', 'NN'), ('area', 'NN'), ('computer', 'NN'), ('system', 'NN'), ('programs', 'NNS'), ('data', 'NNS'), ('storage', 'NN'), ('access', 'NN'), ('memory', 'NN'), ('ram', 'NN'), ('chips', 'NNS'), ('access', 'NN'), ('information', 'NN'), ('ram', 'NN'), ('retrieval', 'NN'), ('modification', 'NN'), ('information', 'NN'), ('information', 'NN'), ('ram', 'NN'), ('power', 'NN'), ('supply', 'NN'), ('computer', 'NN'), ('storage', 'NN'), ('storage', 'NN'), ('storage', 'NN'), ('data', 'NNS'), ('programs', 'NNS'), ('cpu', 'NN'), ('types', 'NNS'), ('storage', 'NN'), ('disk', 'NN'), ('drives', 'NNS'), ('state', 'NN'), ('drives', 'NNS'), ('discs', 'NN'), ('cds', 'NNS'), ('disks', 'NNS'), ('memory', 'NN'), ('cards', 'NNS'), ('drives', 'NNS'), ('drives', 'NNS'), ('services', 'NNS'), ('s', 'NN'), ('dropbox', 'NN'), ('storage', 'NN'), ('devices', 'NNS'), ('capacities', 'NNS'), ('memory', 'NN'), ('offer', 'NN'), ('access', 'NN'), ('times', 'NNS'), ('cpu', 'NN'), ('memory', 'NN'), ('structures', 'NNS'), ('types', 'NNS'), ('data', 'NNS'), ('files', 'NNS'), ('files', 'NNS'), ('files', 'NNS'), ('store', 'NN'), ('records', 'NNS'), ('fashion', 'NN'), ('files', 'NNS'), ('indexing', 'NN'), ('structure', 'NN'), ('records', 'NNS'), ('records', 'NNS')]\n",
      "[('storage', 'NN'), ('structures', 'NNS'), ('dbms', 'NN'), ('structures', 'NNS'), ('database', 'NN'), ('management', 'NN'), ('system', 'NN'), ('data', 'NNS'), ('query', 'NN'), ('processing', 'NN'), ('sorting', 'NN'), ('operations', 'NNS'), ('storage', 'NN'), ('structures', 'NNS'), ('categories', 'NNS'), ('storage', 'NN'), ('storage', 'NN'), ('storage', 'NN'), ('storage', 'NN'), ('data', 'NNS'), ('type', 'NN'), ('storage', 'NN'), ('access', 'NN'), ('memory', 'NN'), ('ram', 'NN'), ('type', 'NN'), ('computer', 'NN'), ('memory', 'NN'), ('stores', 'NNS'), ('data', 'NNS'), ('way', 'NN'), ('storage', 'NN'), ('cache', 'NN'), ('memory', 'NN'), ('stores', 'NNS'), ('data', 'NNS'), ('faster', 'NN'), ('retrieval', 'NN'), ('storage', 'NN'), ('amounts', 'NNS'), ('data', 'NN'), ('type', 'NN'), ('storage', 'NN'), ('disk', 'NN'), ('drives', 'NNS'), ('disks', 'NNS'), ('data', 'NNS'), ('manner', 'NN'), ('hdds', 'NNS'), ('storage', 'NN'), ('capacity', 'NN'), ('ram', 'NN'), ('cache', 'NN'), ('memory', 'NN'), ('storage', 'NN'), ('amounts', 'NNS'), ('data', 'NNS'), ('type', 'NN'), ('storage', 'NN'), ('discs', 'NN'), ('cds', 'NNS'), ('tape', 'NN'), ('drives', 'NNS'), ('cloud', 'NN'), ('services', 'NNS'), ('s', 'NN'), ('azure', 'NN'), ('blob', 'NN'), ('storage', 'NN'), ('storage', 'NN'), ('capacity', 'NN'), ('cost', 'NN'), ('access', 'NN'), ('times', 'NNS'), ('storages', 'NNS'), ('location', 'NN'), ('processor', 'NN'), ('cases', 'NNS')]\n",
      "[('database', 'NN'), ('modification', 'NN'), ('type', 'NN'), ('database', 'NN'), ('modification', 'NN'), ('changes', 'NNS'), ('data', 'NNS'), ('database', 'NN'), ('changes', 'NNS'), ('memory', 'NN'), ('commit', 'NN'), ('command', 'NN'), ('changes', 'NNS'), ('amount', 'NN'), ('time', 'NN'), ('disk', 'NN'), ('io', 'NN'), ('operations', 'NNS'), ('database', 'NN'), ('modification', 'NN'), ('type', 'NN'), ('database', 'NN'), ('modification', 'NN'), ('changes', 'NNS'), ('data', 'NNS'), ('database', 'NN'), ('need', 'NN'), ('commits', 'NNS'), ('reduces', 'NNS'), ('disk', 'NN'), ('io', 'NN'), ('operations', 'NNS'), ('changes', 'NNS'), ('performance', 'NN'), ('change', 'NN'), ('write', 'NN'), ('operation', 'NN')]\n",
      "[('database', 'NN'), ('modification', 'NN'), ('database', 'NN'), ('modification', 'NN'), ('type', 'NN'), ('database', 'NN'), ('modification', 'NN'), ('effect', 'NN'), ('transaction', 'NN'), ('type', 'NN'), ('modification', 'NN'), ('modifications', 'NNS'), ('record', 'NN'), ('records', 'NNS'), ('order', 'NN'), ('result', 'NN'), ('case', 'NN'), ('modifications', 'NNS'), ('memory', 'NN'), ('transaction', 'NN'), ('database', 'NN'), ('modification', 'NN'), ('database', 'NN'), ('modification', 'NN'), ('type', 'NN'), ('database', 'NN'), ('modification', 'NN'), ('effect', 'NN'), ('type', 'NN'), ('modification', 'NN'), ('changes', 'NNS'), ('data', 'NNS'), ('manipulation', 'NN'), ('calculations', 'NNS'), ('example', 'NN'), ('database', 'NN'), ('modification', 'NN'), ('record', 'NN'), ('values', 'NNS')]\n",
      "[('transactions', 'NNS'), ('ways', 'NNS'), ('type', 'NN'), ('transaction', 'NN'), ('database', 'NN'), ('system', 'NN'), ('recovery', 'NN'), ('transactions', 'NNS'), ('changes', 'NNS'), ('transaction', 'NN'), ('data', 'NNS'), ('pretransaction', 'NN'), ('state', 'NN'), ('variety', 'NN'), ('techniques', 'NNS'), ('recovery', 'NN'), ('checkpointing', 'NN'), ('logs', 'NNS'), ('databases', 'NNS'), ('mechanisms', 'NNS'), ('transaction', 'NN'), ('data', 'NNS'), ('time', 'NN'), ('methods', 'NNS'), ('databases', 'NNS'), ('transactions', 'NNS')]\n",
      "[('recovery', 'NN'), ('transactions', 'NNS'), ('dbms', 'NN'), ('use', 'NN'), ('transaction', 'NN'), ('log', 'NN'), ('records', 'NNS'), ('changes', 'NNS'), ('database', 'NN'), ('transaction', 'NN'), ('changes', 'NNS'), ('transaction', 'NN'), ('process', 'NN'), ('rollback', 'NN'), ('log', 'NN'), ('reexecution', 'NN'), ('transactions', 'NNS'), ('order', 'NN'), ('data', 'NNS'), ('integrity', 'NN'), ('addition', 'NN'), ('system', 'NN'), ('checkpointing', 'NN'), ('shadow', 'NN'), ('techniques', 'NNS'), ('recovery', 'NN'), ('time', 'NN'), ('crash', 'NN'), ('power', 'NN'), ('failure', 'NN')]\n",
      "[('buffer', 'NN'), ('management', 'NN'), ('process', 'NN'), ('buffer', 'NN'), ('storage', 'NN'), ('area', 'NN'), ('computers', 'NNS'), ('memory', 'NN'), ('size', 'NN'), ('usage', 'NN'), ('buffer', 'NN'), ('data', 'NN'), ('buffer', 'NN'), ('management', 'NN'), ('strategies', 'NNS'), ('data', 'NNS'), ('buffer', 'NN'), ('caching', 'NN'), ('goal', 'NN'), ('buffer', 'NN'), ('management', 'NN'), ('data', 'NNS'), ('system', 'NN'), ('delays', 'NNS'), ('buffers', 'NNS')]\n",
      "[('buffer', 'NN'), ('management', 'NN'), ('process', 'NN'), ('database', 'NN'), ('management', 'NN'), ('systems', 'NNS'), ('systems', 'NNS'), ('memory', 'NN'), ('buffer', 'NN'), ('storage', 'NN'), ('area', 'NN'), ('data', 'NNS'), ('instructions', 'NNS'), ('dbms', 'NN'), ('buffer', 'NN'), ('management', 'NN'), ('data', 'NNS'), ('instructions', 'NNS'), ('items', 'NNS'), ('storage', 'NN'), ('devices', 'NNS'), ('disks', 'NNS'), ('system', 'NN'), ('performance', 'NN'), ('disk', 'NN'), ('io', 'NN'), ('operations', 'NNS'), ('management', 'NN'), ('contention', 'NN'), ('resources', 'NNS'), ('processes', 'NNS'), ('access', 'NN'), ('memory', 'NN'), ('time', 'NN')]\n",
      "[('database', 'NN'), ('backup', 'NN'), ('type', 'NN'), ('recovery', 'NN'), ('technique', 'NN'), ('database', 'NN'), ('state', 'NN'), ('backup', 'NN'), ('database', 'NN'), ('data', 'NNS'), ('objects', 'NNS'), ('log', 'NN'), ('backup', 'NN'), ('recovery', 'NN'), ('pitr', 'NN'), ('pitr', 'NN'), ('database', 'NN'), ('point', 'NN'), ('time', 'NN'), ('deletion', 'NN'), ('corruption', 'NN'), ('backups', 'NNS'), ('intervals', 'NNS'), ('backup', 'NN'), ('incident', 'NN'), ('issue', 'NN'), ('log', 'NN'), ('log', 'NN'), ('shipping', 'NN'), ('recovery', 'NN'), ('technique', 'NN'), ('transaction', 'NN'), ('logs', 'NNS'), ('instance', 'NN'), ('sql', 'NN'), ('server', 'NN'), ('instance', 'NN'), ('time', 'NN'), ('basis', 'NN'), ('server', 'NN'), ('failover', 'NN'), ('server', 'NN'), ('data', 'NNS'), ('loss', 'NN'), ('database', 'NN'), ('database', 'NN'), ('mirroring', 'NN'), ('copy', 'NN'), ('production', 'NN'), ('database', 'NN'), ('server', 'NN'), ('times', 'NNS'), ('transactions', 'NNS'), ('server', 'NN'), ('downtime', 'NN'), ('data', 'NN'), ('loss', 'NN'), ('databases', 'NNS'), ('times', 'NNS')]\n",
      "[('recovery', 'NN'), ('type', 'NN'), ('recovery', 'NN'), ('technique', 'NN'), ('database', 'NN'), ('point', 'NN'), ('time', 'NN'), ('incident', 'NN'), ('backup', 'NN'), ('changes', 'NNS'), ('backup', 'NN'), ('point', 'NN'), ('time', 'NN'), ('database', 'NN'), ('restore', 'NN'), ('technique', 'NN'), ('parts', 'NNS'), ('database', 'NN'), ('tables', 'NNS'), ('schemas', 'NN'), ('database', 'NN'), ('components', 'NNS'), ('database', 'NN'), ('need', 'NN'), ('corruption', 'NN'), ('deletion', 'NN'), ('online', 'NN'), ('backup', 'NN'), ('recovery', 'NN'), ('technique', 'NN'), ('backups', 'NNS'), ('databases', 'NNS'), ('recovery', 'NN'), ('times', 'NNS'), ('case', 'NN'), ('incident', 'NN'), ('disaster', 'NN'), ('backups', 'NNS'), ('data', 'NN'), ('points', 'NNS'), ('time', 'NN'), ('log', 'NN'), ('log', 'NN'), ('shipping', 'NN'), ('process', 'NN'), ('transaction', 'NN'), ('logs', 'NNS'), ('server', 'NN'), ('server', 'NN'), ('servers', 'NNS'), ('times', 'NNS'), ('data', 'NNS'), ('loss', 'NN'), ('downtime', 'NN')]\n",
      "[('backup', 'NN'), ('systems', 'NNS'), ('type', 'NN'), ('data', 'NNS'), ('storage', 'NN'), ('solution', 'NN'), ('data', 'NNS'), ('secure', 'NN'), ('location', 'NN'), ('type', 'NN'), ('system', 'NN'), ('businesses', 'NNS'), ('data', 'NNS'), ('safe', 'NN'), ('disasters', 'NNS'), ('events', 'NNS'), ('backup', 'NN'), ('system', 'NN'), ('files', 'NNS'), ('users', 'NNS'), ('computer', 'NN'), ('server', 'NN'), ('storage', 'NN'), ('facility', 'NN'), ('files', 'NNS'), ('transfer', 'NN'), ('process', 'NN'), ('facility', 'NN'), ('users', 'NNS'), ('hardware', 'NN'), ('access', 'NN'), ('data', 'NNS'), ('secure', 'NN'), ('remote', 'NN'), ('location', 'NN'), ('cost', 'NN'), ('backup', 'NN'), ('system', 'NN'), ('factors', 'NNS'), ('data', 'NNS'), ('needs', 'NNS'), ('users', 'NNS'), ('fee', 'NN'), ('setup', 'NN'), ('fee', 'NN'), ('benefit', 'NN'), ('backup', 'NN'), ('system', 'NN'), ('need', 'NN'), ('backups', 'NNS'), ('tape', 'NN'), ('drives', 'NNS'), ('prone', 'NN'), ('failure', 'NN'), ('time', 'NN'), ('storage', 'NN'), ('risk', 'NN'), ('data', 'NNS'), ('case', 'NN'), ('fire', 'NN'), ('flood', 'NN'), ('disaster', 'NN'), ('location', 'NN'), ('systems', 'NNS'), ('features', 'NNS'), ('access', 'NN'), ('versions', 'NNS'), ('files', 'NNS'), ('case', 'NN'), ('something', 'NN'), ('version', 'NN'), ('encryption', 'NN'), ('data', 'NNS'), ('access', 'NN'), ('backups', 'NNS'), ('files', 'NNS'), ('intervention', 'NN'), ('part', 'NN')]\n",
      "[('backup', 'NN'), ('system', 'NN'), ('type', 'NN'), ('data', 'NNS'), ('storage', 'NN'), ('system', 'NN'), ('stores', 'NNS'), ('copy', 'NN'), ('organizations', 'NNS'), ('data', 'NNS'), ('location', 'NN'), ('cloud', 'NN'), ('form', 'NN'), ('disaster', 'NN'), ('recovery', 'NN'), ('business', 'NN'), ('continuity', 'NN'), ('plan', 'NN'), ('organizations', 'NNS'), ('access', 'NN'), ('data', 'NNS'), ('event', 'NN'), ('disaster', 'NN'), ('emergency', 'NN'), ('backup', 'NN'), ('systems', 'NNS'), ('vendors', 'NNS'), ('storage', 'NN'), ('solutions', 'NNS'), ('vendor', 'NN'), ('software', 'NN'), ('users', 'NNS'), ('data', 'NNS'), ('server', 'NN'), ('configure', 'NN'), ('settings', 'NNS'), ('backups', 'NNS'), ('vendor', 'NN'), ('support', 'NN'), ('services', 'NNS'), ('monitoring', 'NN'), ('maintenance', 'NN'), ('advantage', 'NN'), ('backup', 'NN'), ('system', 'NN'), ('need', 'NN'), ('hardware', 'NN'), ('media', 'NNS'), ('tapes', 'NNS'), ('disks', 'NNS'), ('data', 'NN'), ('secure', 'NN'), ('onpremise', 'NN'), ('backups', 'NN'), ('disasters', 'NNS'), ('floods', 'NNS'), ('fires', 'NNS'), ('backups', 'NNS'), ('restores', 'NNS'), ('intervention', 'NN'), ('staff', 'NN'), ('onpremise', 'NN'), ('backups', 'NNS'), ('organizations', 'NNS'), ('factors', 'NNS'), ('backup', 'NN'), ('system', 'NN'), ('cost', 'NN'), ('scalability', 'NN'), ('security', 'NN'), ('reliability', 'NN'), ('customer', 'NN'), ('servicesupport', 'NN'), ('offerings', 'NNS'), ('vendor', 'NN'), ('organizations', 'NNS'), ('data', 'NNS'), ('transmission', 'NN'), ('rest', 'NN'), ('server', 'NN'), ('parties', 'NNS'), ('access', 'NN')]\n",
      "[('hash', 'NN'), ('hash', 'NN'), ('indexing', 'NN'), ('type', 'NN'), ('hash', 'NN'), ('table', 'NN'), ('data', 'NNS'), ('records', 'NNS'), ('database', 'NN'), ('table', 'NN'), ('value', 'NN'), ('fields', 'NNS'), ('record', 'NN'), ('index', 'NN'), ('hash', 'NN'), ('function', 'NN'), ('field', 'NN'), ('value', 'NN'), ('hash', 'NN'), ('key', 'NN'), ('points', 'NNS'), ('location', 'NN'), ('record', 'NN'), ('database', 'NN'), ('table', 'NN'), ('records', 'NNS'), ('values', 'NNS'), ('lookup', 'NN'), ('operation', 'NN'), ('advantage', 'NN'), ('approach', 'NN'), ('access', 'NN'), ('records', 'NNS'), ('need', 'NN'), ('amounts', 'NNS'), ('data', 'NNS'), ('tree', 'NNS'), ('tree', 'NN'), ('indexing', 'NN'), ('type', 'NN'), ('structure', 'NN'), ('data', 'NNS'), ('record', 'NN'), ('node', 'NN'), ('values', 'NNS'), ('faster', 'NN'), ('retrieval', 'NN'), ('values', 'NNS'), ('lookup', 'NN'), ('operation', 'NN'), ('searches', 'NNS'), ('tables', 'NNS'), ('disadvantage', 'NN'), ('approach', 'NN'), ('space', 'NN'), ('types', 'NNS'), ('indexes', 'NNS'), ('node', 'NN'), ('information', 'NN'), ('record', 'NN'), ('location', 'NN'), ('memory', 'NN'), ('disk', 'NN'), ('compression', 'NN'), ('techniques', 'NNS'), ('huffman', 'NN'), ('storage', 'NN'), ('requirements', 'NNS'), ('access', 'NN'), ('times', 'NNS')]\n",
      "[('hash', 'NN'), ('hash', 'NN'), ('indexing', 'NN'), ('type', 'NN'), ('hash', 'NN'), ('table', 'NN'), ('data', 'NNS'), ('records', 'NNS'), ('database', 'NN'), ('table', 'NN'), ('value', 'NN'), ('fields', 'NNS'), ('record', 'NN'), ('index', 'NN'), ('hash', 'NN'), ('function', 'NN'), ('field', 'NN'), ('value', 'NN'), ('hash', 'NN'), ('key', 'NN'), ('points', 'NNS'), ('location', 'NN'), ('record', 'NN'), ('database', 'NN'), ('table', 'NN'), ('records', 'NNS'), ('values', 'NNS'), ('lookup', 'NN'), ('operation', 'NN'), ('advantage', 'NN'), ('approach', 'NN'), ('access', 'NN'), ('records', 'NNS'), ('need', 'NN'), ('amounts', 'NNS'), ('data', 'NNS'), ('tree', 'NNS'), ('tree', 'NN'), ('indexing', 'NN'), ('type', 'NN'), ('structure', 'NN'), ('data', 'NNS'), ('record', 'NN'), ('node', 'NN'), ('values', 'NNS'), ('faster', 'NN'), ('retrieval', 'NN'), ('values', 'NNS'), ('lookup', 'NN'), ('operation', 'NN'), ('searches', 'NNS'), ('tables', 'NNS'), ('disadvantage', 'NN'), ('approach', 'NN'), ('space', 'NN'), ('types', 'NNS'), ('indexes', 'NNS'), ('node', 'NN'), ('information', 'NN'), ('record', 'NN'), ('location', 'NN'), ('memory', 'NN'), ('disk', 'NN'), ('compression', 'NN'), ('techniques', 'NNS'), ('huffman', 'NN'), ('storage', 'NN'), ('requirements', 'NNS'), ('access', 'NN'), ('times', 'NNS')]\n",
      "[('cost', 'NN'), ('operations', 'NNS'), ('file', 'NN'), ('organizations', 'NNS'), ('type', 'NN'), ('access', 'NN'), ('access', 'NN'), ('access', 'NN'), ('access', 'NN'), ('operations', 'NNS'), ('example', 'NN'), ('scan', 'NN'), ('file', 'NN'), ('io', 'NN'), ('operation', 'NN'), ('record', 'NN'), ('search', 'NN'), ('operations', 'NNS'), ('record', 'NN'), ('complexity', 'NN'), ('index', 'NN'), ('hash', 'NN'), ('structure', 'NN'), ('cost', 'NN'), ('operations', 'NNS')]\n",
      "[('files', 'NNS'), ('form', 'NN'), ('organization', 'NN'), ('data', 'NNS'), ('fashion', 'NN'), ('records', 'NNS'), ('io', 'NN'), ('cost', 'NN'), ('files', 'NNS'), ('file', 'NN'), ('operation', 'NN'), ('files', 'NNS'), ('index', 'NN'), ('structure', 'NN'), ('performance', 'NN'), ('access', 'NN'), ('io', 'NN'), ('cost', 'NN'), ('files', 'NNS'), ('portion', 'NN'), ('file', 'NN'), ('record', 'NN'), ('files', 'NNS'), ('hashing', 'NN'), ('algorithm', 'NN'), ('data', 'NNS'), ('data', 'NNS'), ('items', 'NNS'), ('buckets', 'NNS'), ('hash', 'NN'), ('value', 'NN'), ('io', 'NN'), ('cost', 'NN'), ('bucket', 'NN'), ('data', 'NN'), ('needs', 'NNS'), ('need', 'NN'), ('amounts', 'NNS'), ('data', 'NNS')]\n",
      "[('isam', 'NN'), ('access', 'NN'), ('method', 'NN'), ('type', 'NN'), ('file', 'NN'), ('organization', 'NN'), ('data', 'NNS'), ('disk', 'NN'), ('ibm', 'NN'), ('s', 'NN'), ('today', 'NN'), ('index', 'NN'), ('structure', 'NN'), ('retrieval', 'NN'), ('records', 'NNS'), ('file', 'NN'), ('index', 'NN'), ('structure', 'NN'), ('keys', 'NNS'), ('record', 'NN'), ('records', 'NNS'), ('order', 'NN'), ('disk', 'NN'), ('meaning', 'NN'), ('index', 'NN'), ('structure', 'NN'), ('isam', 'NN'), ('files', 'NNS'), ('size', 'NN'), ('improves', 'NNS'), ('performance', 'NN'), ('compression', 'NN'), ('works', 'NNS'), ('information', 'NN'), ('data', 'NNS'), ('file', 'NN'), ('space', 'NN'), ('disk', 'NN'), ('access', 'NN'), ('times', 'NNS'), ('data', 'NNS'), ('needs', 'NNS'), ('disk', 'NN'), ('lookups', 'NNS'), ('records', 'NNS'), ('addition', 'NN'), ('access', 'NN'), ('times', 'NNS'), ('advantages', 'NNS'), ('transaction', 'NN'), ('support', 'NN'), ('security', 'NN'), ('features', 'NNS'), ('integrity', 'NN'), ('checks', 'NNS'), ('transaction', 'NN'), ('support', 'NN'), ('users', 'NNS'), ('changes', 'NNS'), ('others', 'NNS'), ('security', 'NN'), ('features', 'NNS'), ('users', 'NNS'), ('access', 'NN'), ('information', 'NN'), ('integrity', 'NN'), ('checks', 'NNS'), ('guarantee', 'NN'), ('data', 'NNS'), ('tables', 'NNS'), ('files', 'NNS'), ('database', 'NN'), ('system', 'NN')]\n",
      "[('isam', 'NN'), ('access', 'NN'), ('method', 'NN'), ('organization', 'NN'), ('technique', 'NN'), ('data', 'NNS'), ('disk', 'NN'), ('ibm', 'NN'), ('s', 'NN'), ('alternative', 'NN'), ('database', 'NN'), ('model', 'NN'), ('isam', 'NN'), ('concept', 'NN'), ('file', 'NN'), ('stores', 'NNS'), ('records', 'NNS'), ('order', 'NN'), ('retrieval', 'NN'), ('records', 'NNS'), ('advantage', 'NN'), ('isam', 'NN'), ('access', 'NN'), ('data', 'NNS'), ('disk', 'NN'), ('index', 'NN'), ('structure', 'NN'), ('stores', 'NNS'), ('pointers', 'NNS'), ('location', 'NN'), ('records', 'NNS'), ('file', 'NN'), ('index', 'NN'), ('structure', 'NN'), ('searching', 'NN'), ('operations', 'NNS'), ('files', 'NNS'), ('access', 'NN'), ('records', 'NNS'), ('addition', 'NN'), ('access', 'NN'), ('times', 'NNS'), ('advantages', 'NNS'), ('database', 'NN'), ('models', 'NNS'), ('security', 'NN'), ('scalability', 'NN'), ('flexibility', 'NN'), ('example', 'NN'), ('isam', 'NN'), ('users', 'NNS'), ('levels', 'NNS'), ('privileges', 'NNS'), ('transaction', 'NN'), ('processing', 'NN'), ('oltp', 'NN'), ('processing', 'NN'), ('olap', 'NN'), ('types', 'NNS'), ('hardware', 'NN'), ('platforms', 'NNS'), ('mainframes', 'NNS'), ('pcs', 'NNS'), ('applications', 'NNS'), ('databases', 'NNS'), ('changes', 'NNS'), ('modifications', 'NNS')]\n",
      "[('b', 'NN'), ('trees', 'NNS'), ('type', 'NN'), ('index', 'NN'), ('structure', 'NN'), ('databases', 'NNS'), ('file', 'NN'), ('systems', 'NNS'), ('data', 'NNS'), ('variation', 'NN'), ('btree', 'NN'), ('tree', 'NN'), ('structure', 'NN'), ('data', 'NNS'), ('searches', 'NNS'), ('insertions', 'NNS'), ('deletions', 'NNS'), ('time', 'NN'), ('b', 'NN'), ('trees', 'NNS'), ('advantages', 'NNS'), ('data', 'NNS'), ('structures', 'NNS'), ('space', 'NN'), ('utilization', 'NN'), ('search', 'NN'), ('times', 'NNS'), ('disk', 'NN'), ('accesses', 'NNS'), ('searches', 'NNS'), ('insertiondeletion', 'NN'), ('algorithms', 'NN'), ('b', 'NN'), ('trees', 'NNS'), ('nodes', 'NNS'), ('keys', 'NNS'), ('data', 'NNS'), ('pointers', 'NNS'), ('keys', 'NNS'), ('order', 'NN'), ('node', 'NN'), ('pointer', 'NN'), ('parent', 'NN'), ('node', 'NN'), ('pointers', 'NNS'), ('children', 'NNS'), ('tree', 'NN'), ('data', 'NN'), ('tree', 'NN'), ('root', 'NN'), ('node', 'NN'), ('tree', 'NN'), ('level', 'NN'), ('nodes', 'NNS'), ('pointers', 'NNS'), ('node', 'NN'), ('destination', 'NN'), ('item', 'NN'), ('b', 'NN'), ('tree', 'NN'), ('root', 'NN'), ('node', 'NN'), ('search', 'NN'), ('key', 'NN'), ('key', 'NN'), ('node', 'NN'), ('youre', 'NN'), ('leaf', 'NN'), ('node', 'NN'), ('present', 'NN'), ('insertion', 'NN'), ('b', 'NN'), ('tree', 'NN'), ('place', 'NN'), ('item', 'NN'), ('value', 'NN'), ('deletion', 'NN'), ('item', 'NN'), ('location', 'NN'), ('parts', 'NNS'), ('tree', 'NN'), ('afterwards', 'NNS')]\n",
      "[('b', 'NN'), ('trees', 'NNS'), ('type', 'NN'), ('index', 'NN'), ('structure', 'NN'), ('database', 'NN'), ('management', 'NN'), ('systems', 'NNS'), ('data', 'NNS'), ('b', 'NN'), ('trees', 'NNS'), ('structures', 'NNS'), ('insertion', 'NN'), ('deletion', 'NN'), ('data', 'NNS'), ('databases', 'NNS'), ('b', 'NN'), ('tree', 'NN'), ('tree', 'NN'), ('structure', 'NN'), ('stores', 'NNS'), ('data', 'NNS'), ('fashion', 'NN'), ('search', 'NN'), ('tree', 'NN'), ('features', 'NNS'), ('levels', 'NNS'), ('nodes', 'NNS'), ('ability', 'NN'), ('values', 'NNS'), ('node', 'NN'), ('b', 'NN'), ('trees', 'NNS'), ('advantage', 'NN'), ('types', 'NNS'), ('trees', 'NNS'), ('ability', 'NN'), ('amounts', 'NNS'), ('data', 'NNS'), ('search', 'NN'), ('b', 'NN'), ('tree', 'NN'), ('components', 'NNS'), ('root', 'NN'), ('node', 'NN'), ('leaf', 'NN'), ('root', 'NN'), ('node', 'NN'), ('pointers', 'NNS'), ('leaf', 'NN'), ('nodes', 'NNS'), ('tree', 'NN'), ('leaf', 'NN'), ('records', 'NNS'), ('values', 'NNS'), ('keys', 'NNS'), ('purposes', 'NNS'), ('node', 'NN'), ('children', 'NNS'), ('searches', 'NNS'), ('insertion', 'NN'), ('deletion', 'NN'), ('operations', 'NNS'), ('node', 'NN'), ('values', 'NNS'), ('value', 'NN'), ('search', 'NN'), ('tree', 'NN'), ('storage', 'NN'), ('amounts', 'NNS'), ('data', 'NNS'), ('speed', 'NN'), ('accuracy', 'NN'), ('searches', 'NNS'), ('operations', 'NNS'), ('database', 'NN')]\n",
      "[('hashing', 'NN'), ('form', 'NN'), ('data', 'NNS'), ('storage', 'NN'), ('hash', 'NN'), ('table', 'NN'), ('data', 'NNS'), ('hashing', 'NN'), ('hashing', 'NN'), ('item', 'NN'), ('data', 'NN'), ('set', 'NN'), ('position', 'NN'), ('hash', 'NN'), ('table', 'NN'), ('item', 'NN'), ('size', 'NN'), ('hash', 'NN'), ('table', 'NN'), ('items', 'NNS'), ('size', 'NN'), ('hashing', 'NN'), ('works', 'NNS'), ('hash', 'NN'), ('value', 'NN'), ('item', 'NN'), ('data', 'NN'), ('set', 'NN'), ('value', 'NN'), ('identifier', 'NN'), ('item', 'NN'), ('hash', 'NN'), ('table', 'NN'), ('item', 'NN'), ('process', 'NN'), ('identifier', 'NN'), ('item', 'NN'), ('hashing', 'NN'), ('items', 'NNS'), ('positions', 'NNS'), ('hash', 'NN'), ('table', 'NN'), ('identifiers', 'NNS'), ('item', 'NN'), ('hash', 'NN'), ('table', 'NN'), ('identifier', 'NN'), ('position', 'NN'), ('memory', 'NN'), ('element', 'NN'), ('data', 'NN'), ('set', 'NN'), ('time', 'NN'), ('search', 'NN'), ('operations', 'NNS'), ('search', 'NN'), ('algorithms', 'NN'), ('memory', 'NN'), ('access', 'NN'), ('hashing', 'NN'), ('security', 'NN'), ('search', 'NN'), ('algorithms', 'NN'), ('vulnerabilities', 'NNS'), ('positions', 'NNS'), ('information', 'NN'), ('searches', 'NNS'), ('maintenance', 'NN'), ('theres', 'NNS'), ('need', 'NN'), ('elements', 'NNS'), ('ones', 'NNS'), ('data', 'NN'), ('set', 'NN'), ('hashes', 'NNS'), ('applications', 'NNS'), ('changes', 'NNS')]\n",
      "[('value', 'NN'), ('hash', 'NN'), ('algorithm', 'NN'), ('address', 'NN'), ('case', 'NN'), ('mod', 'NN'), ('hash', 'NN'), ('function', 'NN'), ('example', 'NN'), ('values', 'NNS'), ('function', 'NN'), ('output', 'NN'), ('address', 'NN'), ('times', 'NNS'), ('number', 'NN'), ('buckets', 'NNS'), ('remains', 'NNS'), ('resultant', 'NN'), ('data', 'NNS'), ('bucket', 'NN'), ('address', 'NN'), ('hashing', 'NN'), ('hash', 'NN'), ('function', 'NN'), ('mod', 'NN'), ('address', 'NN'), ('id', 'NN'), ('bucket', 'NN'), ('bucket', 'NN'), ('address', 'NN'), ('case', 'NN'), ('result', 'NN'), ('number', 'NN'), ('data', 'NNS'), ('buckets', 'NNS'), ('memory', 'NN'), ('process', 'NN'), ('hashing', 'NN'), ('case', 'NN'), ('memory', 'NN'), ('data', 'NNS'), ('data', 'NNS'), ('buckets', 'NNS'), ('operations', 'NNS'), ('record', 'NN'), ('record', 'NN'), ('hash', 'NN'), ('function', 'NN'), ('order', 'NN'), ('address', 'NN'), ('bucket', 'NN'), ('data', 'NN'), ('record', 'NN'), ('record', 'NN'), ('table', 'NN'), ('hash', 'NN'), ('key', 'NN'), ('address', 'NN'), ('record', 'NN'), ('record', 'NN'), ('record', 'NN'), ('record', 'NN'), ('record', 'NN'), ('records', 'NNS'), ('address', 'NN'), ('memory', 'NN'), ('update', 'NN'), ('record', 'NN'), ('record', 'NN'), ('well', 'NN'), ('hash', 'NN'), ('function', 'NN'), ('data', 'NNS'), ('recordif', 'NN'), ('record', 'NN'), ('file', 'NN'), ('address', 'NN'), ('data', 'NN'), ('bucket', 'NN'), ('hash', 'NN'), ('function', 'NN'), ('isnt', 'NN'), ('information', 'NN'), ('address', 'NN'), ('record', 'NN'), ('bucket', 'NN'), ('overflow', 'NN'), ('term', 'NN'), ('hashing', 'NN'), ('occurrence', 'NN'), ('strategy', 'NN'), ('condition', 'NN')]\n",
      "[('hashing', 'NN'), ('technique', 'NN'), ('computer', 'NN'), ('science', 'NN'), ('data', 'NN'), ('structures', 'NNS'), ('fagin', 'NN'), ('nievergelt', 'NN'), ('hashing', 'NN'), ('scheme', 'NN'), ('hash', 'NN'), ('table', 'NN'), ('entry', 'NN'), ('hash', 'NN'), ('table', 'NN'), ('bucket', 'NN'), ('items', 'NNS'), ('buckets', 'NNS'), ('index', 'NN'), ('value', 'NN'), ('depth', 'NN'), ('bucket', 'NN'), ('item', 'NN'), ('hash', 'NN'), ('table', 'NN'), ('bucket', 'NN'), ('bucket', 'NN'), ('buckets', 'NNS'), ('item', 'NN'), ('bucket', 'NN'), ('index', 'NN'), ('value', 'NN'), ('process', 'NN'), ('items', 'NNS'), ('hash', 'NN'), ('table', 'NN'), ('buckets', 'NNS'), ('depth', 'NN'), ('bucket', 'NN'), ('advantage', 'NN'), ('hashing', 'NN'), ('schemes', 'NNS'), ('hashing', 'NN'), ('cuckoo', 'NN'), ('hashing', 'NN'), ('reorganization', 'NN'), ('size', 'NN'), ('buckets', 'NNS'), ('time', 'NN'), ('buckets', 'NNS'), ('schemes', 'NNS'), ('items', 'NNS'), ('bucket', 'NN'), ('hashes', 'NNS'), ('operations', 'NNS'), ('comparisons', 'NNS'), ('item', 'NN'), ('index', 'NN'), ('range', 'NN')]\n",
      "[('hashing', 'NN'), ('technique', 'NN'), ('computer', 'NN'), ('science', 'NN'), ('data', 'NN'), ('structures', 'NNS'), ('fagin', 'NN'), ('nievergelt', 'NN'), ('hashing', 'NN'), ('scheme', 'NN'), ('hash', 'NN'), ('table', 'NN'), ('entry', 'NN'), ('hash', 'NN'), ('table', 'NN'), ('bucket', 'NN'), ('items', 'NNS'), ('buckets', 'NNS'), ('index', 'NN'), ('value', 'NN'), ('depth', 'NN'), ('bucket', 'NN'), ('item', 'NN'), ('hash', 'NN'), ('table', 'NN'), ('bucket', 'NN'), ('bucket', 'NN'), ('buckets', 'NNS'), ('item', 'NN'), ('bucket', 'NN'), ('index', 'NN'), ('value', 'NN'), ('process', 'NN'), ('items', 'NNS'), ('hash', 'NN'), ('table', 'NN'), ('buckets', 'NNS'), ('depth', 'NN'), ('bucket', 'NN'), ('advantage', 'NN'), ('hashing', 'NN'), ('schemes', 'NNS'), ('hashing', 'NN'), ('cuckoo', 'NN'), ('hashing', 'NN'), ('reorganization', 'NN'), ('size', 'NN'), ('buckets', 'NNS'), ('time', 'NN'), ('buckets', 'NNS'), ('schemes', 'NNS'), ('items', 'NNS'), ('bucket', 'NN'), ('hashes', 'NNS'), ('operations', 'NNS'), ('comparisons', 'NNS'), ('item', 'NN'), ('index', 'NN'), ('range', 'NN')]\n",
      "[('hashing', 'NN'), ('data', 'NN'), ('structure', 'NN'), ('data', 'NNS'), ('database', 'NN'), ('type', 'NN'), ('openaddress', 'NN'), ('slot', 'NN'), ('hash', 'NN'), ('table', 'NN'), ('elements', 'NNS'), ('idea', 'NN'), ('hashing', 'NN'), ('resizing', 'NN'), ('hash', 'NN'), ('table', 'NN'), ('meaning', 'NN'), ('size', 'NN'), ('works', 'NNS'), ('array', 'NN'), ('buckets', 'NNS'), ('bucket', 'NN'), ('key', 'NN'), ('element', 'NN'), ('database', 'NN'), ('key', 'NN'), ('bucket', 'NN'), ('bucket', 'NN'), ('element', 'NN'), ('end', 'NN'), ('list', 'NN'), ('elements', 'NNS'), ('bucket', 'NN'), ('element', 'NN'), ('key', 'NN'), ('bucket', 'NN'), ('list', 'NN'), ('elements', 'NNS'), ('bucket', 'NN'), ('element', 'NN'), ('elements', 'NNS'), ('success', 'NN'), ('advantage', 'NN'), ('hashing', 'NN'), ('types', 'NNS'), ('openaddress', 'NN'), ('algorithms', 'NNS'), ('hashing', 'NN'), ('cuckoo', 'NN'), ('lies', 'NNS'), ('simplicity', 'NN'), ('overhead', 'NN'), ('requirements', 'NNS'), ('hashing', 'NN'), ('step', 'NN'), ('algorithms', 'NN'), ('methods', 'NNS'), ('access', 'NN'), ('times', 'NNS'), ('space', 'NN'), ('utilization', 'NN'), ('ratios', 'NNS')]\n",
      "[('hashing', 'NN'), ('hashing', 'NN'), ('technique', 'NN'), ('records', 'NNS'), ('hash', 'NN'), ('table', 'NN'), ('litwin', 'NN'), ('hashing', 'NN'), ('addressing', 'NN'), ('approach', 'NN'), ('record', 'NN'), ('hash', 'NN'), ('table', 'NN'), ('area', 'NN'), ('advantage', 'NN'), ('hashing', 'NN'), ('techniques', 'NNS'), ('ability', 'NN'), ('hash', 'NN'), ('table', 'NN'), ('records', 'NNS'), ('works', 'NNS'), ('hash', 'NN'), ('table', 'NN'), ('parts', 'NNS'), ('buckets', 'NNS'), ('buckets', 'NNS'), ('record', 'NN'), ('bucket', 'NN'), ('bucket', 'NN'), ('records', 'NNS'), ('buckets', 'NNS'), ('space', 'NN'), ('point', 'NN'), ('hashing', 'NN'), ('split', 'NN'), ('operation', 'NN'), ('buckets', 'NNS'), ('half', 'NN'), ('buckets', 'NNS'), ('half', 'NN'), ('buckets', 'NNS'), ('data', 'NNS'), ('benefit', 'NN'), ('hashing', 'NN'), ('records', 'NNS'), ('amounts', 'NNS'), ('space', 'NN'), ('upfront', 'NN'), ('techniques', 'NNS'), ('hashing', 'NN'), ('lists', 'NNS'), ('records', 'NNS'), ('lookup', 'NN'), ('times', 'NNS'), ('techniques', 'NNS')]\n",
      "[('hashing', 'NN'), ('hashing', 'NN'), ('methods', 'NNS'), ('data', 'NNS'), ('hash', 'NN'), ('table', 'NN'), ('methods', 'NNS'), ('buckets', 'NNS'), ('data', 'NNS'), ('buckets', 'NNS'), ('collisions', 'NNS'), ('bucket', 'NN'), ('address', 'NN'), ('key', 'NN'), ('data', 'NNS'), ('item', 'NN'), ('hash', 'NN'), ('table', 'NN'), ('buckets', 'NNS'), ('buckets', 'NNS'), ('halves', 'NNS'), ('half', 'NN'), ('address', 'NN'), ('expansion', 'NN'), ('hash', 'NN'), ('table', 'NN'), ('works', 'NNS'), ('bucket', 'NN'), ('integer', 'NN'), ('address', 'NN'), ('value', 'NN'), ('item', 'NN'), ('hash', 'NN'), ('table', 'NN'), ('buckets', 'NNS'), ('buckets', 'NNS'), ('halves', 'NNS'), ('half', 'NN'), ('integer', 'NN'), ('address', 'NN'), ('storage', 'NN'), ('data', 'NNS'), ('bucket', 'NN'), ('time', 'NN'), ('hashing', 'NN'), ('expansion', 'NN'), ('hash', 'NN'), ('table', 'NN'), ('hashing', 'NN')]\n",
      "[('hashing', 'NN'), ('hashing', 'NN'), ('technique', 'NN'), ('hash', 'NN'), ('table', 'NN'), ('record', 'NN'), ('hash', 'NN'), ('table', 'NN'), ('bucket', 'NN'), ('records', 'NNS'), ('value', 'NN'), ('advantage', 'NN'), ('hashing', 'NN'), ('size', 'NN'), ('data', 'NNS'), ('sets', 'NNS'), ('table', 'NN'), ('data', 'NN'), ('set', 'NN'), ('changes', 'NNS'), ('size', 'NN'), ('space', 'NN'), ('buckets', 'NNS'), ('records', 'NNS'), ('hash', 'NN'), ('values', 'NNS'), ('hashing', 'NN'), ('lookup', 'NN'), ('times', 'NNS'), ('bucket', 'NN'), ('size', 'NN'), ('data', 'NN'), ('set', 'NN'), ('size', 'NN'), ('number', 'NN'), ('comparisons', 'NNS'), ('record', 'NN'), ('table', 'NN'), ('hashing', 'NN'), ('hashing', 'NN'), ('technique', 'NN'), ('bucket', 'NN'), ('parts', 'NNS'), ('segments', 'NNS'), ('stores', 'NNS'), ('records', 'NNS'), ('segments', 'NNS'), ('hash', 'NN'), ('value', 'NN'), ('segment', 'NN'), ('occupancy', 'NN'), ('status', 'NN'), ('fullempty', 'NN'), ('segments', 'NNS'), ('bucket', 'NN'), ('page', 'NN'), ('records', 'NNS'), ('space', 'NN'), ('segments', 'NNS'), ('bucket', 'NN'), ('needs', 'NNS'), ('increase', 'NN'), ('data', 'NNS'), ('size', 'NN'), ('advantage', 'NN'), ('hashing', 'NN'), ('hashing', 'NN'), ('changes', 'NNS'), ('data', 'NNS'), ('size', 'NN'), ('buckets', 'NNS'), ('record', 'NN'), ('table', 'NN'), ('need', 'NN'), ('space', 'NN'), ('buckets', 'NNS'), ('records', 'NNS'), ('storage', 'NN'), ('space', 'NN'), ('buckets', 'NNS'), ('time', 'NN'), ('updates', 'NNS'), ('deletions', 'NNS'), ('data', 'NN'), ('set', 'NN'), ('buckets', 'NNS')]\n",
      "[('entity', 'NN'), ('sets', 'NNS'), ('entities', 'NNS'), ('attribute', 'NN'), ('entity', 'NN'), ('entity', 'NN'), ('sets', 'NNS'), ('relationship', 'NN'), ('entities', 'NNS'), ('data', 'NNS'), ('model', 'NN'), ('example', 'NN'), ('invoice', 'NN'), ('line', 'NN'), ('item', 'NN'), ('entity', 'NN'), ('invoice', 'NN'), ('header', 'NN'), ('parent', 'NN'), ('entity', 'NN'), ('attributes', 'NNS'), ('line', 'NN'), ('item', 'NN')]\n",
      "[('entity', 'NN'), ('sets', 'NNS'), ('dbms', 'NN'), ('entity', 'NN'), ('entities', 'NNS'), ('database', 'NN'), ('entity', 'NN'), ('example', 'NN'), ('payment', 'NN'), ('entity', 'NN'), ('customer', 'NN'), ('order', 'NN'), ('entities', 'NNS')]\n"
     ]
    }
   ],
   "source": [
    "for i in range(df.shape[0]):\n",
    "  modal = df['Model Answer (ChatGPT)'][i]\n",
    "  user = df['User Answer (Web)'][i]\n",
    "  modal1 = regex(modal)\n",
    "  user1 = regex(user)\n",
    "  modal_entity_nltk = nltk_name(modal1)\n",
    "  user_entity_nltk = nltk_name(user1)\n",
    "  score_nltk = compute_score_nltk(user_entity_nltk,modal_entity_nltk)\n",
    "  df['Score_NLTK'][i] = score_nltk\n",
    "  modal_entity_spacy = spacy_name(modal)\n",
    "  user_entity_spacy = spacy_name(user)\n",
    "  score_spacy = compute_score_spacy(user_entity_spacy,modal_entity_spacy)\n",
    "  df['Score_spacy'][i] = score_spacy\n"
   ]
  },
  {
   "cell_type": "code",
   "execution_count": 17,
   "metadata": {
    "colab": {
     "base_uri": "https://localhost:8080/"
    },
    "id": "bcCuhYsIxzZ9",
    "outputId": "aacd94ef-f343-4f2d-c126-39a380e75aa0"
   },
   "outputs": [
    {
     "name": "stdout",
     "output_type": "stream",
     "text": [
      "[('raghavs', 'NN'), ('brother', 'NN'), ('shrishail', 'NN'), ('mumbai', 'NN'), ('audi', 'NN')]\n"
     ]
    }
   ],
   "source": [
    "modal = \"Raghav's brother Shrishail and lives Mumbai near AUDI\"\n",
    "modal1 = regex(modal)\n",
    "modal_entity_nltk = nltk_name(modal1)\n"
   ]
  },
  {
   "cell_type": "code",
   "execution_count": 18,
   "metadata": {
    "colab": {
     "base_uri": "https://localhost:8080/",
     "height": 354
    },
    "id": "jMWIXmkeSiic",
    "outputId": "847ebaf5-e46c-48a7-ccd8-5fbf126531e4"
   },
   "outputs": [
    {
     "data": {
      "text/html": [
       "<div>\n",
       "<style scoped>\n",
       "    .dataframe tbody tr th:only-of-type {\n",
       "        vertical-align: middle;\n",
       "    }\n",
       "\n",
       "    .dataframe tbody tr th {\n",
       "        vertical-align: top;\n",
       "    }\n",
       "\n",
       "    .dataframe thead th {\n",
       "        text-align: right;\n",
       "    }\n",
       "</style>\n",
       "<table border=\"1\" class=\"dataframe\">\n",
       "  <thead>\n",
       "    <tr style=\"text-align: right;\">\n",
       "      <th></th>\n",
       "      <th>S.No</th>\n",
       "      <th>Questions</th>\n",
       "      <th>Model Answer (ChatGPT)</th>\n",
       "      <th>User Answer (Web)</th>\n",
       "      <th>Score_camembert</th>\n",
       "      <th>Score_NLTK</th>\n",
       "      <th>Score_spacy</th>\n",
       "      <th>Actual Score (0-10)</th>\n",
       "    </tr>\n",
       "  </thead>\n",
       "  <tbody>\n",
       "    <tr>\n",
       "      <th>0</th>\n",
       "      <td>1</td>\n",
       "      <td>List the advantages of DBMS?</td>\n",
       "      <td>1. Data Integrity: DBMS ensures data accuracy ...</td>\n",
       "      <td>1.Better Data Transferring: Database managemen...</td>\n",
       "      <td>NaN</td>\n",
       "      <td>3.500000</td>\n",
       "      <td>10.0</td>\n",
       "      <td>7.0</td>\n",
       "    </tr>\n",
       "    <tr>\n",
       "      <th>1</th>\n",
       "      <td>2</td>\n",
       "      <td>List the database Applications?</td>\n",
       "      <td>1. MySQL 2. Oracle Database 3. Microsoft SQL S...</td>\n",
       "      <td>1.Oracle Database 2.PostgreSQL 3.SQLite 4.File...</td>\n",
       "      <td>NaN</td>\n",
       "      <td>4.666667</td>\n",
       "      <td>0.0</td>\n",
       "      <td>5.0</td>\n",
       "    </tr>\n",
       "    <tr>\n",
       "      <th>2</th>\n",
       "      <td>3</td>\n",
       "      <td>Define instances and schemas of database?</td>\n",
       "      <td>Instance: An instance is a copy of the databas...</td>\n",
       "      <td>The overall design of the database is called d...</td>\n",
       "      <td>NaN</td>\n",
       "      <td>3.125000</td>\n",
       "      <td>10.0</td>\n",
       "      <td>4.0</td>\n",
       "    </tr>\n",
       "    <tr>\n",
       "      <th>3</th>\n",
       "      <td>4</td>\n",
       "      <td>Discuss Data Independence?</td>\n",
       "      <td>Data independence is the ability of a system t...</td>\n",
       "      <td>Data independence is the ability to modify the...</td>\n",
       "      <td>NaN</td>\n",
       "      <td>2.222222</td>\n",
       "      <td>10.0</td>\n",
       "      <td>7.0</td>\n",
       "    </tr>\n",
       "    <tr>\n",
       "      <th>4</th>\n",
       "      <td>5</td>\n",
       "      <td>Explain database Access for applications Programs</td>\n",
       "      <td>Database Access for applications Programs is a...</td>\n",
       "      <td>Database Access means functionality required i...</td>\n",
       "      <td>NaN</td>\n",
       "      <td>1.428571</td>\n",
       "      <td>0.0</td>\n",
       "      <td>0.0</td>\n",
       "    </tr>\n",
       "  </tbody>\n",
       "</table>\n",
       "</div>"
      ],
      "text/plain": [
       "   S.No                                          Questions  \\\n",
       "0     1                       List the advantages of DBMS?   \n",
       "1     2                    List the database Applications?   \n",
       "2     3          Define instances and schemas of database?   \n",
       "3     4                         Discuss Data Independence?   \n",
       "4     5  Explain database Access for applications Programs   \n",
       "\n",
       "                              Model Answer (ChatGPT)  \\\n",
       "0  1. Data Integrity: DBMS ensures data accuracy ...   \n",
       "1  1. MySQL 2. Oracle Database 3. Microsoft SQL S...   \n",
       "2  Instance: An instance is a copy of the databas...   \n",
       "3  Data independence is the ability of a system t...   \n",
       "4  Database Access for applications Programs is a...   \n",
       "\n",
       "                                   User Answer (Web)  Score_camembert  \\\n",
       "0  1.Better Data Transferring: Database managemen...              NaN   \n",
       "1  1.Oracle Database 2.PostgreSQL 3.SQLite 4.File...              NaN   \n",
       "2  The overall design of the database is called d...              NaN   \n",
       "3  Data independence is the ability to modify the...              NaN   \n",
       "4  Database Access means functionality required i...              NaN   \n",
       "\n",
       "   Score_NLTK  Score_spacy  Actual Score (0-10)  \n",
       "0    3.500000         10.0                  7.0  \n",
       "1    4.666667          0.0                  5.0  \n",
       "2    3.125000         10.0                  4.0  \n",
       "3    2.222222         10.0                  7.0  \n",
       "4    1.428571          0.0                  0.0  "
      ]
     },
     "execution_count": 18,
     "metadata": {},
     "output_type": "execute_result"
    }
   ],
   "source": [
    "df.head()"
   ]
  },
  {
   "cell_type": "code",
   "execution_count": 19,
   "metadata": {
    "colab": {
     "base_uri": "https://localhost:8080/",
     "height": 473
    },
    "id": "MAY9F2CCNKMu",
    "outputId": "f50577b3-35b4-48aa-f779-c7de7eb04d2c"
   },
   "outputs": [],
   "source": [
    "tokenizer = AutoTokenizer.from_pretrained(\"Jean-Baptiste/camembert-ner\")\n",
    "model = AutoModelForTokenClassification.from_pretrained(\"Jean-Baptiste/camembert-ner\")\n",
    "from transformers import pipeline\n",
    "\n",
    "def compute_score_camembert(modal, user):\n",
    "    nlp = pipeline('ner', model=model, tokenizer=tokenizer, aggregation_strategy=\"simple\")\n",
    "    modal = nlp(modal)\n",
    "    user = nlp(user)\n",
    "    modal_arr = []\n",
    "    user_arr = []\n",
    "    for i in range(0, len(modal)):\n",
    "        if(modal[i]['score']>=0.9):\n",
    "            modal_arr.append(modal[i]['word'].lower())\n",
    "    if(len(modal_arr)==0):\n",
    "        return 10\n",
    "    for i in range(0, len(user)):\n",
    "        user_arr.append(user[i]['word'].lower())\n",
    "    modal_arr = set(modal_arr)\n",
    "    user_arr = set(user_arr)\n",
    "    return (len(modal_arr.intersection(user_arr))/len(modal_arr))*10"
   ]
  },
  {
   "cell_type": "code",
   "execution_count": 20,
   "metadata": {
    "colab": {
     "base_uri": "https://localhost:8080/",
     "height": 825
    },
    "id": "K5oSb1W8Uzll",
    "outputId": "a6fb78da-7c6f-4acb-d4eb-7b41f82f8c5f"
   },
   "outputs": [
    {
     "name": "stderr",
     "output_type": "stream",
     "text": [
      "C:\\Users\\Raghav\\AppData\\Local\\Temp\\ipykernel_22156\\1986326709.py:5: SettingWithCopyWarning: \n",
      "A value is trying to be set on a copy of a slice from a DataFrame\n",
      "\n",
      "See the caveats in the documentation: https://pandas.pydata.org/pandas-docs/stable/user_guide/indexing.html#returning-a-view-versus-a-copy\n",
      "  df['Score_camembert'][i] = score_camembert\n"
     ]
    }
   ],
   "source": [
    "for i in range(df.shape[0]):\n",
    "  modal = df['Model Answer (ChatGPT)'][i]\n",
    "  user = df['User Answer (Web)'][i]\n",
    "  score_camembert = compute_score_camembert(modal, user)\n",
    "  df['Score_camembert'][i] = score_camembert"
   ]
  },
  {
   "cell_type": "code",
   "execution_count": 21,
   "metadata": {
    "colab": {
     "base_uri": "https://localhost:8080/"
    },
    "id": "BzUe0o6k_dfu",
    "outputId": "762d3f59-b813-418d-935f-864145ea1e4f"
   },
   "outputs": [
    {
     "data": {
      "text/html": [
       "<div>\n",
       "<style scoped>\n",
       "    .dataframe tbody tr th:only-of-type {\n",
       "        vertical-align: middle;\n",
       "    }\n",
       "\n",
       "    .dataframe tbody tr th {\n",
       "        vertical-align: top;\n",
       "    }\n",
       "\n",
       "    .dataframe thead th {\n",
       "        text-align: right;\n",
       "    }\n",
       "</style>\n",
       "<table border=\"1\" class=\"dataframe\">\n",
       "  <thead>\n",
       "    <tr style=\"text-align: right;\">\n",
       "      <th></th>\n",
       "      <th>S.No</th>\n",
       "      <th>Questions</th>\n",
       "      <th>Model Answer (ChatGPT)</th>\n",
       "      <th>User Answer (Web)</th>\n",
       "      <th>Score_camembert</th>\n",
       "      <th>Score_NLTK</th>\n",
       "      <th>Score_spacy</th>\n",
       "      <th>Actual Score (0-10)</th>\n",
       "    </tr>\n",
       "  </thead>\n",
       "  <tbody>\n",
       "    <tr>\n",
       "      <th>0</th>\n",
       "      <td>1</td>\n",
       "      <td>List the advantages of DBMS?</td>\n",
       "      <td>1. Data Integrity: DBMS ensures data accuracy ...</td>\n",
       "      <td>1.Better Data Transferring: Database managemen...</td>\n",
       "      <td>2.5</td>\n",
       "      <td>3.500000</td>\n",
       "      <td>10.0</td>\n",
       "      <td>7.0</td>\n",
       "    </tr>\n",
       "    <tr>\n",
       "      <th>1</th>\n",
       "      <td>2</td>\n",
       "      <td>List the database Applications?</td>\n",
       "      <td>1. MySQL 2. Oracle Database 3. Microsoft SQL S...</td>\n",
       "      <td>1.Oracle Database 2.PostgreSQL 3.SQLite 4.File...</td>\n",
       "      <td>4.0</td>\n",
       "      <td>4.666667</td>\n",
       "      <td>0.0</td>\n",
       "      <td>5.0</td>\n",
       "    </tr>\n",
       "    <tr>\n",
       "      <th>2</th>\n",
       "      <td>3</td>\n",
       "      <td>Define instances and schemas of database?</td>\n",
       "      <td>Instance: An instance is a copy of the databas...</td>\n",
       "      <td>The overall design of the database is called d...</td>\n",
       "      <td>10.0</td>\n",
       "      <td>3.125000</td>\n",
       "      <td>10.0</td>\n",
       "      <td>4.0</td>\n",
       "    </tr>\n",
       "    <tr>\n",
       "      <th>3</th>\n",
       "      <td>4</td>\n",
       "      <td>Discuss Data Independence?</td>\n",
       "      <td>Data independence is the ability of a system t...</td>\n",
       "      <td>Data independence is the ability to modify the...</td>\n",
       "      <td>10.0</td>\n",
       "      <td>2.222222</td>\n",
       "      <td>10.0</td>\n",
       "      <td>7.0</td>\n",
       "    </tr>\n",
       "    <tr>\n",
       "      <th>4</th>\n",
       "      <td>5</td>\n",
       "      <td>Explain database Access for applications Programs</td>\n",
       "      <td>Database Access for applications Programs is a...</td>\n",
       "      <td>Database Access means functionality required i...</td>\n",
       "      <td>5.0</td>\n",
       "      <td>1.428571</td>\n",
       "      <td>0.0</td>\n",
       "      <td>0.0</td>\n",
       "    </tr>\n",
       "    <tr>\n",
       "      <th>...</th>\n",
       "      <td>...</td>\n",
       "      <td>...</td>\n",
       "      <td>...</td>\n",
       "      <td>...</td>\n",
       "      <td>...</td>\n",
       "      <td>...</td>\n",
       "      <td>...</td>\n",
       "      <td>...</td>\n",
       "    </tr>\n",
       "    <tr>\n",
       "      <th>151</th>\n",
       "      <td>152</td>\n",
       "      <td>Write in detail about Static Hashing?</td>\n",
       "      <td>Static hashing is a form of data storage that ...</td>\n",
       "      <td>Whenever a search-key value is specified in st...</td>\n",
       "      <td>0.0</td>\n",
       "      <td>2.500000</td>\n",
       "      <td>10.0</td>\n",
       "      <td>7.0</td>\n",
       "    </tr>\n",
       "    <tr>\n",
       "      <th>152</th>\n",
       "      <td>153</td>\n",
       "      <td>Explain in detail about Extendible Hashing?</td>\n",
       "      <td>Extendible hashing is a technique used in comp...</td>\n",
       "      <td>Extendible hashing is a technique used in comp...</td>\n",
       "      <td>10.0</td>\n",
       "      <td>10.000000</td>\n",
       "      <td>10.0</td>\n",
       "      <td>10.0</td>\n",
       "    </tr>\n",
       "    <tr>\n",
       "      <th>153</th>\n",
       "      <td>154</td>\n",
       "      <td>Explain in detail about Linear Hashing?</td>\n",
       "      <td>Linear Hashing is a data structure used to sto...</td>\n",
       "      <td>Linear hashing is a dynamic hashing technique ...</td>\n",
       "      <td>10.0</td>\n",
       "      <td>2.631579</td>\n",
       "      <td>10.0</td>\n",
       "      <td>8.0</td>\n",
       "    </tr>\n",
       "    <tr>\n",
       "      <th>154</th>\n",
       "      <td>155</td>\n",
       "      <td>Compare and Contrast Extendible Hashing with L...</td>\n",
       "      <td>Extendible hashing and linear hashing are two ...</td>\n",
       "      <td>Extendible Hashing: 1. Extendible hashing is a...</td>\n",
       "      <td>10.0</td>\n",
       "      <td>4.736842</td>\n",
       "      <td>10.0</td>\n",
       "      <td>9.0</td>\n",
       "    </tr>\n",
       "    <tr>\n",
       "      <th>155</th>\n",
       "      <td>156</td>\n",
       "      <td>We can convert any weak entity set to strong e...</td>\n",
       "      <td>Weak entity sets are used to represent entitie...</td>\n",
       "      <td>We have weak entity sets in DBMS because they ...</td>\n",
       "      <td>0.0</td>\n",
       "      <td>2.857143</td>\n",
       "      <td>10.0</td>\n",
       "      <td>6.0</td>\n",
       "    </tr>\n",
       "  </tbody>\n",
       "</table>\n",
       "<p>156 rows × 8 columns</p>\n",
       "</div>"
      ],
      "text/plain": [
       "     S.No                                          Questions  \\\n",
       "0       1                       List the advantages of DBMS?   \n",
       "1       2                    List the database Applications?   \n",
       "2       3          Define instances and schemas of database?   \n",
       "3       4                         Discuss Data Independence?   \n",
       "4       5  Explain database Access for applications Programs   \n",
       "..    ...                                                ...   \n",
       "151   152              Write in detail about Static Hashing?   \n",
       "152   153        Explain in detail about Extendible Hashing?   \n",
       "153   154            Explain in detail about Linear Hashing?   \n",
       "154   155  Compare and Contrast Extendible Hashing with L...   \n",
       "155   156  We can convert any weak entity set to strong e...   \n",
       "\n",
       "                                Model Answer (ChatGPT)  \\\n",
       "0    1. Data Integrity: DBMS ensures data accuracy ...   \n",
       "1    1. MySQL 2. Oracle Database 3. Microsoft SQL S...   \n",
       "2    Instance: An instance is a copy of the databas...   \n",
       "3    Data independence is the ability of a system t...   \n",
       "4    Database Access for applications Programs is a...   \n",
       "..                                                 ...   \n",
       "151  Static hashing is a form of data storage that ...   \n",
       "152  Extendible hashing is a technique used in comp...   \n",
       "153  Linear Hashing is a data structure used to sto...   \n",
       "154  Extendible hashing and linear hashing are two ...   \n",
       "155  Weak entity sets are used to represent entitie...   \n",
       "\n",
       "                                     User Answer (Web)  Score_camembert  \\\n",
       "0    1.Better Data Transferring: Database managemen...              2.5   \n",
       "1    1.Oracle Database 2.PostgreSQL 3.SQLite 4.File...              4.0   \n",
       "2    The overall design of the database is called d...             10.0   \n",
       "3    Data independence is the ability to modify the...             10.0   \n",
       "4    Database Access means functionality required i...              5.0   \n",
       "..                                                 ...              ...   \n",
       "151  Whenever a search-key value is specified in st...              0.0   \n",
       "152  Extendible hashing is a technique used in comp...             10.0   \n",
       "153  Linear hashing is a dynamic hashing technique ...             10.0   \n",
       "154  Extendible Hashing: 1. Extendible hashing is a...             10.0   \n",
       "155  We have weak entity sets in DBMS because they ...              0.0   \n",
       "\n",
       "     Score_NLTK  Score_spacy  Actual Score (0-10)  \n",
       "0      3.500000         10.0                  7.0  \n",
       "1      4.666667          0.0                  5.0  \n",
       "2      3.125000         10.0                  4.0  \n",
       "3      2.222222         10.0                  7.0  \n",
       "4      1.428571          0.0                  0.0  \n",
       "..          ...          ...                  ...  \n",
       "151    2.500000         10.0                  7.0  \n",
       "152   10.000000         10.0                 10.0  \n",
       "153    2.631579         10.0                  8.0  \n",
       "154    4.736842         10.0                  9.0  \n",
       "155    2.857143         10.0                  6.0  \n",
       "\n",
       "[156 rows x 8 columns]"
      ]
     },
     "execution_count": 21,
     "metadata": {},
     "output_type": "execute_result"
    }
   ],
   "source": [
    "df"
   ]
  },
  {
   "cell_type": "markdown",
   "metadata": {
    "id": "CEgcCfBDOthB"
   },
   "source": [
    "# Generating Visualizations to compare scores of the spacy model and the NLTK model"
   ]
  },
  {
   "cell_type": "code",
   "execution_count": 22,
   "metadata": {},
   "outputs": [
    {
     "data": {
      "image/png": "[encoded data removed]",
      "text/plain": [
       "<Figure size 432x288 with 1 Axes>"
      ]
     },
     "metadata": {
      "needs_background": "light"
     },
     "output_type": "display_data"
    }
   ],
   "source": [
    "plt.hist(df['Score_NLTK'], label='NLTK_Scores', alpha=0.6, edgecolor='blue')\n",
    "plt.hist(df['Score_camembert'], label='Camembert_scores', alpha=0.3, edgecolor='pink')\n",
    "plt.hist(df['Score_spacy'], label='Spacy_scores', alpha=0.5, edgecolor='red')\n",
    "plt.legend()\n",
    "plt.show()"
   ]
  },
  {
   "cell_type": "markdown",
   "metadata": {
    "id": "pXd2c0ylOgc_"
   },
   "source": [
    "# Generating Excel Sheet"
   ]
  },
  {
   "cell_type": "code",
   "execution_count": 23,
   "metadata": {
    "id": "I1pkql7SOkCX"
   },
   "outputs": [],
   "source": [
    "df.to_excel(\"C:/Users/Raghav/Downloads/Prepared_Dataset_Scored.xlsx\")"
   ]
  },
  {
   "cell_type": "code",
   "execution_count": 24,
   "metadata": {},
   "outputs": [
    {
     "name": "stdout",
     "output_type": "stream",
     "text": [
      "The difference between actual and NLTK values 4.393178384945248\n"
     ]
    }
   ],
   "source": [
    "mse_NLTK = sklearn.metrics.mean_squared_error(df['Score_camembert'], df['Score_NLTK'])  \n",
    "rmse_NLTK = math.sqrt(mse_NLTK)  \n",
    "\n",
    "print(\"The difference between actual and NLTK values\", rmse_NLTK)  "
   ]
  },
  {
   "cell_type": "code",
   "execution_count": 25,
   "metadata": {},
   "outputs": [
    {
     "name": "stdout",
     "output_type": "stream",
     "text": [
      "The difference between actual and Spacy values 5.766435695191668\n"
     ]
    }
   ],
   "source": [
    "mse_spacy = sklearn.metrics.mean_squared_error(df['Score_camembert'], df['Score_spacy'])  \n",
    "rmse_spacy = math.sqrt(mse_spacy)  \n",
    "\n",
    "print(\"The difference between actual and Spacy values\", rmse_spacy)  "
   ]
  },
  {
   "cell_type": "code",
   "execution_count": 26,
   "metadata": {},
   "outputs": [
    {
     "data": {
      "text/plain": [
       "'raghv'"
      ]
     },
     "execution_count": 26,
     "metadata": {},
     "output_type": "execute_result"
    }
   ],
   "source": [
    "'RAGHV'.lower()"
   ]
  },
  {
   "cell_type": "code",
   "execution_count": null,
   "metadata": {},
   "outputs": [],
   "source": []
  }
 ],
 "metadata": {
  "colab": {
   "provenance": []
  },
  "kernelspec": {
   "display_name": "Python 3 (ipykernel)",
   "language": "python",
   "name": "python3"
  },
  "language_info": {
   "codemirror_mode": {
    "name": "ipython",
    "version": 3
   },
   "file_extension": ".py",
   "mimetype": "text/x-python",
   "name": "python",
   "nbconvert_exporter": "python",
   "pygments_lexer": "ipython3",
   "version": "3.8.13"
  }
 },
 "nbformat": 4,
 "nbformat_minor": 1
}
