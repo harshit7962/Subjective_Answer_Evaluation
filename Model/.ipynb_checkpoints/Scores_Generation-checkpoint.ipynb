{
 "cells": [
  {
   "cell_type": "code",
   "execution_count": null,
   "metadata": {},
   "outputs": [],
   "source": [
    "# Importing libraries\n",
    "import pandas as pd\n",
    "import re\n",
    "\n",
    "import nltk\n",
    "# TODO - @Harshit, check if these downloads can be removed (as they are now in local)\n",
    "nltk.download('wordnet')\n",
    "nltk.download('punkt')\n",
    "nltk.download('averaged_perceptron_tagger')\n",
    "from nltk.corpus import wordnet\n",
    "import yake\n",
    "from nltk.tokenize import word_tokenize\n",
    "from nltk.tag import pos_tag\n",
    "\n",
    "import numpy as np\n",
    "import torch\n",
    "from numpy.linalg import norm\n",
    "from nltk.tokenize import sent_tokenize\n",
    "from transformers import T5Tokenizer, T5ForConditionalGeneration, T5Config\n",
    "from sentence_transformers import SentenceTransformer\n",
    "from happytransformer import HappyTextToText, TTSettings\n",
    "\n",
    "from transformers import AutoTokenizer, AutoModelForTokenClassification\n",
    "from transformers import pipeline"
   ]
  },
  {
   "cell_type": "code",
   "execution_count": null,
   "metadata": {},
   "outputs": [],
   "source": [
    "# Importing dataset to the workplace\n",
    "dataset = pd.read_excel(\"FinalDatasetQA.xlsx\")"
   ]
  },
  {
   "cell_type": "markdown",
   "metadata": {},
   "source": [
    "## Data Cleaning\n",
    "Here we define our methods to clean the user answer and model answer"
   ]
  },
  {
   "cell_type": "code",
   "execution_count": null,
   "metadata": {},
   "outputs": [],
   "source": [
    "# Cleaning Contractions\n",
    "R_patterns = [\n",
    "    (r'won\\'t', 'will not'),\n",
    "    (r'can\\'t', 'can not'),\n",
    "    (r'(\\w+)\\'m', '\\g<1> am'),\n",
    "    (r'(\\w+)\\'ll', '\\g<1> will'),\n",
    "    (r'(\\w+)\\'d like to', '\\g<1> would like to'),\n",
    "    (r'(\\w+)n\\'t', '\\g<1> not'),\n",
    "    (r'(\\w+)\\'ve', '\\g<1> have'),\n",
    "    (r'(\\w+)\\'s', '\\g<1> is'),\n",
    "    (r'(\\w+)\\'re', '\\g<1> are')\n",
    "]\n",
    "\n",
    "class REReplacer(object):\n",
    "    def __init__(self, patterns = R_patterns):\n",
    "        self.patterns = [(re.compile(regex), replace) for (regex, replace) in R_patterns]\n",
    "\n",
    "    def replace(self, text):\n",
    "        s = text\n",
    "        for (pattern, repl) in self.patterns:\n",
    "            s = re.sub(pattern, repl, s)\n",
    "        \n",
    "        return s"
   ]
  },
  {
   "cell_type": "code",
   "execution_count": null,
   "metadata": {},
   "outputs": [],
   "source": [
    "# Lowering Text\n",
    "def text_lower(text):\n",
    "    return text.lower()"
   ]
  },
  {
   "cell_type": "code",
   "execution_count": null,
   "metadata": {},
   "outputs": [],
   "source": [
    "# Sentence Correction\n",
    "def corrector(text):\n",
    "    return text.replace('. ', '.')"
   ]
  },
  {
   "cell_type": "code",
   "execution_count": null,
   "metadata": {},
   "outputs": [],
   "source": [
    "# Cleaning Punctuations\n",
    "def replace_punct(text):\n",
    "    pattern = \"[^\\w\\d\\+\\*\\-\\\\\\=\\s]\"\n",
    "    replace = \" \"\n",
    "\n",
    "    return re.sub(pattern, replace, text)"
   ]
  },
  {
   "cell_type": "code",
   "execution_count": null,
   "metadata": {},
   "outputs": [],
   "source": [
    "# Removing additional white spaces\n",
    "def remove_extra(text):\n",
    "    return \" \".join(text.strip().split())"
   ]
  },
  {
   "cell_type": "code",
   "execution_count": null,
   "metadata": {},
   "outputs": [],
   "source": [
    "# Pre-processing the user and model answers\n",
    "\n",
    "# TODO: @Raghav -> Writing it professionaly\n",
    "rep_word = REReplacer() # object to remove contractions\n",
    "\n",
    "dataset['Model Answer'] = dataset['Model Answer'].apply(rep_word.replace)\n",
    "dataset['User Answer'] = dataset['User Answer'].apply(rep_word.replace)\n",
    "\n",
    "dataset['Model Answer'] = dataset['Model Answer'].apply(text_lower)\n",
    "dataset['User Answer'] = dataset['User Answer'].apply(text_lower)\n",
    "\n",
    "dataset['Model Answer'] = dataset['Model Answer'].apply(corrector)\n",
    "dataset['User Answer'] = dataset['User Answer'].apply(corrector)\n",
    "\n",
    "dataset['Model Answer'] = dataset['Model Answer'].apply(replace_punct)\n",
    "dataset['User Answer'] = dataset['User Answer'].apply(replace_punct)\n",
    "\n",
    "dataset['Model Answer'] = dataset['Model Answer'].apply(remove_extra)\n",
    "dataset['User Answer'] = dataset['User Answer'].apply(remove_extra)"
   ]
  },
  {
   "cell_type": "markdown",
   "metadata": {},
   "source": [
    "## KeyWord Scoring Module\n",
    "Adding the YAKE model to include keyword scoring"
   ]
  },
  {
   "cell_type": "code",
   "execution_count": null,
   "metadata": {},
   "outputs": [],
   "source": [
    "def yake_keywordExtractor(text):\n",
    "    language = \"en\"\n",
    "    max_ngram_size = 1\n",
    "    deduplication_threshold = 0.9\n",
    "    deduplication_algo = \"seqm\"\n",
    "    windowSize = 2\n",
    "    numOfKeywords = 101\n",
    "\n",
    "    custom_kw_extractor = yake.KeywordExtractor(lan = language, \n",
    "                                            n = max_ngram_size, \n",
    "                                            dedupLim = deduplication_threshold, \n",
    "                                            dedupFunc = deduplication_algo, \n",
    "                                            windowsSize = windowSize, \n",
    "                                            top = numOfKeywords, \n",
    "                                            features = None)\n",
    "\n",
    "    return custom_kw_extractor.extract_keywords(text)\n",
    "                                        "
   ]
  },
  {
   "cell_type": "markdown",
   "metadata": {},
   "source": [
    "Adding Keyword Scoring Unit"
   ]
  },
  {
   "cell_type": "code",
   "execution_count": null,
   "metadata": {},
   "outputs": [],
   "source": [
    "def keyword_scoring(keywords_text1, keywords_text2):\n",
    "    match = 0\n",
    "    total = 0\n",
    "    synonym_dict = [] # List to include synonym matching\n",
    "\n",
    "    # TODO - @Raghav, check the correctness of comments in the following cell and add relevant comments\n",
    "\n",
    "    for token in keywords_text1:\n",
    "        total += token[1] # Total number of keywords in model answer\n",
    "\n",
    "    if total == 0:\n",
    "        return 10 # No keywords in model answer\n",
    "\n",
    "    # Generating Synonyms for second text\n",
    "    for var in keywords_text2:\n",
    "        syn = wordnet.synsets(var[0]) # Synonym Dictionary\n",
    "        syn_words = [x.lemma_names() for x in syn]\n",
    "        syn_words = [x for elem in syn_words for x in elem]\n",
    "        syn_words.append(var[0])\n",
    "        syn_words = list(set(syn_words))\n",
    "\n",
    "        temp = []\n",
    "        wt = word_tokenize(var[0])\n",
    "        pos = pos_tag(wt)[0][1]\n",
    "\n",
    "        for i in range(0, len(syn_words)):\n",
    "            checker_wt = word_tokenize(syn_words[i])\n",
    "            checker_pos = pos_tag(wt)[0][1]\n",
    "\n",
    "            if pos == checker_pos:\n",
    "                temp.append(syn_words[i])\n",
    "\n",
    "        synonym_dict = synonym_dict + temp\n",
    "\n",
    "    \n",
    "    # Calculating the total number of matching keywords\n",
    "    for token in keywords_text1:\n",
    "        syn = wordnet.synsets(token[0])\n",
    "        syn_words = [x.lemma_names() for x in syn]\n",
    "        syn_words = [x for elem in syn_words for x in elem]\n",
    "        syn_words.append(token[0])\n",
    "        syn_words = list(set(syn_words))\n",
    "\n",
    "        if len(set(syn_words).intersection(set(synonym_dict))) != 0:\n",
    "            match += token[1]\n",
    "\n",
    "    # Keyword score is number of matching keywords over total number of model keywords (normalized to 10)\n",
    "    return match * 10 / total\n"
   ]
  },
  {
   "cell_type": "markdown",
   "metadata": {},
   "source": [
    "## Similarity Scoring Module\n",
    "Adding Similarity Scoring Unit"
   ]
  },
  {
   "cell_type": "code",
   "execution_count": null,
   "metadata": {},
   "outputs": [],
   "source": [
    "# Define Cosine Similarity\n",
    "def cos_sim(sent1_emb, sent2_emb):\n",
    "    cos = np.dot(sent1_emb, sent2_emb)/(norm(sent1_emb)*norm(sent2_emb))\n",
    "    return cos\n",
    "\n",
    "# Similarity Scoring\n",
    "def similarity_scoring(text1, text2, model):\n",
    "    mod_sent = sent_tokenize(text1) # Individual sentences in model answer\n",
    "    usr_sent = sent_tokenize(text2) # Individual sentences in user answer\n",
    "\n",
    "    mod_emb = [] # Incorporating Model sentences embeddings\n",
    "    usr_emb = [] # Incorporating User sentences embeddings\n",
    "\n",
    "    for sent in mod_sent:\n",
    "        sent_emb = model.encode(sent)\n",
    "        mod_emb.append(sent_emb)\n",
    "\n",
    "    for sent in usr_sent:\n",
    "        sent_emb = model.encode(sent)\n",
    "        usr_emb.append(sent_emb)\n",
    "\n",
    "    n = len(mod_sent)\n",
    "    m = len(usr_sent)\n",
    "\n",
    "    match = 0\n",
    "\n",
    "    for i in range (0, n):\n",
    "        for j in range (0, m):\n",
    "            if cos_sim(mod_emb[i], usr_emb[j]) >= 0.75:\n",
    "                # Defining cosine threshold at 0.75\n",
    "                match += 1\n",
    "                break\n",
    "    \n",
    "    return match / n"
   ]
  },
  {
   "cell_type": "markdown",
   "metadata": {},
   "source": [
    "Adding Summarizer"
   ]
  },
  {
   "cell_type": "code",
   "execution_count": null,
   "metadata": {},
   "outputs": [],
   "source": [
    "# creating a t5 summarizer model\n",
    "model = T5ForConditionalGeneration.from_pretrained('t5-small')\n",
    "tokenizer = T5Tokenizer.from_pretrained('t5-small')\n",
    "device = torch.device('cpu') # Can replace to gpu for faster processing\n",
    "\n",
    "def summarizer(text):\n",
    "    preprocessed_text = text.strip().replace('\\n', '')\n",
    "    t5_input_text = 'summarize: ' + preprocessed_text\n",
    "    \n",
    "    tokenized_text = tokenizer.encode(t5_input_text, return_tensors='pt', max_length=512).to(device)\n",
    "    \n",
    "    summary_ids = model.generate(tokenized_text, min_length=30, max_length=120)\n",
    "    summary = tokenizer.decode(summary_ids[0], skip_special_tokens=True)\n",
    "    \n",
    "    return summary"
   ]
  },
  {
   "cell_type": "markdown",
   "metadata": {},
   "source": [
    "Adding Grammar Corrector"
   ]
  },
  {
   "cell_type": "code",
   "execution_count": null,
   "metadata": {},
   "outputs": [],
   "source": [
    "def grammar_corrector(text):\n",
    "    happy_tt = HappyTextToText(\"T5\", \"prithivida/grammar_error_correcter_v1\") # Loading the corrector library\n",
    "\n",
    "    text = \"gec: \" + text # Necessary pre-processing\n",
    "\n",
    "    settings = TTSettings(do_sample=True, top_k=10, temperature=0.5, min_length=1, max_length=100)\n",
    "    result = happy_tt.generate_text(text, args=settings)\n",
    "    \n",
    "    return result.text"
   ]
  },
  {
   "cell_type": "code",
   "execution_count": null,
   "metadata": {},
   "outputs": [],
   "source": [
    "simcse = SentenceTransformer('princeton-nlp/sup-simcse-roberta-large') # SimCSE Model\n",
    "mod_ans = dataset.iloc[:, 2].values # List of Model Answers\n",
    "usr_ans = dataset.iloc[:, 3].values # List of User Answers\n",
    "\n",
    "num_of_inputs = len(mod_ans) # Total number of Answers\n",
    "sim_score = [0] * num_of_inputs # List to keep respective similarity score\n",
    "\n",
    "# TODO - @Raghav, try implementing multi-threading here\n",
    "# Also check the viability, multi-threading not necessarily imply faster execution\n",
    "for i in range(0, num_of_inputs):\n",
    "    curr_mod = mod_ans[i]\n",
    "    curr_usr = usr_ans[i]\n",
    "\n",
    "    curr_usr = grammar_corrector(curr_usr) # grammar correction on user answer\n",
    "    curr_usr += summarizer(curr_usr) # adding summary of user answer to user answer\n",
    "    \n",
    "    sim_val = similarity_scoring(curr_mod, curr_usr, simcse)\n",
    "    sim_score[i] = sim_val * 10\n",
    "\n",
    "# Converting list to numpy array\n",
    "sim_score = np.array(sim_score)"
   ]
  },
  {
   "cell_type": "markdown",
   "metadata": {},
   "source": [
    "## Named-Entity Recognition Module\n",
    "Adding entities extraction unit"
   ]
  },
  {
   "cell_type": "code",
   "execution_count": null,
   "metadata": {},
   "outputs": [],
   "source": [
    "tokenizer = AutoTokenizer.from_pretrained(\"Jean-Baptiste/camembert-ner\")\n",
    "model = AutoModelForTokenClassification.from_pretrained(\"Jean-Baptiste/camembert-ner\")\n",
    "\n",
    "def ner_scoring(text1, text2):\n",
    "    nlp = pipeline('ner', \n",
    "                   model=model, \n",
    "                   tokenizer=tokenizer, \n",
    "                   aggregation_strategy=\"simple\") # Initializing the NLP pipeline\n",
    "\n",
    "    mod = nlp(text1) # pre-processing model answer\n",
    "    usr = nlp(text2) # pre-processing user answer\n",
    "\n",
    "    mod_arr = []\n",
    "    usr_arr = []\n",
    "\n",
    "    for i in range(0, len(mod)):\n",
    "        if(mod[i]['score'] >= 0.9):\n",
    "            mod_arr.append(mod[i]['word'].lower())\n",
    "\n",
    "    if len(mod_arr) == 0:\n",
    "        return 10 # return full marks if no entities in model answer\n",
    "\n",
    "    for i in range(0, len(usr)):\n",
    "        usr_arr.append(usr[i]['word'].lower())\n",
    "\n",
    "    mod_arr = set(mod_arr)\n",
    "    usr_arr = set(usr_arr)\n",
    "\n",
    "    return len(mod_arr.intersection(usr_arr)) * 10 / len(mod_arr)"
   ]
  },
  {
   "cell_type": "code",
   "execution_count": null,
   "metadata": {},
   "outputs": [],
   "source": [
    "# TODO - @Raghav, add relevant comment for the addition of these two attributes in dataset\n",
    "# TODO - @Raghav, try adding multi-threading here as well\n",
    "dataset['yake_keys_sentence1'] = dataset['Model Answer'].apply(yake_keywordExtractor)\n",
    "dataset['yake_keys_sentence2'] = dataset['User Answer'].apply(yake_keywordExtractor)\n",
    "\n",
    "# Adding the Keyword Score in dataset\n",
    "dataset['keyword_score'] = dataset[['yake_keys_sentence1', 'yake_keys_sentence2']].apply(lambda x : keyword_scoring(x.yake_keys_sentence1,\n",
    "                                                                                        x.yake_keys_sentence2),\n",
    "                                                                                        axis = 1)\n",
    "# TODO - @Raghav add similar comment on dropping these two additional attributes\n",
    "dataset.drop(['yake_keys_sentence1', 'yake_keys_sentence2'], axis = 1)\n",
    "\n",
    "\n",
    "# Adding the Similarity Score in dataset\n",
    "dataset['similarity_score'] = sim_score.tolist()\n",
    "\n",
    "# Generating and adding the NER Score in dataset\n",
    "ner_score = [0] * num_of_inputs\n",
    "for i in range(dataset.shape[0]):\n",
    "    mod = dataset['Model Answer'][i] # Individual model answers\n",
    "    usr = dataset['User Answer'][i] # Individual user answers\n",
    "\n",
    "    ner_score[i] = ner_scoring(mod, usr)\n",
    "\n",
    "ner_score = np.array(ner_score) # List to numpy array conversion\n",
    "dataset['ner_score'] = ner_score.tolist()"
   ]
  },
  {
   "cell_type": "code",
   "execution_count": null,
   "metadata": {},
   "outputs": [],
   "source": [
    "# Saving the dataset in form of a csv file to be in neural network\n",
    "dataset.to_csv('Scores.csv')"
   ]
  },
  {
   "cell_type": "code",
   "execution_count": null,
   "metadata": {},
   "outputs": [],
   "source": []
  }
 ],
 "metadata": {
  "kernelspec": {
   "display_name": "Python 3 (ipykernel)",
   "language": "python",
   "name": "python3"
  },
  "language_info": {
   "codemirror_mode": {
    "name": "ipython",
    "version": 3
   },
   "file_extension": ".py",
   "mimetype": "text/x-python",
   "name": "python",
   "nbconvert_exporter": "python",
   "pygments_lexer": "ipython3",
   "version": "3.11.6"
  }
 },
 "nbformat": 4,
 "nbformat_minor": 4
}
