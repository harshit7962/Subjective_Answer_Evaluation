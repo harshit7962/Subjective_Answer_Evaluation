{
 "cells": [
  {
   "cell_type": "code",
   "execution_count": 1,
   "metadata": {},
   "outputs": [
    {
     "name": "stderr",
     "output_type": "stream",
     "text": [
      "[nltk_data] Downloading package wordnet to\n",
      "[nltk_data]     C:\\Users\\hmishra\\AppData\\Roaming\\nltk_data...\n",
      "[nltk_data]   Package wordnet is already up-to-date!\n",
      "[nltk_data] Downloading package punkt to\n",
      "[nltk_data]     C:\\Users\\hmishra\\AppData\\Roaming\\nltk_data...\n",
      "[nltk_data]   Package punkt is already up-to-date!\n",
      "[nltk_data] Downloading package averaged_perceptron_tagger to\n",
      "[nltk_data]     C:\\Users\\hmishra\\AppData\\Roaming\\nltk_data...\n",
      "[nltk_data]   Package averaged_perceptron_tagger is already up-to-\n",
      "[nltk_data]       date!\n"
     ]
    }
   ],
   "source": [
    "# Importing libraries\n",
    "import pandas as pd\n",
    "import re\n",
    "\n",
    "import nltk\n",
    "# TODO - @Harshit, check if these downloads can be removed (as they are now in local)\n",
    "nltk.download('wordnet')\n",
    "nltk.download('punkt')\n",
    "nltk.download('averaged_perceptron_tagger')\n",
    "from nltk.corpus import wordnet\n",
    "import yake\n",
    "from nltk.tokenize import word_tokenize\n",
    "from nltk.tag import pos_tag\n",
    "\n",
    "import numpy as np\n",
    "import torch\n",
    "from numpy.linalg import norm\n",
    "from nltk.tokenize import sent_tokenize\n",
    "from transformers import T5Tokenizer, T5ForConditionalGeneration, T5Config\n",
    "from sentence_transformers import SentenceTransformer\n",
    "from happytransformer import HappyTextToText, TTSettings\n",
    "\n",
    "from transformers import AutoTokenizer, AutoModelForTokenClassification\n",
    "from transformers import pipeline"
   ]
  },
  {
   "cell_type": "code",
   "execution_count": 2,
   "metadata": {},
   "outputs": [],
   "source": [
    "# Importing dataset to the workplace\n",
    "dataset = pd.read_excel(\"FinalDatasetQA.xlsx\")"
   ]
  },
  {
   "cell_type": "markdown",
   "metadata": {},
   "source": [
    "## Data Cleaning\n",
    "Here we define our methods to clean the user answer and model answer"
   ]
  },
  {
   "cell_type": "code",
   "execution_count": 3,
   "metadata": {},
   "outputs": [],
   "source": [
    "# Cleaning Contractions\n",
    "R_patterns = [\n",
    "    (r'won\\'t', 'will not'),\n",
    "    (r'can\\'t', 'can not'),\n",
    "    (r'(\\w+)\\'m', '\\g<1> am'),\n",
    "    (r'(\\w+)\\'ll', '\\g<1> will'),\n",
    "    (r'(\\w+)\\'d like to', '\\g<1> would like to'),\n",
    "    (r'(\\w+)n\\'t', '\\g<1> not'),\n",
    "    (r'(\\w+)\\'ve', '\\g<1> have'),\n",
    "    (r'(\\w+)\\'s', '\\g<1> is'),\n",
    "    (r'(\\w+)\\'re', '\\g<1> are')\n",
    "]\n",
    "\n",
    "class REReplacer(object):\n",
    "    def __init__(self, patterns = R_patterns):\n",
    "        self.patterns = [(re.compile(regex), replace) for (regex, replace) in R_patterns]\n",
    "\n",
    "    def replace(self, text):\n",
    "        s = text\n",
    "        for (pattern, repl) in self.patterns:\n",
    "            s = re.sub(pattern, repl, s)\n",
    "        \n",
    "        return s"
   ]
  },
  {
   "cell_type": "code",
   "execution_count": 4,
   "metadata": {},
   "outputs": [],
   "source": [
    "# Lowering Text\n",
    "def text_lower(text):\n",
    "    return text.lower()"
   ]
  },
  {
   "cell_type": "code",
   "execution_count": 5,
   "metadata": {},
   "outputs": [],
   "source": [
    "# Sentence Correction\n",
    "def corrector(text):\n",
    "    return text.replace('. ', '.')"
   ]
  },
  {
   "cell_type": "code",
   "execution_count": 6,
   "metadata": {},
   "outputs": [],
   "source": [
    "# Cleaning Punctuations\n",
    "def replace_punct(text):\n",
    "    pattern = \"[^\\w\\d\\+\\*\\-\\\\\\=\\s]\"\n",
    "    replace = \" \"\n",
    "\n",
    "    return re.sub(pattern, replace, text)"
   ]
  },
  {
   "cell_type": "code",
   "execution_count": 7,
   "metadata": {},
   "outputs": [],
   "source": [
    "# Removing additional white spaces\n",
    "def remove_extra(text):\n",
    "    return \" \".join(text.strip().split())"
   ]
  },
  {
   "cell_type": "code",
   "execution_count": 8,
   "metadata": {},
   "outputs": [],
   "source": [
    "# Pre-processing the user and model answers\n",
    "\n",
    "# TODO: @Raghav -> Writing it professionaly\n",
    "rep_word = REReplacer() # object to remove contractions\n",
    "\n",
    "dataset['Model Answer'] = dataset['Model Answer'].apply(rep_word.replace)\n",
    "dataset['User Answer'] = dataset['User Answer'].apply(rep_word.replace)\n",
    "\n",
    "dataset['Model Answer'] = dataset['Model Answer'].apply(text_lower)\n",
    "dataset['User Answer'] = dataset['User Answer'].apply(text_lower)\n",
    "\n",
    "dataset['Model Answer'] = dataset['Model Answer'].apply(corrector)\n",
    "dataset['User Answer'] = dataset['User Answer'].apply(corrector)\n",
    "\n",
    "dataset['Model Answer'] = dataset['Model Answer'].apply(replace_punct)\n",
    "dataset['User Answer'] = dataset['User Answer'].apply(replace_punct)\n",
    "\n",
    "dataset['Model Answer'] = dataset['Model Answer'].apply(remove_extra)\n",
    "dataset['User Answer'] = dataset['User Answer'].apply(remove_extra)"
   ]
  },
  {
   "cell_type": "markdown",
   "metadata": {},
   "source": [
    "## KeyWord Scoring Module\n",
    "Adding the YAKE model to include keyword scoring"
   ]
  },
  {
   "cell_type": "code",
   "execution_count": 9,
   "metadata": {},
   "outputs": [],
   "source": [
    "def yake_keywordExtractor(text):\n",
    "    language = \"en\"\n",
    "    max_ngram_size = 1\n",
    "    deduplication_threshold = 0.9\n",
    "    deduplication_algo = \"seqm\"\n",
    "    windowSize = 2\n",
    "    numOfKeywords = 101\n",
    "\n",
    "    custom_kw_extractor = yake.KeywordExtractor(lan = language, \n",
    "                                            n = max_ngram_size, \n",
    "                                            dedupLim = deduplication_threshold, \n",
    "                                            dedupFunc = deduplication_algo, \n",
    "                                            windowsSize = windowSize, \n",
    "                                            top = numOfKeywords, \n",
    "                                            features = None)\n",
    "\n",
    "    return custom_kw_extractor.extract_keywords(text)\n",
    "                                        "
   ]
  },
  {
   "cell_type": "markdown",
   "metadata": {},
   "source": [
    "Adding Keyword Scoring Unit"
   ]
  },
  {
   "cell_type": "code",
   "execution_count": 10,
   "metadata": {},
   "outputs": [],
   "source": [
    "def keyword_scoring(keywords_text1, keywords_text2):\n",
    "    match = 0\n",
    "    total = 0\n",
    "    synonym_dict = [] # List to include synonym matching\n",
    "\n",
    "    # TODO - @Raghav, check the correctness of comments in the following cell and add relevant comments\n",
    "\n",
    "    for token in keywords_text1:\n",
    "        total += token[1] # Total number of keywords in model answer\n",
    "\n",
    "    if total == 0:\n",
    "        return 10 # No keywords in model answer\n",
    "\n",
    "    # Generating Synonyms for second text\n",
    "    for var in keywords_text2:\n",
    "        syn = wordnet.synsets(var[0]) # Synonym Dictionary\n",
    "        syn_words = [x.lemma_names() for x in syn]\n",
    "        syn_words = [x for elem in syn_words for x in elem]\n",
    "        syn_words.append(var[0])\n",
    "        syn_words = list(set(syn_words))\n",
    "\n",
    "        temp = []\n",
    "        wt = word_tokenize(var[0])\n",
    "        pos = pos_tag(wt)[0][1]\n",
    "\n",
    "        for i in range(0, len(syn_words)):\n",
    "            checker_wt = word_tokenize(syn_words[i])\n",
    "            checker_pos = pos_tag(wt)[0][1]\n",
    "\n",
    "            if pos == checker_pos:\n",
    "                temp.append(syn_words[i])\n",
    "\n",
    "        synonym_dict = synonym_dict + temp\n",
    "\n",
    "    \n",
    "    # Calculating the total number of matching keywords\n",
    "    for token in keywords_text1:\n",
    "        syn = wordnet.synsets(token[0])\n",
    "        syn_words = [x.lemma_names() for x in syn]\n",
    "        syn_words = [x for elem in syn_words for x in elem]\n",
    "        syn_words.append(token[0])\n",
    "        syn_words = list(set(syn_words))\n",
    "\n",
    "        if len(set(syn_words).intersection(set(synonym_dict))) != 0:\n",
    "            match += token[1]\n",
    "\n",
    "    # Keyword score is number of matching keywords over total number of model keywords (normalized to 10)\n",
    "    return match * 10 / total\n"
   ]
  },
  {
   "cell_type": "markdown",
   "metadata": {},
   "source": [
    "## Similarity Scoring Module\n",
    "Adding Similarity Scoring Unit"
   ]
  },
  {
   "cell_type": "code",
   "execution_count": 11,
   "metadata": {},
   "outputs": [],
   "source": [
    "# Define Cosine Similarity\n",
    "def cos_sim(sent1_emb, sent2_emb):\n",
    "    cos = np.dot(sent1_emb, sent2_emb)/(norm(sent1_emb)*norm(sent2_emb))\n",
    "    return cos\n",
    "\n",
    "# Similarity Scoring\n",
    "def similarity_scoring(text1, text2, model):\n",
    "    mod_sent = sent_tokenize(text1) # Individual sentences in model answer\n",
    "    usr_sent = sent_tokenize(text2) # Individual sentences in user answer\n",
    "\n",
    "    mod_emb = [] # Incorporating Model sentences embeddings\n",
    "    usr_emb = [] # Incorporating User sentences embeddings\n",
    "\n",
    "    for sent in mod_sent:\n",
    "        sent_emb = model.encode(sent)\n",
    "        mod_emb.append(sent_emb)\n",
    "\n",
    "    for sent in usr_sent:\n",
    "        sent_emb = model.encode(sent)\n",
    "        usr_emb.append(sent_emb)\n",
    "\n",
    "    n = len(mod_sent)\n",
    "    m = len(usr_sent)\n",
    "\n",
    "    match = 0\n",
    "\n",
    "    for i in range (0, n):\n",
    "        for j in range (0, m):\n",
    "            if cos_sim(mod_emb[i], usr_emb[j]) >= 0.75:\n",
    "                # Defining cosine threshold at 0.75\n",
    "                match += 1\n",
    "                break\n",
    "    \n",
    "    return match / n"
   ]
  },
  {
   "cell_type": "markdown",
   "metadata": {},
   "source": [
    "Adding Summarizer"
   ]
  },
  {
   "cell_type": "code",
   "execution_count": 12,
   "metadata": {},
   "outputs": [
    {
     "name": "stderr",
     "output_type": "stream",
     "text": [
      "You are using the default legacy behaviour of the <class 'transformers.models.t5.tokenization_t5.T5Tokenizer'>. This is expected, and simply means that the `legacy` (previous) behavior will be used so nothing changes for you. If you want to use the new behaviour, set `legacy=False`. This should only be set if you understand what it means, and thouroughly read the reason why this was added as explained in https://github.com/huggingface/transformers/pull/24565\n"
     ]
    }
   ],
   "source": [
    "# creating a t5 summarizer model\n",
    "model = T5ForConditionalGeneration.from_pretrained('t5-small')\n",
    "tokenizer = T5Tokenizer.from_pretrained('t5-small')\n",
    "device = torch.device('cpu') # Can replace to gpu for faster processing\n",
    "\n",
    "def summarizer(text):\n",
    "    preprocessed_text = text.strip().replace('\\n', '')\n",
    "    t5_input_text = 'summarize: ' + preprocessed_text\n",
    "    \n",
    "    tokenized_text = tokenizer.encode(t5_input_text, return_tensors='pt', max_length=512).to(device)\n",
    "    \n",
    "    summary_ids = model.generate(tokenized_text, min_length=30, max_length=120)\n",
    "    summary = tokenizer.decode(summary_ids[0], skip_special_tokens=True)\n",
    "    \n",
    "    return summary"
   ]
  },
  {
   "cell_type": "markdown",
   "metadata": {},
   "source": [
    "Adding Grammar Corrector"
   ]
  },
  {
   "cell_type": "code",
   "execution_count": 13,
   "metadata": {},
   "outputs": [],
   "source": [
    "def grammar_corrector(text):\n",
    "    happy_tt = HappyTextToText(\"T5\", \"prithivida/grammar_error_correcter_v1\") # Loading the corrector library\n",
    "\n",
    "    text = \"gec: \" + text # Necessary pre-processing\n",
    "\n",
    "    settings = TTSettings(do_sample=True, top_k=10, temperature=0.5, min_length=1, max_length=100)\n",
    "    result = happy_tt.generate_text(text, args=settings)\n",
    "    \n",
    "    return result.text"
   ]
  },
  {
   "cell_type": "code",
   "execution_count": null,
   "metadata": {},
   "outputs": [
    {
     "name": "stderr",
     "output_type": "stream",
     "text": [
      "No sentence-transformers model found with name C:\\Users\\hmishra/.cache\\torch\\sentence_transformers\\princeton-nlp_sup-simcse-roberta-large. Creating a new one with MEAN pooling.\n",
      "10/17/2023 22:53:21 - INFO - happytransformer.happy_transformer -   Using device: cpu\n",
      "10/17/2023 22:53:22 - INFO - happytransformer.happy_transformer -   Moving model to cpu\n",
      "10/17/2023 22:53:22 - INFO - happytransformer.happy_transformer -   Initializing a pipeline\n",
      "Truncation was not explicitly activated but `max_length` is provided a specific value, please use `truncation=True` to explicitly truncate examples to max length. Defaulting to 'longest_first' truncation strategy. If you encode pairs of sequences (GLUE-style) with the tokenizer you can select this strategy more precisely by providing a specific strategy to `truncation`.\n"
     ]
    },
    {
     "data": {
      "application/vnd.jupyter.widget-view+json": {
       "model_id": "4727db913d5d47818dad1627408f6f28",
       "version_major": 2,
       "version_minor": 0
      },
      "text/plain": [
       "Batches:   0%|          | 0/1 [00:00<?, ?it/s]"
      ]
     },
     "metadata": {},
     "output_type": "display_data"
    },
    {
     "data": {
      "application/vnd.jupyter.widget-view+json": {
       "model_id": "daaf46ab509a433a8181f2d670d19107",
       "version_major": 2,
       "version_minor": 0
      },
      "text/plain": [
       "Batches:   0%|          | 0/1 [00:00<?, ?it/s]"
      ]
     },
     "metadata": {},
     "output_type": "display_data"
    },
    {
     "data": {
      "application/vnd.jupyter.widget-view+json": {
       "model_id": "e282032dc2e84e11b3ff9b97c4f694db",
       "version_major": 2,
       "version_minor": 0
      },
      "text/plain": [
       "Batches:   0%|          | 0/1 [00:00<?, ?it/s]"
      ]
     },
     "metadata": {},
     "output_type": "display_data"
    },
    {
     "name": "stderr",
     "output_type": "stream",
     "text": [
      "10/17/2023 22:53:44 - INFO - happytransformer.happy_transformer -   Using device: cpu\n",
      "10/17/2023 22:53:45 - INFO - happytransformer.happy_transformer -   Moving model to cpu\n",
      "10/17/2023 22:53:45 - INFO - happytransformer.happy_transformer -   Initializing a pipeline\n"
     ]
    },
    {
     "data": {
      "application/vnd.jupyter.widget-view+json": {
       "model_id": "12bb446d1a3e40439b00fc6e4102b0ff",
       "version_major": 2,
       "version_minor": 0
      },
      "text/plain": [
       "Batches:   0%|          | 0/1 [00:00<?, ?it/s]"
      ]
     },
     "metadata": {},
     "output_type": "display_data"
    },
    {
     "data": {
      "application/vnd.jupyter.widget-view+json": {
       "model_id": "003d0e0e43f440e9a78f0bdc3bc989cd",
       "version_major": 2,
       "version_minor": 0
      },
      "text/plain": [
       "Batches:   0%|          | 0/1 [00:00<?, ?it/s]"
      ]
     },
     "metadata": {},
     "output_type": "display_data"
    },
    {
     "data": {
      "application/vnd.jupyter.widget-view+json": {
       "model_id": "129c2bb25fa14da2ac41f112944b3cd0",
       "version_major": 2,
       "version_minor": 0
      },
      "text/plain": [
       "Batches:   0%|          | 0/1 [00:00<?, ?it/s]"
      ]
     },
     "metadata": {},
     "output_type": "display_data"
    },
    {
     "data": {
      "application/vnd.jupyter.widget-view+json": {
       "model_id": "3b17370fbfb24b4a8c7d80ddfb3b1e15",
       "version_major": 2,
       "version_minor": 0
      },
      "text/plain": [
       "Batches:   0%|          | 0/1 [00:00<?, ?it/s]"
      ]
     },
     "metadata": {},
     "output_type": "display_data"
    },
    {
     "data": {
      "application/vnd.jupyter.widget-view+json": {
       "model_id": "4095110f052d487090797cde76324640",
       "version_major": 2,
       "version_minor": 0
      },
      "text/plain": [
       "Batches:   0%|          | 0/1 [00:00<?, ?it/s]"
      ]
     },
     "metadata": {},
     "output_type": "display_data"
    },
    {
     "name": "stderr",
     "output_type": "stream",
     "text": [
      "10/17/2023 22:54:08 - INFO - happytransformer.happy_transformer -   Using device: cpu\n",
      "10/17/2023 22:54:08 - INFO - happytransformer.happy_transformer -   Moving model to cpu\n",
      "10/17/2023 22:54:08 - INFO - happytransformer.happy_transformer -   Initializing a pipeline\n"
     ]
    },
    {
     "data": {
      "application/vnd.jupyter.widget-view+json": {
       "model_id": "d6a4ab3bdde24be18df2be6b470a2dc2",
       "version_major": 2,
       "version_minor": 0
      },
      "text/plain": [
       "Batches:   0%|          | 0/1 [00:00<?, ?it/s]"
      ]
     },
     "metadata": {},
     "output_type": "display_data"
    },
    {
     "data": {
      "application/vnd.jupyter.widget-view+json": {
       "model_id": "c5468d12ec5843ef86c5d4d5ede831b7",
       "version_major": 2,
       "version_minor": 0
      },
      "text/plain": [
       "Batches:   0%|          | 0/1 [00:00<?, ?it/s]"
      ]
     },
     "metadata": {},
     "output_type": "display_data"
    },
    {
     "data": {
      "application/vnd.jupyter.widget-view+json": {
       "model_id": "4df167f596b1407daefeb26dee9684b2",
       "version_major": 2,
       "version_minor": 0
      },
      "text/plain": [
       "Batches:   0%|          | 0/1 [00:00<?, ?it/s]"
      ]
     },
     "metadata": {},
     "output_type": "display_data"
    },
    {
     "data": {
      "application/vnd.jupyter.widget-view+json": {
       "model_id": "3f352c248fe34ce19d900bd507614006",
       "version_major": 2,
       "version_minor": 0
      },
      "text/plain": [
       "Batches:   0%|          | 0/1 [00:00<?, ?it/s]"
      ]
     },
     "metadata": {},
     "output_type": "display_data"
    },
    {
     "name": "stderr",
     "output_type": "stream",
     "text": [
      "10/17/2023 22:54:32 - INFO - happytransformer.happy_transformer -   Using device: cpu\n",
      "10/17/2023 22:54:32 - INFO - happytransformer.happy_transformer -   Moving model to cpu\n",
      "10/17/2023 22:54:32 - INFO - happytransformer.happy_transformer -   Initializing a pipeline\n"
     ]
    },
    {
     "data": {
      "application/vnd.jupyter.widget-view+json": {
       "model_id": "9de73afa5656426795f6775b56d0f56d",
       "version_major": 2,
       "version_minor": 0
      },
      "text/plain": [
       "Batches:   0%|          | 0/1 [00:00<?, ?it/s]"
      ]
     },
     "metadata": {},
     "output_type": "display_data"
    },
    {
     "data": {
      "application/vnd.jupyter.widget-view+json": {
       "model_id": "07a7121dab72446eaf988e1aa8495de3",
       "version_major": 2,
       "version_minor": 0
      },
      "text/plain": [
       "Batches:   0%|          | 0/1 [00:00<?, ?it/s]"
      ]
     },
     "metadata": {},
     "output_type": "display_data"
    },
    {
     "data": {
      "application/vnd.jupyter.widget-view+json": {
       "model_id": "bd4e2dcf0d2d4cff950af14d87958c83",
       "version_major": 2,
       "version_minor": 0
      },
      "text/plain": [
       "Batches:   0%|          | 0/1 [00:00<?, ?it/s]"
      ]
     },
     "metadata": {},
     "output_type": "display_data"
    },
    {
     "data": {
      "application/vnd.jupyter.widget-view+json": {
       "model_id": "ecaee151c631472abf6cc3114f25278c",
       "version_major": 2,
       "version_minor": 0
      },
      "text/plain": [
       "Batches:   0%|          | 0/1 [00:00<?, ?it/s]"
      ]
     },
     "metadata": {},
     "output_type": "display_data"
    },
    {
     "name": "stderr",
     "output_type": "stream",
     "text": [
      "10/17/2023 22:54:54 - INFO - happytransformer.happy_transformer -   Using device: cpu\n",
      "10/17/2023 22:54:54 - INFO - happytransformer.happy_transformer -   Moving model to cpu\n",
      "10/17/2023 22:54:54 - INFO - happytransformer.happy_transformer -   Initializing a pipeline\n"
     ]
    },
    {
     "data": {
      "application/vnd.jupyter.widget-view+json": {
       "model_id": "47cee438c1a1422a8969f0890d20db4e",
       "version_major": 2,
       "version_minor": 0
      },
      "text/plain": [
       "Batches:   0%|          | 0/1 [00:00<?, ?it/s]"
      ]
     },
     "metadata": {},
     "output_type": "display_data"
    },
    {
     "data": {
      "application/vnd.jupyter.widget-view+json": {
       "model_id": "707bbb2b8daf43cc9938f30b95b9bedb",
       "version_major": 2,
       "version_minor": 0
      },
      "text/plain": [
       "Batches:   0%|          | 0/1 [00:00<?, ?it/s]"
      ]
     },
     "metadata": {},
     "output_type": "display_data"
    },
    {
     "data": {
      "application/vnd.jupyter.widget-view+json": {
       "model_id": "6f4e56bc18004b739825e87ef7f4c920",
       "version_major": 2,
       "version_minor": 0
      },
      "text/plain": [
       "Batches:   0%|          | 0/1 [00:00<?, ?it/s]"
      ]
     },
     "metadata": {},
     "output_type": "display_data"
    },
    {
     "data": {
      "application/vnd.jupyter.widget-view+json": {
       "model_id": "3c2770126ab74e739e6351648e04d36c",
       "version_major": 2,
       "version_minor": 0
      },
      "text/plain": [
       "Batches:   0%|          | 0/1 [00:00<?, ?it/s]"
      ]
     },
     "metadata": {},
     "output_type": "display_data"
    },
    {
     "name": "stderr",
     "output_type": "stream",
     "text": [
      "10/17/2023 22:55:17 - INFO - happytransformer.happy_transformer -   Using device: cpu\n",
      "10/17/2023 22:55:18 - INFO - happytransformer.happy_transformer -   Moving model to cpu\n",
      "10/17/2023 22:55:18 - INFO - happytransformer.happy_transformer -   Initializing a pipeline\n"
     ]
    },
    {
     "data": {
      "application/vnd.jupyter.widget-view+json": {
       "model_id": "1fda0557d4174a3ca3b30c1a7a7aaf35",
       "version_major": 2,
       "version_minor": 0
      },
      "text/plain": [
       "Batches:   0%|          | 0/1 [00:00<?, ?it/s]"
      ]
     },
     "metadata": {},
     "output_type": "display_data"
    },
    {
     "data": {
      "application/vnd.jupyter.widget-view+json": {
       "model_id": "d03924376ea544c09a838ee9f3ce2055",
       "version_major": 2,
       "version_minor": 0
      },
      "text/plain": [
       "Batches:   0%|          | 0/1 [00:00<?, ?it/s]"
      ]
     },
     "metadata": {},
     "output_type": "display_data"
    },
    {
     "name": "stderr",
     "output_type": "stream",
     "text": [
      "10/17/2023 22:55:40 - INFO - happytransformer.happy_transformer -   Using device: cpu\n",
      "10/17/2023 22:55:41 - INFO - happytransformer.happy_transformer -   Moving model to cpu\n",
      "10/17/2023 22:55:41 - INFO - happytransformer.happy_transformer -   Initializing a pipeline\n"
     ]
    },
    {
     "data": {
      "application/vnd.jupyter.widget-view+json": {
       "model_id": "6be4119c6acd480584178780d76a28d1",
       "version_major": 2,
       "version_minor": 0
      },
      "text/plain": [
       "Batches:   0%|          | 0/1 [00:00<?, ?it/s]"
      ]
     },
     "metadata": {},
     "output_type": "display_data"
    },
    {
     "data": {
      "application/vnd.jupyter.widget-view+json": {
       "model_id": "875fdb124d1e4a31ae602da11142b7b6",
       "version_major": 2,
       "version_minor": 0
      },
      "text/plain": [
       "Batches:   0%|          | 0/1 [00:00<?, ?it/s]"
      ]
     },
     "metadata": {},
     "output_type": "display_data"
    },
    {
     "data": {
      "application/vnd.jupyter.widget-view+json": {
       "model_id": "8ffa3eb2cec0499f8de2586f79ae5a8c",
       "version_major": 2,
       "version_minor": 0
      },
      "text/plain": [
       "Batches:   0%|          | 0/1 [00:00<?, ?it/s]"
      ]
     },
     "metadata": {},
     "output_type": "display_data"
    },
    {
     "data": {
      "application/vnd.jupyter.widget-view+json": {
       "model_id": "1e25a2c47d2e4ad9b4ede8148ee894cb",
       "version_major": 2,
       "version_minor": 0
      },
      "text/plain": [
       "Batches:   0%|          | 0/1 [00:00<?, ?it/s]"
      ]
     },
     "metadata": {},
     "output_type": "display_data"
    },
    {
     "name": "stderr",
     "output_type": "stream",
     "text": [
      "10/17/2023 22:56:05 - INFO - happytransformer.happy_transformer -   Using device: cpu\n",
      "10/17/2023 22:56:06 - INFO - happytransformer.happy_transformer -   Moving model to cpu\n",
      "10/17/2023 22:56:06 - INFO - happytransformer.happy_transformer -   Initializing a pipeline\n"
     ]
    },
    {
     "data": {
      "application/vnd.jupyter.widget-view+json": {
       "model_id": "db0b7a50c9394c47bde5487c5117577a",
       "version_major": 2,
       "version_minor": 0
      },
      "text/plain": [
       "Batches:   0%|          | 0/1 [00:00<?, ?it/s]"
      ]
     },
     "metadata": {},
     "output_type": "display_data"
    },
    {
     "data": {
      "application/vnd.jupyter.widget-view+json": {
       "model_id": "ae53cf562e4d42e2be02f735ca71e569",
       "version_major": 2,
       "version_minor": 0
      },
      "text/plain": [
       "Batches:   0%|          | 0/1 [00:00<?, ?it/s]"
      ]
     },
     "metadata": {},
     "output_type": "display_data"
    },
    {
     "data": {
      "application/vnd.jupyter.widget-view+json": {
       "model_id": "f18bcb0a46ed4fc38b01ead0e7824b7c",
       "version_major": 2,
       "version_minor": 0
      },
      "text/plain": [
       "Batches:   0%|          | 0/1 [00:00<?, ?it/s]"
      ]
     },
     "metadata": {},
     "output_type": "display_data"
    },
    {
     "data": {
      "application/vnd.jupyter.widget-view+json": {
       "model_id": "85b28ac559054eb0876f2200cff46518",
       "version_major": 2,
       "version_minor": 0
      },
      "text/plain": [
       "Batches:   0%|          | 0/1 [00:00<?, ?it/s]"
      ]
     },
     "metadata": {},
     "output_type": "display_data"
    },
    {
     "data": {
      "application/vnd.jupyter.widget-view+json": {
       "model_id": "d9f8639828854f709e3b339ae0dae2a1",
       "version_major": 2,
       "version_minor": 0
      },
      "text/plain": [
       "Batches:   0%|          | 0/1 [00:00<?, ?it/s]"
      ]
     },
     "metadata": {},
     "output_type": "display_data"
    },
    {
     "data": {
      "application/vnd.jupyter.widget-view+json": {
       "model_id": "669185245f7f4f9887427fc2f6f03a8a",
       "version_major": 2,
       "version_minor": 0
      },
      "text/plain": [
       "Batches:   0%|          | 0/1 [00:00<?, ?it/s]"
      ]
     },
     "metadata": {},
     "output_type": "display_data"
    },
    {
     "data": {
      "application/vnd.jupyter.widget-view+json": {
       "model_id": "24df11f58bf24e1086220104e515ae9c",
       "version_major": 2,
       "version_minor": 0
      },
      "text/plain": [
       "Batches:   0%|          | 0/1 [00:00<?, ?it/s]"
      ]
     },
     "metadata": {},
     "output_type": "display_data"
    },
    {
     "data": {
      "application/vnd.jupyter.widget-view+json": {
       "model_id": "9252ba3443da4ae5a03d08e83a21e81d",
       "version_major": 2,
       "version_minor": 0
      },
      "text/plain": [
       "Batches:   0%|          | 0/1 [00:00<?, ?it/s]"
      ]
     },
     "metadata": {},
     "output_type": "display_data"
    },
    {
     "name": "stderr",
     "output_type": "stream",
     "text": [
      "10/17/2023 22:56:33 - INFO - happytransformer.happy_transformer -   Using device: cpu\n",
      "10/17/2023 22:56:34 - INFO - happytransformer.happy_transformer -   Moving model to cpu\n",
      "10/17/2023 22:56:34 - INFO - happytransformer.happy_transformer -   Initializing a pipeline\n"
     ]
    },
    {
     "data": {
      "application/vnd.jupyter.widget-view+json": {
       "model_id": "332bfb1a106f41908276900d97a3104f",
       "version_major": 2,
       "version_minor": 0
      },
      "text/plain": [
       "Batches:   0%|          | 0/1 [00:00<?, ?it/s]"
      ]
     },
     "metadata": {},
     "output_type": "display_data"
    },
    {
     "data": {
      "application/vnd.jupyter.widget-view+json": {
       "model_id": "196b8dc50e664e8299253f1145e0868f",
       "version_major": 2,
       "version_minor": 0
      },
      "text/plain": [
       "Batches:   0%|          | 0/1 [00:00<?, ?it/s]"
      ]
     },
     "metadata": {},
     "output_type": "display_data"
    },
    {
     "data": {
      "application/vnd.jupyter.widget-view+json": {
       "model_id": "b47d0ffd6c8d481095c39f2c2865da3f",
       "version_major": 2,
       "version_minor": 0
      },
      "text/plain": [
       "Batches:   0%|          | 0/1 [00:00<?, ?it/s]"
      ]
     },
     "metadata": {},
     "output_type": "display_data"
    },
    {
     "data": {
      "application/vnd.jupyter.widget-view+json": {
       "model_id": "bb847fbd0fbd45628c189540622c8fda",
       "version_major": 2,
       "version_minor": 0
      },
      "text/plain": [
       "Batches:   0%|          | 0/1 [00:00<?, ?it/s]"
      ]
     },
     "metadata": {},
     "output_type": "display_data"
    },
    {
     "data": {
      "application/vnd.jupyter.widget-view+json": {
       "model_id": "b58540d6a9734ad68e53a4870ce74ea1",
       "version_major": 2,
       "version_minor": 0
      },
      "text/plain": [
       "Batches:   0%|          | 0/1 [00:00<?, ?it/s]"
      ]
     },
     "metadata": {},
     "output_type": "display_data"
    },
    {
     "name": "stderr",
     "output_type": "stream",
     "text": [
      "10/17/2023 22:56:57 - INFO - happytransformer.happy_transformer -   Using device: cpu\n",
      "10/17/2023 22:56:57 - INFO - happytransformer.happy_transformer -   Moving model to cpu\n",
      "10/17/2023 22:56:57 - INFO - happytransformer.happy_transformer -   Initializing a pipeline\n"
     ]
    },
    {
     "data": {
      "application/vnd.jupyter.widget-view+json": {
       "model_id": "d0827696d293417bb3f679c0c0df3369",
       "version_major": 2,
       "version_minor": 0
      },
      "text/plain": [
       "Batches:   0%|          | 0/1 [00:00<?, ?it/s]"
      ]
     },
     "metadata": {},
     "output_type": "display_data"
    },
    {
     "data": {
      "application/vnd.jupyter.widget-view+json": {
       "model_id": "ee04591b27d64f10a07e961e8fa7bb4c",
       "version_major": 2,
       "version_minor": 0
      },
      "text/plain": [
       "Batches:   0%|          | 0/1 [00:00<?, ?it/s]"
      ]
     },
     "metadata": {},
     "output_type": "display_data"
    },
    {
     "data": {
      "application/vnd.jupyter.widget-view+json": {
       "model_id": "d6e2cf0a97e349068515d14617fb39c0",
       "version_major": 2,
       "version_minor": 0
      },
      "text/plain": [
       "Batches:   0%|          | 0/1 [00:00<?, ?it/s]"
      ]
     },
     "metadata": {},
     "output_type": "display_data"
    },
    {
     "data": {
      "application/vnd.jupyter.widget-view+json": {
       "model_id": "53a430b3c2eb48df99d85a730f12e121",
       "version_major": 2,
       "version_minor": 0
      },
      "text/plain": [
       "Batches:   0%|          | 0/1 [00:00<?, ?it/s]"
      ]
     },
     "metadata": {},
     "output_type": "display_data"
    },
    {
     "name": "stderr",
     "output_type": "stream",
     "text": [
      "10/17/2023 22:57:22 - INFO - happytransformer.happy_transformer -   Using device: cpu\n",
      "10/17/2023 22:57:23 - INFO - happytransformer.happy_transformer -   Moving model to cpu\n",
      "10/17/2023 22:57:23 - INFO - happytransformer.happy_transformer -   Initializing a pipeline\n"
     ]
    },
    {
     "data": {
      "application/vnd.jupyter.widget-view+json": {
       "model_id": "15aae3bacbda4c6f986806945d9bbd83",
       "version_major": 2,
       "version_minor": 0
      },
      "text/plain": [
       "Batches:   0%|          | 0/1 [00:00<?, ?it/s]"
      ]
     },
     "metadata": {},
     "output_type": "display_data"
    },
    {
     "data": {
      "application/vnd.jupyter.widget-view+json": {
       "model_id": "ea6ce232d32d4a49b0530eb55ab2efa4",
       "version_major": 2,
       "version_minor": 0
      },
      "text/plain": [
       "Batches:   0%|          | 0/1 [00:00<?, ?it/s]"
      ]
     },
     "metadata": {},
     "output_type": "display_data"
    },
    {
     "data": {
      "application/vnd.jupyter.widget-view+json": {
       "model_id": "6edc571bd03248a18cc84f2ef40e356f",
       "version_major": 2,
       "version_minor": 0
      },
      "text/plain": [
       "Batches:   0%|          | 0/1 [00:00<?, ?it/s]"
      ]
     },
     "metadata": {},
     "output_type": "display_data"
    },
    {
     "name": "stderr",
     "output_type": "stream",
     "text": [
      "10/17/2023 22:57:47 - INFO - happytransformer.happy_transformer -   Using device: cpu\n",
      "10/17/2023 22:57:47 - INFO - happytransformer.happy_transformer -   Moving model to cpu\n",
      "10/17/2023 22:57:47 - INFO - happytransformer.happy_transformer -   Initializing a pipeline\n"
     ]
    },
    {
     "data": {
      "application/vnd.jupyter.widget-view+json": {
       "model_id": "6342e94eaf6f447ba8fbdcf4fe349d06",
       "version_major": 2,
       "version_minor": 0
      },
      "text/plain": [
       "Batches:   0%|          | 0/1 [00:00<?, ?it/s]"
      ]
     },
     "metadata": {},
     "output_type": "display_data"
    },
    {
     "data": {
      "application/vnd.jupyter.widget-view+json": {
       "model_id": "b64d142cbc06420586503bb4eabcdf7d",
       "version_major": 2,
       "version_minor": 0
      },
      "text/plain": [
       "Batches:   0%|          | 0/1 [00:00<?, ?it/s]"
      ]
     },
     "metadata": {},
     "output_type": "display_data"
    },
    {
     "data": {
      "application/vnd.jupyter.widget-view+json": {
       "model_id": "59a7b9b3e28141aaa3712640ea6204fb",
       "version_major": 2,
       "version_minor": 0
      },
      "text/plain": [
       "Batches:   0%|          | 0/1 [00:00<?, ?it/s]"
      ]
     },
     "metadata": {},
     "output_type": "display_data"
    },
    {
     "name": "stderr",
     "output_type": "stream",
     "text": [
      "10/17/2023 22:58:08 - INFO - happytransformer.happy_transformer -   Using device: cpu\n",
      "10/17/2023 22:58:09 - INFO - happytransformer.happy_transformer -   Moving model to cpu\n",
      "10/17/2023 22:58:09 - INFO - happytransformer.happy_transformer -   Initializing a pipeline\n"
     ]
    },
    {
     "data": {
      "application/vnd.jupyter.widget-view+json": {
       "model_id": "8c73652ff3fd4799a7a3f5dfb612df4b",
       "version_major": 2,
       "version_minor": 0
      },
      "text/plain": [
       "Batches:   0%|          | 0/1 [00:00<?, ?it/s]"
      ]
     },
     "metadata": {},
     "output_type": "display_data"
    },
    {
     "data": {
      "application/vnd.jupyter.widget-view+json": {
       "model_id": "3df5a705394f4483a69dd737687b7377",
       "version_major": 2,
       "version_minor": 0
      },
      "text/plain": [
       "Batches:   0%|          | 0/1 [00:00<?, ?it/s]"
      ]
     },
     "metadata": {},
     "output_type": "display_data"
    },
    {
     "data": {
      "application/vnd.jupyter.widget-view+json": {
       "model_id": "7083e9f5a2a04ee2a8b071416b40d467",
       "version_major": 2,
       "version_minor": 0
      },
      "text/plain": [
       "Batches:   0%|          | 0/1 [00:00<?, ?it/s]"
      ]
     },
     "metadata": {},
     "output_type": "display_data"
    },
    {
     "name": "stderr",
     "output_type": "stream",
     "text": [
      "10/17/2023 22:58:31 - INFO - happytransformer.happy_transformer -   Using device: cpu\n",
      "10/17/2023 22:58:32 - INFO - happytransformer.happy_transformer -   Moving model to cpu\n",
      "10/17/2023 22:58:32 - INFO - happytransformer.happy_transformer -   Initializing a pipeline\n"
     ]
    },
    {
     "data": {
      "application/vnd.jupyter.widget-view+json": {
       "model_id": "d5fef1105736413eb3caa0638033cf9a",
       "version_major": 2,
       "version_minor": 0
      },
      "text/plain": [
       "Batches:   0%|          | 0/1 [00:00<?, ?it/s]"
      ]
     },
     "metadata": {},
     "output_type": "display_data"
    },
    {
     "data": {
      "application/vnd.jupyter.widget-view+json": {
       "model_id": "a992d22b42c14caba4d8205a6ddfe9b6",
       "version_major": 2,
       "version_minor": 0
      },
      "text/plain": [
       "Batches:   0%|          | 0/1 [00:00<?, ?it/s]"
      ]
     },
     "metadata": {},
     "output_type": "display_data"
    },
    {
     "data": {
      "application/vnd.jupyter.widget-view+json": {
       "model_id": "df473dd81fa3410ea294bd8973adbb9e",
       "version_major": 2,
       "version_minor": 0
      },
      "text/plain": [
       "Batches:   0%|          | 0/1 [00:00<?, ?it/s]"
      ]
     },
     "metadata": {},
     "output_type": "display_data"
    },
    {
     "name": "stderr",
     "output_type": "stream",
     "text": [
      "10/17/2023 22:58:53 - INFO - happytransformer.happy_transformer -   Using device: cpu\n",
      "10/17/2023 22:58:54 - INFO - happytransformer.happy_transformer -   Moving model to cpu\n",
      "10/17/2023 22:58:54 - INFO - happytransformer.happy_transformer -   Initializing a pipeline\n"
     ]
    },
    {
     "data": {
      "application/vnd.jupyter.widget-view+json": {
       "model_id": "305143859a8a4f539dfc0046f7801d41",
       "version_major": 2,
       "version_minor": 0
      },
      "text/plain": [
       "Batches:   0%|          | 0/1 [00:00<?, ?it/s]"
      ]
     },
     "metadata": {},
     "output_type": "display_data"
    },
    {
     "data": {
      "application/vnd.jupyter.widget-view+json": {
       "model_id": "802178e7636a47009a025defc63f7b86",
       "version_major": 2,
       "version_minor": 0
      },
      "text/plain": [
       "Batches:   0%|          | 0/1 [00:00<?, ?it/s]"
      ]
     },
     "metadata": {},
     "output_type": "display_data"
    },
    {
     "data": {
      "application/vnd.jupyter.widget-view+json": {
       "model_id": "bacf023fe0c849a580fe031c711387e2",
       "version_major": 2,
       "version_minor": 0
      },
      "text/plain": [
       "Batches:   0%|          | 0/1 [00:00<?, ?it/s]"
      ]
     },
     "metadata": {},
     "output_type": "display_data"
    },
    {
     "data": {
      "application/vnd.jupyter.widget-view+json": {
       "model_id": "244bfd3300b5424abe0f7874efe27e05",
       "version_major": 2,
       "version_minor": 0
      },
      "text/plain": [
       "Batches:   0%|          | 0/1 [00:00<?, ?it/s]"
      ]
     },
     "metadata": {},
     "output_type": "display_data"
    },
    {
     "data": {
      "application/vnd.jupyter.widget-view+json": {
       "model_id": "22c095e374d64586a6a088b57d0c89a8",
       "version_major": 2,
       "version_minor": 0
      },
      "text/plain": [
       "Batches:   0%|          | 0/1 [00:00<?, ?it/s]"
      ]
     },
     "metadata": {},
     "output_type": "display_data"
    },
    {
     "name": "stderr",
     "output_type": "stream",
     "text": [
      "10/17/2023 22:59:24 - INFO - happytransformer.happy_transformer -   Using device: cpu\n",
      "10/17/2023 22:59:25 - INFO - happytransformer.happy_transformer -   Moving model to cpu\n",
      "10/17/2023 22:59:25 - INFO - happytransformer.happy_transformer -   Initializing a pipeline\n"
     ]
    },
    {
     "data": {
      "application/vnd.jupyter.widget-view+json": {
       "model_id": "5249e0a8ce3f4124a979907646982613",
       "version_major": 2,
       "version_minor": 0
      },
      "text/plain": [
       "Batches:   0%|          | 0/1 [00:00<?, ?it/s]"
      ]
     },
     "metadata": {},
     "output_type": "display_data"
    },
    {
     "data": {
      "application/vnd.jupyter.widget-view+json": {
       "model_id": "33c5f1a5310d435099480a0ff73df2cb",
       "version_major": 2,
       "version_minor": 0
      },
      "text/plain": [
       "Batches:   0%|          | 0/1 [00:00<?, ?it/s]"
      ]
     },
     "metadata": {},
     "output_type": "display_data"
    },
    {
     "data": {
      "application/vnd.jupyter.widget-view+json": {
       "model_id": "1ef6bb8d7dd749499e03cb8a1ea25f68",
       "version_major": 2,
       "version_minor": 0
      },
      "text/plain": [
       "Batches:   0%|          | 0/1 [00:00<?, ?it/s]"
      ]
     },
     "metadata": {},
     "output_type": "display_data"
    },
    {
     "data": {
      "application/vnd.jupyter.widget-view+json": {
       "model_id": "c45ea0b7d5c04f41a9557bd30fe42f38",
       "version_major": 2,
       "version_minor": 0
      },
      "text/plain": [
       "Batches:   0%|          | 0/1 [00:00<?, ?it/s]"
      ]
     },
     "metadata": {},
     "output_type": "display_data"
    },
    {
     "data": {
      "application/vnd.jupyter.widget-view+json": {
       "model_id": "7785c0ad163a4a05a9c6a6b47a84ae59",
       "version_major": 2,
       "version_minor": 0
      },
      "text/plain": [
       "Batches:   0%|          | 0/1 [00:00<?, ?it/s]"
      ]
     },
     "metadata": {},
     "output_type": "display_data"
    },
    {
     "data": {
      "application/vnd.jupyter.widget-view+json": {
       "model_id": "9b4144aeafb44f99b2643be4d7862a87",
       "version_major": 2,
       "version_minor": 0
      },
      "text/plain": [
       "Batches:   0%|          | 0/1 [00:00<?, ?it/s]"
      ]
     },
     "metadata": {},
     "output_type": "display_data"
    },
    {
     "name": "stderr",
     "output_type": "stream",
     "text": [
      "10/17/2023 22:59:48 - INFO - happytransformer.happy_transformer -   Using device: cpu\n",
      "10/17/2023 22:59:49 - INFO - happytransformer.happy_transformer -   Moving model to cpu\n",
      "10/17/2023 22:59:49 - INFO - happytransformer.happy_transformer -   Initializing a pipeline\n"
     ]
    },
    {
     "data": {
      "application/vnd.jupyter.widget-view+json": {
       "model_id": "6e48627c92c047c08fe51af3f185ee7e",
       "version_major": 2,
       "version_minor": 0
      },
      "text/plain": [
       "Batches:   0%|          | 0/1 [00:00<?, ?it/s]"
      ]
     },
     "metadata": {},
     "output_type": "display_data"
    },
    {
     "data": {
      "application/vnd.jupyter.widget-view+json": {
       "model_id": "38dca2c8f8b249e395f23916304914e0",
       "version_major": 2,
       "version_minor": 0
      },
      "text/plain": [
       "Batches:   0%|          | 0/1 [00:00<?, ?it/s]"
      ]
     },
     "metadata": {},
     "output_type": "display_data"
    },
    {
     "data": {
      "application/vnd.jupyter.widget-view+json": {
       "model_id": "0a92c9feaff0446b993a42bbe36a0d84",
       "version_major": 2,
       "version_minor": 0
      },
      "text/plain": [
       "Batches:   0%|          | 0/1 [00:00<?, ?it/s]"
      ]
     },
     "metadata": {},
     "output_type": "display_data"
    },
    {
     "data": {
      "application/vnd.jupyter.widget-view+json": {
       "model_id": "1c6213e428d14fe7ab4dcc971174184f",
       "version_major": 2,
       "version_minor": 0
      },
      "text/plain": [
       "Batches:   0%|          | 0/1 [00:00<?, ?it/s]"
      ]
     },
     "metadata": {},
     "output_type": "display_data"
    },
    {
     "data": {
      "application/vnd.jupyter.widget-view+json": {
       "model_id": "57b4e587cd4d4f1591231f738f20adf8",
       "version_major": 2,
       "version_minor": 0
      },
      "text/plain": [
       "Batches:   0%|          | 0/1 [00:00<?, ?it/s]"
      ]
     },
     "metadata": {},
     "output_type": "display_data"
    },
    {
     "name": "stderr",
     "output_type": "stream",
     "text": [
      "10/17/2023 23:00:13 - INFO - happytransformer.happy_transformer -   Using device: cpu\n",
      "10/17/2023 23:00:14 - INFO - happytransformer.happy_transformer -   Moving model to cpu\n",
      "10/17/2023 23:00:14 - INFO - happytransformer.happy_transformer -   Initializing a pipeline\n"
     ]
    },
    {
     "data": {
      "application/vnd.jupyter.widget-view+json": {
       "model_id": "12113f06a6354550ac7c71548983c2fc",
       "version_major": 2,
       "version_minor": 0
      },
      "text/plain": [
       "Batches:   0%|          | 0/1 [00:00<?, ?it/s]"
      ]
     },
     "metadata": {},
     "output_type": "display_data"
    },
    {
     "data": {
      "application/vnd.jupyter.widget-view+json": {
       "model_id": "effb7168224d436499a69899027f6a77",
       "version_major": 2,
       "version_minor": 0
      },
      "text/plain": [
       "Batches:   0%|          | 0/1 [00:00<?, ?it/s]"
      ]
     },
     "metadata": {},
     "output_type": "display_data"
    },
    {
     "data": {
      "application/vnd.jupyter.widget-view+json": {
       "model_id": "1ab55c4b351044c9870881595dcc217a",
       "version_major": 2,
       "version_minor": 0
      },
      "text/plain": [
       "Batches:   0%|          | 0/1 [00:00<?, ?it/s]"
      ]
     },
     "metadata": {},
     "output_type": "display_data"
    },
    {
     "data": {
      "application/vnd.jupyter.widget-view+json": {
       "model_id": "e1e5d6c1791d487293f97861be04d579",
       "version_major": 2,
       "version_minor": 0
      },
      "text/plain": [
       "Batches:   0%|          | 0/1 [00:00<?, ?it/s]"
      ]
     },
     "metadata": {},
     "output_type": "display_data"
    },
    {
     "name": "stderr",
     "output_type": "stream",
     "text": [
      "10/17/2023 23:00:37 - INFO - happytransformer.happy_transformer -   Using device: cpu\n",
      "10/17/2023 23:00:38 - INFO - happytransformer.happy_transformer -   Moving model to cpu\n",
      "10/17/2023 23:00:38 - INFO - happytransformer.happy_transformer -   Initializing a pipeline\n"
     ]
    },
    {
     "data": {
      "application/vnd.jupyter.widget-view+json": {
       "model_id": "55fc678fc9f34976bd1f8917b3c8ae65",
       "version_major": 2,
       "version_minor": 0
      },
      "text/plain": [
       "Batches:   0%|          | 0/1 [00:00<?, ?it/s]"
      ]
     },
     "metadata": {},
     "output_type": "display_data"
    },
    {
     "data": {
      "application/vnd.jupyter.widget-view+json": {
       "model_id": "52a57f7762d74d0aa5c4c971ce6a1362",
       "version_major": 2,
       "version_minor": 0
      },
      "text/plain": [
       "Batches:   0%|          | 0/1 [00:00<?, ?it/s]"
      ]
     },
     "metadata": {},
     "output_type": "display_data"
    },
    {
     "data": {
      "application/vnd.jupyter.widget-view+json": {
       "model_id": "960fe03550324e2fbed8e02cfede9d03",
       "version_major": 2,
       "version_minor": 0
      },
      "text/plain": [
       "Batches:   0%|          | 0/1 [00:00<?, ?it/s]"
      ]
     },
     "metadata": {},
     "output_type": "display_data"
    },
    {
     "name": "stderr",
     "output_type": "stream",
     "text": [
      "10/17/2023 23:01:03 - INFO - happytransformer.happy_transformer -   Using device: cpu\n",
      "10/17/2023 23:01:03 - INFO - happytransformer.happy_transformer -   Moving model to cpu\n",
      "10/17/2023 23:01:03 - INFO - happytransformer.happy_transformer -   Initializing a pipeline\n"
     ]
    },
    {
     "data": {
      "application/vnd.jupyter.widget-view+json": {
       "model_id": "545f2b4dc4a64d32bfa734c5dfa9abeb",
       "version_major": 2,
       "version_minor": 0
      },
      "text/plain": [
       "Batches:   0%|          | 0/1 [00:00<?, ?it/s]"
      ]
     },
     "metadata": {},
     "output_type": "display_data"
    },
    {
     "data": {
      "application/vnd.jupyter.widget-view+json": {
       "model_id": "5a46d0c476e94c09a8eecfc80e51000f",
       "version_major": 2,
       "version_minor": 0
      },
      "text/plain": [
       "Batches:   0%|          | 0/1 [00:00<?, ?it/s]"
      ]
     },
     "metadata": {},
     "output_type": "display_data"
    },
    {
     "data": {
      "application/vnd.jupyter.widget-view+json": {
       "model_id": "3d76d72db4204b97960b6c3cb0d4c4a5",
       "version_major": 2,
       "version_minor": 0
      },
      "text/plain": [
       "Batches:   0%|          | 0/1 [00:00<?, ?it/s]"
      ]
     },
     "metadata": {},
     "output_type": "display_data"
    },
    {
     "name": "stderr",
     "output_type": "stream",
     "text": [
      "10/17/2023 23:01:27 - INFO - happytransformer.happy_transformer -   Using device: cpu\n",
      "10/17/2023 23:01:28 - INFO - happytransformer.happy_transformer -   Moving model to cpu\n",
      "10/17/2023 23:01:28 - INFO - happytransformer.happy_transformer -   Initializing a pipeline\n"
     ]
    },
    {
     "data": {
      "application/vnd.jupyter.widget-view+json": {
       "model_id": "d5234bd805e54518a5d257da8107da99",
       "version_major": 2,
       "version_minor": 0
      },
      "text/plain": [
       "Batches:   0%|          | 0/1 [00:00<?, ?it/s]"
      ]
     },
     "metadata": {},
     "output_type": "display_data"
    },
    {
     "data": {
      "application/vnd.jupyter.widget-view+json": {
       "model_id": "ddf60badc0c24e8b96675c2af92b5241",
       "version_major": 2,
       "version_minor": 0
      },
      "text/plain": [
       "Batches:   0%|          | 0/1 [00:00<?, ?it/s]"
      ]
     },
     "metadata": {},
     "output_type": "display_data"
    },
    {
     "data": {
      "application/vnd.jupyter.widget-view+json": {
       "model_id": "19b737f4e0024ba289ed60f41a4c5d29",
       "version_major": 2,
       "version_minor": 0
      },
      "text/plain": [
       "Batches:   0%|          | 0/1 [00:00<?, ?it/s]"
      ]
     },
     "metadata": {},
     "output_type": "display_data"
    },
    {
     "name": "stderr",
     "output_type": "stream",
     "text": [
      "10/17/2023 23:01:52 - INFO - happytransformer.happy_transformer -   Using device: cpu\n",
      "10/17/2023 23:01:52 - INFO - happytransformer.happy_transformer -   Moving model to cpu\n",
      "10/17/2023 23:01:52 - INFO - happytransformer.happy_transformer -   Initializing a pipeline\n"
     ]
    },
    {
     "data": {
      "application/vnd.jupyter.widget-view+json": {
       "model_id": "ca7c9e8407b54ff884af6557fd906640",
       "version_major": 2,
       "version_minor": 0
      },
      "text/plain": [
       "Batches:   0%|          | 0/1 [00:00<?, ?it/s]"
      ]
     },
     "metadata": {},
     "output_type": "display_data"
    },
    {
     "data": {
      "application/vnd.jupyter.widget-view+json": {
       "model_id": "06e2a5c16ade466bbb74886d45095e4c",
       "version_major": 2,
       "version_minor": 0
      },
      "text/plain": [
       "Batches:   0%|          | 0/1 [00:00<?, ?it/s]"
      ]
     },
     "metadata": {},
     "output_type": "display_data"
    },
    {
     "data": {
      "application/vnd.jupyter.widget-view+json": {
       "model_id": "c4ea451c79144df1bc1a6a583668f41d",
       "version_major": 2,
       "version_minor": 0
      },
      "text/plain": [
       "Batches:   0%|          | 0/1 [00:00<?, ?it/s]"
      ]
     },
     "metadata": {},
     "output_type": "display_data"
    },
    {
     "name": "stderr",
     "output_type": "stream",
     "text": [
      "10/17/2023 23:02:23 - INFO - happytransformer.happy_transformer -   Using device: cpu\n",
      "10/17/2023 23:02:23 - INFO - happytransformer.happy_transformer -   Moving model to cpu\n",
      "10/17/2023 23:02:23 - INFO - happytransformer.happy_transformer -   Initializing a pipeline\n"
     ]
    },
    {
     "data": {
      "application/vnd.jupyter.widget-view+json": {
       "model_id": "f60d8b6b2607470eac1171d95fca4d4c",
       "version_major": 2,
       "version_minor": 0
      },
      "text/plain": [
       "Batches:   0%|          | 0/1 [00:00<?, ?it/s]"
      ]
     },
     "metadata": {},
     "output_type": "display_data"
    },
    {
     "data": {
      "application/vnd.jupyter.widget-view+json": {
       "model_id": "4eb09d017ebf4a849fc7b0aab292726e",
       "version_major": 2,
       "version_minor": 0
      },
      "text/plain": [
       "Batches:   0%|          | 0/1 [00:00<?, ?it/s]"
      ]
     },
     "metadata": {},
     "output_type": "display_data"
    },
    {
     "data": {
      "application/vnd.jupyter.widget-view+json": {
       "model_id": "a4ceff39a2444d819bca6f399f203578",
       "version_major": 2,
       "version_minor": 0
      },
      "text/plain": [
       "Batches:   0%|          | 0/1 [00:00<?, ?it/s]"
      ]
     },
     "metadata": {},
     "output_type": "display_data"
    },
    {
     "data": {
      "application/vnd.jupyter.widget-view+json": {
       "model_id": "68e740c24ce6453db49a3027f85c9d37",
       "version_major": 2,
       "version_minor": 0
      },
      "text/plain": [
       "Batches:   0%|          | 0/1 [00:00<?, ?it/s]"
      ]
     },
     "metadata": {},
     "output_type": "display_data"
    },
    {
     "name": "stderr",
     "output_type": "stream",
     "text": [
      "10/17/2023 23:02:56 - INFO - happytransformer.happy_transformer -   Using device: cpu\n",
      "10/17/2023 23:02:56 - INFO - happytransformer.happy_transformer -   Moving model to cpu\n",
      "10/17/2023 23:02:56 - INFO - happytransformer.happy_transformer -   Initializing a pipeline\n"
     ]
    },
    {
     "data": {
      "application/vnd.jupyter.widget-view+json": {
       "model_id": "016f3126673742c693fe7503730fec84",
       "version_major": 2,
       "version_minor": 0
      },
      "text/plain": [
       "Batches:   0%|          | 0/1 [00:00<?, ?it/s]"
      ]
     },
     "metadata": {},
     "output_type": "display_data"
    },
    {
     "data": {
      "application/vnd.jupyter.widget-view+json": {
       "model_id": "ddc0254e250e4807ba4d46b8d724c1e3",
       "version_major": 2,
       "version_minor": 0
      },
      "text/plain": [
       "Batches:   0%|          | 0/1 [00:00<?, ?it/s]"
      ]
     },
     "metadata": {},
     "output_type": "display_data"
    },
    {
     "data": {
      "application/vnd.jupyter.widget-view+json": {
       "model_id": "0a8cb0f97c164aa283f579fdc7dba149",
       "version_major": 2,
       "version_minor": 0
      },
      "text/plain": [
       "Batches:   0%|          | 0/1 [00:00<?, ?it/s]"
      ]
     },
     "metadata": {},
     "output_type": "display_data"
    },
    {
     "name": "stderr",
     "output_type": "stream",
     "text": [
      "10/17/2023 23:03:19 - INFO - happytransformer.happy_transformer -   Using device: cpu\n",
      "10/17/2023 23:03:20 - INFO - happytransformer.happy_transformer -   Moving model to cpu\n",
      "10/17/2023 23:03:20 - INFO - happytransformer.happy_transformer -   Initializing a pipeline\n"
     ]
    },
    {
     "data": {
      "application/vnd.jupyter.widget-view+json": {
       "model_id": "7ef3987e30ea446a929133836ee105ee",
       "version_major": 2,
       "version_minor": 0
      },
      "text/plain": [
       "Batches:   0%|          | 0/1 [00:00<?, ?it/s]"
      ]
     },
     "metadata": {},
     "output_type": "display_data"
    },
    {
     "data": {
      "application/vnd.jupyter.widget-view+json": {
       "model_id": "c0ea8415e11a490d804c9768f16cad74",
       "version_major": 2,
       "version_minor": 0
      },
      "text/plain": [
       "Batches:   0%|          | 0/1 [00:00<?, ?it/s]"
      ]
     },
     "metadata": {},
     "output_type": "display_data"
    },
    {
     "data": {
      "application/vnd.jupyter.widget-view+json": {
       "model_id": "817b2baa344040919bc45ed281b4a337",
       "version_major": 2,
       "version_minor": 0
      },
      "text/plain": [
       "Batches:   0%|          | 0/1 [00:00<?, ?it/s]"
      ]
     },
     "metadata": {},
     "output_type": "display_data"
    },
    {
     "data": {
      "application/vnd.jupyter.widget-view+json": {
       "model_id": "954fec796a424289a975a820dd798b67",
       "version_major": 2,
       "version_minor": 0
      },
      "text/plain": [
       "Batches:   0%|          | 0/1 [00:00<?, ?it/s]"
      ]
     },
     "metadata": {},
     "output_type": "display_data"
    },
    {
     "name": "stderr",
     "output_type": "stream",
     "text": [
      "10/17/2023 23:03:43 - INFO - happytransformer.happy_transformer -   Using device: cpu\n",
      "10/17/2023 23:03:44 - INFO - happytransformer.happy_transformer -   Moving model to cpu\n",
      "10/17/2023 23:03:44 - INFO - happytransformer.happy_transformer -   Initializing a pipeline\n"
     ]
    },
    {
     "data": {
      "application/vnd.jupyter.widget-view+json": {
       "model_id": "d0bfa14e2d8548c0965ade7372ff5638",
       "version_major": 2,
       "version_minor": 0
      },
      "text/plain": [
       "Batches:   0%|          | 0/1 [00:00<?, ?it/s]"
      ]
     },
     "metadata": {},
     "output_type": "display_data"
    },
    {
     "data": {
      "application/vnd.jupyter.widget-view+json": {
       "model_id": "4a7c38ef8ab046beb2be93f388fcfb9a",
       "version_major": 2,
       "version_minor": 0
      },
      "text/plain": [
       "Batches:   0%|          | 0/1 [00:00<?, ?it/s]"
      ]
     },
     "metadata": {},
     "output_type": "display_data"
    },
    {
     "name": "stderr",
     "output_type": "stream",
     "text": [
      "10/17/2023 23:04:02 - INFO - happytransformer.happy_transformer -   Using device: cpu\n",
      "10/17/2023 23:04:03 - INFO - happytransformer.happy_transformer -   Moving model to cpu\n",
      "10/17/2023 23:04:03 - INFO - happytransformer.happy_transformer -   Initializing a pipeline\n"
     ]
    },
    {
     "data": {
      "application/vnd.jupyter.widget-view+json": {
       "model_id": "b5795722d2044a0291570117571619ad",
       "version_major": 2,
       "version_minor": 0
      },
      "text/plain": [
       "Batches:   0%|          | 0/1 [00:00<?, ?it/s]"
      ]
     },
     "metadata": {},
     "output_type": "display_data"
    },
    {
     "data": {
      "application/vnd.jupyter.widget-view+json": {
       "model_id": "e4507906a5f1421c860f8661fc223245",
       "version_major": 2,
       "version_minor": 0
      },
      "text/plain": [
       "Batches:   0%|          | 0/1 [00:00<?, ?it/s]"
      ]
     },
     "metadata": {},
     "output_type": "display_data"
    },
    {
     "name": "stderr",
     "output_type": "stream",
     "text": [
      "10/17/2023 23:04:25 - INFO - happytransformer.happy_transformer -   Using device: cpu\n",
      "10/17/2023 23:04:26 - INFO - happytransformer.happy_transformer -   Moving model to cpu\n",
      "10/17/2023 23:04:26 - INFO - happytransformer.happy_transformer -   Initializing a pipeline\n"
     ]
    },
    {
     "data": {
      "application/vnd.jupyter.widget-view+json": {
       "model_id": "20c5ae80ff15480f87e022d8a561d188",
       "version_major": 2,
       "version_minor": 0
      },
      "text/plain": [
       "Batches:   0%|          | 0/1 [00:00<?, ?it/s]"
      ]
     },
     "metadata": {},
     "output_type": "display_data"
    },
    {
     "data": {
      "application/vnd.jupyter.widget-view+json": {
       "model_id": "cdd4903a147b4825be9a398ed9967bdd",
       "version_major": 2,
       "version_minor": 0
      },
      "text/plain": [
       "Batches:   0%|          | 0/1 [00:00<?, ?it/s]"
      ]
     },
     "metadata": {},
     "output_type": "display_data"
    },
    {
     "data": {
      "application/vnd.jupyter.widget-view+json": {
       "model_id": "8726aed545614910bd23c00e7e640a45",
       "version_major": 2,
       "version_minor": 0
      },
      "text/plain": [
       "Batches:   0%|          | 0/1 [00:00<?, ?it/s]"
      ]
     },
     "metadata": {},
     "output_type": "display_data"
    },
    {
     "name": "stderr",
     "output_type": "stream",
     "text": [
      "10/17/2023 23:04:50 - INFO - happytransformer.happy_transformer -   Using device: cpu\n",
      "10/17/2023 23:04:51 - INFO - happytransformer.happy_transformer -   Moving model to cpu\n",
      "10/17/2023 23:04:51 - INFO - happytransformer.happy_transformer -   Initializing a pipeline\n"
     ]
    },
    {
     "data": {
      "application/vnd.jupyter.widget-view+json": {
       "model_id": "ec6b01d9ed7240bda57dc53e089af1d5",
       "version_major": 2,
       "version_minor": 0
      },
      "text/plain": [
       "Batches:   0%|          | 0/1 [00:00<?, ?it/s]"
      ]
     },
     "metadata": {},
     "output_type": "display_data"
    },
    {
     "data": {
      "application/vnd.jupyter.widget-view+json": {
       "model_id": "5624d4bffd9444159ea870772350259a",
       "version_major": 2,
       "version_minor": 0
      },
      "text/plain": [
       "Batches:   0%|          | 0/1 [00:00<?, ?it/s]"
      ]
     },
     "metadata": {},
     "output_type": "display_data"
    },
    {
     "data": {
      "application/vnd.jupyter.widget-view+json": {
       "model_id": "7e7018c7534a4a6cbd44a2dfcf106b4d",
       "version_major": 2,
       "version_minor": 0
      },
      "text/plain": [
       "Batches:   0%|          | 0/1 [00:00<?, ?it/s]"
      ]
     },
     "metadata": {},
     "output_type": "display_data"
    },
    {
     "name": "stderr",
     "output_type": "stream",
     "text": [
      "10/17/2023 23:05:14 - INFO - happytransformer.happy_transformer -   Using device: cpu\n",
      "10/17/2023 23:05:15 - INFO - happytransformer.happy_transformer -   Moving model to cpu\n",
      "10/17/2023 23:05:15 - INFO - happytransformer.happy_transformer -   Initializing a pipeline\n"
     ]
    },
    {
     "data": {
      "application/vnd.jupyter.widget-view+json": {
       "model_id": "cee5a4c8dc9e46d1b65f1fb39ba0b7cc",
       "version_major": 2,
       "version_minor": 0
      },
      "text/plain": [
       "Batches:   0%|          | 0/1 [00:00<?, ?it/s]"
      ]
     },
     "metadata": {},
     "output_type": "display_data"
    },
    {
     "data": {
      "application/vnd.jupyter.widget-view+json": {
       "model_id": "902140dda3e54680817b5fd1fbd12488",
       "version_major": 2,
       "version_minor": 0
      },
      "text/plain": [
       "Batches:   0%|          | 0/1 [00:00<?, ?it/s]"
      ]
     },
     "metadata": {},
     "output_type": "display_data"
    },
    {
     "data": {
      "application/vnd.jupyter.widget-view+json": {
       "model_id": "6f1d025d9cd244d095ffc586c8894e12",
       "version_major": 2,
       "version_minor": 0
      },
      "text/plain": [
       "Batches:   0%|          | 0/1 [00:00<?, ?it/s]"
      ]
     },
     "metadata": {},
     "output_type": "display_data"
    },
    {
     "data": {
      "application/vnd.jupyter.widget-view+json": {
       "model_id": "e203f135d8d845d996534d8c24e872ff",
       "version_major": 2,
       "version_minor": 0
      },
      "text/plain": [
       "Batches:   0%|          | 0/1 [00:00<?, ?it/s]"
      ]
     },
     "metadata": {},
     "output_type": "display_data"
    },
    {
     "data": {
      "application/vnd.jupyter.widget-view+json": {
       "model_id": "96e7e1e4aa394e93b0304b54f9872d3a",
       "version_major": 2,
       "version_minor": 0
      },
      "text/plain": [
       "Batches:   0%|          | 0/1 [00:00<?, ?it/s]"
      ]
     },
     "metadata": {},
     "output_type": "display_data"
    },
    {
     "data": {
      "application/vnd.jupyter.widget-view+json": {
       "model_id": "337d66ffa0ad403c8932cd3995013382",
       "version_major": 2,
       "version_minor": 0
      },
      "text/plain": [
       "Batches:   0%|          | 0/1 [00:00<?, ?it/s]"
      ]
     },
     "metadata": {},
     "output_type": "display_data"
    },
    {
     "name": "stderr",
     "output_type": "stream",
     "text": [
      "10/17/2023 23:05:40 - INFO - happytransformer.happy_transformer -   Using device: cpu\n",
      "10/17/2023 23:05:41 - INFO - happytransformer.happy_transformer -   Moving model to cpu\n",
      "10/17/2023 23:05:41 - INFO - happytransformer.happy_transformer -   Initializing a pipeline\n"
     ]
    },
    {
     "data": {
      "application/vnd.jupyter.widget-view+json": {
       "model_id": "ba059f7de2d24881b46eece943e9615c",
       "version_major": 2,
       "version_minor": 0
      },
      "text/plain": [
       "Batches:   0%|          | 0/1 [00:00<?, ?it/s]"
      ]
     },
     "metadata": {},
     "output_type": "display_data"
    },
    {
     "data": {
      "application/vnd.jupyter.widget-view+json": {
       "model_id": "5bedc32267c94edb87a5aaea8629c297",
       "version_major": 2,
       "version_minor": 0
      },
      "text/plain": [
       "Batches:   0%|          | 0/1 [00:00<?, ?it/s]"
      ]
     },
     "metadata": {},
     "output_type": "display_data"
    },
    {
     "data": {
      "application/vnd.jupyter.widget-view+json": {
       "model_id": "f8341bc74e4641019d0d043b744c54f5",
       "version_major": 2,
       "version_minor": 0
      },
      "text/plain": [
       "Batches:   0%|          | 0/1 [00:00<?, ?it/s]"
      ]
     },
     "metadata": {},
     "output_type": "display_data"
    },
    {
     "data": {
      "application/vnd.jupyter.widget-view+json": {
       "model_id": "c74324e208754289a2cf2ac2101a8228",
       "version_major": 2,
       "version_minor": 0
      },
      "text/plain": [
       "Batches:   0%|          | 0/1 [00:00<?, ?it/s]"
      ]
     },
     "metadata": {},
     "output_type": "display_data"
    },
    {
     "data": {
      "application/vnd.jupyter.widget-view+json": {
       "model_id": "0d7b77bc71324b5ab053a06cade043ac",
       "version_major": 2,
       "version_minor": 0
      },
      "text/plain": [
       "Batches:   0%|          | 0/1 [00:00<?, ?it/s]"
      ]
     },
     "metadata": {},
     "output_type": "display_data"
    },
    {
     "name": "stderr",
     "output_type": "stream",
     "text": [
      "10/17/2023 23:06:03 - INFO - happytransformer.happy_transformer -   Using device: cpu\n",
      "10/17/2023 23:06:04 - INFO - happytransformer.happy_transformer -   Moving model to cpu\n",
      "10/17/2023 23:06:04 - INFO - happytransformer.happy_transformer -   Initializing a pipeline\n"
     ]
    },
    {
     "data": {
      "application/vnd.jupyter.widget-view+json": {
       "model_id": "d5b9f17298004ba5bab94af782a14855",
       "version_major": 2,
       "version_minor": 0
      },
      "text/plain": [
       "Batches:   0%|          | 0/1 [00:00<?, ?it/s]"
      ]
     },
     "metadata": {},
     "output_type": "display_data"
    },
    {
     "data": {
      "application/vnd.jupyter.widget-view+json": {
       "model_id": "eb44b0ffe1664cc1a0ccccd02682c355",
       "version_major": 2,
       "version_minor": 0
      },
      "text/plain": [
       "Batches:   0%|          | 0/1 [00:00<?, ?it/s]"
      ]
     },
     "metadata": {},
     "output_type": "display_data"
    },
    {
     "data": {
      "application/vnd.jupyter.widget-view+json": {
       "model_id": "0a1db6f9fc074ebab58e2476a1fe819a",
       "version_major": 2,
       "version_minor": 0
      },
      "text/plain": [
       "Batches:   0%|          | 0/1 [00:00<?, ?it/s]"
      ]
     },
     "metadata": {},
     "output_type": "display_data"
    },
    {
     "data": {
      "application/vnd.jupyter.widget-view+json": {
       "model_id": "7db5a366374546599f1473a5e00443d6",
       "version_major": 2,
       "version_minor": 0
      },
      "text/plain": [
       "Batches:   0%|          | 0/1 [00:00<?, ?it/s]"
      ]
     },
     "metadata": {},
     "output_type": "display_data"
    },
    {
     "name": "stderr",
     "output_type": "stream",
     "text": [
      "10/17/2023 23:06:31 - INFO - happytransformer.happy_transformer -   Using device: cpu\n",
      "10/17/2023 23:06:31 - INFO - happytransformer.happy_transformer -   Moving model to cpu\n",
      "10/17/2023 23:06:31 - INFO - happytransformer.happy_transformer -   Initializing a pipeline\n"
     ]
    },
    {
     "data": {
      "application/vnd.jupyter.widget-view+json": {
       "model_id": "c4a85a4a67dd41c8b229472f5eba5011",
       "version_major": 2,
       "version_minor": 0
      },
      "text/plain": [
       "Batches:   0%|          | 0/1 [00:00<?, ?it/s]"
      ]
     },
     "metadata": {},
     "output_type": "display_data"
    },
    {
     "data": {
      "application/vnd.jupyter.widget-view+json": {
       "model_id": "a8bf21817f414e05b1657bffddbb6c67",
       "version_major": 2,
       "version_minor": 0
      },
      "text/plain": [
       "Batches:   0%|          | 0/1 [00:00<?, ?it/s]"
      ]
     },
     "metadata": {},
     "output_type": "display_data"
    },
    {
     "data": {
      "application/vnd.jupyter.widget-view+json": {
       "model_id": "d74a0ca136c84a67b92f7780b9b2acf1",
       "version_major": 2,
       "version_minor": 0
      },
      "text/plain": [
       "Batches:   0%|          | 0/1 [00:00<?, ?it/s]"
      ]
     },
     "metadata": {},
     "output_type": "display_data"
    },
    {
     "data": {
      "application/vnd.jupyter.widget-view+json": {
       "model_id": "7c9ba0ba99664ea784ed0288d0e0ff95",
       "version_major": 2,
       "version_minor": 0
      },
      "text/plain": [
       "Batches:   0%|          | 0/1 [00:00<?, ?it/s]"
      ]
     },
     "metadata": {},
     "output_type": "display_data"
    },
    {
     "name": "stderr",
     "output_type": "stream",
     "text": [
      "10/17/2023 23:06:56 - INFO - happytransformer.happy_transformer -   Using device: cpu\n",
      "10/17/2023 23:06:57 - INFO - happytransformer.happy_transformer -   Moving model to cpu\n",
      "10/17/2023 23:06:57 - INFO - happytransformer.happy_transformer -   Initializing a pipeline\n"
     ]
    }
   ],
   "source": [
    "simcse = SentenceTransformer('princeton-nlp/sup-simcse-roberta-large') # SimCSE Model\n",
    "mod_ans = dataset.iloc[:, 2].values # List of Model Answers\n",
    "usr_ans = dataset.iloc[:, 3].values # List of User Answers\n",
    "\n",
    "num_of_inputs = len(mod_ans) # Total number of Answers\n",
    "sim_score = [0] * num_of_inputs # List to keep respective similarity score\n",
    "\n",
    "# TODO - @Raghav, try implementing multi-threading here\n",
    "# Also check the viability, multi-threading not necessarily imply faster execution\n",
    "for i in range(0, num_of_inputs):\n",
    "    curr_mod = mod_ans[i]\n",
    "    curr_usr = usr_ans[i]\n",
    "\n",
    "    curr_usr = grammar_corrector(curr_usr) # grammar correction on user answer\n",
    "    curr_usr += summarizer(curr_usr) # adding summary of user answer to user answer\n",
    "    \n",
    "    sim_val = similarity_scoring(curr_mod, curr_usr, simcse)\n",
    "    sim_score[i] = sim_val * 10\n",
    "\n",
    "# Converting list to numpy array\n",
    "sim_score = np.array(sim_score)"
   ]
  },
  {
   "cell_type": "markdown",
   "metadata": {},
   "source": [
    "## Named-Entity Recognition Module\n",
    "Adding entities extraction unit"
   ]
  },
  {
   "cell_type": "code",
   "execution_count": null,
   "metadata": {},
   "outputs": [],
   "source": [
    "tokenizer = AutoTokenizer.from_pretrained(\"Jean-Baptiste/camembert-ner\")\n",
    "model = AutoModelForTokenClassification.from_pretrained(\"Jean-Baptiste/camembert-ner\")\n",
    "\n",
    "def ner_scoring(text1, text2):\n",
    "    nlp = pipeline('ner', \n",
    "                   model=model, \n",
    "                   tokenizer=tokenizer, \n",
    "                   aggregation_strategy=\"simple\") # Initializing the NLP pipeline\n",
    "\n",
    "    mod = nlp(text1) # pre-processing model answer\n",
    "    usr = nlp(text2) # pre-processing user answer\n",
    "\n",
    "    mod_arr = []\n",
    "    usr_arr = []\n",
    "\n",
    "    for i in range(0, len(mod)):\n",
    "        if(mod[i]['score'] >= 0.9):\n",
    "            mod_arr.append(mod[i]['word'].lower())\n",
    "\n",
    "    if len(mod_arr) == 0:\n",
    "        return 10 # return full marks if no entities in model answer\n",
    "\n",
    "    for i in range(0, len(usr)):\n",
    "        usr_arr.append(usr[i]['word'].lower())\n",
    "\n",
    "    mod_arr = set(mod_arr)\n",
    "    usr_arr = set(usr_arr)\n",
    "\n",
    "    return len(mod_arr.intersection(usr_arr)) * 10 / len(mod_arr)"
   ]
  },
  {
   "cell_type": "code",
   "execution_count": null,
   "metadata": {},
   "outputs": [],
   "source": [
    "# TODO - @Raghav, add relevant comment for the addition of these two attributes in dataset\n",
    "# TODO - @Raghav, try adding multi-threading here as well\n",
    "dataset['yake_keys_sentence1'] = dataset['Model Answer'].apply(yake_keywordExtractor)\n",
    "dataset['yake_keys_sentence2'] = dataset['User Answer'].apply(yake_keywordExtractor)\n",
    "\n",
    "# Adding the Keyword Score in dataset\n",
    "dataset['keyword_score'] = dataset[['yake_keys_sentence1', 'yake_keys_sentence2']].apply(lambda x : keyword_scoring(x.yake_keys_sentence1,\n",
    "                                                                                        x.yake_keys_sentence2),\n",
    "                                                                                        axis = 1)\n",
    "# TODO - @Raghav add similar comment on dropping these two additional attributes\n",
    "dataset.drop(['yake_keys_sentence1', 'yake_keys_sentence2'], axis = 1)\n",
    "\n",
    "\n",
    "# Adding the Similarity Score in dataset\n",
    "dataset['similarity_score'] = sim_score.tolist()\n",
    "\n",
    "# Generating and adding the NER Score in dataset\n",
    "ner_score = [0] * num_of_inputs\n",
    "for i in range(dataset.shape[0]):\n",
    "    mod = dataset['Model Answer'][i] # Individual model answers\n",
    "    usr = dataset['User Answer'][i] # Individual user answers\n",
    "\n",
    "    ner_score[i] = ner_scoring(mod, usr)\n",
    "\n",
    "ner_score = np.array(ner_score) # List to numpy array conversion\n",
    "dataset['ner_score'] = ner_score.tolist()"
   ]
  },
  {
   "cell_type": "code",
   "execution_count": null,
   "metadata": {},
   "outputs": [],
   "source": [
    "# Saving the dataset in form of a csv file to be in neural network\n",
    "dataset.to_csv('Scores.csv')"
   ]
  },
  {
   "cell_type": "code",
   "execution_count": null,
   "metadata": {},
   "outputs": [],
   "source": []
  }
 ],
 "metadata": {
  "kernelspec": {
   "display_name": "Python 3 (ipykernel)",
   "language": "python",
   "name": "python3"
  },
  "language_info": {
   "codemirror_mode": {
    "name": "ipython",
    "version": 3
   },
   "file_extension": ".py",
   "mimetype": "text/x-python",
   "name": "python",
   "nbconvert_exporter": "python",
   "pygments_lexer": "ipython3",
   "version": "3.11.6"
  }
 },
 "nbformat": 4,
 "nbformat_minor": 4
}
