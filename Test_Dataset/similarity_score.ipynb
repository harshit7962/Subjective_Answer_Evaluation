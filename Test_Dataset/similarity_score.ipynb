{
 "cells": [
  {
   "cell_type": "code",
   "execution_count": 1,
   "metadata": {},
   "outputs": [],
   "source": [
    "import pandas as pd\n",
    "import numpy as np"
   ]
  },
  {
   "cell_type": "code",
   "execution_count": 2,
   "metadata": {},
   "outputs": [],
   "source": [
    "df = pd.read_excel('Prepared_Dataset.xlsx')"
   ]
  },
  {
   "cell_type": "code",
   "execution_count": 3,
   "metadata": {},
   "outputs": [
    {
     "data": {
      "text/html": [
       "<div>\n",
       "<style scoped>\n",
       "    .dataframe tbody tr th:only-of-type {\n",
       "        vertical-align: middle;\n",
       "    }\n",
       "\n",
       "    .dataframe tbody tr th {\n",
       "        vertical-align: top;\n",
       "    }\n",
       "\n",
       "    .dataframe thead th {\n",
       "        text-align: right;\n",
       "    }\n",
       "</style>\n",
       "<table border=\"1\" class=\"dataframe\">\n",
       "  <thead>\n",
       "    <tr style=\"text-align: right;\">\n",
       "      <th></th>\n",
       "      <th>S.No</th>\n",
       "      <th>Questions</th>\n",
       "      <th>Modal Answer (ChatGPT)</th>\n",
       "      <th>User Answer (Web)</th>\n",
       "      <th>Actual Score (0-10)</th>\n",
       "      <th>Final Score (Calculated)</th>\n",
       "    </tr>\n",
       "  </thead>\n",
       "  <tbody>\n",
       "    <tr>\n",
       "      <th>0</th>\n",
       "      <td>1</td>\n",
       "      <td>List the advantages of DBMS?</td>\n",
       "      <td>1. Data Integrity: DBMS ensures data accuracy ...</td>\n",
       "      <td>1.Better Data Transferring: Database managemen...</td>\n",
       "      <td>7</td>\n",
       "      <td>NaN</td>\n",
       "    </tr>\n",
       "    <tr>\n",
       "      <th>1</th>\n",
       "      <td>2</td>\n",
       "      <td>List the database Applications?</td>\n",
       "      <td>1. MySQL 2. Oracle Database 3. Microsoft SQL S...</td>\n",
       "      <td>1.Oracle Database 2.PostgreSQL 3.SQLite 4.File...</td>\n",
       "      <td>5</td>\n",
       "      <td>NaN</td>\n",
       "    </tr>\n",
       "    <tr>\n",
       "      <th>2</th>\n",
       "      <td>3</td>\n",
       "      <td>Define instances and schemas of database?</td>\n",
       "      <td>Instance: An instance is a copy of the databas...</td>\n",
       "      <td>The overall design of the database is called d...</td>\n",
       "      <td>4</td>\n",
       "      <td>NaN</td>\n",
       "    </tr>\n",
       "    <tr>\n",
       "      <th>3</th>\n",
       "      <td>4</td>\n",
       "      <td>Discuss Data Independence?</td>\n",
       "      <td>Data independence is the ability of a system t...</td>\n",
       "      <td>Data independence is the ability to modify the...</td>\n",
       "      <td>7</td>\n",
       "      <td>NaN</td>\n",
       "    </tr>\n",
       "    <tr>\n",
       "      <th>4</th>\n",
       "      <td>5</td>\n",
       "      <td>Explain database Access for applications Programs</td>\n",
       "      <td>Database Access for applications Programs is a...</td>\n",
       "      <td>Database Access means functionality required i...</td>\n",
       "      <td>0</td>\n",
       "      <td>NaN</td>\n",
       "    </tr>\n",
       "  </tbody>\n",
       "</table>\n",
       "</div>"
      ],
      "text/plain": [
       "   S.No                                          Questions  \\\n",
       "0     1                       List the advantages of DBMS?   \n",
       "1     2                    List the database Applications?   \n",
       "2     3          Define instances and schemas of database?   \n",
       "3     4                         Discuss Data Independence?   \n",
       "4     5  Explain database Access for applications Programs   \n",
       "\n",
       "                              Modal Answer (ChatGPT)  \\\n",
       "0  1. Data Integrity: DBMS ensures data accuracy ...   \n",
       "1  1. MySQL 2. Oracle Database 3. Microsoft SQL S...   \n",
       "2  Instance: An instance is a copy of the databas...   \n",
       "3  Data independence is the ability of a system t...   \n",
       "4  Database Access for applications Programs is a...   \n",
       "\n",
       "                                   User Answer (Web)  Actual Score (0-10)  \\\n",
       "0  1.Better Data Transferring: Database managemen...                    7   \n",
       "1  1.Oracle Database 2.PostgreSQL 3.SQLite 4.File...                    5   \n",
       "2  The overall design of the database is called d...                    4   \n",
       "3  Data independence is the ability to modify the...                    7   \n",
       "4  Database Access means functionality required i...                    0   \n",
       "\n",
       "   Final Score (Calculated)  \n",
       "0                       NaN  \n",
       "1                       NaN  \n",
       "2                       NaN  \n",
       "3                       NaN  \n",
       "4                       NaN  "
      ]
     },
     "execution_count": 3,
     "metadata": {},
     "output_type": "execute_result"
    }
   ],
   "source": [
    "df.head()"
   ]
  },
  {
   "cell_type": "code",
   "execution_count": 4,
   "metadata": {},
   "outputs": [],
   "source": [
    "mod_ans_set = df.iloc[:, 2].values\n",
    "usr_ans_set = df.iloc[:, 3].values"
   ]
  },
  {
   "cell_type": "code",
   "execution_count": 5,
   "metadata": {},
   "outputs": [
    {
     "data": {
      "text/plain": [
       "numpy.ndarray"
      ]
     },
     "execution_count": 5,
     "metadata": {},
     "output_type": "execute_result"
    }
   ],
   "source": [
    "type(mod_ans_set)"
   ]
  },
  {
   "cell_type": "code",
   "execution_count": 6,
   "metadata": {},
   "outputs": [
    {
     "data": {
      "text/plain": [
       "numpy.ndarray"
      ]
     },
     "execution_count": 6,
     "metadata": {},
     "output_type": "execute_result"
    }
   ],
   "source": [
    "type(usr_ans_set)"
   ]
  },
  {
   "cell_type": "code",
   "execution_count": 7,
   "metadata": {},
   "outputs": [],
   "source": [
    "number_of_inputs = len(mod_ans_set)\n",
    "sim_score = [0]*number_of_inputs\n",
    "sbert_score = [0]*number_of_inputs"
   ]
  },
  {
   "attachments": {},
   "cell_type": "markdown",
   "metadata": {},
   "source": [
    "<h1 style=\"text-align: center\">Cosine Similarity</h1>"
   ]
  },
  {
   "cell_type": "code",
   "execution_count": 8,
   "metadata": {},
   "outputs": [],
   "source": [
    "from sklearn.metrics.pairwise import cosine_similarity\n",
    "from numpy.linalg import norm\n",
    "\n",
    "def cos_sim(sent1_emb, sent2_emb):\n",
    "  cos = np.dot(sent1_emb, sent2_emb)/(norm(sent1_emb)*norm(sent2_emb))\n",
    "  return cos"
   ]
  },
  {
   "attachments": {},
   "cell_type": "markdown",
   "metadata": {},
   "source": [
    "<h1 style=\"text-align: center\">Similarity between two texts</h1>"
   ]
  },
  {
   "cell_type": "code",
   "execution_count": 9,
   "metadata": {},
   "outputs": [],
   "source": [
    "from nltk.tokenize import sent_tokenize\n",
    "from sentence_transformers import SentenceTransformer\n",
    "from sentence_transformers import CrossEncoder\n",
    "\n",
    "def similarity_score(text1, text2, model):\n",
    "  mod_sent = sent_tokenize(text1)\n",
    "  usr_sent = sent_tokenize(text2)\n",
    "\n",
    "  mod_emb = []\n",
    "  usr_emb = []\n",
    "\n",
    "  for sent in mod_sent:\n",
    "    sent_emb = model.encode(sent)\n",
    "    mod_emb.append(sent_emb)\n",
    "  \n",
    "  for sent in usr_sent:\n",
    "    sent_emb = model.encode(sent)\n",
    "    usr_emb.append(sent_emb)\n",
    "\n",
    "  n = len(mod_sent)\n",
    "  m = len(usr_sent)\n",
    "\n",
    "  sim_ans = 0\n",
    "\n",
    "  for i in range(0, n):\n",
    "    for j in range(0, m):\n",
    "      if(cos_sim(mod_emb[i], usr_emb[j]) >= 0.7):\n",
    "        sim_ans += 1\n",
    "        break\n",
    "  \n",
    "  sim_ans /= n\n",
    "  return sim_ans\n"
   ]
  },
  {
   "attachments": {},
   "cell_type": "markdown",
   "metadata": {},
   "source": [
    "<h1 style=\"text-align:center;\">Summary of a text</h1>"
   ]
  },
  {
   "cell_type": "code",
   "execution_count": 10,
   "metadata": {},
   "outputs": [
    {
     "name": "stderr",
     "output_type": "stream",
     "text": [
      "c:\\Users\\harsh\\AppData\\Local\\Programs\\Python\\Python310\\lib\\site-packages\\transformers\\models\\t5\\tokenization_t5.py:163: FutureWarning: This tokenizer was incorrectly instantiated with a model max length of 512 which will be corrected in Transformers v5.\n",
      "For now, this behavior is kept to avoid breaking backwards compatibility when padding/encoding with `truncation is True`.\n",
      "- Be aware that you SHOULD NOT rely on t5-small automatically truncating your input to 512 when padding/encoding.\n",
      "- If you want to encode/pad to sequences longer than 512 you can either instantiate this tokenizer with `model_max_length` or pass `max_length` when encoding/padding.\n",
      "- To avoid this warning, please instantiate this tokenizer with `model_max_length` set to your preferred value.\n",
      "  warnings.warn(\n"
     ]
    }
   ],
   "source": [
    "import torch\n",
    "from transformers import T5Tokenizer, T5ForConditionalGeneration, T5Config\n",
    "\n",
    "model = T5ForConditionalGeneration.from_pretrained('t5-small')\n",
    "tokenizer = T5Tokenizer.from_pretrained('t5-small')\n",
    "device = torch.device('cpu')\n",
    "\n",
    "def summarize(text):\n",
    "  preprocessed_text = text.strip().replace('\\n', '')\n",
    "  t5_input_text = 'summarize: ' + preprocessed_text\n",
    "\n",
    "  tokenized_text = tokenizer.encode(t5_input_text, return_tensors='pt', max_length=512).to(device)\n",
    "\n",
    "  summary_ids = model.generate(tokenized_text, min_length=30, max_length=120)\n",
    "  summary = tokenizer.decode(summary_ids[0], skip_special_tokens=True)\n",
    "\n",
    "  return summary"
   ]
  },
  {
   "attachments": {},
   "cell_type": "markdown",
   "metadata": {},
   "source": [
    "<h1 style=\"text-align: center\">Generating Similarity Array</h1>"
   ]
  },
  {
   "cell_type": "code",
   "execution_count": 11,
   "metadata": {},
   "outputs": [
    {
     "name": "stderr",
     "output_type": "stream",
     "text": [
      "No sentence-transformers model found with name C:\\Users\\harsh/.cache\\torch\\sentence_transformers\\princeton-nlp_sup-simcse-roberta-large. Creating a new one with MEAN pooling.\n"
     ]
    }
   ],
   "source": [
    "model_simcse = SentenceTransformer('princeton-nlp/sup-simcse-roberta-large')\n",
    "model_crossencoder = CrossEncoder('cross-encoder/stsb-roberta-base')\n",
    "model_sbert = SentenceTransformer('stsb-mpnet-base-v2')"
   ]
  },
  {
   "cell_type": "code",
   "execution_count": 12,
   "metadata": {},
   "outputs": [
    {
     "name": "stderr",
     "output_type": "stream",
     "text": [
      "Truncation was not explicitly activated but `max_length` is provided a specific value, please use `truncation=True` to explicitly truncate examples to max length. Defaulting to 'longest_first' truncation strategy. If you encode pairs of sequences (GLUE-style) with the tokenizer you can select this strategy more precisely by providing a specific strategy to `truncation`.\n"
     ]
    }
   ],
   "source": [
    "for i in range(0, number_of_inputs):\n",
    "  mod_ans = mod_ans_set[i]\n",
    "  usr_ans = usr_ans_set[i]\n",
    "\n",
    "  usr_ans += summarize(usr_ans)\n",
    "\n",
    "  sim_val = similarity_score(mod_ans, usr_ans, model_simcse)\n",
    "\n",
    "  sim_score[i] = sim_val"
   ]
  },
  {
   "cell_type": "code",
   "execution_count": 13,
   "metadata": {},
   "outputs": [],
   "source": [
    "simcse_score = sim_score"
   ]
  },
  {
   "cell_type": "code",
   "execution_count": 14,
   "metadata": {},
   "outputs": [],
   "source": [
    "for i in range(0, number_of_inputs):\n",
    "  simcse_score[i] = sim_score[i] * 10"
   ]
  },
  {
   "cell_type": "code",
   "execution_count": 15,
   "metadata": {},
   "outputs": [
    {
     "data": {
      "text/plain": [
       "list"
      ]
     },
     "execution_count": 15,
     "metadata": {},
     "output_type": "execute_result"
    }
   ],
   "source": [
    "type(simcse_score)"
   ]
  },
  {
   "cell_type": "code",
   "execution_count": 16,
   "metadata": {},
   "outputs": [],
   "source": [
    "simcse_score = np.array(simcse_score)"
   ]
  },
  {
   "cell_type": "code",
   "execution_count": 17,
   "metadata": {},
   "outputs": [
    {
     "data": {
      "text/plain": [
       "numpy.ndarray"
      ]
     },
     "execution_count": 17,
     "metadata": {},
     "output_type": "execute_result"
    }
   ],
   "source": [
    "type(simcse_score)"
   ]
  },
  {
   "cell_type": "code",
   "execution_count": 18,
   "metadata": {},
   "outputs": [],
   "source": [
    "df['Sim_CSE Score'] = simcse_score.tolist()"
   ]
  },
  {
   "cell_type": "code",
   "execution_count": 19,
   "metadata": {},
   "outputs": [
    {
     "data": {
      "text/html": [
       "<div>\n",
       "<style scoped>\n",
       "    .dataframe tbody tr th:only-of-type {\n",
       "        vertical-align: middle;\n",
       "    }\n",
       "\n",
       "    .dataframe tbody tr th {\n",
       "        vertical-align: top;\n",
       "    }\n",
       "\n",
       "    .dataframe thead th {\n",
       "        text-align: right;\n",
       "    }\n",
       "</style>\n",
       "<table border=\"1\" class=\"dataframe\">\n",
       "  <thead>\n",
       "    <tr style=\"text-align: right;\">\n",
       "      <th></th>\n",
       "      <th>S.No</th>\n",
       "      <th>Questions</th>\n",
       "      <th>Modal Answer (ChatGPT)</th>\n",
       "      <th>User Answer (Web)</th>\n",
       "      <th>Actual Score (0-10)</th>\n",
       "      <th>Final Score (Calculated)</th>\n",
       "      <th>Sim_CSE Score</th>\n",
       "    </tr>\n",
       "  </thead>\n",
       "  <tbody>\n",
       "    <tr>\n",
       "      <th>0</th>\n",
       "      <td>1</td>\n",
       "      <td>List the advantages of DBMS?</td>\n",
       "      <td>1. Data Integrity: DBMS ensures data accuracy ...</td>\n",
       "      <td>1.Better Data Transferring: Database managemen...</td>\n",
       "      <td>7</td>\n",
       "      <td>NaN</td>\n",
       "      <td>6.666667</td>\n",
       "    </tr>\n",
       "    <tr>\n",
       "      <th>1</th>\n",
       "      <td>2</td>\n",
       "      <td>List the database Applications?</td>\n",
       "      <td>1. MySQL 2. Oracle Database 3. Microsoft SQL S...</td>\n",
       "      <td>1.Oracle Database 2.PostgreSQL 3.SQLite 4.File...</td>\n",
       "      <td>5</td>\n",
       "      <td>NaN</td>\n",
       "      <td>1.818182</td>\n",
       "    </tr>\n",
       "    <tr>\n",
       "      <th>2</th>\n",
       "      <td>3</td>\n",
       "      <td>Define instances and schemas of database?</td>\n",
       "      <td>Instance: An instance is a copy of the databas...</td>\n",
       "      <td>The overall design of the database is called d...</td>\n",
       "      <td>4</td>\n",
       "      <td>NaN</td>\n",
       "      <td>10.000000</td>\n",
       "    </tr>\n",
       "    <tr>\n",
       "      <th>3</th>\n",
       "      <td>4</td>\n",
       "      <td>Discuss Data Independence?</td>\n",
       "      <td>Data independence is the ability of a system t...</td>\n",
       "      <td>Data independence is the ability to modify the...</td>\n",
       "      <td>7</td>\n",
       "      <td>NaN</td>\n",
       "      <td>6.666667</td>\n",
       "    </tr>\n",
       "    <tr>\n",
       "      <th>4</th>\n",
       "      <td>5</td>\n",
       "      <td>Explain database Access for applications Programs</td>\n",
       "      <td>Database Access for applications Programs is a...</td>\n",
       "      <td>Database Access means functionality required i...</td>\n",
       "      <td>0</td>\n",
       "      <td>NaN</td>\n",
       "      <td>8.000000</td>\n",
       "    </tr>\n",
       "  </tbody>\n",
       "</table>\n",
       "</div>"
      ],
      "text/plain": [
       "   S.No                                          Questions  \\\n",
       "0     1                       List the advantages of DBMS?   \n",
       "1     2                    List the database Applications?   \n",
       "2     3          Define instances and schemas of database?   \n",
       "3     4                         Discuss Data Independence?   \n",
       "4     5  Explain database Access for applications Programs   \n",
       "\n",
       "                              Modal Answer (ChatGPT)  \\\n",
       "0  1. Data Integrity: DBMS ensures data accuracy ...   \n",
       "1  1. MySQL 2. Oracle Database 3. Microsoft SQL S...   \n",
       "2  Instance: An instance is a copy of the databas...   \n",
       "3  Data independence is the ability of a system t...   \n",
       "4  Database Access for applications Programs is a...   \n",
       "\n",
       "                                   User Answer (Web)  Actual Score (0-10)  \\\n",
       "0  1.Better Data Transferring: Database managemen...                    7   \n",
       "1  1.Oracle Database 2.PostgreSQL 3.SQLite 4.File...                    5   \n",
       "2  The overall design of the database is called d...                    4   \n",
       "3  Data independence is the ability to modify the...                    7   \n",
       "4  Database Access means functionality required i...                    0   \n",
       "\n",
       "   Final Score (Calculated)  Sim_CSE Score  \n",
       "0                       NaN       6.666667  \n",
       "1                       NaN       1.818182  \n",
       "2                       NaN      10.000000  \n",
       "3                       NaN       6.666667  \n",
       "4                       NaN       8.000000  "
      ]
     },
     "execution_count": 19,
     "metadata": {},
     "output_type": "execute_result"
    }
   ],
   "source": [
    "df.head()"
   ]
  },
  {
   "cell_type": "code",
   "execution_count": 20,
   "metadata": {},
   "outputs": [],
   "source": [
    "df.to_excel(\"Prepared_Dataset_Scored.xlsx\")"
   ]
  },
  {
   "cell_type": "code",
   "execution_count": 21,
   "metadata": {},
   "outputs": [],
   "source": [
    "# Testing with random texts\n",
    "text1 = mod_ans_set[2]\n",
    "text2 = usr_ans_set[2]\n",
    "\n",
    "text2 += summarize(text2)"
   ]
  },
  {
   "cell_type": "code",
   "execution_count": 22,
   "metadata": {},
   "outputs": [
    {
     "data": {
      "text/plain": [
       "'Instance: An instance is a copy of the database that resides in memory. It contains all the data stored in the database and is used to manipulate that data.  Schema: A schema is a blueprint or map of the database which defines its structure, tables, fields, relationships, views and other elements. It serves as a guide for creating and maintaining the integrity of the database.'"
      ]
     },
     "execution_count": 22,
     "metadata": {},
     "output_type": "execute_result"
    }
   ],
   "source": [
    "text1"
   ]
  },
  {
   "cell_type": "code",
   "execution_count": 23,
   "metadata": {},
   "outputs": [
    {
     "data": {
      "text/plain": [
       "'The overall design of the database is called database schema. Schema will not be changed frequently. It is the logical structure of a database. It does not show the data in the database.Instance or extension or database state is a collection of information that stored in a database at a particular moment is called an instance of the database. The Database instance refers to the information stored in the database at a given point of time. Thus, it is a dynamic value which keeps on changing.schema will not be changed frequently. it is the logical structure of a database. it does not show the data in the database.'"
      ]
     },
     "execution_count": 23,
     "metadata": {},
     "output_type": "execute_result"
    }
   ],
   "source": [
    "text2"
   ]
  },
  {
   "cell_type": "code",
   "execution_count": 24,
   "metadata": {},
   "outputs": [
    {
     "data": {
      "text/plain": [
       "1.0"
      ]
     },
     "execution_count": 24,
     "metadata": {},
     "output_type": "execute_result"
    }
   ],
   "source": [
    "similarity_score(text1, text2, model_simcse)"
   ]
  },
  {
   "cell_type": "code",
   "execution_count": 25,
   "metadata": {},
   "outputs": [],
   "source": [
    "for i in range(0, number_of_inputs):\n",
    "  mod_ans = mod_ans_set[i]\n",
    "  usr_ans = usr_ans_set[i]\n",
    "\n",
    "  usr_ans += summarize(usr_ans)\n",
    "\n",
    "  sbert_val = similarity_score(mod_ans, usr_ans, model_sbert)\n",
    "\n",
    "  sbert_score[i] = sbert_val"
   ]
  },
  {
   "cell_type": "code",
   "execution_count": 28,
   "metadata": {},
   "outputs": [
    {
     "name": "stdout",
     "output_type": "stream",
     "text": [
      "[1.6666666666666665, 0.0, 7.5, 6.666666666666666, 2.0, 5.0, 10.0, 0.0, 3.333333333333333, 2.5, 5.0, 10.0, 6.153846153846154, 8.0, 0.0, 6.0, 1.25, 6.0, 6.363636363636363, 7.0, 1.25, 6.0, 10.0, 0.0, 4.285714285714286, 10.0, 5.0, 0.0, 10.0, 2.5, 6.0, 6.666666666666666, 5.0, 6.666666666666666, 3.333333333333333, 7.5, 10.0, 8.88888888888889, 6.666666666666666, 5.0, 6.0, 10.0, 10.0, 4.444444444444445, 0.0, 6.0, 10.0, 10.0, 10.0, 0.0]\n"
     ]
    }
   ],
   "source": [
    "sbert_scoring = sbert_score\n",
    "\n",
    "for i in range(0, number_of_inputs):\n",
    "    sbert_scoring[i] = sbert_scoring[i]*10\n",
    "\n",
    "print(sbert_scoring)"
   ]
  },
  {
   "cell_type": "code",
   "execution_count": 31,
   "metadata": {},
   "outputs": [],
   "source": [
    "sbert_scoring = np.array(sbert_scoring)"
   ]
  },
  {
   "cell_type": "code",
   "execution_count": 32,
   "metadata": {},
   "outputs": [],
   "source": [
    "df['SBERT Score'] = sbert_scoring.tolist()"
   ]
  },
  {
   "cell_type": "code",
   "execution_count": 33,
   "metadata": {},
   "outputs": [
    {
     "data": {
      "text/html": [
       "<div>\n",
       "<style scoped>\n",
       "    .dataframe tbody tr th:only-of-type {\n",
       "        vertical-align: middle;\n",
       "    }\n",
       "\n",
       "    .dataframe tbody tr th {\n",
       "        vertical-align: top;\n",
       "    }\n",
       "\n",
       "    .dataframe thead th {\n",
       "        text-align: right;\n",
       "    }\n",
       "</style>\n",
       "<table border=\"1\" class=\"dataframe\">\n",
       "  <thead>\n",
       "    <tr style=\"text-align: right;\">\n",
       "      <th></th>\n",
       "      <th>S.No</th>\n",
       "      <th>Questions</th>\n",
       "      <th>Modal Answer (ChatGPT)</th>\n",
       "      <th>User Answer (Web)</th>\n",
       "      <th>Actual Score (0-10)</th>\n",
       "      <th>Final Score (Calculated)</th>\n",
       "      <th>Sim_CSE Score</th>\n",
       "      <th>SBERT Score</th>\n",
       "    </tr>\n",
       "  </thead>\n",
       "  <tbody>\n",
       "    <tr>\n",
       "      <th>0</th>\n",
       "      <td>1</td>\n",
       "      <td>List the advantages of DBMS?</td>\n",
       "      <td>1. Data Integrity: DBMS ensures data accuracy ...</td>\n",
       "      <td>1.Better Data Transferring: Database managemen...</td>\n",
       "      <td>7</td>\n",
       "      <td>NaN</td>\n",
       "      <td>6.666667</td>\n",
       "      <td>1.666667</td>\n",
       "    </tr>\n",
       "    <tr>\n",
       "      <th>1</th>\n",
       "      <td>2</td>\n",
       "      <td>List the database Applications?</td>\n",
       "      <td>1. MySQL 2. Oracle Database 3. Microsoft SQL S...</td>\n",
       "      <td>1.Oracle Database 2.PostgreSQL 3.SQLite 4.File...</td>\n",
       "      <td>5</td>\n",
       "      <td>NaN</td>\n",
       "      <td>1.818182</td>\n",
       "      <td>0.000000</td>\n",
       "    </tr>\n",
       "    <tr>\n",
       "      <th>2</th>\n",
       "      <td>3</td>\n",
       "      <td>Define instances and schemas of database?</td>\n",
       "      <td>Instance: An instance is a copy of the databas...</td>\n",
       "      <td>The overall design of the database is called d...</td>\n",
       "      <td>4</td>\n",
       "      <td>NaN</td>\n",
       "      <td>10.000000</td>\n",
       "      <td>7.500000</td>\n",
       "    </tr>\n",
       "    <tr>\n",
       "      <th>3</th>\n",
       "      <td>4</td>\n",
       "      <td>Discuss Data Independence?</td>\n",
       "      <td>Data independence is the ability of a system t...</td>\n",
       "      <td>Data independence is the ability to modify the...</td>\n",
       "      <td>7</td>\n",
       "      <td>NaN</td>\n",
       "      <td>6.666667</td>\n",
       "      <td>6.666667</td>\n",
       "    </tr>\n",
       "    <tr>\n",
       "      <th>4</th>\n",
       "      <td>5</td>\n",
       "      <td>Explain database Access for applications Programs</td>\n",
       "      <td>Database Access for applications Programs is a...</td>\n",
       "      <td>Database Access means functionality required i...</td>\n",
       "      <td>0</td>\n",
       "      <td>NaN</td>\n",
       "      <td>8.000000</td>\n",
       "      <td>2.000000</td>\n",
       "    </tr>\n",
       "  </tbody>\n",
       "</table>\n",
       "</div>"
      ],
      "text/plain": [
       "   S.No                                          Questions  \\\n",
       "0     1                       List the advantages of DBMS?   \n",
       "1     2                    List the database Applications?   \n",
       "2     3          Define instances and schemas of database?   \n",
       "3     4                         Discuss Data Independence?   \n",
       "4     5  Explain database Access for applications Programs   \n",
       "\n",
       "                              Modal Answer (ChatGPT)  \\\n",
       "0  1. Data Integrity: DBMS ensures data accuracy ...   \n",
       "1  1. MySQL 2. Oracle Database 3. Microsoft SQL S...   \n",
       "2  Instance: An instance is a copy of the databas...   \n",
       "3  Data independence is the ability of a system t...   \n",
       "4  Database Access for applications Programs is a...   \n",
       "\n",
       "                                   User Answer (Web)  Actual Score (0-10)  \\\n",
       "0  1.Better Data Transferring: Database managemen...                    7   \n",
       "1  1.Oracle Database 2.PostgreSQL 3.SQLite 4.File...                    5   \n",
       "2  The overall design of the database is called d...                    4   \n",
       "3  Data independence is the ability to modify the...                    7   \n",
       "4  Database Access means functionality required i...                    0   \n",
       "\n",
       "   Final Score (Calculated)  Sim_CSE Score  SBERT Score  \n",
       "0                       NaN       6.666667     1.666667  \n",
       "1                       NaN       1.818182     0.000000  \n",
       "2                       NaN      10.000000     7.500000  \n",
       "3                       NaN       6.666667     6.666667  \n",
       "4                       NaN       8.000000     2.000000  "
      ]
     },
     "execution_count": 33,
     "metadata": {},
     "output_type": "execute_result"
    }
   ],
   "source": [
    "df.head()"
   ]
  },
  {
   "cell_type": "code",
   "execution_count": 34,
   "metadata": {},
   "outputs": [],
   "source": [
    "df.to_excel(\"Prepared_Dataset_Scored.xlsx\")"
   ]
  },
  {
   "cell_type": "code",
   "execution_count": null,
   "metadata": {},
   "outputs": [],
   "source": []
  }
 ],
 "metadata": {
  "kernelspec": {
   "display_name": "Python 3",
   "language": "python",
   "name": "python3"
  },
  "language_info": {
   "codemirror_mode": {
    "name": "ipython",
    "version": 3
   },
   "file_extension": ".py",
   "mimetype": "text/x-python",
   "name": "python",
   "nbconvert_exporter": "python",
   "pygments_lexer": "ipython3",
   "version": "3.10.7"
  },
  "orig_nbformat": 4,
  "vscode": {
   "interpreter": {
    "hash": "e8899eb02dfbc033aab5733bdae1bd213fa031d40331094008e8673d99ebab63"
   }
  }
 },
 "nbformat": 4,
 "nbformat_minor": 2
}
